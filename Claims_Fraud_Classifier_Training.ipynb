{
 "cells": [
  {
   "cell_type": "markdown",
   "id": "ba363fbd",
   "metadata": {},
   "source": [
    "# Use Customized Notebook Template (CLAIMS_RESERVE_Template)"
   ]
  },
  {
   "cell_type": "code",
   "execution_count": 1,
   "id": "12eb34cf",
   "metadata": {},
   "outputs": [
    {
     "name": "stderr",
     "output_type": "stream",
     "text": [
      "Matplotlib created a temporary cache directory at /tmp/matplotlib-dq9rinnd because the default path (/home/mosaic-ai/.cache/matplotlib) is not a writable directory; it is highly recommended to set the MPLCONFIGDIR environment variable to a writable directory, in particular to speed up the import of Matplotlib and to better support multiprocessing.\n"
     ]
    },
    {
     "name": "stdout",
     "output_type": "stream",
     "text": [
      "Connection manager service url initialised to http://fdc-project-manager:80/project-manager\n",
      "If you need to update its value then update the variable CONNECTION_MANAGER_BASE_URL in os env.\n"
     ]
    }
   ],
   "source": [
    "from snowflake.snowpark import Session\n",
    "\n",
    "# Data Science Libs\n",
    "import numpy as np\n",
    "import pandas as pd\n",
    "import matplotlib.pyplot as plt\n",
    "\n",
    "# create_temp_table warning suppresion\n",
    "import warnings; warnings.simplefilter('ignore')\n",
    "\n",
    "# Model libraries\n",
    "from sklearn.model_selection import train_test_split\n",
    "from sklearn.preprocessing import StandardScaler\n",
    "from sklearn.svm import SVC\n",
    "from sklearn.metrics import accuracy_score, confusion_matrix, classification_report\n",
    "from sklearn.neighbors import KNeighborsClassifier\n",
    "from sklearn.metrics import accuracy_score, confusion_matrix, classification_report\n",
    "from sklearn.tree import DecisionTreeClassifier\n",
    "from sklearn.model_selection import GridSearchCV\n",
    "from sklearn.ensemble import RandomForestClassifier\n",
    "from sklearn.ensemble import AdaBoostClassifier\n",
    "from sklearn.ensemble import GradientBoostingClassifier\n",
    "from sklearn.ensemble import ExtraTreesClassifier\n",
    "from sklearn.ensemble import VotingClassifier\n",
    "from xgboost import XGBClassifier\n",
    "from catboost import CatBoostClassifier\n",
    "\n",
    "from fosforml import *\n",
    "from fosforml.constants import MLModelFlavours\n",
    "import requests"
   ]
  },
  {
   "cell_type": "markdown",
   "id": "05d044b5",
   "metadata": {},
   "source": [
    "# Read data using FosforIO"
   ]
  },
  {
   "cell_type": "code",
   "execution_count": 2,
   "id": "fe832748",
   "metadata": {},
   "outputs": [
    {
     "name": "stdout",
     "output_type": "stream",
     "text": [
      "Connection object created: <snowflake.connector.connection.SnowflakeConnection object at 0x7fc0b2953cd0>\n",
      "Please close the connection after use!\n"
     ]
    },
    {
     "data": {
      "text/plain": [
       "<snowflake.connector.connection.SnowflakeConnection at 0x7fc0b2953cd0>"
      ]
     },
     "execution_count": 2,
     "metadata": {},
     "output_type": "execute_result"
    }
   ],
   "source": [
    "# To get snowflake connection object with a specific connection name\n",
    "snowflake.get_connection(connection_name=\"FDC_Insurance_Snowflake\")"
   ]
  },
  {
   "cell_type": "code",
   "execution_count": 3,
   "id": "be431f9e",
   "metadata": {},
   "outputs": [],
   "source": [
    "# To read a specific dataset published from a snowflake connection\n",
    "df = snowflake.get_dataframe(\"AUTO_INSURANCE_CLAIMS_DATA\")\n",
    "#df = snowflake.get_dataframe(\"AUTO_INSURANCE_CLAIMS_DATA_PRODUCT\")"
   ]
  },
  {
   "cell_type": "code",
   "execution_count": 4,
   "id": "6b13ffab",
   "metadata": {},
   "outputs": [
    {
     "data": {
      "text/html": [
       "<div>\n",
       "<style scoped>\n",
       "    .dataframe tbody tr th:only-of-type {\n",
       "        vertical-align: middle;\n",
       "    }\n",
       "\n",
       "    .dataframe tbody tr th {\n",
       "        vertical-align: top;\n",
       "    }\n",
       "\n",
       "    .dataframe thead th {\n",
       "        text-align: right;\n",
       "    }\n",
       "</style>\n",
       "<table border=\"1\" class=\"dataframe\">\n",
       "  <thead>\n",
       "    <tr style=\"text-align: right;\">\n",
       "      <th></th>\n",
       "      <th>MONTHS_AS_CUSTOMER</th>\n",
       "      <th>CUSTOMER_AGE</th>\n",
       "      <th>POLICY_NUMBER</th>\n",
       "      <th>POLICY_BIND_DATE</th>\n",
       "      <th>POLICY_STATE</th>\n",
       "      <th>POLICY_CSL</th>\n",
       "      <th>POLICY_DEDUCTABLE</th>\n",
       "      <th>POLICY_ANNUAL_PREMIUM</th>\n",
       "      <th>UMBRELLA_LIMIT</th>\n",
       "      <th>INSURED_ZIP</th>\n",
       "      <th>...</th>\n",
       "      <th>WITNESSES</th>\n",
       "      <th>POLICE_REPORT_AVAILABLE</th>\n",
       "      <th>TOTAL_CLAIM_AMOUNT_PAID</th>\n",
       "      <th>INJURY_CLAIM</th>\n",
       "      <th>PROPERTY_CLAIM</th>\n",
       "      <th>VEHICLE_CLAIM</th>\n",
       "      <th>AUTO_MAKE</th>\n",
       "      <th>AUTO_MODEL</th>\n",
       "      <th>AUTO_YEAR</th>\n",
       "      <th>FRAUD_REPORTED</th>\n",
       "    </tr>\n",
       "  </thead>\n",
       "  <tbody>\n",
       "    <tr>\n",
       "      <th>0</th>\n",
       "      <td>178</td>\n",
       "      <td>69</td>\n",
       "      <td>431670</td>\n",
       "      <td>12-02-2012</td>\n",
       "      <td>CT</td>\n",
       "      <td>500/1000</td>\n",
       "      <td>1800</td>\n",
       "      <td>2195</td>\n",
       "      <td>6678588</td>\n",
       "      <td>617699</td>\n",
       "      <td>...</td>\n",
       "      <td>2</td>\n",
       "      <td>Police Report Available</td>\n",
       "      <td>102099.0</td>\n",
       "      <td>13040.0</td>\n",
       "      <td>14700.0</td>\n",
       "      <td>74359.0</td>\n",
       "      <td>Toyota</td>\n",
       "      <td>Highlander</td>\n",
       "      <td>1996</td>\n",
       "      <td>No Fraud Reported</td>\n",
       "    </tr>\n",
       "    <tr>\n",
       "      <th>1</th>\n",
       "      <td>235</td>\n",
       "      <td>48</td>\n",
       "      <td>452457</td>\n",
       "      <td>15-06-2004</td>\n",
       "      <td>CT</td>\n",
       "      <td>100/300</td>\n",
       "      <td>730</td>\n",
       "      <td>947</td>\n",
       "      <td>9201803</td>\n",
       "      <td>434206</td>\n",
       "      <td>...</td>\n",
       "      <td>3</td>\n",
       "      <td>Police Report Available</td>\n",
       "      <td>65165.0</td>\n",
       "      <td>21811.0</td>\n",
       "      <td>6992.0</td>\n",
       "      <td>36362.0</td>\n",
       "      <td>Volkswagen</td>\n",
       "      <td>Passat</td>\n",
       "      <td>2005</td>\n",
       "      <td>No Fraud Reported</td>\n",
       "    </tr>\n",
       "    <tr>\n",
       "      <th>2</th>\n",
       "      <td>292</td>\n",
       "      <td>46</td>\n",
       "      <td>466074</td>\n",
       "      <td>20-01-1996</td>\n",
       "      <td>CT</td>\n",
       "      <td>100/300</td>\n",
       "      <td>1249</td>\n",
       "      <td>1504</td>\n",
       "      <td>7764950</td>\n",
       "      <td>614166</td>\n",
       "      <td>...</td>\n",
       "      <td>3</td>\n",
       "      <td>Police Report Available</td>\n",
       "      <td>81875.0</td>\n",
       "      <td>5613.0</td>\n",
       "      <td>5109.0</td>\n",
       "      <td>71153.0</td>\n",
       "      <td>Ford</td>\n",
       "      <td>Fusion</td>\n",
       "      <td>2006</td>\n",
       "      <td>No Fraud Reported</td>\n",
       "    </tr>\n",
       "    <tr>\n",
       "      <th>3</th>\n",
       "      <td>67</td>\n",
       "      <td>41</td>\n",
       "      <td>485048</td>\n",
       "      <td>13-12-2012</td>\n",
       "      <td>CT</td>\n",
       "      <td>100/300</td>\n",
       "      <td>1584</td>\n",
       "      <td>1908</td>\n",
       "      <td>8502385</td>\n",
       "      <td>473243</td>\n",
       "      <td>...</td>\n",
       "      <td>3</td>\n",
       "      <td>Police Report Available</td>\n",
       "      <td>68429.0</td>\n",
       "      <td>308.0</td>\n",
       "      <td>821.0</td>\n",
       "      <td>67300.0</td>\n",
       "      <td>Chevrolet</td>\n",
       "      <td>Tahoe</td>\n",
       "      <td>1995</td>\n",
       "      <td>No Fraud Reported</td>\n",
       "    </tr>\n",
       "    <tr>\n",
       "      <th>4</th>\n",
       "      <td>211</td>\n",
       "      <td>58</td>\n",
       "      <td>451276</td>\n",
       "      <td>29-03-1996</td>\n",
       "      <td>CT</td>\n",
       "      <td>250/500</td>\n",
       "      <td>1951</td>\n",
       "      <td>2501</td>\n",
       "      <td>4083163</td>\n",
       "      <td>472895</td>\n",
       "      <td>...</td>\n",
       "      <td>0</td>\n",
       "      <td>Unknown</td>\n",
       "      <td>64077.0</td>\n",
       "      <td>517.0</td>\n",
       "      <td>1164.0</td>\n",
       "      <td>62396.0</td>\n",
       "      <td>Jeep</td>\n",
       "      <td>Grand Cherokee</td>\n",
       "      <td>1995</td>\n",
       "      <td>Fraud Reported</td>\n",
       "    </tr>\n",
       "  </tbody>\n",
       "</table>\n",
       "<p>5 rows × 40 columns</p>\n",
       "</div>"
      ],
      "text/plain": [
       "   MONTHS_AS_CUSTOMER CUSTOMER_AGE  POLICY_NUMBER POLICY_BIND_DATE   \n",
       "0                 178           69         431670       12-02-2012  \\\n",
       "1                 235           48         452457       15-06-2004   \n",
       "2                 292           46         466074       20-01-1996   \n",
       "3                  67           41         485048       13-12-2012   \n",
       "4                 211           58         451276       29-03-1996   \n",
       "\n",
       "  POLICY_STATE POLICY_CSL  POLICY_DEDUCTABLE  POLICY_ANNUAL_PREMIUM   \n",
       "0           CT   500/1000               1800                   2195  \\\n",
       "1           CT    100/300                730                    947   \n",
       "2           CT    100/300               1249                   1504   \n",
       "3           CT    100/300               1584                   1908   \n",
       "4           CT    250/500               1951                   2501   \n",
       "\n",
       "   UMBRELLA_LIMIT INSURED_ZIP  ... WITNESSES  POLICE_REPORT_AVAILABLE   \n",
       "0         6678588      617699  ...         2  Police Report Available  \\\n",
       "1         9201803      434206  ...         3  Police Report Available   \n",
       "2         7764950      614166  ...         3  Police Report Available   \n",
       "3         8502385      473243  ...         3  Police Report Available   \n",
       "4         4083163      472895  ...         0                  Unknown   \n",
       "\n",
       "  TOTAL_CLAIM_AMOUNT_PAID INJURY_CLAIM PROPERTY_CLAIM  VEHICLE_CLAIM   \n",
       "0                102099.0      13040.0        14700.0        74359.0  \\\n",
       "1                 65165.0      21811.0         6992.0        36362.0   \n",
       "2                 81875.0       5613.0         5109.0        71153.0   \n",
       "3                 68429.0        308.0          821.0        67300.0   \n",
       "4                 64077.0        517.0         1164.0        62396.0   \n",
       "\n",
       "    AUTO_MAKE      AUTO_MODEL AUTO_YEAR     FRAUD_REPORTED  \n",
       "0      Toyota      Highlander      1996  No Fraud Reported  \n",
       "1  Volkswagen          Passat      2005  No Fraud Reported  \n",
       "2        Ford          Fusion      2006  No Fraud Reported  \n",
       "3   Chevrolet           Tahoe      1995  No Fraud Reported  \n",
       "4        Jeep  Grand Cherokee      1995     Fraud Reported  \n",
       "\n",
       "[5 rows x 40 columns]"
      ]
     },
     "execution_count": 4,
     "metadata": {},
     "output_type": "execute_result"
    }
   ],
   "source": [
    "df.head()"
   ]
  },
  {
   "cell_type": "markdown",
   "id": "b09fe6e1",
   "metadata": {},
   "source": [
    "# Read data using Snowflake's Snowpark"
   ]
  },
  {
   "cell_type": "code",
   "execution_count": 5,
   "id": "ad93540f",
   "metadata": {},
   "outputs": [],
   "source": [
    "#Import all snowflake connection details from Template or Project variables.\n",
    "db_user = os.getenv('Snowflake_user')\n",
    "db_password =  os.getenv('Snowflake_password')\n",
    "db_account = os.getenv('Snowflake_Account')\n",
    "db_database =  os.getenv('Snowflake_Database')\n",
    "db_role = os.getenv('Snowflake_user')\n",
    "db_warehouse = os.getenv('Snowflake_Warehouse')\n",
    "db_schema = os.getenv('Snowflake_Schema')"
   ]
  },
  {
   "cell_type": "code",
   "execution_count": 6,
   "id": "aa95e483",
   "metadata": {},
   "outputs": [],
   "source": [
    "from snowflake.snowpark.session import Session\n",
    "connection_params = {\n",
    "    'user': db_user,\n",
    "    'password': db_password,\n",
    "    'account': db_account,\n",
    "    'warehouse': db_warehouse,\n",
    "    'database': db_database,\n",
    "    'schema': db_schema,\n",
    "    'role': db_role\n",
    "}\n",
    "session = Session.builder.configs(connection_params).create()"
   ]
  },
  {
   "cell_type": "code",
   "execution_count": 7,
   "id": "fef47ad6",
   "metadata": {},
   "outputs": [],
   "source": [
    "session.sql('use warehouse FOSFOR_SOLUTIONS_WH;').collect()\n",
    "session.sql('use database FDC_Insurance;').collect()\n",
    "session.sql('use schema FDC_Insurance.PUBLIC;').collect()\n",
    "\n",
    "df = session.table('FDC_Insurance.PUBLIC.AUTO_INSURANCE_CLAIMS_DATA')\n",
    "#df = session.table('FDC_Insurance.PUBLIC.AUTO_INSURANCE_CLAIMS_DATA_PRODUCT')"
   ]
  },
  {
   "cell_type": "code",
   "execution_count": 8,
   "id": "7c86b744",
   "metadata": {},
   "outputs": [],
   "source": [
    "insurance_claim = df.to_pandas()"
   ]
  },
  {
   "cell_type": "code",
   "execution_count": 9,
   "id": "0ee58ee8",
   "metadata": {},
   "outputs": [],
   "source": [
    "insurance_claim.columns = insurance_claim.columns.str.lower()"
   ]
  },
  {
   "cell_type": "code",
   "execution_count": 10,
   "id": "dea96c64",
   "metadata": {},
   "outputs": [
    {
     "data": {
      "text/plain": [
       "Index(['months_as_customer', 'customer_age', 'policy_number',\n",
       "       'policy_bind_date', 'policy_state', 'policy_csl', 'policy_deductable',\n",
       "       'policy_annual_premium', 'umbrella_limit', 'insured_zip', 'insured_sex',\n",
       "       'insured_education_level', 'insured_occupation', 'insured_hobbies',\n",
       "       'insured_relationship', 'capital_gains', 'capital_loss',\n",
       "       'incident_date', 'incident_type', 'collision_type', 'incident_severity',\n",
       "       'authorities_contacted', 'incident_state', 'incident_city',\n",
       "       'incident_location', 'incident_hour_of_the_day', 'incident_time_of_day',\n",
       "       'number_of_vehicles_involved', 'property_damage', 'bodily_injuries',\n",
       "       'witnesses', 'police_report_available', 'total_claim_amount_paid',\n",
       "       'injury_claim', 'property_claim', 'vehicle_claim', 'auto_make',\n",
       "       'auto_model', 'auto_year', 'fraud_reported'],\n",
       "      dtype='object')"
      ]
     },
     "execution_count": 10,
     "metadata": {},
     "output_type": "execute_result"
    }
   ],
   "source": [
    "insurance_claim.columns"
   ]
  },
  {
   "cell_type": "code",
   "execution_count": 11,
   "id": "dd34e207",
   "metadata": {},
   "outputs": [],
   "source": [
    "insurance_claim.rename(columns = {'total_claim_amount_paid': 'total_claim_amount'}, inplace=True)"
   ]
  },
  {
   "cell_type": "code",
   "execution_count": 12,
   "id": "044dd5de",
   "metadata": {},
   "outputs": [],
   "source": [
    "insurance_claim=insurance_claim.replace(\"?\",np.NaN)"
   ]
  },
  {
   "cell_type": "code",
   "execution_count": 13,
   "id": "bcc52718",
   "metadata": {},
   "outputs": [],
   "source": [
    "df = insurance_claim.copy()"
   ]
  },
  {
   "cell_type": "code",
   "execution_count": 14,
   "id": "2ddaee76",
   "metadata": {},
   "outputs": [],
   "source": [
    "# dropping columns which are not necessary for prediction\n",
    "\n",
    "to_drop = ['policy_number','policy_bind_date','policy_state','insured_zip','incident_location','incident_date',\n",
    "           'incident_state','incident_city','insured_hobbies','auto_make','auto_model','auto_year']\n",
    "\n",
    "df.drop(to_drop, inplace=True, axis=1)"
   ]
  },
  {
   "cell_type": "code",
   "execution_count": 15,
   "id": "dd0d51ff",
   "metadata": {},
   "outputs": [],
   "source": [
    "# separating the feature and target columns\n",
    "\n",
    "X = df.drop('fraud_reported', axis = 1)\n",
    "y = df['fraud_reported']"
   ]
  },
  {
   "cell_type": "code",
   "execution_count": 16,
   "id": "0cf9819a",
   "metadata": {},
   "outputs": [],
   "source": [
    "# extracting categorical columns\n",
    "cat_df = X.select_dtypes(include = ['object'])"
   ]
  },
  {
   "cell_type": "code",
   "execution_count": 17,
   "id": "1f944573",
   "metadata": {},
   "outputs": [
    {
     "name": "stdout",
     "output_type": "stream",
     "text": [
      "customer_age: \n",
      "['66' '63' '22' '36' '25' '20' '64' '56' '44' '61' '34' '67' '24' '57'\n",
      " '59' '21' '39' '51' '46' '60' '52' '65' '33' '29' '62' '40' '49' '48'\n",
      " '32' '30' '50' '37' '42' '68' '31' '54' '58' '35' '53' '26' '23' '28'\n",
      " '55' '19' '38' '27' '45' '41' '47' '69' '43']\n",
      "\n",
      "policy_csl: \n",
      "['100/300' '500/1000' '250/500']\n",
      "\n",
      "insured_sex: \n",
      "['MALE' 'FEMALE']\n",
      "\n",
      "insured_education_level: \n",
      "['JD' 'Associate' 'High School' 'College' 'MD' 'Masters' 'PhD']\n",
      "\n",
      "insured_occupation: \n",
      "['craft-repair' 'tech-support' 'adm-clerical' 'priv-house-serv'\n",
      " 'armed-forces' 'transport-moving' 'sales' 'protective-serv'\n",
      " 'other-service' 'farming-fishing' 'handlers-cleaners' 'exec-managerial'\n",
      " 'prof-specialty' 'machine-op-inspct']\n",
      "\n",
      "insured_relationship: \n",
      "['not-in-family' 'husband' 'other-relative' 'own-child' 'unmarried' 'wife']\n",
      "\n",
      "incident_type: \n",
      "['Single Vehicle Collision' 'Parked Car' 'Multi-vehicle Collision'\n",
      " 'Vehicle Theft']\n",
      "\n",
      "collision_type: \n",
      "['Details not Available' 'Side Collision' 'Rear Collision'\n",
      " 'Front Collision']\n",
      "\n",
      "incident_severity: \n",
      "['Major Damage' 'Minor Damage' 'Total Loss']\n",
      "\n",
      "authorities_contacted: \n",
      "['Other' 'None' 'Police' 'Fire' 'Ambulance']\n",
      "\n",
      "incident_time_of_day: \n",
      "['Night Time' 'Morning to Noon' 'Afternoon Hours' 'Early Morning Hours']\n",
      "\n",
      "property_damage: \n",
      "['No Property Damage' 'Details not Available' 'Property Damage']\n",
      "\n",
      "police_report_available: \n",
      "['No Police Report Available' 'Unknown' 'Police Report Available']\n",
      "\n"
     ]
    }
   ],
   "source": [
    "# printing unique values of each column\n",
    "for col in cat_df.columns:\n",
    "    print(f\"{col}: \\n{cat_df[col].unique()}\\n\")"
   ]
  },
  {
   "cell_type": "code",
   "execution_count": 18,
   "id": "f52c380c",
   "metadata": {},
   "outputs": [],
   "source": [
    "cat_df = pd.get_dummies(cat_df, drop_first = True)"
   ]
  },
  {
   "cell_type": "code",
   "execution_count": 19,
   "id": "71576a64",
   "metadata": {},
   "outputs": [],
   "source": [
    "num_df = df.select_dtypes(include = ['int16','int8','int32','float64'])"
   ]
  },
  {
   "cell_type": "code",
   "execution_count": 20,
   "id": "4699bb75",
   "metadata": {},
   "outputs": [],
   "source": [
    "# combining the Numerical and Categorical dataframes to get the final dataset\n",
    "\n",
    "X = pd.concat([num_df, cat_df], axis = 1)"
   ]
  },
  {
   "cell_type": "code",
   "execution_count": 21,
   "id": "0d9eb55f",
   "metadata": {},
   "outputs": [],
   "source": [
    "# splitting data into training set and test set\n",
    "\n",
    "from sklearn.model_selection import train_test_split\n",
    "\n",
    "X_train, X_test, y_train, y_test = train_test_split(X, y, test_size = 0.25)"
   ]
  },
  {
   "cell_type": "code",
   "execution_count": 22,
   "id": "9f6cf94e",
   "metadata": {},
   "outputs": [],
   "source": [
    "num_df = X_train[['months_as_customer', 'policy_deductable', 'umbrella_limit',\n",
    "       'capital_gains', 'capital_loss', 'incident_hour_of_the_day',\n",
    "       'number_of_vehicles_involved', 'bodily_injuries', 'witnesses', 'injury_claim', 'property_claim',\n",
    "       'vehicle_claim']]"
   ]
  },
  {
   "cell_type": "code",
   "execution_count": 23,
   "id": "c666c08b",
   "metadata": {},
   "outputs": [],
   "source": [
    "num_df_test = X_test[['months_as_customer', 'policy_deductable', 'umbrella_limit',\n",
    "       'capital_gains', 'capital_loss', 'incident_hour_of_the_day',\n",
    "       'number_of_vehicles_involved', 'bodily_injuries', 'witnesses', 'injury_claim', 'property_claim',\n",
    "       'vehicle_claim']]"
   ]
  },
  {
   "cell_type": "code",
   "execution_count": 24,
   "id": "b68e1463",
   "metadata": {},
   "outputs": [],
   "source": [
    "# Scaling the numeric values in the dataset\n",
    "\n",
    "from sklearn.preprocessing import StandardScaler\n",
    "\n",
    "scaler = StandardScaler()\n",
    "scaled_data = scaler.fit_transform(num_df)"
   ]
  },
  {
   "cell_type": "code",
   "execution_count": 25,
   "id": "37b7b397",
   "metadata": {},
   "outputs": [],
   "source": [
    "scaled_data_test = scaler.transform(num_df_test)"
   ]
  },
  {
   "cell_type": "code",
   "execution_count": 26,
   "id": "30a14145",
   "metadata": {
    "scrolled": true
   },
   "outputs": [
    {
     "data": {
      "text/html": [
       "<div>\n",
       "<style scoped>\n",
       "    .dataframe tbody tr th:only-of-type {\n",
       "        vertical-align: middle;\n",
       "    }\n",
       "\n",
       "    .dataframe tbody tr th {\n",
       "        vertical-align: top;\n",
       "    }\n",
       "\n",
       "    .dataframe thead th {\n",
       "        text-align: right;\n",
       "    }\n",
       "</style>\n",
       "<table border=\"1\" class=\"dataframe\">\n",
       "  <thead>\n",
       "    <tr style=\"text-align: right;\">\n",
       "      <th></th>\n",
       "      <th>months_as_customer</th>\n",
       "      <th>policy_deductable</th>\n",
       "      <th>umbrella_limit</th>\n",
       "      <th>capital_gains</th>\n",
       "      <th>capital_loss</th>\n",
       "      <th>incident_hour_of_the_day</th>\n",
       "      <th>number_of_vehicles_involved</th>\n",
       "      <th>bodily_injuries</th>\n",
       "      <th>witnesses</th>\n",
       "      <th>injury_claim</th>\n",
       "      <th>property_claim</th>\n",
       "      <th>vehicle_claim</th>\n",
       "    </tr>\n",
       "  </thead>\n",
       "  <tbody>\n",
       "    <tr>\n",
       "      <th>175292</th>\n",
       "      <td>2.032034</td>\n",
       "      <td>0.850215</td>\n",
       "      <td>-0.462042</td>\n",
       "      <td>0.036684</td>\n",
       "      <td>-0.569366</td>\n",
       "      <td>0.674654</td>\n",
       "      <td>-0.676935</td>\n",
       "      <td>1.228025</td>\n",
       "      <td>-0.448884</td>\n",
       "      <td>1.243609</td>\n",
       "      <td>-0.977675</td>\n",
       "      <td>0.057678</td>\n",
       "    </tr>\n",
       "    <tr>\n",
       "      <th>210243</th>\n",
       "      <td>-0.284956</td>\n",
       "      <td>-1.675015</td>\n",
       "      <td>-1.755664</td>\n",
       "      <td>-1.254706</td>\n",
       "      <td>-0.751185</td>\n",
       "      <td>1.016133</td>\n",
       "      <td>0.750681</td>\n",
       "      <td>1.228025</td>\n",
       "      <td>1.344426</td>\n",
       "      <td>-0.729768</td>\n",
       "      <td>-0.976533</td>\n",
       "      <td>0.510525</td>\n",
       "    </tr>\n",
       "    <tr>\n",
       "      <th>175223</th>\n",
       "      <td>-0.471633</td>\n",
       "      <td>-1.452585</td>\n",
       "      <td>0.183430</td>\n",
       "      <td>1.206992</td>\n",
       "      <td>0.438035</td>\n",
       "      <td>0.845394</td>\n",
       "      <td>-0.676935</td>\n",
       "      <td>0.005400</td>\n",
       "      <td>-0.448884</td>\n",
       "      <td>1.904058</td>\n",
       "      <td>-0.976787</td>\n",
       "      <td>0.392693</td>\n",
       "    </tr>\n",
       "    <tr>\n",
       "      <th>76900</th>\n",
       "      <td>2.010072</td>\n",
       "      <td>-0.331092</td>\n",
       "      <td>0.270283</td>\n",
       "      <td>0.930427</td>\n",
       "      <td>1.584427</td>\n",
       "      <td>0.162434</td>\n",
       "      <td>-0.676935</td>\n",
       "      <td>-1.217225</td>\n",
       "      <td>-0.448884</td>\n",
       "      <td>-1.025677</td>\n",
       "      <td>1.052360</td>\n",
       "      <td>-0.223805</td>\n",
       "    </tr>\n",
       "    <tr>\n",
       "      <th>116188</th>\n",
       "      <td>0.165265</td>\n",
       "      <td>0.203487</td>\n",
       "      <td>0.499922</td>\n",
       "      <td>-0.245674</td>\n",
       "      <td>-0.036560</td>\n",
       "      <td>-0.179046</td>\n",
       "      <td>-0.676935</td>\n",
       "      <td>-1.217225</td>\n",
       "      <td>-0.448884</td>\n",
       "      <td>-1.011000</td>\n",
       "      <td>0.592188</td>\n",
       "      <td>-0.500955</td>\n",
       "    </tr>\n",
       "  </tbody>\n",
       "</table>\n",
       "</div>"
      ],
      "text/plain": [
       "        months_as_customer  policy_deductable  umbrella_limit  capital_gains   \n",
       "175292            2.032034           0.850215       -0.462042       0.036684  \\\n",
       "210243           -0.284956          -1.675015       -1.755664      -1.254706   \n",
       "175223           -0.471633          -1.452585        0.183430       1.206992   \n",
       "76900             2.010072          -0.331092        0.270283       0.930427   \n",
       "116188            0.165265           0.203487        0.499922      -0.245674   \n",
       "\n",
       "        capital_loss  incident_hour_of_the_day  number_of_vehicles_involved   \n",
       "175292     -0.569366                  0.674654                    -0.676935  \\\n",
       "210243     -0.751185                  1.016133                     0.750681   \n",
       "175223      0.438035                  0.845394                    -0.676935   \n",
       "76900       1.584427                  0.162434                    -0.676935   \n",
       "116188     -0.036560                 -0.179046                    -0.676935   \n",
       "\n",
       "        bodily_injuries  witnesses  injury_claim  property_claim   \n",
       "175292         1.228025  -0.448884      1.243609       -0.977675  \\\n",
       "210243         1.228025   1.344426     -0.729768       -0.976533   \n",
       "175223         0.005400  -0.448884      1.904058       -0.976787   \n",
       "76900         -1.217225  -0.448884     -1.025677        1.052360   \n",
       "116188        -1.217225  -0.448884     -1.011000        0.592188   \n",
       "\n",
       "        vehicle_claim  \n",
       "175292       0.057678  \n",
       "210243       0.510525  \n",
       "175223       0.392693  \n",
       "76900       -0.223805  \n",
       "116188      -0.500955  "
      ]
     },
     "execution_count": 26,
     "metadata": {},
     "output_type": "execute_result"
    }
   ],
   "source": [
    "scaled_num_df = pd.DataFrame(data = scaled_data, columns = num_df.columns, index = X_train.index)\n",
    "scaled_num_df.head()"
   ]
  },
  {
   "cell_type": "code",
   "execution_count": 27,
   "id": "4c0b5593",
   "metadata": {},
   "outputs": [
    {
     "data": {
      "text/html": [
       "<div>\n",
       "<style scoped>\n",
       "    .dataframe tbody tr th:only-of-type {\n",
       "        vertical-align: middle;\n",
       "    }\n",
       "\n",
       "    .dataframe tbody tr th {\n",
       "        vertical-align: top;\n",
       "    }\n",
       "\n",
       "    .dataframe thead th {\n",
       "        text-align: right;\n",
       "    }\n",
       "</style>\n",
       "<table border=\"1\" class=\"dataframe\">\n",
       "  <thead>\n",
       "    <tr style=\"text-align: right;\">\n",
       "      <th></th>\n",
       "      <th>months_as_customer</th>\n",
       "      <th>policy_deductable</th>\n",
       "      <th>umbrella_limit</th>\n",
       "      <th>capital_gains</th>\n",
       "      <th>capital_loss</th>\n",
       "      <th>incident_hour_of_the_day</th>\n",
       "      <th>number_of_vehicles_involved</th>\n",
       "      <th>bodily_injuries</th>\n",
       "      <th>witnesses</th>\n",
       "      <th>injury_claim</th>\n",
       "      <th>property_claim</th>\n",
       "      <th>vehicle_claim</th>\n",
       "    </tr>\n",
       "  </thead>\n",
       "  <tbody>\n",
       "    <tr>\n",
       "      <th>115009</th>\n",
       "      <td>0.165265</td>\n",
       "      <td>-1.602118</td>\n",
       "      <td>-1.755664</td>\n",
       "      <td>0.093393</td>\n",
       "      <td>0.355910</td>\n",
       "      <td>-0.862005</td>\n",
       "      <td>-0.676935</td>\n",
       "      <td>1.228025</td>\n",
       "      <td>1.344426</td>\n",
       "      <td>1.927820</td>\n",
       "      <td>-0.962954</td>\n",
       "      <td>0.141735</td>\n",
       "    </tr>\n",
       "    <tr>\n",
       "      <th>96096</th>\n",
       "      <td>0.637448</td>\n",
       "      <td>1.227784</td>\n",
       "      <td>0.870981</td>\n",
       "      <td>0.245889</td>\n",
       "      <td>0.544538</td>\n",
       "      <td>-1.032745</td>\n",
       "      <td>-0.676935</td>\n",
       "      <td>0.005400</td>\n",
       "      <td>-1.345539</td>\n",
       "      <td>1.668393</td>\n",
       "      <td>0.125036</td>\n",
       "      <td>0.478725</td>\n",
       "    </tr>\n",
       "    <tr>\n",
       "      <th>151860</th>\n",
       "      <td>-0.438690</td>\n",
       "      <td>-1.048847</td>\n",
       "      <td>1.061565</td>\n",
       "      <td>-1.337862</td>\n",
       "      <td>-1.582525</td>\n",
       "      <td>0.162434</td>\n",
       "      <td>-0.676935</td>\n",
       "      <td>0.005400</td>\n",
       "      <td>0.447771</td>\n",
       "      <td>0.672060</td>\n",
       "      <td>-0.830715</td>\n",
       "      <td>0.585022</td>\n",
       "    </tr>\n",
       "    <tr>\n",
       "      <th>121778</th>\n",
       "      <td>0.725296</td>\n",
       "      <td>0.244608</td>\n",
       "      <td>1.292735</td>\n",
       "      <td>1.098503</td>\n",
       "      <td>-0.269529</td>\n",
       "      <td>0.333174</td>\n",
       "      <td>0.750681</td>\n",
       "      <td>1.228025</td>\n",
       "      <td>-1.345539</td>\n",
       "      <td>-0.000270</td>\n",
       "      <td>-0.970314</td>\n",
       "      <td>-0.883065</td>\n",
       "    </tr>\n",
       "    <tr>\n",
       "      <th>178823</th>\n",
       "      <td>1.362193</td>\n",
       "      <td>0.010964</td>\n",
       "      <td>-0.762669</td>\n",
       "      <td>0.365568</td>\n",
       "      <td>0.605060</td>\n",
       "      <td>0.674654</td>\n",
       "      <td>0.750681</td>\n",
       "      <td>1.228025</td>\n",
       "      <td>-1.345539</td>\n",
       "      <td>-0.280104</td>\n",
       "      <td>0.950579</td>\n",
       "      <td>0.412576</td>\n",
       "    </tr>\n",
       "  </tbody>\n",
       "</table>\n",
       "</div>"
      ],
      "text/plain": [
       "        months_as_customer  policy_deductable  umbrella_limit  capital_gains   \n",
       "115009            0.165265          -1.602118       -1.755664       0.093393  \\\n",
       "96096             0.637448           1.227784        0.870981       0.245889   \n",
       "151860           -0.438690          -1.048847        1.061565      -1.337862   \n",
       "121778            0.725296           0.244608        1.292735       1.098503   \n",
       "178823            1.362193           0.010964       -0.762669       0.365568   \n",
       "\n",
       "        capital_loss  incident_hour_of_the_day  number_of_vehicles_involved   \n",
       "115009      0.355910                 -0.862005                    -0.676935  \\\n",
       "96096       0.544538                 -1.032745                    -0.676935   \n",
       "151860     -1.582525                  0.162434                    -0.676935   \n",
       "121778     -0.269529                  0.333174                     0.750681   \n",
       "178823      0.605060                  0.674654                     0.750681   \n",
       "\n",
       "        bodily_injuries  witnesses  injury_claim  property_claim   \n",
       "115009         1.228025   1.344426      1.927820       -0.962954  \\\n",
       "96096          0.005400  -1.345539      1.668393        0.125036   \n",
       "151860         0.005400   0.447771      0.672060       -0.830715   \n",
       "121778         1.228025  -1.345539     -0.000270       -0.970314   \n",
       "178823         1.228025  -1.345539     -0.280104        0.950579   \n",
       "\n",
       "        vehicle_claim  \n",
       "115009       0.141735  \n",
       "96096        0.478725  \n",
       "151860       0.585022  \n",
       "121778      -0.883065  \n",
       "178823       0.412576  "
      ]
     },
     "execution_count": 27,
     "metadata": {},
     "output_type": "execute_result"
    }
   ],
   "source": [
    "scaled_num_df_test = pd.DataFrame(data = scaled_data_test, columns = num_df_test.columns, index = X_test.index)\n",
    "scaled_num_df_test.head()"
   ]
  },
  {
   "cell_type": "code",
   "execution_count": 28,
   "id": "fa16eb80",
   "metadata": {},
   "outputs": [],
   "source": [
    "X_train.drop(columns = scaled_num_df.columns, inplace = True)"
   ]
  },
  {
   "cell_type": "code",
   "execution_count": 29,
   "id": "728f4f65",
   "metadata": {},
   "outputs": [],
   "source": [
    "X_train = pd.concat([scaled_num_df, X_train], axis = 1)"
   ]
  },
  {
   "cell_type": "code",
   "execution_count": 30,
   "id": "7c067075",
   "metadata": {},
   "outputs": [],
   "source": [
    "X_test.drop(columns = scaled_num_df_test.columns, inplace = True)"
   ]
  },
  {
   "cell_type": "code",
   "execution_count": 31,
   "id": "0cdbf584",
   "metadata": {},
   "outputs": [],
   "source": [
    "X_test = pd.concat([scaled_num_df_test, X_test], axis = 1)"
   ]
  },
  {
   "cell_type": "markdown",
   "id": "a0c9f178",
   "metadata": {},
   "source": [
    "# Decision Tree"
   ]
  },
  {
   "cell_type": "code",
   "execution_count": 32,
   "id": "32cf8090",
   "metadata": {},
   "outputs": [
    {
     "data": {
      "text/html": [
       "<style>#sk-container-id-1 {color: black;background-color: white;}#sk-container-id-1 pre{padding: 0;}#sk-container-id-1 div.sk-toggleable {background-color: white;}#sk-container-id-1 label.sk-toggleable__label {cursor: pointer;display: block;width: 100%;margin-bottom: 0;padding: 0.3em;box-sizing: border-box;text-align: center;}#sk-container-id-1 label.sk-toggleable__label-arrow:before {content: \"▸\";float: left;margin-right: 0.25em;color: #696969;}#sk-container-id-1 label.sk-toggleable__label-arrow:hover:before {color: black;}#sk-container-id-1 div.sk-estimator:hover label.sk-toggleable__label-arrow:before {color: black;}#sk-container-id-1 div.sk-toggleable__content {max-height: 0;max-width: 0;overflow: hidden;text-align: left;background-color: #f0f8ff;}#sk-container-id-1 div.sk-toggleable__content pre {margin: 0.2em;color: black;border-radius: 0.25em;background-color: #f0f8ff;}#sk-container-id-1 input.sk-toggleable__control:checked~div.sk-toggleable__content {max-height: 200px;max-width: 100%;overflow: auto;}#sk-container-id-1 input.sk-toggleable__control:checked~label.sk-toggleable__label-arrow:before {content: \"▾\";}#sk-container-id-1 div.sk-estimator input.sk-toggleable__control:checked~label.sk-toggleable__label {background-color: #d4ebff;}#sk-container-id-1 div.sk-label input.sk-toggleable__control:checked~label.sk-toggleable__label {background-color: #d4ebff;}#sk-container-id-1 input.sk-hidden--visually {border: 0;clip: rect(1px 1px 1px 1px);clip: rect(1px, 1px, 1px, 1px);height: 1px;margin: -1px;overflow: hidden;padding: 0;position: absolute;width: 1px;}#sk-container-id-1 div.sk-estimator {font-family: monospace;background-color: #f0f8ff;border: 1px dotted black;border-radius: 0.25em;box-sizing: border-box;margin-bottom: 0.5em;}#sk-container-id-1 div.sk-estimator:hover {background-color: #d4ebff;}#sk-container-id-1 div.sk-parallel-item::after {content: \"\";width: 100%;border-bottom: 1px solid gray;flex-grow: 1;}#sk-container-id-1 div.sk-label:hover label.sk-toggleable__label {background-color: #d4ebff;}#sk-container-id-1 div.sk-serial::before {content: \"\";position: absolute;border-left: 1px solid gray;box-sizing: border-box;top: 0;bottom: 0;left: 50%;z-index: 0;}#sk-container-id-1 div.sk-serial {display: flex;flex-direction: column;align-items: center;background-color: white;padding-right: 0.2em;padding-left: 0.2em;position: relative;}#sk-container-id-1 div.sk-item {position: relative;z-index: 1;}#sk-container-id-1 div.sk-parallel {display: flex;align-items: stretch;justify-content: center;background-color: white;position: relative;}#sk-container-id-1 div.sk-item::before, #sk-container-id-1 div.sk-parallel-item::before {content: \"\";position: absolute;border-left: 1px solid gray;box-sizing: border-box;top: 0;bottom: 0;left: 50%;z-index: -1;}#sk-container-id-1 div.sk-parallel-item {display: flex;flex-direction: column;z-index: 1;position: relative;background-color: white;}#sk-container-id-1 div.sk-parallel-item:first-child::after {align-self: flex-end;width: 50%;}#sk-container-id-1 div.sk-parallel-item:last-child::after {align-self: flex-start;width: 50%;}#sk-container-id-1 div.sk-parallel-item:only-child::after {width: 0;}#sk-container-id-1 div.sk-dashed-wrapped {border: 1px dashed gray;margin: 0 0.4em 0.5em 0.4em;box-sizing: border-box;padding-bottom: 0.4em;background-color: white;}#sk-container-id-1 div.sk-label label {font-family: monospace;font-weight: bold;display: inline-block;line-height: 1.2em;}#sk-container-id-1 div.sk-label-container {text-align: center;}#sk-container-id-1 div.sk-container {/* jupyter's `normalize.less` sets `[hidden] { display: none; }` but bootstrap.min.css set `[hidden] { display: none !important; }` so we also need the `!important` here to be able to override the default hidden behavior on the sphinx rendered scikit-learn.org. See: https://github.com/scikit-learn/scikit-learn/issues/21755 */display: inline-block !important;position: relative;}#sk-container-id-1 div.sk-text-repr-fallback {display: none;}</style><div id=\"sk-container-id-1\" class=\"sk-top-container\"><div class=\"sk-text-repr-fallback\"><pre>DecisionTreeClassifier()</pre><b>In a Jupyter environment, please rerun this cell to show the HTML representation or trust the notebook. <br />On GitHub, the HTML representation is unable to render, please try loading this page with nbviewer.org.</b></div><div class=\"sk-container\" hidden><div class=\"sk-item\"><div class=\"sk-estimator sk-toggleable\"><input class=\"sk-toggleable__control sk-hidden--visually\" id=\"sk-estimator-id-1\" type=\"checkbox\" checked><label for=\"sk-estimator-id-1\" class=\"sk-toggleable__label sk-toggleable__label-arrow\">DecisionTreeClassifier</label><div class=\"sk-toggleable__content\"><pre>DecisionTreeClassifier()</pre></div></div></div></div></div>"
      ],
      "text/plain": [
       "DecisionTreeClassifier()"
      ]
     },
     "execution_count": 32,
     "metadata": {},
     "output_type": "execute_result"
    }
   ],
   "source": [
    "#from sklearn.tree import DecisionTreeClassifier\n",
    "dtc = DecisionTreeClassifier()\n",
    "dtc.fit(X_train, y_train)"
   ]
  },
  {
   "cell_type": "code",
   "execution_count": 33,
   "id": "3e233da2",
   "metadata": {},
   "outputs": [],
   "source": [
    "y_pred = dtc.predict(X_test)"
   ]
  },
  {
   "cell_type": "code",
   "execution_count": 34,
   "id": "baa16097",
   "metadata": {},
   "outputs": [
    {
     "name": "stdout",
     "output_type": "stream",
     "text": [
      "Training accuracy of Decision Tree is : 1.0\n",
      "Test accuracy of Decision Tree is : 0.9940239383953421\n",
      "[[ 8553   145]\n",
      " [  205 49664]]\n",
      "                   precision    recall  f1-score   support\n",
      "\n",
      "   Fraud Reported       0.98      0.98      0.98      8698\n",
      "No Fraud Reported       1.00      1.00      1.00     49869\n",
      "\n",
      "         accuracy                           0.99     58567\n",
      "        macro avg       0.99      0.99      0.99     58567\n",
      "     weighted avg       0.99      0.99      0.99     58567\n",
      "\n"
     ]
    }
   ],
   "source": [
    "dtc_train_acc = accuracy_score(y_train, dtc.predict(X_train))\n",
    "dtc_test_acc = accuracy_score(y_test, y_pred)\n",
    "\n",
    "print(f\"Training accuracy of Decision Tree is : {dtc_train_acc}\")\n",
    "print(f\"Test accuracy of Decision Tree is : {dtc_test_acc}\")\n",
    "\n",
    "print(confusion_matrix(y_test, y_pred))\n",
    "print(classification_report(y_test, y_pred))"
   ]
  },
  {
   "cell_type": "markdown",
   "id": "5cc89f2c",
   "metadata": {},
   "source": [
    "# Random Forest Classifier"
   ]
  },
  {
   "cell_type": "code",
   "execution_count": 35,
   "id": "6df11449",
   "metadata": {},
   "outputs": [],
   "source": [
    "rand_clf = RandomForestClassifier(criterion= 'entropy', max_depth= 6, max_features= 'sqrt', \n",
    "                                  min_samples_leaf= 1, min_samples_split= 3, n_estimators= 50)"
   ]
  },
  {
   "cell_type": "code",
   "execution_count": 36,
   "id": "32f96aa9",
   "metadata": {},
   "outputs": [
    {
     "data": {
      "text/html": [
       "<style>#sk-container-id-2 {color: black;background-color: white;}#sk-container-id-2 pre{padding: 0;}#sk-container-id-2 div.sk-toggleable {background-color: white;}#sk-container-id-2 label.sk-toggleable__label {cursor: pointer;display: block;width: 100%;margin-bottom: 0;padding: 0.3em;box-sizing: border-box;text-align: center;}#sk-container-id-2 label.sk-toggleable__label-arrow:before {content: \"▸\";float: left;margin-right: 0.25em;color: #696969;}#sk-container-id-2 label.sk-toggleable__label-arrow:hover:before {color: black;}#sk-container-id-2 div.sk-estimator:hover label.sk-toggleable__label-arrow:before {color: black;}#sk-container-id-2 div.sk-toggleable__content {max-height: 0;max-width: 0;overflow: hidden;text-align: left;background-color: #f0f8ff;}#sk-container-id-2 div.sk-toggleable__content pre {margin: 0.2em;color: black;border-radius: 0.25em;background-color: #f0f8ff;}#sk-container-id-2 input.sk-toggleable__control:checked~div.sk-toggleable__content {max-height: 200px;max-width: 100%;overflow: auto;}#sk-container-id-2 input.sk-toggleable__control:checked~label.sk-toggleable__label-arrow:before {content: \"▾\";}#sk-container-id-2 div.sk-estimator input.sk-toggleable__control:checked~label.sk-toggleable__label {background-color: #d4ebff;}#sk-container-id-2 div.sk-label input.sk-toggleable__control:checked~label.sk-toggleable__label {background-color: #d4ebff;}#sk-container-id-2 input.sk-hidden--visually {border: 0;clip: rect(1px 1px 1px 1px);clip: rect(1px, 1px, 1px, 1px);height: 1px;margin: -1px;overflow: hidden;padding: 0;position: absolute;width: 1px;}#sk-container-id-2 div.sk-estimator {font-family: monospace;background-color: #f0f8ff;border: 1px dotted black;border-radius: 0.25em;box-sizing: border-box;margin-bottom: 0.5em;}#sk-container-id-2 div.sk-estimator:hover {background-color: #d4ebff;}#sk-container-id-2 div.sk-parallel-item::after {content: \"\";width: 100%;border-bottom: 1px solid gray;flex-grow: 1;}#sk-container-id-2 div.sk-label:hover label.sk-toggleable__label {background-color: #d4ebff;}#sk-container-id-2 div.sk-serial::before {content: \"\";position: absolute;border-left: 1px solid gray;box-sizing: border-box;top: 0;bottom: 0;left: 50%;z-index: 0;}#sk-container-id-2 div.sk-serial {display: flex;flex-direction: column;align-items: center;background-color: white;padding-right: 0.2em;padding-left: 0.2em;position: relative;}#sk-container-id-2 div.sk-item {position: relative;z-index: 1;}#sk-container-id-2 div.sk-parallel {display: flex;align-items: stretch;justify-content: center;background-color: white;position: relative;}#sk-container-id-2 div.sk-item::before, #sk-container-id-2 div.sk-parallel-item::before {content: \"\";position: absolute;border-left: 1px solid gray;box-sizing: border-box;top: 0;bottom: 0;left: 50%;z-index: -1;}#sk-container-id-2 div.sk-parallel-item {display: flex;flex-direction: column;z-index: 1;position: relative;background-color: white;}#sk-container-id-2 div.sk-parallel-item:first-child::after {align-self: flex-end;width: 50%;}#sk-container-id-2 div.sk-parallel-item:last-child::after {align-self: flex-start;width: 50%;}#sk-container-id-2 div.sk-parallel-item:only-child::after {width: 0;}#sk-container-id-2 div.sk-dashed-wrapped {border: 1px dashed gray;margin: 0 0.4em 0.5em 0.4em;box-sizing: border-box;padding-bottom: 0.4em;background-color: white;}#sk-container-id-2 div.sk-label label {font-family: monospace;font-weight: bold;display: inline-block;line-height: 1.2em;}#sk-container-id-2 div.sk-label-container {text-align: center;}#sk-container-id-2 div.sk-container {/* jupyter's `normalize.less` sets `[hidden] { display: none; }` but bootstrap.min.css set `[hidden] { display: none !important; }` so we also need the `!important` here to be able to override the default hidden behavior on the sphinx rendered scikit-learn.org. See: https://github.com/scikit-learn/scikit-learn/issues/21755 */display: inline-block !important;position: relative;}#sk-container-id-2 div.sk-text-repr-fallback {display: none;}</style><div id=\"sk-container-id-2\" class=\"sk-top-container\"><div class=\"sk-text-repr-fallback\"><pre>RandomForestClassifier(criterion=&#x27;entropy&#x27;, max_depth=6, min_samples_split=3,\n",
       "                       n_estimators=50)</pre><b>In a Jupyter environment, please rerun this cell to show the HTML representation or trust the notebook. <br />On GitHub, the HTML representation is unable to render, please try loading this page with nbviewer.org.</b></div><div class=\"sk-container\" hidden><div class=\"sk-item\"><div class=\"sk-estimator sk-toggleable\"><input class=\"sk-toggleable__control sk-hidden--visually\" id=\"sk-estimator-id-2\" type=\"checkbox\" checked><label for=\"sk-estimator-id-2\" class=\"sk-toggleable__label sk-toggleable__label-arrow\">RandomForestClassifier</label><div class=\"sk-toggleable__content\"><pre>RandomForestClassifier(criterion=&#x27;entropy&#x27;, max_depth=6, min_samples_split=3,\n",
       "                       n_estimators=50)</pre></div></div></div></div></div>"
      ],
      "text/plain": [
       "RandomForestClassifier(criterion='entropy', max_depth=6, min_samples_split=3,\n",
       "                       n_estimators=50)"
      ]
     },
     "execution_count": 36,
     "metadata": {},
     "output_type": "execute_result"
    }
   ],
   "source": [
    "rand_clf.fit(X_train, y_train)"
   ]
  },
  {
   "cell_type": "code",
   "execution_count": 37,
   "id": "ab590db8",
   "metadata": {},
   "outputs": [],
   "source": [
    "y_pred = rand_clf.predict(X_test)"
   ]
  },
  {
   "cell_type": "code",
   "execution_count": 38,
   "id": "dcf382e3",
   "metadata": {},
   "outputs": [
    {
     "name": "stdout",
     "output_type": "stream",
     "text": [
      "Training accuracy of Random Forest is : 0.852531047593029\n",
      "Test accuracy of Random Forest is : 0.8514863318933871\n",
      "[[    0  8698]\n",
      " [    0 49869]]\n",
      "                   precision    recall  f1-score   support\n",
      "\n",
      "   Fraud Reported       0.00      0.00      0.00      8698\n",
      "No Fraud Reported       0.85      1.00      0.92     49869\n",
      "\n",
      "         accuracy                           0.85     58567\n",
      "        macro avg       0.43      0.50      0.46     58567\n",
      "     weighted avg       0.73      0.85      0.78     58567\n",
      "\n"
     ]
    }
   ],
   "source": [
    "rand_clf_train_acc = accuracy_score(y_train, rand_clf.predict(X_train))\n",
    "rand_clf_test_acc = accuracy_score(y_test, y_pred)\n",
    "\n",
    "print(f\"Training accuracy of Random Forest is : {rand_clf_train_acc}\")\n",
    "print(f\"Test accuracy of Random Forest is : {rand_clf_test_acc}\")\n",
    "\n",
    "print(confusion_matrix(y_test, y_pred))\n",
    "print(classification_report(y_test, y_pred))"
   ]
  },
  {
   "cell_type": "markdown",
   "id": "ca4e4554",
   "metadata": {},
   "source": [
    "# Gradient Boosting"
   ]
  },
  {
   "cell_type": "code",
   "execution_count": 39,
   "id": "4d04fa77",
   "metadata": {},
   "outputs": [],
   "source": [
    "gb = GradientBoostingClassifier()"
   ]
  },
  {
   "cell_type": "code",
   "execution_count": 40,
   "id": "4700db9a",
   "metadata": {},
   "outputs": [
    {
     "data": {
      "text/html": [
       "<style>#sk-container-id-3 {color: black;background-color: white;}#sk-container-id-3 pre{padding: 0;}#sk-container-id-3 div.sk-toggleable {background-color: white;}#sk-container-id-3 label.sk-toggleable__label {cursor: pointer;display: block;width: 100%;margin-bottom: 0;padding: 0.3em;box-sizing: border-box;text-align: center;}#sk-container-id-3 label.sk-toggleable__label-arrow:before {content: \"▸\";float: left;margin-right: 0.25em;color: #696969;}#sk-container-id-3 label.sk-toggleable__label-arrow:hover:before {color: black;}#sk-container-id-3 div.sk-estimator:hover label.sk-toggleable__label-arrow:before {color: black;}#sk-container-id-3 div.sk-toggleable__content {max-height: 0;max-width: 0;overflow: hidden;text-align: left;background-color: #f0f8ff;}#sk-container-id-3 div.sk-toggleable__content pre {margin: 0.2em;color: black;border-radius: 0.25em;background-color: #f0f8ff;}#sk-container-id-3 input.sk-toggleable__control:checked~div.sk-toggleable__content {max-height: 200px;max-width: 100%;overflow: auto;}#sk-container-id-3 input.sk-toggleable__control:checked~label.sk-toggleable__label-arrow:before {content: \"▾\";}#sk-container-id-3 div.sk-estimator input.sk-toggleable__control:checked~label.sk-toggleable__label {background-color: #d4ebff;}#sk-container-id-3 div.sk-label input.sk-toggleable__control:checked~label.sk-toggleable__label {background-color: #d4ebff;}#sk-container-id-3 input.sk-hidden--visually {border: 0;clip: rect(1px 1px 1px 1px);clip: rect(1px, 1px, 1px, 1px);height: 1px;margin: -1px;overflow: hidden;padding: 0;position: absolute;width: 1px;}#sk-container-id-3 div.sk-estimator {font-family: monospace;background-color: #f0f8ff;border: 1px dotted black;border-radius: 0.25em;box-sizing: border-box;margin-bottom: 0.5em;}#sk-container-id-3 div.sk-estimator:hover {background-color: #d4ebff;}#sk-container-id-3 div.sk-parallel-item::after {content: \"\";width: 100%;border-bottom: 1px solid gray;flex-grow: 1;}#sk-container-id-3 div.sk-label:hover label.sk-toggleable__label {background-color: #d4ebff;}#sk-container-id-3 div.sk-serial::before {content: \"\";position: absolute;border-left: 1px solid gray;box-sizing: border-box;top: 0;bottom: 0;left: 50%;z-index: 0;}#sk-container-id-3 div.sk-serial {display: flex;flex-direction: column;align-items: center;background-color: white;padding-right: 0.2em;padding-left: 0.2em;position: relative;}#sk-container-id-3 div.sk-item {position: relative;z-index: 1;}#sk-container-id-3 div.sk-parallel {display: flex;align-items: stretch;justify-content: center;background-color: white;position: relative;}#sk-container-id-3 div.sk-item::before, #sk-container-id-3 div.sk-parallel-item::before {content: \"\";position: absolute;border-left: 1px solid gray;box-sizing: border-box;top: 0;bottom: 0;left: 50%;z-index: -1;}#sk-container-id-3 div.sk-parallel-item {display: flex;flex-direction: column;z-index: 1;position: relative;background-color: white;}#sk-container-id-3 div.sk-parallel-item:first-child::after {align-self: flex-end;width: 50%;}#sk-container-id-3 div.sk-parallel-item:last-child::after {align-self: flex-start;width: 50%;}#sk-container-id-3 div.sk-parallel-item:only-child::after {width: 0;}#sk-container-id-3 div.sk-dashed-wrapped {border: 1px dashed gray;margin: 0 0.4em 0.5em 0.4em;box-sizing: border-box;padding-bottom: 0.4em;background-color: white;}#sk-container-id-3 div.sk-label label {font-family: monospace;font-weight: bold;display: inline-block;line-height: 1.2em;}#sk-container-id-3 div.sk-label-container {text-align: center;}#sk-container-id-3 div.sk-container {/* jupyter's `normalize.less` sets `[hidden] { display: none; }` but bootstrap.min.css set `[hidden] { display: none !important; }` so we also need the `!important` here to be able to override the default hidden behavior on the sphinx rendered scikit-learn.org. See: https://github.com/scikit-learn/scikit-learn/issues/21755 */display: inline-block !important;position: relative;}#sk-container-id-3 div.sk-text-repr-fallback {display: none;}</style><div id=\"sk-container-id-3\" class=\"sk-top-container\"><div class=\"sk-text-repr-fallback\"><pre>GradientBoostingClassifier()</pre><b>In a Jupyter environment, please rerun this cell to show the HTML representation or trust the notebook. <br />On GitHub, the HTML representation is unable to render, please try loading this page with nbviewer.org.</b></div><div class=\"sk-container\" hidden><div class=\"sk-item\"><div class=\"sk-estimator sk-toggleable\"><input class=\"sk-toggleable__control sk-hidden--visually\" id=\"sk-estimator-id-3\" type=\"checkbox\" checked><label for=\"sk-estimator-id-3\" class=\"sk-toggleable__label sk-toggleable__label-arrow\">GradientBoostingClassifier</label><div class=\"sk-toggleable__content\"><pre>GradientBoostingClassifier()</pre></div></div></div></div></div>"
      ],
      "text/plain": [
       "GradientBoostingClassifier()"
      ]
     },
     "execution_count": 40,
     "metadata": {},
     "output_type": "execute_result"
    }
   ],
   "source": [
    "gb.fit(X_train, y_train)"
   ]
  },
  {
   "cell_type": "code",
   "execution_count": 41,
   "id": "42130306",
   "metadata": {},
   "outputs": [],
   "source": [
    "gb_acc = accuracy_score(y_test, gb.predict(X_test))"
   ]
  },
  {
   "cell_type": "code",
   "execution_count": 42,
   "id": "22d5de10",
   "metadata": {},
   "outputs": [
    {
     "name": "stdout",
     "output_type": "stream",
     "text": [
      "Training Accuracy of Gradient Boosting Classifier is 0.8527359446322668\n",
      "Test Accuracy of Gradient Boosting Classifier is 0.8516058531254802 \n",
      "\n",
      "Confusion Matrix :- \n",
      "[[    7  8691]\n",
      " [    0 49869]]\n",
      "\n",
      "Classification Report :- \n",
      "                    precision    recall  f1-score   support\n",
      "\n",
      "   Fraud Reported       1.00      0.00      0.00      8698\n",
      "No Fraud Reported       0.85      1.00      0.92     49869\n",
      "\n",
      "         accuracy                           0.85     58567\n",
      "        macro avg       0.93      0.50      0.46     58567\n",
      "     weighted avg       0.87      0.85      0.78     58567\n",
      "\n"
     ]
    }
   ],
   "source": [
    "print(f\"Training Accuracy of Gradient Boosting Classifier is {accuracy_score(y_train, gb.predict(X_train))}\")\n",
    "print(f\"Test Accuracy of Gradient Boosting Classifier is {gb_acc} \\n\")\n",
    "\n",
    "print(f\"Confusion Matrix :- \\n{confusion_matrix(y_test, gb.predict(X_test))}\\n\")\n",
    "print(f\"Classification Report :- \\n {classification_report(y_test, gb.predict(X_test))}\")"
   ]
  },
  {
   "cell_type": "markdown",
   "id": "8650ab58",
   "metadata": {},
   "source": [
    "# Stochastic Gradient Boosting"
   ]
  },
  {
   "cell_type": "code",
   "execution_count": 43,
   "id": "ac979e9a",
   "metadata": {},
   "outputs": [
    {
     "data": {
      "text/html": [
       "<style>#sk-container-id-4 {color: black;background-color: white;}#sk-container-id-4 pre{padding: 0;}#sk-container-id-4 div.sk-toggleable {background-color: white;}#sk-container-id-4 label.sk-toggleable__label {cursor: pointer;display: block;width: 100%;margin-bottom: 0;padding: 0.3em;box-sizing: border-box;text-align: center;}#sk-container-id-4 label.sk-toggleable__label-arrow:before {content: \"▸\";float: left;margin-right: 0.25em;color: #696969;}#sk-container-id-4 label.sk-toggleable__label-arrow:hover:before {color: black;}#sk-container-id-4 div.sk-estimator:hover label.sk-toggleable__label-arrow:before {color: black;}#sk-container-id-4 div.sk-toggleable__content {max-height: 0;max-width: 0;overflow: hidden;text-align: left;background-color: #f0f8ff;}#sk-container-id-4 div.sk-toggleable__content pre {margin: 0.2em;color: black;border-radius: 0.25em;background-color: #f0f8ff;}#sk-container-id-4 input.sk-toggleable__control:checked~div.sk-toggleable__content {max-height: 200px;max-width: 100%;overflow: auto;}#sk-container-id-4 input.sk-toggleable__control:checked~label.sk-toggleable__label-arrow:before {content: \"▾\";}#sk-container-id-4 div.sk-estimator input.sk-toggleable__control:checked~label.sk-toggleable__label {background-color: #d4ebff;}#sk-container-id-4 div.sk-label input.sk-toggleable__control:checked~label.sk-toggleable__label {background-color: #d4ebff;}#sk-container-id-4 input.sk-hidden--visually {border: 0;clip: rect(1px 1px 1px 1px);clip: rect(1px, 1px, 1px, 1px);height: 1px;margin: -1px;overflow: hidden;padding: 0;position: absolute;width: 1px;}#sk-container-id-4 div.sk-estimator {font-family: monospace;background-color: #f0f8ff;border: 1px dotted black;border-radius: 0.25em;box-sizing: border-box;margin-bottom: 0.5em;}#sk-container-id-4 div.sk-estimator:hover {background-color: #d4ebff;}#sk-container-id-4 div.sk-parallel-item::after {content: \"\";width: 100%;border-bottom: 1px solid gray;flex-grow: 1;}#sk-container-id-4 div.sk-label:hover label.sk-toggleable__label {background-color: #d4ebff;}#sk-container-id-4 div.sk-serial::before {content: \"\";position: absolute;border-left: 1px solid gray;box-sizing: border-box;top: 0;bottom: 0;left: 50%;z-index: 0;}#sk-container-id-4 div.sk-serial {display: flex;flex-direction: column;align-items: center;background-color: white;padding-right: 0.2em;padding-left: 0.2em;position: relative;}#sk-container-id-4 div.sk-item {position: relative;z-index: 1;}#sk-container-id-4 div.sk-parallel {display: flex;align-items: stretch;justify-content: center;background-color: white;position: relative;}#sk-container-id-4 div.sk-item::before, #sk-container-id-4 div.sk-parallel-item::before {content: \"\";position: absolute;border-left: 1px solid gray;box-sizing: border-box;top: 0;bottom: 0;left: 50%;z-index: -1;}#sk-container-id-4 div.sk-parallel-item {display: flex;flex-direction: column;z-index: 1;position: relative;background-color: white;}#sk-container-id-4 div.sk-parallel-item:first-child::after {align-self: flex-end;width: 50%;}#sk-container-id-4 div.sk-parallel-item:last-child::after {align-self: flex-start;width: 50%;}#sk-container-id-4 div.sk-parallel-item:only-child::after {width: 0;}#sk-container-id-4 div.sk-dashed-wrapped {border: 1px dashed gray;margin: 0 0.4em 0.5em 0.4em;box-sizing: border-box;padding-bottom: 0.4em;background-color: white;}#sk-container-id-4 div.sk-label label {font-family: monospace;font-weight: bold;display: inline-block;line-height: 1.2em;}#sk-container-id-4 div.sk-label-container {text-align: center;}#sk-container-id-4 div.sk-container {/* jupyter's `normalize.less` sets `[hidden] { display: none; }` but bootstrap.min.css set `[hidden] { display: none !important; }` so we also need the `!important` here to be able to override the default hidden behavior on the sphinx rendered scikit-learn.org. See: https://github.com/scikit-learn/scikit-learn/issues/21755 */display: inline-block !important;position: relative;}#sk-container-id-4 div.sk-text-repr-fallback {display: none;}</style><div id=\"sk-container-id-4\" class=\"sk-top-container\"><div class=\"sk-text-repr-fallback\"><pre>GradientBoostingClassifier(max_features=0.7, subsample=0.9)</pre><b>In a Jupyter environment, please rerun this cell to show the HTML representation or trust the notebook. <br />On GitHub, the HTML representation is unable to render, please try loading this page with nbviewer.org.</b></div><div class=\"sk-container\" hidden><div class=\"sk-item\"><div class=\"sk-estimator sk-toggleable\"><input class=\"sk-toggleable__control sk-hidden--visually\" id=\"sk-estimator-id-4\" type=\"checkbox\" checked><label for=\"sk-estimator-id-4\" class=\"sk-toggleable__label sk-toggleable__label-arrow\">GradientBoostingClassifier</label><div class=\"sk-toggleable__content\"><pre>GradientBoostingClassifier(max_features=0.7, subsample=0.9)</pre></div></div></div></div></div>"
      ],
      "text/plain": [
       "GradientBoostingClassifier(max_features=0.7, subsample=0.9)"
      ]
     },
     "execution_count": 43,
     "metadata": {},
     "output_type": "execute_result"
    }
   ],
   "source": [
    "sgb = GradientBoostingClassifier(subsample = 0.90, max_features = 0.70)\n",
    "sgb.fit(X_train, y_train)"
   ]
  },
  {
   "cell_type": "code",
   "execution_count": 44,
   "id": "55749572",
   "metadata": {},
   "outputs": [],
   "source": [
    "sgb_acc = accuracy_score(y_test, sgb.predict(X_test))"
   ]
  },
  {
   "cell_type": "code",
   "execution_count": 45,
   "id": "301a781f",
   "metadata": {},
   "outputs": [
    {
     "name": "stdout",
     "output_type": "stream",
     "text": [
      "Training Accuracy of Stochastic Gradient Boosting is 0.8526733372036107\n",
      "Test Accuracy of Stochastic Gradient Boosting is 0.8515375552785699 \n",
      "\n",
      "Confusion Matrix :- \n",
      "[[    3  8695]\n",
      " [    0 49869]]\n",
      "\n",
      "Classification Report :- \n",
      "                    precision    recall  f1-score   support\n",
      "\n",
      "   Fraud Reported       1.00      0.00      0.00      8698\n",
      "No Fraud Reported       0.85      1.00      0.92     49869\n",
      "\n",
      "         accuracy                           0.85     58567\n",
      "        macro avg       0.93      0.50      0.46     58567\n",
      "     weighted avg       0.87      0.85      0.78     58567\n",
      "\n"
     ]
    }
   ],
   "source": [
    "print(f\"Training Accuracy of Stochastic Gradient Boosting is {accuracy_score(y_train, sgb.predict(X_train))}\")\n",
    "print(f\"Test Accuracy of Stochastic Gradient Boosting is {sgb_acc} \\n\")\n",
    "\n",
    "print(f\"Confusion Matrix :- \\n{confusion_matrix(y_test, sgb.predict(X_test))}\\n\")\n",
    "print(f\"Classification Report :- \\n {classification_report(y_test, sgb.predict(X_test))}\")"
   ]
  },
  {
   "cell_type": "markdown",
   "id": "f14196f5",
   "metadata": {},
   "source": [
    "# XGBoost Classifier"
   ]
  },
  {
   "cell_type": "code",
   "execution_count": 48,
   "id": "1098533b",
   "metadata": {},
   "outputs": [
    {
     "data": {
      "text/plain": [
       "pandas.core.series.Series"
      ]
     },
     "execution_count": 48,
     "metadata": {},
     "output_type": "execute_result"
    }
   ],
   "source": [
    "type(y_train)"
   ]
  },
  {
   "cell_type": "code",
   "execution_count": 49,
   "id": "f88e14f2",
   "metadata": {},
   "outputs": [],
   "source": [
    "from sklearn.preprocessing import LabelEncoder\n",
    "le = LabelEncoder()\n",
    "xgb_y_train = le.fit_transform(y_train)\n",
    "xgb_y_test = le.transform(y_test)"
   ]
  },
  {
   "cell_type": "code",
   "execution_count": 50,
   "id": "86e688d7",
   "metadata": {},
   "outputs": [
    {
     "data": {
      "text/html": [
       "<style>#sk-container-id-5 {color: black;background-color: white;}#sk-container-id-5 pre{padding: 0;}#sk-container-id-5 div.sk-toggleable {background-color: white;}#sk-container-id-5 label.sk-toggleable__label {cursor: pointer;display: block;width: 100%;margin-bottom: 0;padding: 0.3em;box-sizing: border-box;text-align: center;}#sk-container-id-5 label.sk-toggleable__label-arrow:before {content: \"▸\";float: left;margin-right: 0.25em;color: #696969;}#sk-container-id-5 label.sk-toggleable__label-arrow:hover:before {color: black;}#sk-container-id-5 div.sk-estimator:hover label.sk-toggleable__label-arrow:before {color: black;}#sk-container-id-5 div.sk-toggleable__content {max-height: 0;max-width: 0;overflow: hidden;text-align: left;background-color: #f0f8ff;}#sk-container-id-5 div.sk-toggleable__content pre {margin: 0.2em;color: black;border-radius: 0.25em;background-color: #f0f8ff;}#sk-container-id-5 input.sk-toggleable__control:checked~div.sk-toggleable__content {max-height: 200px;max-width: 100%;overflow: auto;}#sk-container-id-5 input.sk-toggleable__control:checked~label.sk-toggleable__label-arrow:before {content: \"▾\";}#sk-container-id-5 div.sk-estimator input.sk-toggleable__control:checked~label.sk-toggleable__label {background-color: #d4ebff;}#sk-container-id-5 div.sk-label input.sk-toggleable__control:checked~label.sk-toggleable__label {background-color: #d4ebff;}#sk-container-id-5 input.sk-hidden--visually {border: 0;clip: rect(1px 1px 1px 1px);clip: rect(1px, 1px, 1px, 1px);height: 1px;margin: -1px;overflow: hidden;padding: 0;position: absolute;width: 1px;}#sk-container-id-5 div.sk-estimator {font-family: monospace;background-color: #f0f8ff;border: 1px dotted black;border-radius: 0.25em;box-sizing: border-box;margin-bottom: 0.5em;}#sk-container-id-5 div.sk-estimator:hover {background-color: #d4ebff;}#sk-container-id-5 div.sk-parallel-item::after {content: \"\";width: 100%;border-bottom: 1px solid gray;flex-grow: 1;}#sk-container-id-5 div.sk-label:hover label.sk-toggleable__label {background-color: #d4ebff;}#sk-container-id-5 div.sk-serial::before {content: \"\";position: absolute;border-left: 1px solid gray;box-sizing: border-box;top: 0;bottom: 0;left: 50%;z-index: 0;}#sk-container-id-5 div.sk-serial {display: flex;flex-direction: column;align-items: center;background-color: white;padding-right: 0.2em;padding-left: 0.2em;position: relative;}#sk-container-id-5 div.sk-item {position: relative;z-index: 1;}#sk-container-id-5 div.sk-parallel {display: flex;align-items: stretch;justify-content: center;background-color: white;position: relative;}#sk-container-id-5 div.sk-item::before, #sk-container-id-5 div.sk-parallel-item::before {content: \"\";position: absolute;border-left: 1px solid gray;box-sizing: border-box;top: 0;bottom: 0;left: 50%;z-index: -1;}#sk-container-id-5 div.sk-parallel-item {display: flex;flex-direction: column;z-index: 1;position: relative;background-color: white;}#sk-container-id-5 div.sk-parallel-item:first-child::after {align-self: flex-end;width: 50%;}#sk-container-id-5 div.sk-parallel-item:last-child::after {align-self: flex-start;width: 50%;}#sk-container-id-5 div.sk-parallel-item:only-child::after {width: 0;}#sk-container-id-5 div.sk-dashed-wrapped {border: 1px dashed gray;margin: 0 0.4em 0.5em 0.4em;box-sizing: border-box;padding-bottom: 0.4em;background-color: white;}#sk-container-id-5 div.sk-label label {font-family: monospace;font-weight: bold;display: inline-block;line-height: 1.2em;}#sk-container-id-5 div.sk-label-container {text-align: center;}#sk-container-id-5 div.sk-container {/* jupyter's `normalize.less` sets `[hidden] { display: none; }` but bootstrap.min.css set `[hidden] { display: none !important; }` so we also need the `!important` here to be able to override the default hidden behavior on the sphinx rendered scikit-learn.org. See: https://github.com/scikit-learn/scikit-learn/issues/21755 */display: inline-block !important;position: relative;}#sk-container-id-5 div.sk-text-repr-fallback {display: none;}</style><div id=\"sk-container-id-5\" class=\"sk-top-container\"><div class=\"sk-text-repr-fallback\"><pre>XGBClassifier(base_score=None, booster=None, callbacks=None,\n",
       "              colsample_bylevel=None, colsample_bynode=None,\n",
       "              colsample_bytree=None, early_stopping_rounds=None,\n",
       "              enable_categorical=False, eval_metric=None, feature_types=None,\n",
       "              gamma=None, gpu_id=None, grow_policy=None, importance_type=None,\n",
       "              interaction_constraints=None, learning_rate=None, max_bin=None,\n",
       "              max_cat_threshold=None, max_cat_to_onehot=None,\n",
       "              max_delta_step=None, max_depth=None, max_leaves=None,\n",
       "              min_child_weight=None, missing=nan, monotone_constraints=None,\n",
       "              n_estimators=100, n_jobs=None, num_parallel_tree=None,\n",
       "              predictor=None, random_state=None, ...)</pre><b>In a Jupyter environment, please rerun this cell to show the HTML representation or trust the notebook. <br />On GitHub, the HTML representation is unable to render, please try loading this page with nbviewer.org.</b></div><div class=\"sk-container\" hidden><div class=\"sk-item\"><div class=\"sk-estimator sk-toggleable\"><input class=\"sk-toggleable__control sk-hidden--visually\" id=\"sk-estimator-id-5\" type=\"checkbox\" checked><label for=\"sk-estimator-id-5\" class=\"sk-toggleable__label sk-toggleable__label-arrow\">XGBClassifier</label><div class=\"sk-toggleable__content\"><pre>XGBClassifier(base_score=None, booster=None, callbacks=None,\n",
       "              colsample_bylevel=None, colsample_bynode=None,\n",
       "              colsample_bytree=None, early_stopping_rounds=None,\n",
       "              enable_categorical=False, eval_metric=None, feature_types=None,\n",
       "              gamma=None, gpu_id=None, grow_policy=None, importance_type=None,\n",
       "              interaction_constraints=None, learning_rate=None, max_bin=None,\n",
       "              max_cat_threshold=None, max_cat_to_onehot=None,\n",
       "              max_delta_step=None, max_depth=None, max_leaves=None,\n",
       "              min_child_weight=None, missing=nan, monotone_constraints=None,\n",
       "              n_estimators=100, n_jobs=None, num_parallel_tree=None,\n",
       "              predictor=None, random_state=None, ...)</pre></div></div></div></div></div>"
      ],
      "text/plain": [
       "XGBClassifier(base_score=None, booster=None, callbacks=None,\n",
       "              colsample_bylevel=None, colsample_bynode=None,\n",
       "              colsample_bytree=None, early_stopping_rounds=None,\n",
       "              enable_categorical=False, eval_metric=None, feature_types=None,\n",
       "              gamma=None, gpu_id=None, grow_policy=None, importance_type=None,\n",
       "              interaction_constraints=None, learning_rate=None, max_bin=None,\n",
       "              max_cat_threshold=None, max_cat_to_onehot=None,\n",
       "              max_delta_step=None, max_depth=None, max_leaves=None,\n",
       "              min_child_weight=None, missing=nan, monotone_constraints=None,\n",
       "              n_estimators=100, n_jobs=None, num_parallel_tree=None,\n",
       "              predictor=None, random_state=None, ...)"
      ]
     },
     "execution_count": 50,
     "metadata": {},
     "output_type": "execute_result"
    }
   ],
   "source": [
    "xgb = XGBClassifier()\n",
    "xgb.fit(X_train, xgb_y_train)"
   ]
  },
  {
   "cell_type": "code",
   "execution_count": 51,
   "id": "d656aba8",
   "metadata": {},
   "outputs": [],
   "source": [
    "y_pred = xgb.predict(X_test)"
   ]
  },
  {
   "cell_type": "code",
   "execution_count": 52,
   "id": "11cf6351",
   "metadata": {},
   "outputs": [
    {
     "name": "stdout",
     "output_type": "stream",
     "text": [
      "Training accuracy of XgBoost is : 0.8670445878723719\n",
      "Test accuracy of XgBoost is : 0.8603309030682808\n",
      "[[  535  8163]\n",
      " [   17 49852]]\n",
      "              precision    recall  f1-score   support\n",
      "\n",
      "           0       0.97      0.06      0.12      8698\n",
      "           1       0.86      1.00      0.92     49869\n",
      "\n",
      "    accuracy                           0.86     58567\n",
      "   macro avg       0.91      0.53      0.52     58567\n",
      "weighted avg       0.88      0.86      0.80     58567\n",
      "\n"
     ]
    }
   ],
   "source": [
    "xgb_train_acc = accuracy_score(xgb_y_train, xgb.predict(X_train))\n",
    "xgb_test_acc = accuracy_score(xgb_y_test, y_pred)\n",
    "\n",
    "print(f\"Training accuracy of XgBoost is : {xgb_train_acc}\")\n",
    "print(f\"Test accuracy of XgBoost is : {xgb_test_acc}\")\n",
    "\n",
    "print(confusion_matrix(xgb_y_test, y_pred))\n",
    "print(classification_report(xgb_y_test, y_pred))"
   ]
  },
  {
   "cell_type": "markdown",
   "id": "97c63e90",
   "metadata": {},
   "source": [
    "# Catboost Classifier"
   ]
  },
  {
   "cell_type": "code",
   "execution_count": 53,
   "id": "f07c8146",
   "metadata": {},
   "outputs": [
    {
     "name": "stdout",
     "output_type": "stream",
     "text": [
      "Learning rate set to 0.5\n",
      "0:\tlearn: 0.4768173\ttotal: 66.9ms\tremaining: 602ms\n",
      "1:\tlearn: 0.4257421\ttotal: 87.1ms\tremaining: 348ms\n",
      "2:\tlearn: 0.4158646\ttotal: 105ms\tremaining: 244ms\n",
      "3:\tlearn: 0.4129188\ttotal: 123ms\tremaining: 184ms\n",
      "4:\tlearn: 0.4111623\ttotal: 140ms\tremaining: 140ms\n",
      "5:\tlearn: 0.4102624\ttotal: 158ms\tremaining: 105ms\n",
      "6:\tlearn: 0.4089223\ttotal: 177ms\tremaining: 75.9ms\n",
      "7:\tlearn: 0.4082601\ttotal: 197ms\tremaining: 49.4ms\n",
      "8:\tlearn: 0.4075961\ttotal: 215ms\tremaining: 23.8ms\n",
      "9:\tlearn: 0.4069333\ttotal: 244ms\tremaining: 0us\n"
     ]
    },
    {
     "data": {
      "text/plain": [
       "<catboost.core.CatBoostClassifier at 0x7fbfaff488b0>"
      ]
     },
     "execution_count": 53,
     "metadata": {},
     "output_type": "execute_result"
    }
   ],
   "source": [
    "cat = CatBoostClassifier(iterations=10)\n",
    "cat.fit(X_train, y_train)"
   ]
  },
  {
   "cell_type": "code",
   "execution_count": 54,
   "id": "15f60a21",
   "metadata": {},
   "outputs": [],
   "source": [
    "cat_acc = accuracy_score(y_test, cat.predict(X_test))"
   ]
  },
  {
   "cell_type": "code",
   "execution_count": 55,
   "id": "9522a5ad",
   "metadata": {},
   "outputs": [
    {
     "name": "stdout",
     "output_type": "stream",
     "text": [
      "Training Accuracy of Cat Boost Classifier is 0.8526391876970711\n",
      "Test Accuracy of Cat Boost Classifier is 0.8514863318933871 \n",
      "\n",
      "Confusion Matrix :- \n",
      "[[    3  8695]\n",
      " [    3 49866]]\n",
      "\n",
      "Classification Report :- \n",
      "                    precision    recall  f1-score   support\n",
      "\n",
      "   Fraud Reported       0.50      0.00      0.00      8698\n",
      "No Fraud Reported       0.85      1.00      0.92     49869\n",
      "\n",
      "         accuracy                           0.85     58567\n",
      "        macro avg       0.68      0.50      0.46     58567\n",
      "     weighted avg       0.80      0.85      0.78     58567\n",
      "\n"
     ]
    }
   ],
   "source": [
    "print(f\"Training Accuracy of Cat Boost Classifier is {accuracy_score(y_train, cat.predict(X_train))}\")\n",
    "print(f\"Test Accuracy of Cat Boost Classifier is {cat_acc} \\n\")\n",
    "\n",
    "print(f\"Confusion Matrix :- \\n{confusion_matrix(y_test, cat.predict(X_test))}\\n\")\n",
    "print(f\"Classification Report :- \\n {classification_report(y_test, cat.predict(X_test))}\")"
   ]
  },
  {
   "cell_type": "markdown",
   "id": "5a3bc0f3",
   "metadata": {},
   "source": [
    "# Extra Tree Classifier"
   ]
  },
  {
   "cell_type": "code",
   "execution_count": 56,
   "id": "c32a0f0d",
   "metadata": {},
   "outputs": [
    {
     "data": {
      "text/html": [
       "<style>#sk-container-id-6 {color: black;background-color: white;}#sk-container-id-6 pre{padding: 0;}#sk-container-id-6 div.sk-toggleable {background-color: white;}#sk-container-id-6 label.sk-toggleable__label {cursor: pointer;display: block;width: 100%;margin-bottom: 0;padding: 0.3em;box-sizing: border-box;text-align: center;}#sk-container-id-6 label.sk-toggleable__label-arrow:before {content: \"▸\";float: left;margin-right: 0.25em;color: #696969;}#sk-container-id-6 label.sk-toggleable__label-arrow:hover:before {color: black;}#sk-container-id-6 div.sk-estimator:hover label.sk-toggleable__label-arrow:before {color: black;}#sk-container-id-6 div.sk-toggleable__content {max-height: 0;max-width: 0;overflow: hidden;text-align: left;background-color: #f0f8ff;}#sk-container-id-6 div.sk-toggleable__content pre {margin: 0.2em;color: black;border-radius: 0.25em;background-color: #f0f8ff;}#sk-container-id-6 input.sk-toggleable__control:checked~div.sk-toggleable__content {max-height: 200px;max-width: 100%;overflow: auto;}#sk-container-id-6 input.sk-toggleable__control:checked~label.sk-toggleable__label-arrow:before {content: \"▾\";}#sk-container-id-6 div.sk-estimator input.sk-toggleable__control:checked~label.sk-toggleable__label {background-color: #d4ebff;}#sk-container-id-6 div.sk-label input.sk-toggleable__control:checked~label.sk-toggleable__label {background-color: #d4ebff;}#sk-container-id-6 input.sk-hidden--visually {border: 0;clip: rect(1px 1px 1px 1px);clip: rect(1px, 1px, 1px, 1px);height: 1px;margin: -1px;overflow: hidden;padding: 0;position: absolute;width: 1px;}#sk-container-id-6 div.sk-estimator {font-family: monospace;background-color: #f0f8ff;border: 1px dotted black;border-radius: 0.25em;box-sizing: border-box;margin-bottom: 0.5em;}#sk-container-id-6 div.sk-estimator:hover {background-color: #d4ebff;}#sk-container-id-6 div.sk-parallel-item::after {content: \"\";width: 100%;border-bottom: 1px solid gray;flex-grow: 1;}#sk-container-id-6 div.sk-label:hover label.sk-toggleable__label {background-color: #d4ebff;}#sk-container-id-6 div.sk-serial::before {content: \"\";position: absolute;border-left: 1px solid gray;box-sizing: border-box;top: 0;bottom: 0;left: 50%;z-index: 0;}#sk-container-id-6 div.sk-serial {display: flex;flex-direction: column;align-items: center;background-color: white;padding-right: 0.2em;padding-left: 0.2em;position: relative;}#sk-container-id-6 div.sk-item {position: relative;z-index: 1;}#sk-container-id-6 div.sk-parallel {display: flex;align-items: stretch;justify-content: center;background-color: white;position: relative;}#sk-container-id-6 div.sk-item::before, #sk-container-id-6 div.sk-parallel-item::before {content: \"\";position: absolute;border-left: 1px solid gray;box-sizing: border-box;top: 0;bottom: 0;left: 50%;z-index: -1;}#sk-container-id-6 div.sk-parallel-item {display: flex;flex-direction: column;z-index: 1;position: relative;background-color: white;}#sk-container-id-6 div.sk-parallel-item:first-child::after {align-self: flex-end;width: 50%;}#sk-container-id-6 div.sk-parallel-item:last-child::after {align-self: flex-start;width: 50%;}#sk-container-id-6 div.sk-parallel-item:only-child::after {width: 0;}#sk-container-id-6 div.sk-dashed-wrapped {border: 1px dashed gray;margin: 0 0.4em 0.5em 0.4em;box-sizing: border-box;padding-bottom: 0.4em;background-color: white;}#sk-container-id-6 div.sk-label label {font-family: monospace;font-weight: bold;display: inline-block;line-height: 1.2em;}#sk-container-id-6 div.sk-label-container {text-align: center;}#sk-container-id-6 div.sk-container {/* jupyter's `normalize.less` sets `[hidden] { display: none; }` but bootstrap.min.css set `[hidden] { display: none !important; }` so we also need the `!important` here to be able to override the default hidden behavior on the sphinx rendered scikit-learn.org. See: https://github.com/scikit-learn/scikit-learn/issues/21755 */display: inline-block !important;position: relative;}#sk-container-id-6 div.sk-text-repr-fallback {display: none;}</style><div id=\"sk-container-id-6\" class=\"sk-top-container\"><div class=\"sk-text-repr-fallback\"><pre>ExtraTreesClassifier()</pre><b>In a Jupyter environment, please rerun this cell to show the HTML representation or trust the notebook. <br />On GitHub, the HTML representation is unable to render, please try loading this page with nbviewer.org.</b></div><div class=\"sk-container\" hidden><div class=\"sk-item\"><div class=\"sk-estimator sk-toggleable\"><input class=\"sk-toggleable__control sk-hidden--visually\" id=\"sk-estimator-id-6\" type=\"checkbox\" checked><label for=\"sk-estimator-id-6\" class=\"sk-toggleable__label sk-toggleable__label-arrow\">ExtraTreesClassifier</label><div class=\"sk-toggleable__content\"><pre>ExtraTreesClassifier()</pre></div></div></div></div></div>"
      ],
      "text/plain": [
       "ExtraTreesClassifier()"
      ]
     },
     "execution_count": 56,
     "metadata": {},
     "output_type": "execute_result"
    }
   ],
   "source": [
    "etc = ExtraTreesClassifier()\n",
    "etc.fit(X_train, y_train)"
   ]
  },
  {
   "cell_type": "code",
   "execution_count": 57,
   "id": "f2b5e517",
   "metadata": {},
   "outputs": [],
   "source": [
    "etc_acc = accuracy_score(y_test, etc.predict(X_test))"
   ]
  },
  {
   "cell_type": "code",
   "execution_count": 58,
   "id": "e9afb2e9",
   "metadata": {},
   "outputs": [
    {
     "name": "stdout",
     "output_type": "stream",
     "text": [
      "Training Accuracy of Extra Trees Classifier is 1.0\n",
      "Test Accuracy of Extra Trees Classifier is 0.9969436713507607 \n",
      "\n",
      "Confusion Matrix :- \n",
      "[[ 8519   179]\n",
      " [    0 49869]]\n",
      "\n",
      "Classification Report :- \n",
      "                    precision    recall  f1-score   support\n",
      "\n",
      "   Fraud Reported       1.00      0.98      0.99      8698\n",
      "No Fraud Reported       1.00      1.00      1.00     49869\n",
      "\n",
      "         accuracy                           1.00     58567\n",
      "        macro avg       1.00      0.99      0.99     58567\n",
      "     weighted avg       1.00      1.00      1.00     58567\n",
      "\n"
     ]
    }
   ],
   "source": [
    "print(f\"Training Accuracy of Extra Trees Classifier is {accuracy_score(y_train, etc.predict(X_train))}\")\n",
    "print(f\"Test Accuracy of Extra Trees Classifier is {etc_acc} \\n\")\n",
    "\n",
    "print(f\"Confusion Matrix :- \\n{confusion_matrix(y_test, etc.predict(X_test))}\\n\")\n",
    "print(f\"Classification Report :- \\n {classification_report(y_test, etc.predict(X_test))}\")"
   ]
  },
  {
   "cell_type": "markdown",
   "id": "703f4dae",
   "metadata": {},
   "source": [
    "# Voting Classifier"
   ]
  },
  {
   "cell_type": "code",
   "execution_count": 59,
   "id": "4fbaf22d",
   "metadata": {},
   "outputs": [
    {
     "name": "stdout",
     "output_type": "stream",
     "text": [
      "Learning rate set to 0.5\n",
      "0:\tlearn: 0.4768173\ttotal: 18.1ms\tremaining: 163ms\n",
      "1:\tlearn: 0.4257421\ttotal: 37.6ms\tremaining: 150ms\n",
      "2:\tlearn: 0.4158646\ttotal: 55.4ms\tremaining: 129ms\n",
      "3:\tlearn: 0.4129188\ttotal: 73.5ms\tremaining: 110ms\n",
      "4:\tlearn: 0.4111623\ttotal: 91.4ms\tremaining: 91.4ms\n",
      "5:\tlearn: 0.4102624\ttotal: 109ms\tremaining: 73ms\n",
      "6:\tlearn: 0.4089223\ttotal: 128ms\tremaining: 54.7ms\n",
      "7:\tlearn: 0.4082601\ttotal: 151ms\tremaining: 37.8ms\n",
      "8:\tlearn: 0.4075961\ttotal: 174ms\tremaining: 19.3ms\n",
      "9:\tlearn: 0.4069333\ttotal: 195ms\tremaining: 0us\n"
     ]
    },
    {
     "data": {
      "text/html": [
       "<style>#sk-container-id-7 {color: black;background-color: white;}#sk-container-id-7 pre{padding: 0;}#sk-container-id-7 div.sk-toggleable {background-color: white;}#sk-container-id-7 label.sk-toggleable__label {cursor: pointer;display: block;width: 100%;margin-bottom: 0;padding: 0.3em;box-sizing: border-box;text-align: center;}#sk-container-id-7 label.sk-toggleable__label-arrow:before {content: \"▸\";float: left;margin-right: 0.25em;color: #696969;}#sk-container-id-7 label.sk-toggleable__label-arrow:hover:before {color: black;}#sk-container-id-7 div.sk-estimator:hover label.sk-toggleable__label-arrow:before {color: black;}#sk-container-id-7 div.sk-toggleable__content {max-height: 0;max-width: 0;overflow: hidden;text-align: left;background-color: #f0f8ff;}#sk-container-id-7 div.sk-toggleable__content pre {margin: 0.2em;color: black;border-radius: 0.25em;background-color: #f0f8ff;}#sk-container-id-7 input.sk-toggleable__control:checked~div.sk-toggleable__content {max-height: 200px;max-width: 100%;overflow: auto;}#sk-container-id-7 input.sk-toggleable__control:checked~label.sk-toggleable__label-arrow:before {content: \"▾\";}#sk-container-id-7 div.sk-estimator input.sk-toggleable__control:checked~label.sk-toggleable__label {background-color: #d4ebff;}#sk-container-id-7 div.sk-label input.sk-toggleable__control:checked~label.sk-toggleable__label {background-color: #d4ebff;}#sk-container-id-7 input.sk-hidden--visually {border: 0;clip: rect(1px 1px 1px 1px);clip: rect(1px, 1px, 1px, 1px);height: 1px;margin: -1px;overflow: hidden;padding: 0;position: absolute;width: 1px;}#sk-container-id-7 div.sk-estimator {font-family: monospace;background-color: #f0f8ff;border: 1px dotted black;border-radius: 0.25em;box-sizing: border-box;margin-bottom: 0.5em;}#sk-container-id-7 div.sk-estimator:hover {background-color: #d4ebff;}#sk-container-id-7 div.sk-parallel-item::after {content: \"\";width: 100%;border-bottom: 1px solid gray;flex-grow: 1;}#sk-container-id-7 div.sk-label:hover label.sk-toggleable__label {background-color: #d4ebff;}#sk-container-id-7 div.sk-serial::before {content: \"\";position: absolute;border-left: 1px solid gray;box-sizing: border-box;top: 0;bottom: 0;left: 50%;z-index: 0;}#sk-container-id-7 div.sk-serial {display: flex;flex-direction: column;align-items: center;background-color: white;padding-right: 0.2em;padding-left: 0.2em;position: relative;}#sk-container-id-7 div.sk-item {position: relative;z-index: 1;}#sk-container-id-7 div.sk-parallel {display: flex;align-items: stretch;justify-content: center;background-color: white;position: relative;}#sk-container-id-7 div.sk-item::before, #sk-container-id-7 div.sk-parallel-item::before {content: \"\";position: absolute;border-left: 1px solid gray;box-sizing: border-box;top: 0;bottom: 0;left: 50%;z-index: -1;}#sk-container-id-7 div.sk-parallel-item {display: flex;flex-direction: column;z-index: 1;position: relative;background-color: white;}#sk-container-id-7 div.sk-parallel-item:first-child::after {align-self: flex-end;width: 50%;}#sk-container-id-7 div.sk-parallel-item:last-child::after {align-self: flex-start;width: 50%;}#sk-container-id-7 div.sk-parallel-item:only-child::after {width: 0;}#sk-container-id-7 div.sk-dashed-wrapped {border: 1px dashed gray;margin: 0 0.4em 0.5em 0.4em;box-sizing: border-box;padding-bottom: 0.4em;background-color: white;}#sk-container-id-7 div.sk-label label {font-family: monospace;font-weight: bold;display: inline-block;line-height: 1.2em;}#sk-container-id-7 div.sk-label-container {text-align: center;}#sk-container-id-7 div.sk-container {/* jupyter's `normalize.less` sets `[hidden] { display: none; }` but bootstrap.min.css set `[hidden] { display: none !important; }` so we also need the `!important` here to be able to override the default hidden behavior on the sphinx rendered scikit-learn.org. See: https://github.com/scikit-learn/scikit-learn/issues/21755 */display: inline-block !important;position: relative;}#sk-container-id-7 div.sk-text-repr-fallback {display: none;}</style><div id=\"sk-container-id-7\" class=\"sk-top-container\"><div class=\"sk-text-repr-fallback\"><pre>VotingClassifier(estimators=[(&#x27;Decision Tree&#x27;, DecisionTreeClassifier()),\n",
       "                             (&#x27;Random Forest&#x27;,\n",
       "                              RandomForestClassifier(criterion=&#x27;entropy&#x27;,\n",
       "                                                     max_depth=6,\n",
       "                                                     min_samples_split=3,\n",
       "                                                     n_estimators=50)),\n",
       "                             (&#x27;Gradient Boosting Classifier&#x27;,\n",
       "                              GradientBoostingClassifier()),\n",
       "                             (&#x27;SGB&#x27;,\n",
       "                              GradientBoostingClassifier(max_features=0.7,\n",
       "                                                         subsample=0.9)),\n",
       "                             (&#x27;Cat Boost&#x27;,\n",
       "                              &lt;catboost.core.CatBoostClassifier object at 0x7fbfaff488b0&gt;),\n",
       "                             (&#x27;Extra Trees Classifier&#x27;,\n",
       "                              ExtraTreesClassifier())])</pre><b>In a Jupyter environment, please rerun this cell to show the HTML representation or trust the notebook. <br />On GitHub, the HTML representation is unable to render, please try loading this page with nbviewer.org.</b></div><div class=\"sk-container\" hidden><div class=\"sk-item sk-dashed-wrapped\"><div class=\"sk-label-container\"><div class=\"sk-label sk-toggleable\"><input class=\"sk-toggleable__control sk-hidden--visually\" id=\"sk-estimator-id-7\" type=\"checkbox\" ><label for=\"sk-estimator-id-7\" class=\"sk-toggleable__label sk-toggleable__label-arrow\">VotingClassifier</label><div class=\"sk-toggleable__content\"><pre>VotingClassifier(estimators=[(&#x27;Decision Tree&#x27;, DecisionTreeClassifier()),\n",
       "                             (&#x27;Random Forest&#x27;,\n",
       "                              RandomForestClassifier(criterion=&#x27;entropy&#x27;,\n",
       "                                                     max_depth=6,\n",
       "                                                     min_samples_split=3,\n",
       "                                                     n_estimators=50)),\n",
       "                             (&#x27;Gradient Boosting Classifier&#x27;,\n",
       "                              GradientBoostingClassifier()),\n",
       "                             (&#x27;SGB&#x27;,\n",
       "                              GradientBoostingClassifier(max_features=0.7,\n",
       "                                                         subsample=0.9)),\n",
       "                             (&#x27;Cat Boost&#x27;,\n",
       "                              &lt;catboost.core.CatBoostClassifier object at 0x7fbfaff488b0&gt;),\n",
       "                             (&#x27;Extra Trees Classifier&#x27;,\n",
       "                              ExtraTreesClassifier())])</pre></div></div></div><div class=\"sk-parallel\"><div class=\"sk-parallel-item\"><div class=\"sk-item\"><div class=\"sk-label-container\"><div class=\"sk-label sk-toggleable\"><label>Decision Tree</label></div></div><div class=\"sk-serial\"><div class=\"sk-item\"><div class=\"sk-estimator sk-toggleable\"><input class=\"sk-toggleable__control sk-hidden--visually\" id=\"sk-estimator-id-8\" type=\"checkbox\" ><label for=\"sk-estimator-id-8\" class=\"sk-toggleable__label sk-toggleable__label-arrow\">DecisionTreeClassifier</label><div class=\"sk-toggleable__content\"><pre>DecisionTreeClassifier()</pre></div></div></div></div></div></div><div class=\"sk-parallel-item\"><div class=\"sk-item\"><div class=\"sk-label-container\"><div class=\"sk-label sk-toggleable\"><label>Random Forest</label></div></div><div class=\"sk-serial\"><div class=\"sk-item\"><div class=\"sk-estimator sk-toggleable\"><input class=\"sk-toggleable__control sk-hidden--visually\" id=\"sk-estimator-id-9\" type=\"checkbox\" ><label for=\"sk-estimator-id-9\" class=\"sk-toggleable__label sk-toggleable__label-arrow\">RandomForestClassifier</label><div class=\"sk-toggleable__content\"><pre>RandomForestClassifier(criterion=&#x27;entropy&#x27;, max_depth=6, min_samples_split=3,\n",
       "                       n_estimators=50)</pre></div></div></div></div></div></div><div class=\"sk-parallel-item\"><div class=\"sk-item\"><div class=\"sk-label-container\"><div class=\"sk-label sk-toggleable\"><label>Gradient Boosting Classifier</label></div></div><div class=\"sk-serial\"><div class=\"sk-item\"><div class=\"sk-estimator sk-toggleable\"><input class=\"sk-toggleable__control sk-hidden--visually\" id=\"sk-estimator-id-10\" type=\"checkbox\" ><label for=\"sk-estimator-id-10\" class=\"sk-toggleable__label sk-toggleable__label-arrow\">GradientBoostingClassifier</label><div class=\"sk-toggleable__content\"><pre>GradientBoostingClassifier()</pre></div></div></div></div></div></div><div class=\"sk-parallel-item\"><div class=\"sk-item\"><div class=\"sk-label-container\"><div class=\"sk-label sk-toggleable\"><label>SGB</label></div></div><div class=\"sk-serial\"><div class=\"sk-item\"><div class=\"sk-estimator sk-toggleable\"><input class=\"sk-toggleable__control sk-hidden--visually\" id=\"sk-estimator-id-11\" type=\"checkbox\" ><label for=\"sk-estimator-id-11\" class=\"sk-toggleable__label sk-toggleable__label-arrow\">GradientBoostingClassifier</label><div class=\"sk-toggleable__content\"><pre>GradientBoostingClassifier(max_features=0.7, subsample=0.9)</pre></div></div></div></div></div></div><div class=\"sk-parallel-item\"><div class=\"sk-item\"><div class=\"sk-label-container\"><div class=\"sk-label sk-toggleable\"><label>Cat Boost</label></div></div><div class=\"sk-serial\"><div class=\"sk-item\"><div class=\"sk-estimator sk-toggleable\"><input class=\"sk-toggleable__control sk-hidden--visually\" id=\"sk-estimator-id-12\" type=\"checkbox\" ><label for=\"sk-estimator-id-12\" class=\"sk-toggleable__label sk-toggleable__label-arrow\">CatBoostClassifier</label><div class=\"sk-toggleable__content\"><pre>&lt;catboost.core.CatBoostClassifier object at 0x7fbfaff488b0&gt;</pre></div></div></div></div></div></div><div class=\"sk-parallel-item\"><div class=\"sk-item\"><div class=\"sk-label-container\"><div class=\"sk-label sk-toggleable\"><label>Extra Trees Classifier</label></div></div><div class=\"sk-serial\"><div class=\"sk-item\"><div class=\"sk-estimator sk-toggleable\"><input class=\"sk-toggleable__control sk-hidden--visually\" id=\"sk-estimator-id-13\" type=\"checkbox\" ><label for=\"sk-estimator-id-13\" class=\"sk-toggleable__label sk-toggleable__label-arrow\">ExtraTreesClassifier</label><div class=\"sk-toggleable__content\"><pre>ExtraTreesClassifier()</pre></div></div></div></div></div></div></div></div></div></div>"
      ],
      "text/plain": [
       "VotingClassifier(estimators=[('Decision Tree', DecisionTreeClassifier()),\n",
       "                             ('Random Forest',\n",
       "                              RandomForestClassifier(criterion='entropy',\n",
       "                                                     max_depth=6,\n",
       "                                                     min_samples_split=3,\n",
       "                                                     n_estimators=50)),\n",
       "                             ('Gradient Boosting Classifier',\n",
       "                              GradientBoostingClassifier()),\n",
       "                             ('SGB',\n",
       "                              GradientBoostingClassifier(max_features=0.7,\n",
       "                                                         subsample=0.9)),\n",
       "                             ('Cat Boost',\n",
       "                              <catboost.core.CatBoostClassifier object at 0x7fbfaff488b0>),\n",
       "                             ('Extra Trees Classifier',\n",
       "                              ExtraTreesClassifier())])"
      ]
     },
     "execution_count": 59,
     "metadata": {},
     "output_type": "execute_result"
    }
   ],
   "source": [
    "# Voting Classifier\n",
    "classifiers = [ ('Decision Tree', dtc), ('Random Forest', rand_clf),\n",
    "                ('Gradient Boosting Classifier', gb), ('SGB', sgb),\n",
    "               ('Cat Boost', cat), ('Extra Trees Classifier', etc)]\n",
    "\n",
    "vc = VotingClassifier(estimators = classifiers)\n",
    "vc.fit(X_train, y_train)"
   ]
  },
  {
   "cell_type": "code",
   "execution_count": 60,
   "id": "2b36aff3",
   "metadata": {},
   "outputs": [],
   "source": [
    "y_pred = vc.predict(X_test)"
   ]
  },
  {
   "cell_type": "code",
   "execution_count": 61,
   "id": "e38d5552",
   "metadata": {},
   "outputs": [
    {
     "name": "stdout",
     "output_type": "stream",
     "text": [
      "Training accuracy of Voting Classifier is : 0.8528725426584253\n",
      "Test accuracy of Voting Classifier is : 0.851657076510663\n",
      "[[   10  8688]\n",
      " [    0 49869]]\n",
      "                   precision    recall  f1-score   support\n",
      "\n",
      "   Fraud Reported       1.00      0.00      0.00      8698\n",
      "No Fraud Reported       0.85      1.00      0.92     49869\n",
      "\n",
      "         accuracy                           0.85     58567\n",
      "        macro avg       0.93      0.50      0.46     58567\n",
      "     weighted avg       0.87      0.85      0.78     58567\n",
      "\n"
     ]
    }
   ],
   "source": [
    "vc_train_acc = accuracy_score(y_train, vc.predict(X_train))\n",
    "vc_test_acc = accuracy_score(y_test, y_pred)\n",
    "\n",
    "print(f\"Training accuracy of Voting Classifier is : {vc_train_acc}\")\n",
    "print(f\"Test accuracy of Voting Classifier is : {vc_test_acc}\")\n",
    "\n",
    "print(confusion_matrix(y_test, y_pred))\n",
    "print(classification_report(y_test, y_pred))"
   ]
  },
  {
   "cell_type": "markdown",
   "id": "4ed7e687",
   "metadata": {},
   "source": [
    "# Model evaluation"
   ]
  },
  {
   "cell_type": "code",
   "execution_count": 62,
   "id": "51574440",
   "metadata": {},
   "outputs": [
    {
     "data": {
      "text/html": [
       "<div>\n",
       "<style scoped>\n",
       "    .dataframe tbody tr th:only-of-type {\n",
       "        vertical-align: middle;\n",
       "    }\n",
       "\n",
       "    .dataframe tbody tr th {\n",
       "        vertical-align: top;\n",
       "    }\n",
       "\n",
       "    .dataframe thead th {\n",
       "        text-align: right;\n",
       "    }\n",
       "</style>\n",
       "<table border=\"1\" class=\"dataframe\">\n",
       "  <thead>\n",
       "    <tr style=\"text-align: right;\">\n",
       "      <th></th>\n",
       "      <th>Model</th>\n",
       "      <th>Score</th>\n",
       "    </tr>\n",
       "  </thead>\n",
       "  <tbody>\n",
       "    <tr>\n",
       "      <th>5</th>\n",
       "      <td>Extra Trees</td>\n",
       "      <td>0.996944</td>\n",
       "    </tr>\n",
       "    <tr>\n",
       "      <th>0</th>\n",
       "      <td>Decision Tree</td>\n",
       "      <td>0.994024</td>\n",
       "    </tr>\n",
       "    <tr>\n",
       "      <th>6</th>\n",
       "      <td>Voting Classifier</td>\n",
       "      <td>0.851657</td>\n",
       "    </tr>\n",
       "    <tr>\n",
       "      <th>2</th>\n",
       "      <td>Gradient Boost</td>\n",
       "      <td>0.851606</td>\n",
       "    </tr>\n",
       "    <tr>\n",
       "      <th>3</th>\n",
       "      <td>SGB</td>\n",
       "      <td>0.851538</td>\n",
       "    </tr>\n",
       "    <tr>\n",
       "      <th>1</th>\n",
       "      <td>Random Forest</td>\n",
       "      <td>0.851486</td>\n",
       "    </tr>\n",
       "    <tr>\n",
       "      <th>4</th>\n",
       "      <td>Cat Boost</td>\n",
       "      <td>0.851486</td>\n",
       "    </tr>\n",
       "  </tbody>\n",
       "</table>\n",
       "</div>"
      ],
      "text/plain": [
       "               Model     Score\n",
       "5        Extra Trees  0.996944\n",
       "0      Decision Tree  0.994024\n",
       "6  Voting Classifier  0.851657\n",
       "2     Gradient Boost  0.851606\n",
       "3                SGB  0.851538\n",
       "1      Random Forest  0.851486\n",
       "4          Cat Boost  0.851486"
      ]
     },
     "execution_count": 62,
     "metadata": {},
     "output_type": "execute_result"
    }
   ],
   "source": [
    "models = pd.DataFrame({\n",
    "    'Model' : ['Decision Tree', 'Random Forest' ,'Gradient Boost', 'SGB', 'Cat Boost', 'Extra Trees', 'Voting Classifier'],\n",
    "    'Score' : [dtc_test_acc, rand_clf_test_acc, gb_acc, sgb_acc, cat_acc, etc_acc,  vc_test_acc]\n",
    "})\n",
    "\n",
    "\n",
    "models.sort_values(by = 'Score', ascending = False)"
   ]
  }
 ],
 "metadata": {
  "kernelspec": {
   "display_name": "Python 3 (ipykernel)",
   "language": "python",
   "name": "python3"
  },
  "language_info": {
   "codemirror_mode": {
    "name": "ipython",
    "version": 3
   },
   "file_extension": ".py",
   "mimetype": "text/x-python",
   "name": "python",
   "nbconvert_exporter": "python",
   "pygments_lexer": "ipython3",
   "version": "3.9.19"
  }
 },
 "nbformat": 4,
 "nbformat_minor": 5
}
