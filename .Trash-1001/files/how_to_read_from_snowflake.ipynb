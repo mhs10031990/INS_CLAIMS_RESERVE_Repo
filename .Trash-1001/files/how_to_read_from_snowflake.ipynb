{
 "cells": [
  {
   "cell_type": "markdown",
   "id": "632503b3",
   "metadata": {},
   "source": [
    "# Use Insurance Code Template Notebook template"
   ]
  },
  {
   "cell_type": "markdown",
   "id": "614d8e24",
   "metadata": {},
   "source": [
    "### Packages needed to run this notebook if running with inbuilt snowpark 3.8 template\n",
    "##### !pip install --q \"snowflake-connector-python[pandas]\"\n",
    "##### !sudo pip install --q  snowflake-ml-python==1.0.11 -U\n",
    "##### !pip install --upgrade --q snowflake-snowpark-python==1.9.0\n",
    "##### !pip install --upgrade --q numpy==1.24.3\n",
    "##### !pip install --upgrade --q pandas==1.5.3\n",
    "##### !pip install fosforio"
   ]
  },
  {
   "cell_type": "code",
   "execution_count": 2,
   "id": "4871a0ed",
   "metadata": {},
   "outputs": [],
   "source": [
    "#Snowpark lib\n",
    "from snowflake.snowpark import Session\n",
    "\n",
    "# Data Science Libs\n",
    "import numpy as np\n",
    "import pandas as pd\n",
    "\n",
    "# create_temp_table warning suppresion\n",
    "import warnings; warnings.simplefilter('ignore')\n",
    "\n",
    "#ConfigParser to read ini file\n",
    "import configparser"
   ]
  },
  {
   "cell_type": "markdown",
   "id": "c59822ac",
   "metadata": {},
   "source": [
    "# How to use Notebook Variables declared in customized template"
   ]
  },
  {
   "cell_type": "code",
   "execution_count": 2,
   "id": "488e8de0",
   "metadata": {},
   "outputs": [
    {
     "name": "stdout",
     "output_type": "stream",
     "text": [
      "PrPr\n"
     ]
    }
   ],
   "source": [
    "import os\n",
    "print (os.getenv('notebook_environment'))"
   ]
  },
  {
   "cell_type": "code",
   "execution_count": 3,
   "id": "b518662d",
   "metadata": {
    "scrolled": true
   },
   "outputs": [
    {
     "name": "stdout",
     "output_type": "stream",
     "text": [
      "insurance_claims\n"
     ]
    }
   ],
   "source": [
    "print (os.getenv('notebook_template'))"
   ]
  },
  {
   "cell_type": "markdown",
   "id": "70ec341a",
   "metadata": {},
   "source": [
    "# How to use Project Parameters declared under Notebooks section"
   ]
  },
  {
   "cell_type": "code",
   "execution_count": 4,
   "id": "5e3246d4",
   "metadata": {},
   "outputs": [
    {
     "name": "stdout",
     "output_type": "stream",
     "text": [
      "ug94937.us-east4.gcp\n"
     ]
    }
   ],
   "source": [
    "print (os.getenv('Snowflake_Account'))"
   ]
  },
  {
   "cell_type": "code",
   "execution_count": 7,
   "id": "d92394d7",
   "metadata": {},
   "outputs": [
    {
     "name": "stdout",
     "output_type": "stream",
     "text": [
      "MANISH\n"
     ]
    }
   ],
   "source": [
    "print (os.getenv('Snowflake_user'))"
   ]
  },
  {
   "cell_type": "markdown",
   "id": "b1aaba03",
   "metadata": {},
   "source": [
    "# Different ways to achieve Snowflake Connection"
   ]
  },
  {
   "cell_type": "markdown",
   "id": "6c5f49da",
   "metadata": {},
   "source": [
    "## 1. Code to establish connection using Config Parser and .ini file"
   ]
  },
  {
   "cell_type": "code",
   "execution_count": 8,
   "id": "8a5fa270",
   "metadata": {},
   "outputs": [
    {
     "data": {
      "text/plain": [
       "['snowflake_connection.ini']"
      ]
     },
     "execution_count": 8,
     "metadata": {},
     "output_type": "execute_result"
    }
   ],
   "source": [
    "config = configparser.ConfigParser()\n",
    "config.read(\"/config/snowflake_connection.ini\")"
   ]
  },
  {
   "cell_type": "code",
   "execution_count": 9,
   "id": "d933cdd5",
   "metadata": {},
   "outputs": [],
   "source": [
    "connection_parameters = {\n",
    "    \"user\": f'{config[\"Snowflake\"][\"user\"]}',\n",
    "    \"password\": os.getenv('Snowflake_password'),\n",
    "    \"account\": f'{config[\"Snowflake\"][\"account\"]}',\n",
    "    \"WAREHOUSE\": f'{config[\"Snowflake\"][\"WAREHOUSE\"]}',\n",
    "    \"DATABASE\": f'{config[\"Snowflake\"][\"DATABASE\"]}',\n",
    "    \"SCHEMA\": f'{config[\"Snowflake\"][\"SCHEMA\"]}'\n",
    "}"
   ]
  },
  {
   "cell_type": "code",
   "execution_count": 10,
   "id": "18e767bd",
   "metadata": {},
   "outputs": [
    {
     "name": "stdout",
     "output_type": "stream",
     "text": [
      "connection successful!\n"
     ]
    }
   ],
   "source": [
    "def snowflake_connector(conn):\n",
    "    try:\n",
    "        session = Session.builder.configs(conn).create()\n",
    "        print(\"connection successful!\")\n",
    "    except:\n",
    "        raise ValueError(\"error while connecting with db\")\n",
    "    return session\n",
    "\n",
    "session = snowflake_connector(connection_parameters)"
   ]
  },
  {
   "cell_type": "code",
   "execution_count": 11,
   "id": "c19cce94",
   "metadata": {},
   "outputs": [],
   "source": [
    "df = session.table(\"AUTO_INSURANCE_CLAIMS_DATA_PRODUCT\")"
   ]
  },
  {
   "cell_type": "code",
   "execution_count": 14,
   "id": "3af9c5da",
   "metadata": {},
   "outputs": [],
   "source": [
    "df = df.to_pandas()"
   ]
  },
  {
   "cell_type": "code",
   "execution_count": 15,
   "id": "e8617158",
   "metadata": {
    "scrolled": true
   },
   "outputs": [
    {
     "data": {
      "text/html": [
       "<div>\n",
       "<style scoped>\n",
       "    .dataframe tbody tr th:only-of-type {\n",
       "        vertical-align: middle;\n",
       "    }\n",
       "\n",
       "    .dataframe tbody tr th {\n",
       "        vertical-align: top;\n",
       "    }\n",
       "\n",
       "    .dataframe thead th {\n",
       "        text-align: right;\n",
       "    }\n",
       "</style>\n",
       "<table border=\"1\" class=\"dataframe\">\n",
       "  <thead>\n",
       "    <tr style=\"text-align: right;\">\n",
       "      <th></th>\n",
       "      <th>MONTHS_AS_CUSTOMER</th>\n",
       "      <th>CUSTOMER_AGE</th>\n",
       "      <th>POLICY_NUMBER</th>\n",
       "      <th>POLICY_BIND_DATE</th>\n",
       "      <th>POLICY_STATE</th>\n",
       "      <th>POLICY_CSL</th>\n",
       "      <th>POLICY_DEDUCTABLE</th>\n",
       "      <th>POLICY_ANNUAL_PREMIUM</th>\n",
       "      <th>UMBRELLA_LIMIT</th>\n",
       "      <th>INSURED_ZIP</th>\n",
       "      <th>...</th>\n",
       "      <th>WITNESSES</th>\n",
       "      <th>POLICE_REPORT_AVAILABLE</th>\n",
       "      <th>TOTAL_CLAIM_AMOUNT_PAID</th>\n",
       "      <th>INJURY_CLAIM</th>\n",
       "      <th>PROPERTY_CLAIM</th>\n",
       "      <th>VEHICLE_CLAIM</th>\n",
       "      <th>AUTO_MAKE</th>\n",
       "      <th>AUTO_MODEL</th>\n",
       "      <th>AUTO_YEAR</th>\n",
       "      <th>FRAUD_REPORTED</th>\n",
       "    </tr>\n",
       "  </thead>\n",
       "  <tbody>\n",
       "    <tr>\n",
       "      <th>0</th>\n",
       "      <td>29</td>\n",
       "      <td>27</td>\n",
       "      <td>472151</td>\n",
       "      <td>18-01-2001</td>\n",
       "      <td>CT</td>\n",
       "      <td>500/1000</td>\n",
       "      <td>1509</td>\n",
       "      <td>2067</td>\n",
       "      <td>2857642</td>\n",
       "      <td>449557</td>\n",
       "      <td>...</td>\n",
       "      <td>1</td>\n",
       "      <td>Unknown</td>\n",
       "      <td>46044.0</td>\n",
       "      <td>7135.0</td>\n",
       "      <td>970.0</td>\n",
       "      <td>37939.0</td>\n",
       "      <td>Nissan</td>\n",
       "      <td>Maxima</td>\n",
       "      <td>1995</td>\n",
       "      <td>No Fraud Reported</td>\n",
       "    </tr>\n",
       "    <tr>\n",
       "      <th>1</th>\n",
       "      <td>216</td>\n",
       "      <td>69</td>\n",
       "      <td>471007</td>\n",
       "      <td>06-07-1994</td>\n",
       "      <td>CT</td>\n",
       "      <td>100/300</td>\n",
       "      <td>1004</td>\n",
       "      <td>1413</td>\n",
       "      <td>7240818</td>\n",
       "      <td>616583</td>\n",
       "      <td>...</td>\n",
       "      <td>1</td>\n",
       "      <td>Unknown</td>\n",
       "      <td>53886.0</td>\n",
       "      <td>4850.0</td>\n",
       "      <td>13105.0</td>\n",
       "      <td>35931.0</td>\n",
       "      <td>Nissan</td>\n",
       "      <td>Maxima</td>\n",
       "      <td>2002</td>\n",
       "      <td>No Fraud Reported</td>\n",
       "    </tr>\n",
       "    <tr>\n",
       "      <th>2</th>\n",
       "      <td>117</td>\n",
       "      <td>35</td>\n",
       "      <td>480178</td>\n",
       "      <td>31-07-1996</td>\n",
       "      <td>CT</td>\n",
       "      <td>250/500</td>\n",
       "      <td>1003</td>\n",
       "      <td>1222</td>\n",
       "      <td>5148266</td>\n",
       "      <td>607452</td>\n",
       "      <td>...</td>\n",
       "      <td>2</td>\n",
       "      <td>Police Report Available</td>\n",
       "      <td>68880.0</td>\n",
       "      <td>2209.0</td>\n",
       "      <td>1015.0</td>\n",
       "      <td>65656.0</td>\n",
       "      <td>Volkswagen</td>\n",
       "      <td>Jetta</td>\n",
       "      <td>1997</td>\n",
       "      <td>Fraud Reported</td>\n",
       "    </tr>\n",
       "    <tr>\n",
       "      <th>3</th>\n",
       "      <td>206</td>\n",
       "      <td>39</td>\n",
       "      <td>468335</td>\n",
       "      <td>05-12-2004</td>\n",
       "      <td>CT</td>\n",
       "      <td>100/300</td>\n",
       "      <td>2053</td>\n",
       "      <td>2332</td>\n",
       "      <td>7147877</td>\n",
       "      <td>613114</td>\n",
       "      <td>...</td>\n",
       "      <td>2</td>\n",
       "      <td>Police Report Available</td>\n",
       "      <td>75099.0</td>\n",
       "      <td>598.0</td>\n",
       "      <td>2868.0</td>\n",
       "      <td>71633.0</td>\n",
       "      <td>Chevrolet</td>\n",
       "      <td>Silverado</td>\n",
       "      <td>2008</td>\n",
       "      <td>No Fraud Reported</td>\n",
       "    </tr>\n",
       "    <tr>\n",
       "      <th>4</th>\n",
       "      <td>160</td>\n",
       "      <td>68</td>\n",
       "      <td>460308</td>\n",
       "      <td>01-05-1994</td>\n",
       "      <td>CT</td>\n",
       "      <td>250/500</td>\n",
       "      <td>1586</td>\n",
       "      <td>2033</td>\n",
       "      <td>4231365</td>\n",
       "      <td>441716</td>\n",
       "      <td>...</td>\n",
       "      <td>3</td>\n",
       "      <td>Police Report Available</td>\n",
       "      <td>29555.0</td>\n",
       "      <td>586.0</td>\n",
       "      <td>8219.0</td>\n",
       "      <td>20750.0</td>\n",
       "      <td>Chevrolet</td>\n",
       "      <td>Silverado</td>\n",
       "      <td>2001</td>\n",
       "      <td>No Fraud Reported</td>\n",
       "    </tr>\n",
       "  </tbody>\n",
       "</table>\n",
       "<p>5 rows × 40 columns</p>\n",
       "</div>"
      ],
      "text/plain": [
       "   MONTHS_AS_CUSTOMER CUSTOMER_AGE  POLICY_NUMBER POLICY_BIND_DATE   \n",
       "0                  29           27         472151       18-01-2001  \\\n",
       "1                 216           69         471007       06-07-1994   \n",
       "2                 117           35         480178       31-07-1996   \n",
       "3                 206           39         468335       05-12-2004   \n",
       "4                 160           68         460308       01-05-1994   \n",
       "\n",
       "  POLICY_STATE POLICY_CSL  POLICY_DEDUCTABLE  POLICY_ANNUAL_PREMIUM   \n",
       "0           CT   500/1000               1509                   2067  \\\n",
       "1           CT    100/300               1004                   1413   \n",
       "2           CT    250/500               1003                   1222   \n",
       "3           CT    100/300               2053                   2332   \n",
       "4           CT    250/500               1586                   2033   \n",
       "\n",
       "   UMBRELLA_LIMIT INSURED_ZIP  ... WITNESSES  POLICE_REPORT_AVAILABLE   \n",
       "0         2857642      449557  ...         1                  Unknown  \\\n",
       "1         7240818      616583  ...         1                  Unknown   \n",
       "2         5148266      607452  ...         2  Police Report Available   \n",
       "3         7147877      613114  ...         2  Police Report Available   \n",
       "4         4231365      441716  ...         3  Police Report Available   \n",
       "\n",
       "  TOTAL_CLAIM_AMOUNT_PAID INJURY_CLAIM PROPERTY_CLAIM  VEHICLE_CLAIM   \n",
       "0                 46044.0       7135.0          970.0        37939.0  \\\n",
       "1                 53886.0       4850.0        13105.0        35931.0   \n",
       "2                 68880.0       2209.0         1015.0        65656.0   \n",
       "3                 75099.0        598.0         2868.0        71633.0   \n",
       "4                 29555.0        586.0         8219.0        20750.0   \n",
       "\n",
       "    AUTO_MAKE AUTO_MODEL AUTO_YEAR     FRAUD_REPORTED  \n",
       "0      Nissan     Maxima      1995  No Fraud Reported  \n",
       "1      Nissan     Maxima      2002  No Fraud Reported  \n",
       "2  Volkswagen      Jetta      1997     Fraud Reported  \n",
       "3   Chevrolet  Silverado      2008  No Fraud Reported  \n",
       "4   Chevrolet  Silverado      2001  No Fraud Reported  \n",
       "\n",
       "[5 rows x 40 columns]"
      ]
     },
     "execution_count": 15,
     "metadata": {},
     "output_type": "execute_result"
    }
   ],
   "source": [
    "df.head()"
   ]
  },
  {
   "cell_type": "code",
   "execution_count": 16,
   "id": "4add7f39",
   "metadata": {},
   "outputs": [
    {
     "data": {
      "text/plain": [
       "(234265, 40)"
      ]
     },
     "execution_count": 16,
     "metadata": {},
     "output_type": "execute_result"
    }
   ],
   "source": [
    "df.shape"
   ]
  },
  {
   "cell_type": "markdown",
   "id": "b7b890d6",
   "metadata": {},
   "source": [
    "# 2 Using Inbuilt FosforIO package"
   ]
  },
  {
   "cell_type": "code",
   "execution_count": 18,
   "id": "6bdd46a1",
   "metadata": {},
   "outputs": [
    {
     "name": "stdout",
     "output_type": "stream",
     "text": [
      "Connection manager service url initialised to http://fdc-project-manager:80/project-manager\n",
      "If you need to update its value then update the variable CONNECTION_MANAGER_BASE_URL in os env.\n"
     ]
    }
   ],
   "source": [
    "from fosforio import snowflake"
   ]
  },
  {
   "cell_type": "code",
   "execution_count": 19,
   "id": "4e4447aa",
   "metadata": {},
   "outputs": [
    {
     "name": "stdout",
     "output_type": "stream",
     "text": [
      "User name picked from OS env: manishh.singh@fosfor.com\n",
      "Fetching connections created by manishh.singh@fosfor.com user\n",
      "Connection names fetched ['FDC_SNOWFLAKE', 'FDC_SNOWFLAKE', 'FDC_SNOWFLAKE', 'FDC_Insurance_Snowflake'], created by manishh.singh@fosfor.com\n",
      "Exception occurred in getting snowflake connection: 'connectionSources'\n"
     ]
    }
   ],
   "source": [
    "# To get snowflake connection object with a default snowflake connection created by the user, if available.\n",
    "snowflake.get_connection()\n",
    "\n",
    "# To get snowflake connection object with a specific connection name\n",
    "#snowflake.get_connection(connection_name=\"FDC_Insurance_Snowflake\")"
   ]
  },
  {
   "cell_type": "code",
   "execution_count": 21,
   "id": "1c44083b",
   "metadata": {},
   "outputs": [],
   "source": [
    "# To read a specific dataset published from a snowflake connection\n",
    "df = snowflake.get_dataframe(\"ILF_STG_HARMONIZE_AI_CLAIMS\")"
   ]
  },
  {
   "cell_type": "code",
   "execution_count": 22,
   "id": "3a276ff8",
   "metadata": {},
   "outputs": [
    {
     "data": {
      "text/html": [
       "<div>\n",
       "<style scoped>\n",
       "    .dataframe tbody tr th:only-of-type {\n",
       "        vertical-align: middle;\n",
       "    }\n",
       "\n",
       "    .dataframe tbody tr th {\n",
       "        vertical-align: top;\n",
       "    }\n",
       "\n",
       "    .dataframe thead th {\n",
       "        text-align: right;\n",
       "    }\n",
       "</style>\n",
       "<table border=\"1\" class=\"dataframe\">\n",
       "  <thead>\n",
       "    <tr style=\"text-align: right;\">\n",
       "      <th></th>\n",
       "      <th>CREATED_BY</th>\n",
       "      <th>PROPERTY_CLAIM</th>\n",
       "      <th>VEHICLE_CLAIM</th>\n",
       "      <th>TOTAL_CLAIM_AMOUNT_PAID</th>\n",
       "      <th>INCIDENT_ID</th>\n",
       "      <th>CLAIM_ID</th>\n",
       "      <th>INJURY_CLAIM</th>\n",
       "      <th>POLICY_ID</th>\n",
       "      <th>CREATED_AT</th>\n",
       "      <th>FRAUD_REPORTED</th>\n",
       "      <th>...</th>\n",
       "      <th>AUTO_MODEL</th>\n",
       "      <th>AUTO_MFG_YEAR</th>\n",
       "      <th>Found</th>\n",
       "      <th>CUSTOMER_MASTER_SEX</th>\n",
       "      <th>CUSTOMER_MASTER_OCCUPATION</th>\n",
       "      <th>CUSTOMER_MASTER_AGE</th>\n",
       "      <th>CUSTOMER_MASTER_EDUCATION_LEVEL</th>\n",
       "      <th>CUSTOMER_MASTER_REGISTRATION_DATE</th>\n",
       "      <th>CUSTOMER_MASTER_HOBBIES</th>\n",
       "      <th>CUSTOMER_MASTER_ZIP_CODE</th>\n",
       "    </tr>\n",
       "  </thead>\n",
       "  <tbody>\n",
       "    <tr>\n",
       "      <th>0</th>\n",
       "      <td>FDC_User</td>\n",
       "      <td>21189</td>\n",
       "      <td>35217</td>\n",
       "      <td>66003</td>\n",
       "      <td>95dc6106-df0d-4fd4-8b95-7ad79be7d21d</td>\n",
       "      <td>20dfaca1-f7fa-48df-8df3-12e13b0471d8</td>\n",
       "      <td>9597</td>\n",
       "      <td>c9caf65c-1df5-48f9-865e-b02d47301db9</td>\n",
       "      <td>2024-05-20 22:32:16.652</td>\n",
       "      <td>No Fraud Reported</td>\n",
       "      <td>...</td>\n",
       "      <td>Ultima</td>\n",
       "      <td>2014</td>\n",
       "      <td>Y</td>\n",
       "      <td>FEMALE</td>\n",
       "      <td>other-service</td>\n",
       "      <td>38</td>\n",
       "      <td>Masters</td>\n",
       "      <td>2010-10-12</td>\n",
       "      <td>dancing</td>\n",
       "      <td>461275</td>\n",
       "    </tr>\n",
       "    <tr>\n",
       "      <th>1</th>\n",
       "      <td>FDC_User</td>\n",
       "      <td>21189</td>\n",
       "      <td>35217</td>\n",
       "      <td>66003</td>\n",
       "      <td>95dc6106-df0d-4fd4-8b95-7ad79be7d21d</td>\n",
       "      <td>597PNC20dfaca1-f7fa-48df-8df3-12e13b</td>\n",
       "      <td>9597</td>\n",
       "      <td>c9caf65c-1df5-48f9-865e-b02d47301db9</td>\n",
       "      <td>2024-05-20 22:32:16.652</td>\n",
       "      <td>No Fraud Reported</td>\n",
       "      <td>...</td>\n",
       "      <td>Ultima</td>\n",
       "      <td>2014</td>\n",
       "      <td>Y</td>\n",
       "      <td>FEMALE</td>\n",
       "      <td>other-service</td>\n",
       "      <td>38</td>\n",
       "      <td>Masters</td>\n",
       "      <td>2010-10-12</td>\n",
       "      <td>dancing</td>\n",
       "      <td>461275</td>\n",
       "    </tr>\n",
       "    <tr>\n",
       "      <th>2</th>\n",
       "      <td>FDC_User</td>\n",
       "      <td>21189</td>\n",
       "      <td>35217</td>\n",
       "      <td>66003</td>\n",
       "      <td>95dc6106-df0d-4fd4-8b95-7ad79be7d21d</td>\n",
       "      <td>293PNC20dfaca1-f7fa-48df-8df3-12e13b</td>\n",
       "      <td>9597</td>\n",
       "      <td>c9caf65c-1df5-48f9-865e-b02d47301db9</td>\n",
       "      <td>2024-05-20 22:32:16.652</td>\n",
       "      <td>No Fraud Reported</td>\n",
       "      <td>...</td>\n",
       "      <td>Ultima</td>\n",
       "      <td>2014</td>\n",
       "      <td>Y</td>\n",
       "      <td>FEMALE</td>\n",
       "      <td>other-service</td>\n",
       "      <td>38</td>\n",
       "      <td>Masters</td>\n",
       "      <td>2010-10-12</td>\n",
       "      <td>dancing</td>\n",
       "      <td>461275</td>\n",
       "    </tr>\n",
       "    <tr>\n",
       "      <th>3</th>\n",
       "      <td>FDC_User</td>\n",
       "      <td>21189</td>\n",
       "      <td>35217</td>\n",
       "      <td>66003</td>\n",
       "      <td>95dc6106-df0d-4fd4-8b95-7ad79be7d21d</td>\n",
       "      <td>PNC20dfaca1-f7fa-48df-8df3-12e13b047</td>\n",
       "      <td>9597</td>\n",
       "      <td>c9caf65c-1df5-48f9-865e-b02d47301db9</td>\n",
       "      <td>2024-05-20 22:32:16.652</td>\n",
       "      <td>No Fraud Reported</td>\n",
       "      <td>...</td>\n",
       "      <td>Ultima</td>\n",
       "      <td>2014</td>\n",
       "      <td>Y</td>\n",
       "      <td>FEMALE</td>\n",
       "      <td>other-service</td>\n",
       "      <td>38</td>\n",
       "      <td>Masters</td>\n",
       "      <td>2010-10-12</td>\n",
       "      <td>dancing</td>\n",
       "      <td>461275</td>\n",
       "    </tr>\n",
       "    <tr>\n",
       "      <th>4</th>\n",
       "      <td>FDC_User</td>\n",
       "      <td>791</td>\n",
       "      <td>71720</td>\n",
       "      <td>94233</td>\n",
       "      <td>731ee899-ee0d-4a77-901f-6703fd530c22</td>\n",
       "      <td>bba38dd3-0d3c-42a1-bfe3-b8e79f720e27</td>\n",
       "      <td>21722</td>\n",
       "      <td>f0ff57dc-a8ba-4f45-b484-21138630fd61</td>\n",
       "      <td>2024-05-20 22:32:16.652</td>\n",
       "      <td>No Fraud Reported</td>\n",
       "      <td>...</td>\n",
       "      <td>Silverado</td>\n",
       "      <td>2013</td>\n",
       "      <td>Y</td>\n",
       "      <td>FEMALE</td>\n",
       "      <td>machine-op-inspct</td>\n",
       "      <td>20</td>\n",
       "      <td>Associate</td>\n",
       "      <td>2020-08-12</td>\n",
       "      <td>base-jumping</td>\n",
       "      <td>431937</td>\n",
       "    </tr>\n",
       "  </tbody>\n",
       "</table>\n",
       "<p>5 rows × 45 columns</p>\n",
       "</div>"
      ],
      "text/plain": [
       "  CREATED_BY  PROPERTY_CLAIM  VEHICLE_CLAIM  TOTAL_CLAIM_AMOUNT_PAID   \n",
       "0   FDC_User           21189          35217                    66003  \\\n",
       "1   FDC_User           21189          35217                    66003   \n",
       "2   FDC_User           21189          35217                    66003   \n",
       "3   FDC_User           21189          35217                    66003   \n",
       "4   FDC_User             791          71720                    94233   \n",
       "\n",
       "                            INCIDENT_ID                              CLAIM_ID   \n",
       "0  95dc6106-df0d-4fd4-8b95-7ad79be7d21d  20dfaca1-f7fa-48df-8df3-12e13b0471d8  \\\n",
       "1  95dc6106-df0d-4fd4-8b95-7ad79be7d21d  597PNC20dfaca1-f7fa-48df-8df3-12e13b   \n",
       "2  95dc6106-df0d-4fd4-8b95-7ad79be7d21d  293PNC20dfaca1-f7fa-48df-8df3-12e13b   \n",
       "3  95dc6106-df0d-4fd4-8b95-7ad79be7d21d  PNC20dfaca1-f7fa-48df-8df3-12e13b047   \n",
       "4  731ee899-ee0d-4a77-901f-6703fd530c22  bba38dd3-0d3c-42a1-bfe3-b8e79f720e27   \n",
       "\n",
       "   INJURY_CLAIM                             POLICY_ID              CREATED_AT   \n",
       "0          9597  c9caf65c-1df5-48f9-865e-b02d47301db9 2024-05-20 22:32:16.652  \\\n",
       "1          9597  c9caf65c-1df5-48f9-865e-b02d47301db9 2024-05-20 22:32:16.652   \n",
       "2          9597  c9caf65c-1df5-48f9-865e-b02d47301db9 2024-05-20 22:32:16.652   \n",
       "3          9597  c9caf65c-1df5-48f9-865e-b02d47301db9 2024-05-20 22:32:16.652   \n",
       "4         21722  f0ff57dc-a8ba-4f45-b484-21138630fd61 2024-05-20 22:32:16.652   \n",
       "\n",
       "      FRAUD_REPORTED  ... AUTO_MODEL AUTO_MFG_YEAR Found  CUSTOMER_MASTER_SEX   \n",
       "0  No Fraud Reported  ...     Ultima          2014     Y               FEMALE  \\\n",
       "1  No Fraud Reported  ...     Ultima          2014     Y               FEMALE   \n",
       "2  No Fraud Reported  ...     Ultima          2014     Y               FEMALE   \n",
       "3  No Fraud Reported  ...     Ultima          2014     Y               FEMALE   \n",
       "4  No Fraud Reported  ...  Silverado          2013     Y               FEMALE   \n",
       "\n",
       "  CUSTOMER_MASTER_OCCUPATION CUSTOMER_MASTER_AGE   \n",
       "0              other-service                  38  \\\n",
       "1              other-service                  38   \n",
       "2              other-service                  38   \n",
       "3              other-service                  38   \n",
       "4          machine-op-inspct                  20   \n",
       "\n",
       "   CUSTOMER_MASTER_EDUCATION_LEVEL CUSTOMER_MASTER_REGISTRATION_DATE   \n",
       "0                          Masters                        2010-10-12  \\\n",
       "1                          Masters                        2010-10-12   \n",
       "2                          Masters                        2010-10-12   \n",
       "3                          Masters                        2010-10-12   \n",
       "4                        Associate                        2020-08-12   \n",
       "\n",
       "  CUSTOMER_MASTER_HOBBIES CUSTOMER_MASTER_ZIP_CODE  \n",
       "0                 dancing                   461275  \n",
       "1                 dancing                   461275  \n",
       "2                 dancing                   461275  \n",
       "3                 dancing                   461275  \n",
       "4            base-jumping                   431937  \n",
       "\n",
       "[5 rows x 45 columns]"
      ]
     },
     "execution_count": 22,
     "metadata": {},
     "output_type": "execute_result"
    }
   ],
   "source": [
    "df.head()"
   ]
  },
  {
   "cell_type": "markdown",
   "id": "0c921177",
   "metadata": {},
   "source": [
    "# 3 Using Snowflake Snowpark"
   ]
  },
  {
   "cell_type": "code",
   "execution_count": 23,
   "id": "0d2beeeb",
   "metadata": {},
   "outputs": [],
   "source": [
    "#Import all snowflake connection details from Template or Project variables.\n",
    "\n",
    "db_user = os.getenv('Snowflake_user')\n",
    "db_password =  os.getenv('Snowflake_password')\n",
    "db_account = os.getenv('Snowflake_Account')\n",
    "db_database =  os.getenv('Snowflake_Database')\n",
    "db_role = os.getenv('Snowflake_user')\n",
    "db_warehouse = os.getenv('Snowflake_Warehouse')\n",
    "db_schema = os.getenv('Snowflake_Schema')"
   ]
  },
  {
   "cell_type": "code",
   "execution_count": 24,
   "id": "7514813d",
   "metadata": {},
   "outputs": [],
   "source": [
    "from snowflake.snowpark.session import Session\n",
    "connection_params = {\n",
    "    'user': db_user,\n",
    "    'password': db_password,\n",
    "    'account': db_account,\n",
    "    'warehouse': db_warehouse,\n",
    "    'database': db_database,\n",
    "    'schema': db_schema,\n",
    "    'role': db_role\n",
    "}\n",
    "session = Session.builder.configs(connection_params).create()"
   ]
  },
  {
   "cell_type": "code",
   "execution_count": 25,
   "id": "d3d71a2a",
   "metadata": {},
   "outputs": [],
   "source": [
    "session.sql('use warehouse FOSFOR_SOLUTIONS_WH;').collect()\n",
    "session.sql('use database FDC_Insurance;').collect()\n",
    "session.sql('use schema FDC_Insurance.PUBLIC;').collect()\n",
    "\n",
    "df_customer = session.table('FDC_Insurance.PUBLIC.CUSTOMER_MASTER').to_pandas()"
   ]
  },
  {
   "cell_type": "code",
   "execution_count": 26,
   "id": "732702db",
   "metadata": {},
   "outputs": [
    {
     "data": {
      "text/html": [
       "<div>\n",
       "<style scoped>\n",
       "    .dataframe tbody tr th:only-of-type {\n",
       "        vertical-align: middle;\n",
       "    }\n",
       "\n",
       "    .dataframe tbody tr th {\n",
       "        vertical-align: top;\n",
       "    }\n",
       "\n",
       "    .dataframe thead th {\n",
       "        text-align: right;\n",
       "    }\n",
       "</style>\n",
       "<table border=\"1\" class=\"dataframe\">\n",
       "  <thead>\n",
       "    <tr style=\"text-align: right;\">\n",
       "      <th></th>\n",
       "      <th>CREATED_BY</th>\n",
       "      <th>SEX</th>\n",
       "      <th>AGE</th>\n",
       "      <th>CUSTOMER_ID</th>\n",
       "      <th>OCCUPATION</th>\n",
       "      <th>EDUCATION_LEVEL</th>\n",
       "      <th>REGISTRATION_DATE</th>\n",
       "      <th>CREATED_AT</th>\n",
       "      <th>HOBBIES</th>\n",
       "      <th>ZIP_CODE</th>\n",
       "    </tr>\n",
       "  </thead>\n",
       "  <tbody>\n",
       "    <tr>\n",
       "      <th>0</th>\n",
       "      <td>FDC_User</td>\n",
       "      <td>FEMALE</td>\n",
       "      <td>66</td>\n",
       "      <td>afb9970e-8f33-4daf-839f-51c846d8d9d2</td>\n",
       "      <td>craft-repair</td>\n",
       "      <td>High School</td>\n",
       "      <td>2020-07-12</td>\n",
       "      <td>2024-05-20 22:33:50.289</td>\n",
       "      <td>golf</td>\n",
       "      <td>468104</td>\n",
       "    </tr>\n",
       "    <tr>\n",
       "      <th>1</th>\n",
       "      <td>FDC_User</td>\n",
       "      <td>FEMALE</td>\n",
       "      <td>46</td>\n",
       "      <td>c3018b4e-d38e-420a-a214-5399fa420980</td>\n",
       "      <td>prof-specialty</td>\n",
       "      <td>College</td>\n",
       "      <td>1999-05-12</td>\n",
       "      <td>2024-05-20 22:33:50.289</td>\n",
       "      <td>kayaking</td>\n",
       "      <td>447979</td>\n",
       "    </tr>\n",
       "    <tr>\n",
       "      <th>2</th>\n",
       "      <td>FDC_User</td>\n",
       "      <td>FEMALE</td>\n",
       "      <td>22</td>\n",
       "      <td>cf901c46-ac4d-48d2-9bc5-edc63006d52a</td>\n",
       "      <td>protective-serv</td>\n",
       "      <td>Masters</td>\n",
       "      <td>2022-02-12</td>\n",
       "      <td>2024-05-20 22:33:50.289</td>\n",
       "      <td>sleeping</td>\n",
       "      <td>437580</td>\n",
       "    </tr>\n",
       "    <tr>\n",
       "      <th>3</th>\n",
       "      <td>FDC_User</td>\n",
       "      <td>MALE</td>\n",
       "      <td>67</td>\n",
       "      <td>e541e439-5693-48a7-80e9-e67eb13d19f1</td>\n",
       "      <td>handlers-cleaners</td>\n",
       "      <td>College</td>\n",
       "      <td>2007-08-12</td>\n",
       "      <td>2024-05-20 22:33:50.289</td>\n",
       "      <td>board-games</td>\n",
       "      <td>466238</td>\n",
       "    </tr>\n",
       "    <tr>\n",
       "      <th>4</th>\n",
       "      <td>FDC_User</td>\n",
       "      <td>FEMALE</td>\n",
       "      <td>30</td>\n",
       "      <td>abf3c664-bb80-4bb9-983d-6d8ba461ab74</td>\n",
       "      <td>machine-op-inspct</td>\n",
       "      <td>Masters</td>\n",
       "      <td>2013-01-12</td>\n",
       "      <td>2024-05-20 22:33:50.289</td>\n",
       "      <td>exercise</td>\n",
       "      <td>606487</td>\n",
       "    </tr>\n",
       "  </tbody>\n",
       "</table>\n",
       "</div>"
      ],
      "text/plain": [
       "  CREATED_BY     SEX  AGE                           CUSTOMER_ID   \n",
       "0   FDC_User  FEMALE   66  afb9970e-8f33-4daf-839f-51c846d8d9d2  \\\n",
       "1   FDC_User  FEMALE   46  c3018b4e-d38e-420a-a214-5399fa420980   \n",
       "2   FDC_User  FEMALE   22  cf901c46-ac4d-48d2-9bc5-edc63006d52a   \n",
       "3   FDC_User    MALE   67  e541e439-5693-48a7-80e9-e67eb13d19f1   \n",
       "4   FDC_User  FEMALE   30  abf3c664-bb80-4bb9-983d-6d8ba461ab74   \n",
       "\n",
       "          OCCUPATION EDUCATION_LEVEL REGISTRATION_DATE   \n",
       "0       craft-repair     High School        2020-07-12  \\\n",
       "1     prof-specialty         College        1999-05-12   \n",
       "2    protective-serv         Masters        2022-02-12   \n",
       "3  handlers-cleaners         College        2007-08-12   \n",
       "4  machine-op-inspct         Masters        2013-01-12   \n",
       "\n",
       "               CREATED_AT      HOBBIES  ZIP_CODE  \n",
       "0 2024-05-20 22:33:50.289         golf    468104  \n",
       "1 2024-05-20 22:33:50.289     kayaking    447979  \n",
       "2 2024-05-20 22:33:50.289     sleeping    437580  \n",
       "3 2024-05-20 22:33:50.289  board-games    466238  \n",
       "4 2024-05-20 22:33:50.289     exercise    606487  "
      ]
     },
     "execution_count": 26,
     "metadata": {},
     "output_type": "execute_result"
    }
   ],
   "source": [
    "df_customer.head()"
   ]
  }
 ],
 "metadata": {
  "kernelspec": {
   "display_name": "Python 3",
   "language": "python",
   "name": "python3"
  },
  "language_info": {
   "codemirror_mode": {
    "name": "ipython",
    "version": 3
   },
   "file_extension": ".py",
   "mimetype": "text/x-python",
   "name": "python",
   "nbconvert_exporter": "python",
   "pygments_lexer": "ipython3",
   "version": "3.8.18"
  }
 },
 "nbformat": 4,
 "nbformat_minor": 5
}
