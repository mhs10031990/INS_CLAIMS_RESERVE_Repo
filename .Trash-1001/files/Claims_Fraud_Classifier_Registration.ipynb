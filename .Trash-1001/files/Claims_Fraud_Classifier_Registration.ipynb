{
 "cells": [
  {
   "cell_type": "markdown",
   "id": "da4ac72d",
   "metadata": {},
   "source": [
    "# Use Insurance Code Template Notebook Template"
   ]
  },
  {
   "cell_type": "markdown",
   "id": "c591cf89",
   "metadata": {
    "scrolled": true
   },
   "source": [
    "## Packages needed to run this notebook if running with inbuilt snowpark 3.8 template\n",
    "#### !pip install --q \"snowflake-connector-python[pandas]\"\n",
    "#### !sudo pip install --q snowflake-ml-python==1.0.11 -U\n",
    "#### !pip install --upgrade --q snowflake-snowpark-python==1.9.0\n",
    "#### !pip install --q seaborn\n",
    "#### !pip install --upgrade --q xgboost==1.7.3\n",
    "#### !pip install --upgrade --q numpy==1.24.3\n",
    "#### !pip install --upgrade --q pandas==1.5.3\n",
    "#### !pip install --upgrade --q anyio==3.5.0\n",
    "#### !pip install --upgrade --q packaging==23.1\n",
    "#### !pip install --upgrade --q scikit-learn==1.3.0\n",
    "#### !pip install --upgrade --q typing-extensions==4.7.1\n",
    "#### !pip install --upgrade --q cryptography==39.0.0\n",
    "#### !pip install --upgrade --q fsspec==2023.9.2\n",
    "#### !pip install --q xgboost\n",
    "#### !pip install --q catboost\n",
    "#### !pip install --q fosforio\n",
    "#### !pip install --q fosforml"
   ]
  },
  {
   "cell_type": "code",
   "execution_count": 51,
   "id": "12eb34cf",
   "metadata": {},
   "outputs": [],
   "source": [
    "from snowflake.snowpark import Session\n",
    "\n",
    "# Data Science Libs\n",
    "import numpy as np\n",
    "import pandas as pd\n",
    "import matplotlib.pyplot as plt\n",
    "\n",
    "# create_temp_table warning suppresion\n",
    "import warnings; warnings.simplefilter('ignore')\n",
    "\n",
    "#Modeling Libs\n",
    "from sklearn.model_selection import train_test_split\n",
    "from sklearn.preprocessing import StandardScaler\n",
    "from sklearn.svm import SVC\n",
    "from sklearn.metrics import accuracy_score, confusion_matrix, classification_report\n",
    "from sklearn.neighbors import KNeighborsClassifier\n",
    "from sklearn.metrics import accuracy_score, confusion_matrix, classification_report\n",
    "from sklearn.tree import DecisionTreeClassifier\n",
    "from sklearn.model_selection import GridSearchCV\n",
    "from sklearn.ensemble import RandomForestClassifier\n",
    "from sklearn.ensemble import AdaBoostClassifier\n",
    "from sklearn.ensemble import GradientBoostingClassifier\n",
    "from sklearn.ensemble import ExtraTreesClassifier\n",
    "from sklearn.ensemble import VotingClassifier\n",
    "\n",
    "from xgboost import XGBClassifier\n",
    "from catboost import CatBoostClassifier\n",
    "\n",
    "# FosforIO to read from snowflake\n",
    "from fosforio import snowflake\n",
    "# FosforML to register Model on FDC\n",
    "from joblib import dump, load\n",
    "from fosforml import *\n",
    "from fosforml.constants import MLModelFlavours\n",
    "import requests"
   ]
  },
  {
   "cell_type": "markdown",
   "id": "eec13385",
   "metadata": {},
   "source": [
    "# Read data using FosforIO"
   ]
  },
  {
   "cell_type": "code",
   "execution_count": 52,
   "id": "d9c7a1f6",
   "metadata": {
    "scrolled": true
   },
   "outputs": [
    {
     "name": "stdout",
     "output_type": "stream",
     "text": [
      "Connection object created: <snowflake.connector.connection.SnowflakeConnection object at 0x7f0a995db250>\n",
      "Please close the connection after use!\n"
     ]
    },
    {
     "data": {
      "text/plain": [
       "<snowflake.connector.connection.SnowflakeConnection at 0x7f0a995db250>"
      ]
     },
     "execution_count": 52,
     "metadata": {},
     "output_type": "execute_result"
    }
   ],
   "source": [
    "# To get snowflake connection object with a specific connection name\n",
    "snowflake.get_connection(connection_name=\"FDC_Insurance_Snowflake\")"
   ]
  },
  {
   "cell_type": "code",
   "execution_count": 53,
   "id": "a3de0458",
   "metadata": {},
   "outputs": [],
   "source": [
    "# To read a specific dataset published from a snowflake connection\n",
    "df = snowflake.get_dataframe(\"AUTO_INSURANCE_CLAIMS_DATA\")\n",
    "#df = snowflake.get_dataframe(\"AUTO_INSURANCE_CLAIMS_DATA_PRODUCT\")"
   ]
  },
  {
   "cell_type": "code",
   "execution_count": 54,
   "id": "47df3c80",
   "metadata": {
    "scrolled": true
   },
   "outputs": [
    {
     "data": {
      "text/html": [
       "<div>\n",
       "<style scoped>\n",
       "    .dataframe tbody tr th:only-of-type {\n",
       "        vertical-align: middle;\n",
       "    }\n",
       "\n",
       "    .dataframe tbody tr th {\n",
       "        vertical-align: top;\n",
       "    }\n",
       "\n",
       "    .dataframe thead th {\n",
       "        text-align: right;\n",
       "    }\n",
       "</style>\n",
       "<table border=\"1\" class=\"dataframe\">\n",
       "  <thead>\n",
       "    <tr style=\"text-align: right;\">\n",
       "      <th></th>\n",
       "      <th>MONTHS_AS_CUSTOMER</th>\n",
       "      <th>CUSTOMER_AGE</th>\n",
       "      <th>POLICY_NUMBER</th>\n",
       "      <th>POLICY_BIND_DATE</th>\n",
       "      <th>POLICY_STATE</th>\n",
       "      <th>POLICY_CSL</th>\n",
       "      <th>POLICY_DEDUCTABLE</th>\n",
       "      <th>POLICY_ANNUAL_PREMIUM</th>\n",
       "      <th>UMBRELLA_LIMIT</th>\n",
       "      <th>INSURED_ZIP</th>\n",
       "      <th>...</th>\n",
       "      <th>WITNESSES</th>\n",
       "      <th>POLICE_REPORT_AVAILABLE</th>\n",
       "      <th>TOTAL_CLAIM_AMOUNT_PAID</th>\n",
       "      <th>INJURY_CLAIM</th>\n",
       "      <th>PROPERTY_CLAIM</th>\n",
       "      <th>VEHICLE_CLAIM</th>\n",
       "      <th>AUTO_MAKE</th>\n",
       "      <th>AUTO_MODEL</th>\n",
       "      <th>AUTO_YEAR</th>\n",
       "      <th>FRAUD_REPORTED</th>\n",
       "    </tr>\n",
       "  </thead>\n",
       "  <tbody>\n",
       "    <tr>\n",
       "      <th>0</th>\n",
       "      <td>37</td>\n",
       "      <td>58</td>\n",
       "      <td>459791</td>\n",
       "      <td>27-04-2010</td>\n",
       "      <td>CT</td>\n",
       "      <td>250/500</td>\n",
       "      <td>1171</td>\n",
       "      <td>1394</td>\n",
       "      <td>4344805</td>\n",
       "      <td>444558</td>\n",
       "      <td>...</td>\n",
       "      <td>2</td>\n",
       "      <td>Police Report Available</td>\n",
       "      <td>77586.0</td>\n",
       "      <td>13159.0</td>\n",
       "      <td>888.0</td>\n",
       "      <td>63539.0</td>\n",
       "      <td>BMW</td>\n",
       "      <td>3 Series</td>\n",
       "      <td>2010</td>\n",
       "      <td>No Fraud Reported</td>\n",
       "    </tr>\n",
       "    <tr>\n",
       "      <th>1</th>\n",
       "      <td>152</td>\n",
       "      <td>31</td>\n",
       "      <td>460016</td>\n",
       "      <td>25-06-2009</td>\n",
       "      <td>CT</td>\n",
       "      <td>100/300</td>\n",
       "      <td>1508</td>\n",
       "      <td>1773</td>\n",
       "      <td>3302239</td>\n",
       "      <td>604138</td>\n",
       "      <td>...</td>\n",
       "      <td>0</td>\n",
       "      <td>No Police Report Available</td>\n",
       "      <td>83454.0</td>\n",
       "      <td>12951.0</td>\n",
       "      <td>2165.0</td>\n",
       "      <td>68338.0</td>\n",
       "      <td>Chevrolet</td>\n",
       "      <td>Tahoe</td>\n",
       "      <td>2014</td>\n",
       "      <td>No Fraud Reported</td>\n",
       "    </tr>\n",
       "    <tr>\n",
       "      <th>2</th>\n",
       "      <td>288</td>\n",
       "      <td>54</td>\n",
       "      <td>460722</td>\n",
       "      <td>06-04-2007</td>\n",
       "      <td>CT</td>\n",
       "      <td>100/300</td>\n",
       "      <td>1095</td>\n",
       "      <td>1385</td>\n",
       "      <td>3019065</td>\n",
       "      <td>466201</td>\n",
       "      <td>...</td>\n",
       "      <td>3</td>\n",
       "      <td>Police Report Available</td>\n",
       "      <td>68192.0</td>\n",
       "      <td>365.0</td>\n",
       "      <td>20936.0</td>\n",
       "      <td>46891.0</td>\n",
       "      <td>Ford</td>\n",
       "      <td>F150</td>\n",
       "      <td>2004</td>\n",
       "      <td>No Fraud Reported</td>\n",
       "    </tr>\n",
       "    <tr>\n",
       "      <th>3</th>\n",
       "      <td>69</td>\n",
       "      <td>61</td>\n",
       "      <td>461172</td>\n",
       "      <td>25-07-1996</td>\n",
       "      <td>CT</td>\n",
       "      <td>250/500</td>\n",
       "      <td>1177</td>\n",
       "      <td>1322</td>\n",
       "      <td>6133054</td>\n",
       "      <td>445856</td>\n",
       "      <td>...</td>\n",
       "      <td>1</td>\n",
       "      <td>Police Report Available</td>\n",
       "      <td>75917.0</td>\n",
       "      <td>11604.0</td>\n",
       "      <td>19876.0</td>\n",
       "      <td>44437.0</td>\n",
       "      <td>Jeep</td>\n",
       "      <td>Wrangler</td>\n",
       "      <td>1997</td>\n",
       "      <td>Fraud Reported</td>\n",
       "    </tr>\n",
       "    <tr>\n",
       "      <th>4</th>\n",
       "      <td>279</td>\n",
       "      <td>41</td>\n",
       "      <td>461397</td>\n",
       "      <td>17-07-2013</td>\n",
       "      <td>CT</td>\n",
       "      <td>100/300</td>\n",
       "      <td>959</td>\n",
       "      <td>1278</td>\n",
       "      <td>2321250</td>\n",
       "      <td>434342</td>\n",
       "      <td>...</td>\n",
       "      <td>0</td>\n",
       "      <td>No Police Report Available</td>\n",
       "      <td>65547.0</td>\n",
       "      <td>7447.0</td>\n",
       "      <td>18436.0</td>\n",
       "      <td>39664.0</td>\n",
       "      <td>Saab</td>\n",
       "      <td>95</td>\n",
       "      <td>2015</td>\n",
       "      <td>No Fraud Reported</td>\n",
       "    </tr>\n",
       "  </tbody>\n",
       "</table>\n",
       "<p>5 rows × 40 columns</p>\n",
       "</div>"
      ],
      "text/plain": [
       "   MONTHS_AS_CUSTOMER CUSTOMER_AGE  POLICY_NUMBER POLICY_BIND_DATE   \n",
       "0                  37           58         459791       27-04-2010  \\\n",
       "1                 152           31         460016       25-06-2009   \n",
       "2                 288           54         460722       06-04-2007   \n",
       "3                  69           61         461172       25-07-1996   \n",
       "4                 279           41         461397       17-07-2013   \n",
       "\n",
       "  POLICY_STATE POLICY_CSL  POLICY_DEDUCTABLE  POLICY_ANNUAL_PREMIUM   \n",
       "0           CT    250/500               1171                   1394  \\\n",
       "1           CT    100/300               1508                   1773   \n",
       "2           CT    100/300               1095                   1385   \n",
       "3           CT    250/500               1177                   1322   \n",
       "4           CT    100/300                959                   1278   \n",
       "\n",
       "   UMBRELLA_LIMIT INSURED_ZIP  ... WITNESSES     POLICE_REPORT_AVAILABLE   \n",
       "0         4344805      444558  ...         2     Police Report Available  \\\n",
       "1         3302239      604138  ...         0  No Police Report Available   \n",
       "2         3019065      466201  ...         3     Police Report Available   \n",
       "3         6133054      445856  ...         1     Police Report Available   \n",
       "4         2321250      434342  ...         0  No Police Report Available   \n",
       "\n",
       "  TOTAL_CLAIM_AMOUNT_PAID INJURY_CLAIM PROPERTY_CLAIM  VEHICLE_CLAIM   \n",
       "0                 77586.0      13159.0          888.0        63539.0  \\\n",
       "1                 83454.0      12951.0         2165.0        68338.0   \n",
       "2                 68192.0        365.0        20936.0        46891.0   \n",
       "3                 75917.0      11604.0        19876.0        44437.0   \n",
       "4                 65547.0       7447.0        18436.0        39664.0   \n",
       "\n",
       "   AUTO_MAKE AUTO_MODEL AUTO_YEAR     FRAUD_REPORTED  \n",
       "0        BMW   3 Series      2010  No Fraud Reported  \n",
       "1  Chevrolet      Tahoe      2014  No Fraud Reported  \n",
       "2       Ford       F150      2004  No Fraud Reported  \n",
       "3       Jeep   Wrangler      1997     Fraud Reported  \n",
       "4       Saab         95      2015  No Fraud Reported  \n",
       "\n",
       "[5 rows x 40 columns]"
      ]
     },
     "execution_count": 54,
     "metadata": {},
     "output_type": "execute_result"
    }
   ],
   "source": [
    "df.head()"
   ]
  },
  {
   "cell_type": "markdown",
   "id": "3955ebba",
   "metadata": {},
   "source": [
    "# Read data using Snowflake's Snowpark"
   ]
  },
  {
   "cell_type": "code",
   "execution_count": 55,
   "id": "d4a0035d",
   "metadata": {},
   "outputs": [],
   "source": [
    "#Import all snowflake connection details from Template or Project variables.\n",
    "db_user = os.getenv('Snowflake_user')\n",
    "db_password =  os.getenv('Snowflake_password')\n",
    "db_account = os.getenv('Snowflake_Account')\n",
    "db_database =  os.getenv('Snowflake_Database')\n",
    "db_role = os.getenv('Snowflake_user')\n",
    "db_warehouse = os.getenv('Snowflake_Warehouse')\n",
    "db_schema = os.getenv('Snowflake_Schema')"
   ]
  },
  {
   "cell_type": "code",
   "execution_count": 56,
   "id": "9b959986",
   "metadata": {},
   "outputs": [],
   "source": [
    "from snowflake.snowpark.session import Session\n",
    "connection_params = {\n",
    "    'user': db_user,\n",
    "    'password': db_password,\n",
    "    'account': db_account,\n",
    "    'warehouse': db_warehouse,\n",
    "    'database': db_database,\n",
    "    'schema': db_schema,\n",
    "    'role': db_role\n",
    "}\n",
    "session = Session.builder.configs(connection_params).create()"
   ]
  },
  {
   "cell_type": "code",
   "execution_count": 57,
   "id": "7c86b744",
   "metadata": {},
   "outputs": [],
   "source": [
    "session.sql('use warehouse FOSFOR_SOLUTIONS_WH;').collect()\n",
    "session.sql('use database FDC_Insurance;').collect()\n",
    "session.sql('use schema FDC_Insurance.PUBLIC;').collect()\n",
    "\n",
    "df = session.table('FDC_Insurance.PUBLIC.AUTO_INSURANCE_CLAIMS_DATA')\n",
    "#df = session.table('FDC_Insurance.PUBLIC.AUTO_INSURANCE_CLAIMS_DATA_PRODUCT')\n",
    "insurance_claim = df.to_pandas()"
   ]
  },
  {
   "cell_type": "code",
   "execution_count": 58,
   "id": "0ee58ee8",
   "metadata": {},
   "outputs": [],
   "source": [
    "insurance_claim.columns = insurance_claim.columns.str.lower()"
   ]
  },
  {
   "cell_type": "code",
   "execution_count": 59,
   "id": "dea96c64",
   "metadata": {},
   "outputs": [
    {
     "data": {
      "text/plain": [
       "Index(['months_as_customer', 'customer_age', 'policy_number',\n",
       "       'policy_bind_date', 'policy_state', 'policy_csl', 'policy_deductable',\n",
       "       'policy_annual_premium', 'umbrella_limit', 'insured_zip', 'insured_sex',\n",
       "       'insured_education_level', 'insured_occupation', 'insured_hobbies',\n",
       "       'insured_relationship', 'capital_gains', 'capital_loss',\n",
       "       'incident_date', 'incident_type', 'collision_type', 'incident_severity',\n",
       "       'authorities_contacted', 'incident_state', 'incident_city',\n",
       "       'incident_location', 'incident_hour_of_the_day', 'incident_time_of_day',\n",
       "       'number_of_vehicles_involved', 'property_damage', 'bodily_injuries',\n",
       "       'witnesses', 'police_report_available', 'total_claim_amount_paid',\n",
       "       'injury_claim', 'property_claim', 'vehicle_claim', 'auto_make',\n",
       "       'auto_model', 'auto_year', 'fraud_reported'],\n",
       "      dtype='object')"
      ]
     },
     "execution_count": 59,
     "metadata": {},
     "output_type": "execute_result"
    }
   ],
   "source": [
    "insurance_claim.columns"
   ]
  },
  {
   "cell_type": "code",
   "execution_count": 60,
   "id": "dd34e207",
   "metadata": {},
   "outputs": [],
   "source": [
    "insurance_claim.rename(columns = {'total_claim_amount_paid': 'total_claim_amount'}, inplace=True)"
   ]
  },
  {
   "cell_type": "code",
   "execution_count": 61,
   "id": "044dd5de",
   "metadata": {},
   "outputs": [],
   "source": [
    "insurance_claim=insurance_claim.replace(\"?\",np.NaN)"
   ]
  },
  {
   "cell_type": "code",
   "execution_count": 62,
   "id": "0c04c757",
   "metadata": {},
   "outputs": [],
   "source": [
    "df = insurance_claim.copy()"
   ]
  },
  {
   "cell_type": "code",
   "execution_count": 63,
   "id": "17d478fa",
   "metadata": {},
   "outputs": [],
   "source": [
    "actual_inference = df.copy()\n",
    "actual_inference.drop('fraud_reported', axis = 1, inplace=True)"
   ]
  },
  {
   "cell_type": "code",
   "execution_count": 64,
   "id": "d563385c",
   "metadata": {},
   "outputs": [
    {
     "data": {
      "text/html": [
       "<div>\n",
       "<style scoped>\n",
       "    .dataframe tbody tr th:only-of-type {\n",
       "        vertical-align: middle;\n",
       "    }\n",
       "\n",
       "    .dataframe tbody tr th {\n",
       "        vertical-align: top;\n",
       "    }\n",
       "\n",
       "    .dataframe thead th {\n",
       "        text-align: right;\n",
       "    }\n",
       "</style>\n",
       "<table border=\"1\" class=\"dataframe\">\n",
       "  <thead>\n",
       "    <tr style=\"text-align: right;\">\n",
       "      <th></th>\n",
       "      <th>months_as_customer</th>\n",
       "      <th>customer_age</th>\n",
       "      <th>policy_number</th>\n",
       "      <th>policy_bind_date</th>\n",
       "      <th>policy_state</th>\n",
       "      <th>policy_csl</th>\n",
       "      <th>policy_deductable</th>\n",
       "      <th>policy_annual_premium</th>\n",
       "      <th>umbrella_limit</th>\n",
       "      <th>insured_zip</th>\n",
       "      <th>...</th>\n",
       "      <th>bodily_injuries</th>\n",
       "      <th>witnesses</th>\n",
       "      <th>police_report_available</th>\n",
       "      <th>total_claim_amount</th>\n",
       "      <th>injury_claim</th>\n",
       "      <th>property_claim</th>\n",
       "      <th>vehicle_claim</th>\n",
       "      <th>auto_make</th>\n",
       "      <th>auto_model</th>\n",
       "      <th>auto_year</th>\n",
       "    </tr>\n",
       "  </thead>\n",
       "  <tbody>\n",
       "    <tr>\n",
       "      <th>0</th>\n",
       "      <td>170</td>\n",
       "      <td>60</td>\n",
       "      <td>429383</td>\n",
       "      <td>05-05-2013</td>\n",
       "      <td>CT</td>\n",
       "      <td>500/1000</td>\n",
       "      <td>537</td>\n",
       "      <td>697</td>\n",
       "      <td>0</td>\n",
       "      <td>466132</td>\n",
       "      <td>...</td>\n",
       "      <td>1</td>\n",
       "      <td>0</td>\n",
       "      <td>No Police Report Available</td>\n",
       "      <td>101257.0</td>\n",
       "      <td>21316.0</td>\n",
       "      <td>6844.0</td>\n",
       "      <td>73097.0</td>\n",
       "      <td>Dodge</td>\n",
       "      <td>Neon</td>\n",
       "      <td>2013</td>\n",
       "    </tr>\n",
       "    <tr>\n",
       "      <th>1</th>\n",
       "      <td>50</td>\n",
       "      <td>28</td>\n",
       "      <td>460493</td>\n",
       "      <td>18-04-2013</td>\n",
       "      <td>CT</td>\n",
       "      <td>500/1000</td>\n",
       "      <td>1727</td>\n",
       "      <td>1918</td>\n",
       "      <td>2919469</td>\n",
       "      <td>463809</td>\n",
       "      <td>...</td>\n",
       "      <td>0</td>\n",
       "      <td>0</td>\n",
       "      <td>Police Report Available</td>\n",
       "      <td>80444.0</td>\n",
       "      <td>472.0</td>\n",
       "      <td>1165.0</td>\n",
       "      <td>78807.0</td>\n",
       "      <td>Accura</td>\n",
       "      <td>TL</td>\n",
       "      <td>2005</td>\n",
       "    </tr>\n",
       "    <tr>\n",
       "      <th>2</th>\n",
       "      <td>31</td>\n",
       "      <td>28</td>\n",
       "      <td>448474</td>\n",
       "      <td>31-07-2004</td>\n",
       "      <td>CT</td>\n",
       "      <td>250/500</td>\n",
       "      <td>952</td>\n",
       "      <td>1204</td>\n",
       "      <td>7957599</td>\n",
       "      <td>610393</td>\n",
       "      <td>...</td>\n",
       "      <td>2</td>\n",
       "      <td>1</td>\n",
       "      <td>Police Report Available</td>\n",
       "      <td>75641.0</td>\n",
       "      <td>7510.0</td>\n",
       "      <td>10412.0</td>\n",
       "      <td>57719.0</td>\n",
       "      <td>BMW</td>\n",
       "      <td>X5</td>\n",
       "      <td>2009</td>\n",
       "    </tr>\n",
       "    <tr>\n",
       "      <th>3</th>\n",
       "      <td>188</td>\n",
       "      <td>58</td>\n",
       "      <td>462247</td>\n",
       "      <td>27-12-2010</td>\n",
       "      <td>CT</td>\n",
       "      <td>100/300</td>\n",
       "      <td>1521</td>\n",
       "      <td>1728</td>\n",
       "      <td>8639634</td>\n",
       "      <td>606942</td>\n",
       "      <td>...</td>\n",
       "      <td>1</td>\n",
       "      <td>2</td>\n",
       "      <td>No Police Report Available</td>\n",
       "      <td>80621.0</td>\n",
       "      <td>10134.0</td>\n",
       "      <td>908.0</td>\n",
       "      <td>69579.0</td>\n",
       "      <td>BMW</td>\n",
       "      <td>X5</td>\n",
       "      <td>2015</td>\n",
       "    </tr>\n",
       "    <tr>\n",
       "      <th>4</th>\n",
       "      <td>24</td>\n",
       "      <td>65</td>\n",
       "      <td>436220</td>\n",
       "      <td>13-01-2003</td>\n",
       "      <td>CT</td>\n",
       "      <td>500/1000</td>\n",
       "      <td>1090</td>\n",
       "      <td>1535</td>\n",
       "      <td>3551771</td>\n",
       "      <td>431277</td>\n",
       "      <td>...</td>\n",
       "      <td>0</td>\n",
       "      <td>1</td>\n",
       "      <td>Unknown</td>\n",
       "      <td>59144.0</td>\n",
       "      <td>305.0</td>\n",
       "      <td>15598.0</td>\n",
       "      <td>43241.0</td>\n",
       "      <td>Nissan</td>\n",
       "      <td>Pathfinder</td>\n",
       "      <td>2014</td>\n",
       "    </tr>\n",
       "  </tbody>\n",
       "</table>\n",
       "<p>5 rows × 39 columns</p>\n",
       "</div>"
      ],
      "text/plain": [
       "   months_as_customer customer_age  policy_number policy_bind_date   \n",
       "0                 170           60         429383       05-05-2013  \\\n",
       "1                  50           28         460493       18-04-2013   \n",
       "2                  31           28         448474       31-07-2004   \n",
       "3                 188           58         462247       27-12-2010   \n",
       "4                  24           65         436220       13-01-2003   \n",
       "\n",
       "  policy_state policy_csl  policy_deductable  policy_annual_premium   \n",
       "0           CT   500/1000                537                    697  \\\n",
       "1           CT   500/1000               1727                   1918   \n",
       "2           CT    250/500                952                   1204   \n",
       "3           CT    100/300               1521                   1728   \n",
       "4           CT   500/1000               1090                   1535   \n",
       "\n",
       "   umbrella_limit insured_zip  ... bodily_injuries witnesses   \n",
       "0               0      466132  ...               1         0  \\\n",
       "1         2919469      463809  ...               0         0   \n",
       "2         7957599      610393  ...               2         1   \n",
       "3         8639634      606942  ...               1         2   \n",
       "4         3551771      431277  ...               0         1   \n",
       "\n",
       "      police_report_available total_claim_amount injury_claim  property_claim   \n",
       "0  No Police Report Available           101257.0      21316.0          6844.0  \\\n",
       "1     Police Report Available            80444.0        472.0          1165.0   \n",
       "2     Police Report Available            75641.0       7510.0         10412.0   \n",
       "3  No Police Report Available            80621.0      10134.0           908.0   \n",
       "4                     Unknown            59144.0        305.0         15598.0   \n",
       "\n",
       "   vehicle_claim auto_make  auto_model auto_year  \n",
       "0        73097.0     Dodge        Neon      2013  \n",
       "1        78807.0    Accura          TL      2005  \n",
       "2        57719.0       BMW          X5      2009  \n",
       "3        69579.0       BMW          X5      2015  \n",
       "4        43241.0    Nissan  Pathfinder      2014  \n",
       "\n",
       "[5 rows x 39 columns]"
      ]
     },
     "execution_count": 64,
     "metadata": {},
     "output_type": "execute_result"
    }
   ],
   "source": [
    "actual_inference.head()"
   ]
  },
  {
   "cell_type": "code",
   "execution_count": 65,
   "id": "5fa9b530",
   "metadata": {},
   "outputs": [],
   "source": [
    "# dropping columns which are not necessary for prediction\n",
    "\n",
    "to_drop = ['policy_number','policy_bind_date','policy_state','insured_zip','incident_location','incident_date',\n",
    "           'incident_state','incident_city','insured_hobbies','auto_make','auto_model','auto_year']\n",
    "\n",
    "df.drop(to_drop, inplace=True, axis=1)"
   ]
  },
  {
   "cell_type": "code",
   "execution_count": 66,
   "id": "9b2aec4c",
   "metadata": {},
   "outputs": [],
   "source": [
    "# separating the feature and target columns\n",
    "\n",
    "X = df.drop('fraud_reported', axis = 1)\n",
    "y = df['fraud_reported']"
   ]
  },
  {
   "cell_type": "code",
   "execution_count": 67,
   "id": "6e41ff62",
   "metadata": {},
   "outputs": [],
   "source": [
    "# extracting categorical columns\n",
    "cat_df = X.select_dtypes(include = ['object'])"
   ]
  },
  {
   "cell_type": "code",
   "execution_count": 68,
   "id": "0b248b0d",
   "metadata": {},
   "outputs": [
    {
     "data": {
      "text/plain": [
       "Index(['customer_age', 'policy_csl', 'insured_sex', 'insured_education_level',\n",
       "       'insured_occupation', 'insured_relationship', 'incident_type',\n",
       "       'collision_type', 'incident_severity', 'authorities_contacted',\n",
       "       'incident_time_of_day', 'property_damage', 'police_report_available'],\n",
       "      dtype='object')"
      ]
     },
     "execution_count": 68,
     "metadata": {},
     "output_type": "execute_result"
    }
   ],
   "source": [
    "cat_df.columns"
   ]
  },
  {
   "cell_type": "code",
   "execution_count": 69,
   "id": "00bc0322",
   "metadata": {},
   "outputs": [
    {
     "name": "stdout",
     "output_type": "stream",
     "text": [
      "customer_age: \n",
      "['60' '28' '58' '65' '34' '33' '20' '29' '27' '64' '50' '35' '43' '23'\n",
      " '19' '25' '68' '46' '31' '24' '30' '69' '37' '57' '55' '45' '49' '59'\n",
      " '53' '56' '42' '26' '41' '52' '36' '44' '40' '67' '51' '54' '38' '63'\n",
      " '61' '48' '22' '32' '39' '21' '47' '62' '66']\n",
      "\n",
      "policy_csl: \n",
      "['500/1000' '250/500' '100/300']\n",
      "\n",
      "insured_sex: \n",
      "['FEMALE' 'MALE']\n",
      "\n",
      "insured_education_level: \n",
      "['MD' 'High School' 'Associate' 'Masters' 'College' 'JD' 'PhD']\n",
      "\n",
      "insured_occupation: \n",
      "['other-service' 'prof-specialty' 'tech-support' 'craft-repair'\n",
      " 'priv-house-serv' 'adm-clerical' 'sales' 'farming-fishing' 'armed-forces'\n",
      " 'protective-serv' 'exec-managerial' 'machine-op-inspct'\n",
      " 'handlers-cleaners' 'transport-moving']\n",
      "\n",
      "insured_relationship: \n",
      "['unmarried' 'own-child' 'husband' 'other-relative' 'wife' 'not-in-family']\n",
      "\n",
      "incident_type: \n",
      "['Single Vehicle Collision' 'Multi-vehicle Collision' 'Parked Car'\n",
      " 'Vehicle Theft']\n",
      "\n",
      "collision_type: \n",
      "['Rear Collision' 'Front Collision' 'Side Collision'\n",
      " 'Details not Available']\n",
      "\n",
      "incident_severity: \n",
      "['Major Damage' 'Minor Damage' 'Total Loss']\n",
      "\n",
      "authorities_contacted: \n",
      "['Ambulance' 'Fire' 'None' 'Police' 'Other']\n",
      "\n",
      "incident_time_of_day: \n",
      "['Night Time' 'Afternoon Hours' 'Morning to Noon' 'Early Morning Hours']\n",
      "\n",
      "property_damage: \n",
      "['Details not Available' 'No Property Damage' 'Property Damage']\n",
      "\n",
      "police_report_available: \n",
      "['No Police Report Available' 'Police Report Available' 'Unknown']\n",
      "\n"
     ]
    }
   ],
   "source": [
    "# printing unique values of each column\n",
    "for col in cat_df.columns:\n",
    "    print(f\"{col}: \\n{cat_df[col].unique()}\\n\")"
   ]
  },
  {
   "cell_type": "code",
   "execution_count": 70,
   "id": "44eeac43",
   "metadata": {},
   "outputs": [],
   "source": [
    "cat_df = pd.get_dummies(cat_df, drop_first = True)"
   ]
  },
  {
   "cell_type": "code",
   "execution_count": 71,
   "id": "ff74a5da",
   "metadata": {},
   "outputs": [],
   "source": [
    "num_df = df.select_dtypes(include = ['int16','int8','int32','float64'])"
   ]
  },
  {
   "cell_type": "code",
   "execution_count": 72,
   "id": "91f64b39",
   "metadata": {},
   "outputs": [
    {
     "data": {
      "text/plain": [
       "Index(['months_as_customer', 'policy_deductable', 'policy_annual_premium',\n",
       "       'umbrella_limit', 'capital_gains', 'capital_loss',\n",
       "       'incident_hour_of_the_day', 'number_of_vehicles_involved',\n",
       "       'bodily_injuries', 'witnesses', 'total_claim_amount', 'injury_claim',\n",
       "       'property_claim', 'vehicle_claim'],\n",
       "      dtype='object')"
      ]
     },
     "execution_count": 72,
     "metadata": {},
     "output_type": "execute_result"
    }
   ],
   "source": [
    "num_df.columns"
   ]
  },
  {
   "cell_type": "code",
   "execution_count": 73,
   "id": "5fd84c4c",
   "metadata": {},
   "outputs": [],
   "source": [
    "# combining the Numerical and Categorical dataframes to get the final dataset\n",
    "\n",
    "X = pd.concat([num_df, cat_df], axis = 1)"
   ]
  },
  {
   "cell_type": "code",
   "execution_count": 74,
   "id": "e5dc17e2",
   "metadata": {},
   "outputs": [],
   "source": [
    "# splitting data into training set and test set\n",
    "\n",
    "from sklearn.model_selection import train_test_split\n",
    "\n",
    "X_train, X_test, y_train, y_test = train_test_split(X, y, test_size = 0.25)"
   ]
  },
  {
   "cell_type": "code",
   "execution_count": 75,
   "id": "36da7ae2",
   "metadata": {},
   "outputs": [],
   "source": [
    "num_df = X_train[['months_as_customer', 'policy_deductable', 'umbrella_limit',\n",
    "       'capital_gains', 'capital_loss', 'incident_hour_of_the_day',\n",
    "       'number_of_vehicles_involved', 'bodily_injuries', 'witnesses', 'injury_claim', 'property_claim',\n",
    "       'vehicle_claim']]"
   ]
  },
  {
   "cell_type": "code",
   "execution_count": 76,
   "id": "4f94a7d3",
   "metadata": {},
   "outputs": [],
   "source": [
    "num_df_test = X_test[['months_as_customer', 'policy_deductable', 'umbrella_limit',\n",
    "       'capital_gains', 'capital_loss', 'incident_hour_of_the_day',\n",
    "       'number_of_vehicles_involved', 'bodily_injuries', 'witnesses', 'injury_claim', 'property_claim',\n",
    "       'vehicle_claim']]"
   ]
  },
  {
   "cell_type": "code",
   "execution_count": 77,
   "id": "4eac05ce",
   "metadata": {},
   "outputs": [],
   "source": [
    "# Scaling the numeric values in the dataset\n",
    "\n",
    "from sklearn.preprocessing import StandardScaler\n",
    "\n",
    "scaler = StandardScaler()\n",
    "scaled_data = scaler.fit_transform(num_df)"
   ]
  },
  {
   "cell_type": "code",
   "execution_count": 78,
   "id": "dd265d84",
   "metadata": {},
   "outputs": [],
   "source": [
    "scaled_data_test = scaler.transform(num_df_test)"
   ]
  },
  {
   "cell_type": "code",
   "execution_count": 79,
   "id": "fc7b669b",
   "metadata": {
    "scrolled": true
   },
   "outputs": [
    {
     "data": {
      "text/html": [
       "<div>\n",
       "<style scoped>\n",
       "    .dataframe tbody tr th:only-of-type {\n",
       "        vertical-align: middle;\n",
       "    }\n",
       "\n",
       "    .dataframe tbody tr th {\n",
       "        vertical-align: top;\n",
       "    }\n",
       "\n",
       "    .dataframe thead th {\n",
       "        text-align: right;\n",
       "    }\n",
       "</style>\n",
       "<table border=\"1\" class=\"dataframe\">\n",
       "  <thead>\n",
       "    <tr style=\"text-align: right;\">\n",
       "      <th></th>\n",
       "      <th>months_as_customer</th>\n",
       "      <th>policy_deductable</th>\n",
       "      <th>umbrella_limit</th>\n",
       "      <th>capital_gains</th>\n",
       "      <th>capital_loss</th>\n",
       "      <th>incident_hour_of_the_day</th>\n",
       "      <th>number_of_vehicles_involved</th>\n",
       "      <th>bodily_injuries</th>\n",
       "      <th>witnesses</th>\n",
       "      <th>injury_claim</th>\n",
       "      <th>property_claim</th>\n",
       "      <th>vehicle_claim</th>\n",
       "    </tr>\n",
       "  </thead>\n",
       "  <tbody>\n",
       "    <tr>\n",
       "      <th>193141</th>\n",
       "      <td>2.090619</td>\n",
       "      <td>-1.287403</td>\n",
       "      <td>0.336185</td>\n",
       "      <td>1.635393</td>\n",
       "      <td>-1.253865</td>\n",
       "      <td>-0.179726</td>\n",
       "      <td>-0.678236</td>\n",
       "      <td>0.005975</td>\n",
       "      <td>-1.347864</td>\n",
       "      <td>1.355940</td>\n",
       "      <td>1.334588</td>\n",
       "      <td>0.244942</td>\n",
       "    </tr>\n",
       "    <tr>\n",
       "      <th>87067</th>\n",
       "      <td>-0.987380</td>\n",
       "      <td>-0.158154</td>\n",
       "      <td>0.133299</td>\n",
       "      <td>-0.738531</td>\n",
       "      <td>-0.691794</td>\n",
       "      <td>-0.521337</td>\n",
       "      <td>0.749108</td>\n",
       "      <td>0.005975</td>\n",
       "      <td>1.342984</td>\n",
       "      <td>0.938088</td>\n",
       "      <td>1.355046</td>\n",
       "      <td>0.116724</td>\n",
       "    </tr>\n",
       "    <tr>\n",
       "      <th>37173</th>\n",
       "      <td>0.034955</td>\n",
       "      <td>0.180247</td>\n",
       "      <td>0.484473</td>\n",
       "      <td>-0.564482</td>\n",
       "      <td>0.291002</td>\n",
       "      <td>0.161885</td>\n",
       "      <td>-0.678236</td>\n",
       "      <td>-1.217664</td>\n",
       "      <td>1.342984</td>\n",
       "      <td>-1.015758</td>\n",
       "      <td>-0.985495</td>\n",
       "      <td>-1.078747</td>\n",
       "    </tr>\n",
       "    <tr>\n",
       "      <th>228110</th>\n",
       "      <td>-0.316816</td>\n",
       "      <td>2.003124</td>\n",
       "      <td>-0.480264</td>\n",
       "      <td>1.405643</td>\n",
       "      <td>0.422948</td>\n",
       "      <td>0.674301</td>\n",
       "      <td>2.176452</td>\n",
       "      <td>0.005975</td>\n",
       "      <td>-0.450915</td>\n",
       "      <td>1.510644</td>\n",
       "      <td>1.580841</td>\n",
       "      <td>-1.554832</td>\n",
       "    </tr>\n",
       "    <tr>\n",
       "      <th>70577</th>\n",
       "      <td>1.782819</td>\n",
       "      <td>-0.543296</td>\n",
       "      <td>0.076485</td>\n",
       "      <td>-0.842096</td>\n",
       "      <td>0.227505</td>\n",
       "      <td>-2.400197</td>\n",
       "      <td>0.749108</td>\n",
       "      <td>1.229615</td>\n",
       "      <td>-0.450915</td>\n",
       "      <td>-0.064759</td>\n",
       "      <td>0.685793</td>\n",
       "      <td>-0.223364</td>\n",
       "    </tr>\n",
       "  </tbody>\n",
       "</table>\n",
       "</div>"
      ],
      "text/plain": [
       "        months_as_customer  policy_deductable  umbrella_limit  capital_gains   \n",
       "193141            2.090619          -1.287403        0.336185       1.635393  \\\n",
       "87067            -0.987380          -0.158154        0.133299      -0.738531   \n",
       "37173             0.034955           0.180247        0.484473      -0.564482   \n",
       "228110           -0.316816           2.003124       -0.480264       1.405643   \n",
       "70577             1.782819          -0.543296        0.076485      -0.842096   \n",
       "\n",
       "        capital_loss  incident_hour_of_the_day  number_of_vehicles_involved   \n",
       "193141     -1.253865                 -0.179726                    -0.678236  \\\n",
       "87067      -0.691794                 -0.521337                     0.749108   \n",
       "37173       0.291002                  0.161885                    -0.678236   \n",
       "228110      0.422948                  0.674301                     2.176452   \n",
       "70577       0.227505                 -2.400197                     0.749108   \n",
       "\n",
       "        bodily_injuries  witnesses  injury_claim  property_claim   \n",
       "193141         0.005975  -1.347864      1.355940        1.334588  \\\n",
       "87067          0.005975   1.342984      0.938088        1.355046   \n",
       "37173         -1.217664   1.342984     -1.015758       -0.985495   \n",
       "228110         0.005975  -0.450915      1.510644        1.580841   \n",
       "70577          1.229615  -0.450915     -0.064759        0.685793   \n",
       "\n",
       "        vehicle_claim  \n",
       "193141       0.244942  \n",
       "87067        0.116724  \n",
       "37173       -1.078747  \n",
       "228110      -1.554832  \n",
       "70577       -0.223364  "
      ]
     },
     "execution_count": 79,
     "metadata": {},
     "output_type": "execute_result"
    }
   ],
   "source": [
    "scaled_num_df = pd.DataFrame(data = scaled_data, columns = num_df.columns, index = X_train.index)\n",
    "scaled_num_df.head()"
   ]
  },
  {
   "cell_type": "code",
   "execution_count": 80,
   "id": "2c749cfd",
   "metadata": {},
   "outputs": [
    {
     "data": {
      "text/html": [
       "<div>\n",
       "<style scoped>\n",
       "    .dataframe tbody tr th:only-of-type {\n",
       "        vertical-align: middle;\n",
       "    }\n",
       "\n",
       "    .dataframe tbody tr th {\n",
       "        vertical-align: top;\n",
       "    }\n",
       "\n",
       "    .dataframe thead th {\n",
       "        text-align: right;\n",
       "    }\n",
       "</style>\n",
       "<table border=\"1\" class=\"dataframe\">\n",
       "  <thead>\n",
       "    <tr style=\"text-align: right;\">\n",
       "      <th></th>\n",
       "      <th>months_as_customer</th>\n",
       "      <th>policy_deductable</th>\n",
       "      <th>umbrella_limit</th>\n",
       "      <th>capital_gains</th>\n",
       "      <th>capital_loss</th>\n",
       "      <th>incident_hour_of_the_day</th>\n",
       "      <th>number_of_vehicles_involved</th>\n",
       "      <th>bodily_injuries</th>\n",
       "      <th>witnesses</th>\n",
       "      <th>injury_claim</th>\n",
       "      <th>property_claim</th>\n",
       "      <th>vehicle_claim</th>\n",
       "    </tr>\n",
       "  </thead>\n",
       "  <tbody>\n",
       "    <tr>\n",
       "      <th>80335</th>\n",
       "      <td>0.628570</td>\n",
       "      <td>-0.846174</td>\n",
       "      <td>-0.951944</td>\n",
       "      <td>-0.517123</td>\n",
       "      <td>1.383880</td>\n",
       "      <td>-2.571002</td>\n",
       "      <td>-0.678236</td>\n",
       "      <td>-1.217664</td>\n",
       "      <td>0.446034</td>\n",
       "      <td>-1.029314</td>\n",
       "      <td>-0.953348</td>\n",
       "      <td>-1.327724</td>\n",
       "    </tr>\n",
       "    <tr>\n",
       "      <th>211998</th>\n",
       "      <td>-0.151923</td>\n",
       "      <td>1.068315</td>\n",
       "      <td>-0.634356</td>\n",
       "      <td>1.379212</td>\n",
       "      <td>0.372671</td>\n",
       "      <td>0.674301</td>\n",
       "      <td>0.749108</td>\n",
       "      <td>0.005975</td>\n",
       "      <td>1.342984</td>\n",
       "      <td>-0.554443</td>\n",
       "      <td>-0.963513</td>\n",
       "      <td>-1.234254</td>\n",
       "    </tr>\n",
       "    <tr>\n",
       "      <th>33582</th>\n",
       "      <td>0.628570</td>\n",
       "      <td>1.101968</td>\n",
       "      <td>1.293500</td>\n",
       "      <td>-1.715106</td>\n",
       "      <td>-0.439653</td>\n",
       "      <td>0.674301</td>\n",
       "      <td>-0.678236</td>\n",
       "      <td>-1.217664</td>\n",
       "      <td>0.446034</td>\n",
       "      <td>-1.021488</td>\n",
       "      <td>-0.503029</td>\n",
       "      <td>-0.177904</td>\n",
       "    </tr>\n",
       "    <tr>\n",
       "      <th>145858</th>\n",
       "      <td>-0.921423</td>\n",
       "      <td>-0.975177</td>\n",
       "      <td>0.030728</td>\n",
       "      <td>0.648317</td>\n",
       "      <td>0.154818</td>\n",
       "      <td>-2.571002</td>\n",
       "      <td>-0.678236</td>\n",
       "      <td>0.005975</td>\n",
       "      <td>1.342984</td>\n",
       "      <td>1.586249</td>\n",
       "      <td>-0.966309</td>\n",
       "      <td>0.007506</td>\n",
       "    </tr>\n",
       "    <tr>\n",
       "      <th>58658</th>\n",
       "      <td>-0.195895</td>\n",
       "      <td>-1.008830</td>\n",
       "      <td>0.934363</td>\n",
       "      <td>-1.715106</td>\n",
       "      <td>0.721715</td>\n",
       "      <td>0.161885</td>\n",
       "      <td>-0.678236</td>\n",
       "      <td>-1.217664</td>\n",
       "      <td>-0.450915</td>\n",
       "      <td>-1.011426</td>\n",
       "      <td>-0.946105</td>\n",
       "      <td>1.564998</td>\n",
       "    </tr>\n",
       "  </tbody>\n",
       "</table>\n",
       "</div>"
      ],
      "text/plain": [
       "        months_as_customer  policy_deductable  umbrella_limit  capital_gains   \n",
       "80335             0.628570          -0.846174       -0.951944      -0.517123  \\\n",
       "211998           -0.151923           1.068315       -0.634356       1.379212   \n",
       "33582             0.628570           1.101968        1.293500      -1.715106   \n",
       "145858           -0.921423          -0.975177        0.030728       0.648317   \n",
       "58658            -0.195895          -1.008830        0.934363      -1.715106   \n",
       "\n",
       "        capital_loss  incident_hour_of_the_day  number_of_vehicles_involved   \n",
       "80335       1.383880                 -2.571002                    -0.678236  \\\n",
       "211998      0.372671                  0.674301                     0.749108   \n",
       "33582      -0.439653                  0.674301                    -0.678236   \n",
       "145858      0.154818                 -2.571002                    -0.678236   \n",
       "58658       0.721715                  0.161885                    -0.678236   \n",
       "\n",
       "        bodily_injuries  witnesses  injury_claim  property_claim   \n",
       "80335         -1.217664   0.446034     -1.029314       -0.953348  \\\n",
       "211998         0.005975   1.342984     -0.554443       -0.963513   \n",
       "33582         -1.217664   0.446034     -1.021488       -0.503029   \n",
       "145858         0.005975   1.342984      1.586249       -0.966309   \n",
       "58658         -1.217664  -0.450915     -1.011426       -0.946105   \n",
       "\n",
       "        vehicle_claim  \n",
       "80335       -1.327724  \n",
       "211998      -1.234254  \n",
       "33582       -0.177904  \n",
       "145858       0.007506  \n",
       "58658        1.564998  "
      ]
     },
     "execution_count": 80,
     "metadata": {},
     "output_type": "execute_result"
    }
   ],
   "source": [
    "scaled_num_df_test = pd.DataFrame(data = scaled_data_test, columns = num_df_test.columns, index = X_test.index)\n",
    "scaled_num_df_test.head()"
   ]
  },
  {
   "cell_type": "code",
   "execution_count": 81,
   "id": "279e8a95",
   "metadata": {},
   "outputs": [],
   "source": [
    "X_train.drop(columns = scaled_num_df.columns, inplace = True)"
   ]
  },
  {
   "cell_type": "code",
   "execution_count": 82,
   "id": "c3f18e4c",
   "metadata": {},
   "outputs": [],
   "source": [
    "X_train = pd.concat([scaled_num_df, X_train], axis = 1)"
   ]
  },
  {
   "cell_type": "code",
   "execution_count": 83,
   "id": "11159f53",
   "metadata": {},
   "outputs": [],
   "source": [
    "X_test.drop(columns = scaled_num_df_test.columns, inplace = True)"
   ]
  },
  {
   "cell_type": "code",
   "execution_count": 84,
   "id": "6899602c",
   "metadata": {},
   "outputs": [],
   "source": [
    "X_test = pd.concat([scaled_num_df_test, X_test], axis = 1)"
   ]
  },
  {
   "cell_type": "markdown",
   "id": "3e398039",
   "metadata": {},
   "source": [
    "# Decision Tree"
   ]
  },
  {
   "cell_type": "code",
   "execution_count": 85,
   "id": "c47dde4e",
   "metadata": {},
   "outputs": [
    {
     "data": {
      "text/html": [
       "<style>#sk-container-id-2 {color: black;background-color: white;}#sk-container-id-2 pre{padding: 0;}#sk-container-id-2 div.sk-toggleable {background-color: white;}#sk-container-id-2 label.sk-toggleable__label {cursor: pointer;display: block;width: 100%;margin-bottom: 0;padding: 0.3em;box-sizing: border-box;text-align: center;}#sk-container-id-2 label.sk-toggleable__label-arrow:before {content: \"▸\";float: left;margin-right: 0.25em;color: #696969;}#sk-container-id-2 label.sk-toggleable__label-arrow:hover:before {color: black;}#sk-container-id-2 div.sk-estimator:hover label.sk-toggleable__label-arrow:before {color: black;}#sk-container-id-2 div.sk-toggleable__content {max-height: 0;max-width: 0;overflow: hidden;text-align: left;background-color: #f0f8ff;}#sk-container-id-2 div.sk-toggleable__content pre {margin: 0.2em;color: black;border-radius: 0.25em;background-color: #f0f8ff;}#sk-container-id-2 input.sk-toggleable__control:checked~div.sk-toggleable__content {max-height: 200px;max-width: 100%;overflow: auto;}#sk-container-id-2 input.sk-toggleable__control:checked~label.sk-toggleable__label-arrow:before {content: \"▾\";}#sk-container-id-2 div.sk-estimator input.sk-toggleable__control:checked~label.sk-toggleable__label {background-color: #d4ebff;}#sk-container-id-2 div.sk-label input.sk-toggleable__control:checked~label.sk-toggleable__label {background-color: #d4ebff;}#sk-container-id-2 input.sk-hidden--visually {border: 0;clip: rect(1px 1px 1px 1px);clip: rect(1px, 1px, 1px, 1px);height: 1px;margin: -1px;overflow: hidden;padding: 0;position: absolute;width: 1px;}#sk-container-id-2 div.sk-estimator {font-family: monospace;background-color: #f0f8ff;border: 1px dotted black;border-radius: 0.25em;box-sizing: border-box;margin-bottom: 0.5em;}#sk-container-id-2 div.sk-estimator:hover {background-color: #d4ebff;}#sk-container-id-2 div.sk-parallel-item::after {content: \"\";width: 100%;border-bottom: 1px solid gray;flex-grow: 1;}#sk-container-id-2 div.sk-label:hover label.sk-toggleable__label {background-color: #d4ebff;}#sk-container-id-2 div.sk-serial::before {content: \"\";position: absolute;border-left: 1px solid gray;box-sizing: border-box;top: 0;bottom: 0;left: 50%;z-index: 0;}#sk-container-id-2 div.sk-serial {display: flex;flex-direction: column;align-items: center;background-color: white;padding-right: 0.2em;padding-left: 0.2em;position: relative;}#sk-container-id-2 div.sk-item {position: relative;z-index: 1;}#sk-container-id-2 div.sk-parallel {display: flex;align-items: stretch;justify-content: center;background-color: white;position: relative;}#sk-container-id-2 div.sk-item::before, #sk-container-id-2 div.sk-parallel-item::before {content: \"\";position: absolute;border-left: 1px solid gray;box-sizing: border-box;top: 0;bottom: 0;left: 50%;z-index: -1;}#sk-container-id-2 div.sk-parallel-item {display: flex;flex-direction: column;z-index: 1;position: relative;background-color: white;}#sk-container-id-2 div.sk-parallel-item:first-child::after {align-self: flex-end;width: 50%;}#sk-container-id-2 div.sk-parallel-item:last-child::after {align-self: flex-start;width: 50%;}#sk-container-id-2 div.sk-parallel-item:only-child::after {width: 0;}#sk-container-id-2 div.sk-dashed-wrapped {border: 1px dashed gray;margin: 0 0.4em 0.5em 0.4em;box-sizing: border-box;padding-bottom: 0.4em;background-color: white;}#sk-container-id-2 div.sk-label label {font-family: monospace;font-weight: bold;display: inline-block;line-height: 1.2em;}#sk-container-id-2 div.sk-label-container {text-align: center;}#sk-container-id-2 div.sk-container {/* jupyter's `normalize.less` sets `[hidden] { display: none; }` but bootstrap.min.css set `[hidden] { display: none !important; }` so we also need the `!important` here to be able to override the default hidden behavior on the sphinx rendered scikit-learn.org. See: https://github.com/scikit-learn/scikit-learn/issues/21755 */display: inline-block !important;position: relative;}#sk-container-id-2 div.sk-text-repr-fallback {display: none;}</style><div id=\"sk-container-id-2\" class=\"sk-top-container\"><div class=\"sk-text-repr-fallback\"><pre>DecisionTreeClassifier()</pre><b>In a Jupyter environment, please rerun this cell to show the HTML representation or trust the notebook. <br />On GitHub, the HTML representation is unable to render, please try loading this page with nbviewer.org.</b></div><div class=\"sk-container\" hidden><div class=\"sk-item\"><div class=\"sk-estimator sk-toggleable\"><input class=\"sk-toggleable__control sk-hidden--visually\" id=\"sk-estimator-id-2\" type=\"checkbox\" checked><label for=\"sk-estimator-id-2\" class=\"sk-toggleable__label sk-toggleable__label-arrow\">DecisionTreeClassifier</label><div class=\"sk-toggleable__content\"><pre>DecisionTreeClassifier()</pre></div></div></div></div></div>"
      ],
      "text/plain": [
       "DecisionTreeClassifier()"
      ]
     },
     "execution_count": 85,
     "metadata": {},
     "output_type": "execute_result"
    }
   ],
   "source": [
    "#from sklearn.tree import DecisionTreeClassifier\n",
    "dtc = DecisionTreeClassifier()\n",
    "dtc.fit(X_train, y_train)"
   ]
  },
  {
   "cell_type": "code",
   "execution_count": 86,
   "id": "797d22a1",
   "metadata": {},
   "outputs": [],
   "source": [
    "y_pred = dtc.predict(X_test)"
   ]
  },
  {
   "cell_type": "code",
   "execution_count": 87,
   "id": "9b41528c",
   "metadata": {
    "scrolled": true
   },
   "outputs": [
    {
     "name": "stdout",
     "output_type": "stream",
     "text": [
      "Training accuracy of Decision Tree is : 1.0\n",
      "Test accuracy of Decision Tree is : 0.9941605340891628\n",
      "[[ 8505   130]\n",
      " [  212 49720]]\n",
      "                   precision    recall  f1-score   support\n",
      "\n",
      "   Fraud Reported       0.98      0.98      0.98      8635\n",
      "No Fraud Reported       1.00      1.00      1.00     49932\n",
      "\n",
      "         accuracy                           0.99     58567\n",
      "        macro avg       0.99      0.99      0.99     58567\n",
      "     weighted avg       0.99      0.99      0.99     58567\n",
      "\n"
     ]
    }
   ],
   "source": [
    "dtc_train_acc = accuracy_score(y_train, dtc.predict(X_train))\n",
    "dtc_test_acc = accuracy_score(y_test, y_pred)\n",
    "\n",
    "print(f\"Training accuracy of Decision Tree is : {dtc_train_acc}\")\n",
    "print(f\"Test accuracy of Decision Tree is : {dtc_test_acc}\")\n",
    "\n",
    "print(confusion_matrix(y_test, y_pred))\n",
    "print(classification_report(y_test, y_pred))"
   ]
  },
  {
   "cell_type": "code",
   "execution_count": 88,
   "id": "40a70645",
   "metadata": {},
   "outputs": [],
   "source": [
    "actual_model_columns = ['months_as_customer',\n",
    " 'policy_deductable',\n",
    " 'umbrella_limit',\n",
    " 'capital_gains',\n",
    " 'capital_loss',\n",
    " 'incident_hour_of_the_day',\n",
    " 'number_of_vehicles_involved',\n",
    " 'bodily_injuries',\n",
    " 'witnesses',\n",
    " 'injury_claim',\n",
    " 'property_claim',\n",
    " 'vehicle_claim',\n",
    " 'policy_annual_premium',\n",
    " 'total_claim_amount',\n",
    " 'customer_age_20',\n",
    " 'customer_age_21',\n",
    " 'customer_age_22',\n",
    " 'customer_age_23',\n",
    " 'customer_age_24',\n",
    " 'customer_age_25',\n",
    " 'customer_age_26',\n",
    " 'customer_age_27',\n",
    " 'customer_age_28',\n",
    " 'customer_age_29',\n",
    " 'customer_age_30',\n",
    " 'customer_age_31',\n",
    " 'customer_age_32',\n",
    " 'customer_age_33',\n",
    " 'customer_age_34',\n",
    " 'customer_age_35',\n",
    " 'customer_age_36',\n",
    " 'customer_age_37',\n",
    " 'customer_age_38',\n",
    " 'customer_age_39',\n",
    " 'customer_age_40',\n",
    " 'customer_age_41',\n",
    " 'customer_age_42',\n",
    " 'customer_age_43',\n",
    " 'customer_age_44',\n",
    " 'customer_age_45',\n",
    " 'customer_age_46',\n",
    " 'customer_age_47',\n",
    " 'customer_age_48',\n",
    " 'customer_age_49',\n",
    " 'customer_age_50',\n",
    " 'customer_age_51',\n",
    " 'customer_age_52',\n",
    " 'customer_age_53',\n",
    " 'customer_age_54',\n",
    " 'customer_age_55',\n",
    " 'customer_age_56',\n",
    " 'customer_age_57',\n",
    " 'customer_age_58',\n",
    " 'customer_age_59',\n",
    " 'customer_age_60',\n",
    " 'customer_age_61',\n",
    " 'customer_age_62',\n",
    " 'customer_age_63',\n",
    " 'customer_age_64',\n",
    " 'customer_age_65',\n",
    " 'customer_age_66',\n",
    " 'customer_age_67',\n",
    " 'customer_age_68',\n",
    " 'customer_age_69',\n",
    " 'policy_csl_250/500',\n",
    " 'policy_csl_500/1000',\n",
    " 'insured_sex_MALE',\n",
    " 'insured_education_level_College',\n",
    " 'insured_education_level_High School',\n",
    " 'insured_education_level_JD',\n",
    " 'insured_education_level_MD',\n",
    " 'insured_education_level_Masters',\n",
    " 'insured_education_level_PhD',\n",
    " 'insured_occupation_armed-forces',\n",
    " 'insured_occupation_craft-repair',\n",
    " 'insured_occupation_exec-managerial',\n",
    " 'insured_occupation_farming-fishing',\n",
    " 'insured_occupation_handlers-cleaners',\n",
    " 'insured_occupation_machine-op-inspct',\n",
    " 'insured_occupation_other-service',\n",
    " 'insured_occupation_priv-house-serv',\n",
    " 'insured_occupation_prof-specialty',\n",
    " 'insured_occupation_protective-serv',\n",
    " 'insured_occupation_sales',\n",
    " 'insured_occupation_tech-support',\n",
    " 'insured_occupation_transport-moving',\n",
    " 'insured_relationship_not-in-family',\n",
    " 'insured_relationship_other-relative',\n",
    " 'insured_relationship_own-child',\n",
    " 'insured_relationship_unmarried',\n",
    " 'insured_relationship_wife',\n",
    " 'incident_type_Parked Car',\n",
    " 'incident_type_Single Vehicle Collision',\n",
    " 'incident_type_Vehicle Theft',\n",
    " 'collision_type_Front Collision',\n",
    " 'collision_type_Rear Collision',\n",
    " 'collision_type_Side Collision',\n",
    " 'incident_severity_Minor Damage',\n",
    " 'incident_severity_Total Loss',\n",
    " 'authorities_contacted_Fire',\n",
    " 'authorities_contacted_None',\n",
    " 'authorities_contacted_Other',\n",
    " 'authorities_contacted_Police',\n",
    " 'incident_time_of_day_Early Morning Hours',\n",
    " 'incident_time_of_day_Morning to Noon',\n",
    " 'incident_time_of_day_Night Time',\n",
    " 'property_damage_No Property Damage',\n",
    " 'property_damage_Property Damage',\n",
    " 'police_report_available_Police Report Available',\n",
    " 'police_report_available_Unknown']"
   ]
  },
  {
   "cell_type": "code",
   "execution_count": 89,
   "id": "293e583a",
   "metadata": {},
   "outputs": [],
   "source": [
    "@scoring_func\n",
    "def score(model, request):\n",
    "    payload_dict = request.json[\"payload\"]\n",
    "    df = pd.DataFrame(payload_dict,index=[0])\n",
    "    df = df.fillna(0)\n",
    "    df.columns = df.columns.str.lower()\n",
    "    df.drop(to_drop, inplace=True, axis=1)\n",
    "    \n",
    "    # extracting categorical columns\n",
    "    cat_df = df[['customer_age','policy_csl','insured_sex','insured_education_level','insured_occupation','insured_relationship','incident_type','collision_type','incident_severity','authorities_contacted','incident_time_of_day','property_damage','police_report_available']]\n",
    "    cat_df = pd.get_dummies(cat_df, drop_first = True)\n",
    "\n",
    "    num_df = df[['months_as_customer', 'policy_deductable', 'policy_annual_premium',\n",
    "       'umbrella_limit', 'capital_gains', 'capital_loss',\n",
    "       'incident_hour_of_the_day', 'number_of_vehicles_involved',\n",
    "       'bodily_injuries', 'witnesses', 'total_claim_amount', 'injury_claim',\n",
    "       'property_claim', 'vehicle_claim']]\n",
    "    \n",
    "    X = pd.concat([num_df, cat_df], axis = 1)\n",
    "    \n",
    "    num_df_test = X[['months_as_customer', 'policy_deductable', 'umbrella_limit',\n",
    "       'capital_gains', 'capital_loss', 'incident_hour_of_the_day',\n",
    "       'number_of_vehicles_involved', 'bodily_injuries', 'witnesses', 'injury_claim', 'property_claim',\n",
    "       'vehicle_claim']]\n",
    "\n",
    "    scaled_data_test = scaler.transform(num_df_test)\n",
    "    scaled_num_df_test = pd.DataFrame(data = scaled_data_test, columns = num_df_test.columns, index = X.index)\n",
    "    \n",
    "    X.drop(columns = scaled_num_df_test.columns, inplace = True)\n",
    "    X = pd.concat([scaled_num_df_test, X], axis = 1)\n",
    "    \n",
    "    missing_features = [missing_col for missing_col in actual_model_columns if missing_col not in X.columns]\n",
    "    X[missing_features] = 0\n",
    "    \n",
    "    prediction = model.predict(X[actual_model_columns])\n",
    "    probability = model.predict_proba(X)[:,1]\n",
    "    return {\"prediction\" : prediction, \"probability\" : probability}"
   ]
  },
  {
   "cell_type": "markdown",
   "id": "a98d4022",
   "metadata": {},
   "source": [
    "# Dump all the required artifacts into Pickle file"
   ]
  },
  {
   "cell_type": "code",
   "execution_count": 90,
   "id": "6cc85341",
   "metadata": {},
   "outputs": [],
   "source": [
    "import pickle"
   ]
  },
  {
   "cell_type": "code",
   "execution_count": 91,
   "id": "50c16387",
   "metadata": {},
   "outputs": [],
   "source": [
    "with open('/data/Output/Fraud_Classifier/Decisiontree_Fraudclassifier_v1.pkl', 'wb') as f:  # open a text file\n",
    "    pickle.dump(dtc, f) # serialize the list\n",
    "    \n",
    "with open('model_artifacts/Decisiontree_Fraudclassifier_v1.pkl', 'wb') as f:  # open a text file\n",
    "    pickle.dump(dtc, f) # serialize the list"
   ]
  },
  {
   "cell_type": "code",
   "execution_count": 92,
   "id": "7064661b",
   "metadata": {},
   "outputs": [],
   "source": [
    "with open('/data/Output/Fraud_Classifier/to_drop.pkl', 'wb') as f:  # open a text file\n",
    "    pickle.dump(to_drop, f) # serialize the list\n",
    "    \n",
    "with open('model_artifacts/to_drop.pkl', 'wb') as f:  # open a text file\n",
    "    pickle.dump(to_drop, f) # serialize the list"
   ]
  },
  {
   "cell_type": "code",
   "execution_count": 93,
   "id": "7edbb430",
   "metadata": {},
   "outputs": [],
   "source": [
    "cat_col = ['customer_age','policy_csl','insured_sex','insured_education_level','insured_occupation','insured_relationship',\n",
    "'incident_type','collision_type','incident_severity','authorities_contacted','incident_time_of_day','property_damage','police_report_available']\n",
    "\n",
    "with open('/data/Output/Fraud_Classifier/cat_col.pkl', 'wb') as f:  # open a text file\n",
    "    pickle.dump(cat_col, f) # serialize the list\n",
    "\n",
    "with open('model_artifacts/cat_col.pkl', 'wb') as f:  # open a text file\n",
    "    pickle.dump(cat_col, f) # serialize the list"
   ]
  },
  {
   "cell_type": "code",
   "execution_count": 94,
   "id": "4078090e",
   "metadata": {},
   "outputs": [],
   "source": [
    "num_col = ['months_as_customer', 'policy_deductable', 'policy_annual_premium',\n",
    "       'umbrella_limit', 'capital_gains', 'capital_loss',\n",
    "       'incident_hour_of_the_day', 'number_of_vehicles_involved',\n",
    "       'bodily_injuries', 'witnesses', 'total_claim_amount', 'injury_claim',\n",
    "       'property_claim', 'vehicle_claim']\n",
    "\n",
    "with open('/data/Output/Fraud_Classifier/num_col.pkl', 'wb') as f:  # open a text file\n",
    "    pickle.dump(num_col, f) # serialize the list\n",
    "    \n",
    "with open('model_artifacts/num_col.pkl', 'wb') as f:  # open a text file\n",
    "    pickle.dump(num_col, f) # serialize the list"
   ]
  },
  {
   "cell_type": "code",
   "execution_count": 95,
   "id": "034a8dd0",
   "metadata": {},
   "outputs": [],
   "source": [
    "num_col_test = ['months_as_customer', 'policy_deductable', 'umbrella_limit',\n",
    "       'capital_gains', 'capital_loss', 'incident_hour_of_the_day',\n",
    "       'number_of_vehicles_involved', 'bodily_injuries', 'witnesses', 'injury_claim', 'property_claim',\n",
    "       'vehicle_claim']\n",
    "\n",
    "with open('/data/Output/Fraud_Classifier/num_col_test.pkl', 'wb') as f:  # open a text file\n",
    "    pickle.dump(num_col_test, f) # serialize the list\n",
    "\n",
    "with open('model_artifacts/num_col_test.pkl', 'wb') as f:  # open a text file\n",
    "    pickle.dump(num_col_test, f) # serialize the list"
   ]
  },
  {
   "cell_type": "code",
   "execution_count": 96,
   "id": "8f7be264",
   "metadata": {},
   "outputs": [],
   "source": [
    "with open('/data/Output/Fraud_Classifier/scaler.pkl', 'wb') as f:  # open a text file\n",
    "    pickle.dump(scaler, f) # serialize the list\n",
    "\n",
    "with open('model_artifacts/scaler.pkl', 'wb') as f:  # open a text file\n",
    "    pickle.dump(scaler, f) # serialize the list"
   ]
  },
  {
   "cell_type": "code",
   "execution_count": 97,
   "id": "705efa65",
   "metadata": {},
   "outputs": [],
   "source": [
    "with open('/data/Output/Fraud_Classifier/actual_model_columns.pkl', 'wb') as f:  # open a text file\n",
    "    pickle.dump(actual_model_columns, f) # serialize the list\n",
    "    \n",
    "with open('model_artifacts/actual_model_columns.pkl', 'wb') as f:  # open a text file\n",
    "    pickle.dump(actual_model_columns, f) # serialize the list"
   ]
  },
  {
   "cell_type": "markdown",
   "id": "94188e63",
   "metadata": {},
   "source": [
    "# Sample Code for Payload"
   ]
  },
  {
   "cell_type": "code",
   "execution_count": 110,
   "id": "4027c115",
   "metadata": {},
   "outputs": [],
   "source": [
    "insurance_claim.columns = insurance_claim.columns.str.upper()\n",
    "insurance_claims = insurance_claim.copy()\n",
    "insurance_claims.drop('FRAUD_REPORTED', axis = 1, inplace=True)\n",
    "#payload = insurance_claims.iloc[0].to_dict()\n",
    "payload = actual_inference.iloc[0].to_dict()"
   ]
  },
  {
   "cell_type": "code",
   "execution_count": 111,
   "id": "5ca64cbe",
   "metadata": {
    "scrolled": true
   },
   "outputs": [
    {
     "data": {
      "text/plain": [
       "{'months_as_customer': 213,\n",
       " 'customer_age': '66',\n",
       " 'policy_number': 432849,\n",
       " 'policy_bind_date': '30-10-2001',\n",
       " 'policy_state': 'CT',\n",
       " 'policy_csl': '100/300',\n",
       " 'policy_deductable': 1546,\n",
       " 'policy_annual_premium': 2208,\n",
       " 'umbrella_limit': 4146654,\n",
       " 'insured_zip': '604147',\n",
       " 'insured_sex': 'MALE',\n",
       " 'insured_education_level': 'JD',\n",
       " 'insured_occupation': 'craft-repair',\n",
       " 'insured_hobbies': 'camping',\n",
       " 'insured_relationship': 'not-in-family',\n",
       " 'capital_gains': 67272,\n",
       " 'capital_loss': -65017,\n",
       " 'incident_date': datetime.date(2021, 11, 12),\n",
       " 'incident_type': 'Single Vehicle Collision',\n",
       " 'collision_type': 'Details not Available',\n",
       " 'incident_severity': 'Major Damage',\n",
       " 'authorities_contacted': 'Other',\n",
       " 'incident_state': 'CT',\n",
       " 'incident_city': 'Hartford',\n",
       " 'incident_location': 'Flute',\n",
       " 'incident_hour_of_the_day': 20,\n",
       " 'incident_time_of_day': 'Night Time',\n",
       " 'number_of_vehicles_involved': 1,\n",
       " 'property_damage': 'No Property Damage',\n",
       " 'bodily_injuries': 2,\n",
       " 'witnesses': 3,\n",
       " 'police_report_available': 'No Police Report Available',\n",
       " 'total_claim_amount': 71085.0,\n",
       " 'injury_claim': 17655.0,\n",
       " 'property_claim': 1045.0,\n",
       " 'vehicle_claim': 52385.0,\n",
       " 'auto_make': 'Toyota',\n",
       " 'auto_model': 'Camry',\n",
       " 'auto_year': 1999}"
      ]
     },
     "execution_count": 111,
     "metadata": {},
     "output_type": "execute_result"
    }
   ],
   "source": [
    "payload"
   ]
  },
  {
   "cell_type": "code",
   "execution_count": 112,
   "id": "4c06046d",
   "metadata": {},
   "outputs": [
    {
     "data": {
      "text/plain": [
       "{'prediction': array(['No Fraud Reported'], dtype=object),\n",
       " 'probability': array([1.])}"
      ]
     },
     "execution_count": 112,
     "metadata": {},
     "output_type": "execute_result"
    }
   ],
   "source": [
    "req = requests.Request()\n",
    "req.json = {\"payload\":payload}\n",
    "y_req = req\n",
    "y_out = score(dtc, y_req)\n",
    "y_out"
   ]
  },
  {
   "cell_type": "code",
   "execution_count": 113,
   "id": "0cdbb6de",
   "metadata": {},
   "outputs": [
    {
     "data": {
      "text/plain": [
       "{'payload': {'months_as_customer': 213,\n",
       "  'customer_age': '66',\n",
       "  'policy_number': 432849,\n",
       "  'policy_bind_date': '30-10-2001',\n",
       "  'policy_state': 'CT',\n",
       "  'policy_csl': '100/300',\n",
       "  'policy_deductable': 1546,\n",
       "  'policy_annual_premium': 2208,\n",
       "  'umbrella_limit': 4146654,\n",
       "  'insured_zip': '604147',\n",
       "  'insured_sex': 'MALE',\n",
       "  'insured_education_level': 'JD',\n",
       "  'insured_occupation': 'craft-repair',\n",
       "  'insured_hobbies': 'camping',\n",
       "  'insured_relationship': 'not-in-family',\n",
       "  'capital_gains': 67272,\n",
       "  'capital_loss': -65017,\n",
       "  'incident_date': datetime.date(2021, 11, 12),\n",
       "  'incident_type': 'Single Vehicle Collision',\n",
       "  'collision_type': 'Details not Available',\n",
       "  'incident_severity': 'Major Damage',\n",
       "  'authorities_contacted': 'Other',\n",
       "  'incident_state': 'CT',\n",
       "  'incident_city': 'Hartford',\n",
       "  'incident_location': 'Flute',\n",
       "  'incident_hour_of_the_day': 20,\n",
       "  'incident_time_of_day': 'Night Time',\n",
       "  'number_of_vehicles_involved': 1,\n",
       "  'property_damage': 'No Property Damage',\n",
       "  'bodily_injuries': 2,\n",
       "  'witnesses': 3,\n",
       "  'police_report_available': 'No Police Report Available',\n",
       "  'total_claim_amount': 71085.0,\n",
       "  'injury_claim': 17655.0,\n",
       "  'property_claim': 1045.0,\n",
       "  'vehicle_claim': 52385.0,\n",
       "  'auto_make': 'Toyota',\n",
       "  'auto_model': 'Camry',\n",
       "  'auto_year': 1999}}"
      ]
     },
     "execution_count": 113,
     "metadata": {},
     "output_type": "execute_result"
    }
   ],
   "source": [
    "req.json"
   ]
  },
  {
   "cell_type": "code",
   "execution_count": 115,
   "id": "fa62ddbf",
   "metadata": {},
   "outputs": [],
   "source": [
    "y_pred = dtc.predict(X_test)\n",
    "y_prob = dtc.predict_proba(X_test)[:,1]"
   ]
  },
  {
   "cell_type": "code",
   "execution_count": 116,
   "id": "d2c11a3c",
   "metadata": {},
   "outputs": [
    {
     "data": {
      "text/plain": [
       "array(['Fraud Reported', 'No Fraud Reported', 'No Fraud Reported', ...,\n",
       "       'No Fraud Reported', 'No Fraud Reported', 'Fraud Reported'],\n",
       "      dtype=object)"
      ]
     },
     "execution_count": 116,
     "metadata": {},
     "output_type": "execute_result"
    }
   ],
   "source": [
    "y_pred"
   ]
  },
  {
   "cell_type": "code",
   "execution_count": 117,
   "id": "cdc19f62",
   "metadata": {},
   "outputs": [
    {
     "data": {
      "text/plain": [
       "array([0., 1., 1., ..., 1., 1., 0.])"
      ]
     },
     "execution_count": 117,
     "metadata": {},
     "output_type": "execute_result"
    }
   ],
   "source": [
    "y_prob"
   ]
  },
  {
   "cell_type": "code",
   "execution_count": 118,
   "id": "26e0a320",
   "metadata": {
    "scrolled": true
   },
   "outputs": [
    {
     "name": "stdout",
     "output_type": "stream",
     "text": [
      "Calculating build time metrics\n",
      "\n",
      "Progress: ██████████████████████████████████████████████████████████████████████ 100.0%\n"
     ]
    },
    {
     "data": {
      "application/vnd.jupyter.widget-view+json": {
       "model_id": "36346deb8925474fa4b8145ab0b9dc5b",
       "version_major": 2,
       "version_minor": 0
      },
      "text/plain": [
       "VBox(children=(HTML(value='<style>.grad_1{background: #2468a4;} .grad_2{ color:white; background: #2468a4;}</s…"
      ]
     },
     "metadata": {},
     "output_type": "display_data"
    }
   ],
   "source": [
    "## registering the model in Fosfor Insight Designer.\n",
    "model_reg = register_model(dtc, \n",
    "               score, \n",
    "               name=\"Claims_Fraud_DTree_Classifier\", \n",
    "               description=\"Insurance claim's model trained for Fraud Classification\",\n",
    "               flavour=MLModelFlavours.sklearn,\n",
    "               model_type=\"classification\",\n",
    "               init_script=\"snowflake-connector-python[pandas]\",\n",
    "               y_true=y_test,\n",
    "               y_pred=y_pred, \n",
    "               prob=y_prob,\n",
    "               features=X_train.columns,\n",
    "               input_type=\"json\", \n",
    "               explain_ai=True,\n",
    "               x_train=X_train, \n",
    "               x_test=X_test, \n",
    "               y_train=y_train.tolist(),\n",
    "               y_test=y_test.tolist(),\n",
    "               feature_names=X_train.columns.tolist(),\n",
    "               original_features=X_train.columns.tolist(),\n",
    "               feature_ids=X_train.columns,\n",
    "               kyd=True, kyd_score = True)"
   ]
  },
  {
   "cell_type": "markdown",
   "id": "7efd9372",
   "metadata": {},
   "source": [
    "# Version 2 of Decision Tree Fraud Classifier Model"
   ]
  },
  {
   "cell_type": "code",
   "execution_count": 125,
   "id": "85ee5a3f",
   "metadata": {},
   "outputs": [
    {
     "data": {
      "text/html": [
       "<style>#sk-container-id-6 {color: black;background-color: white;}#sk-container-id-6 pre{padding: 0;}#sk-container-id-6 div.sk-toggleable {background-color: white;}#sk-container-id-6 label.sk-toggleable__label {cursor: pointer;display: block;width: 100%;margin-bottom: 0;padding: 0.3em;box-sizing: border-box;text-align: center;}#sk-container-id-6 label.sk-toggleable__label-arrow:before {content: \"▸\";float: left;margin-right: 0.25em;color: #696969;}#sk-container-id-6 label.sk-toggleable__label-arrow:hover:before {color: black;}#sk-container-id-6 div.sk-estimator:hover label.sk-toggleable__label-arrow:before {color: black;}#sk-container-id-6 div.sk-toggleable__content {max-height: 0;max-width: 0;overflow: hidden;text-align: left;background-color: #f0f8ff;}#sk-container-id-6 div.sk-toggleable__content pre {margin: 0.2em;color: black;border-radius: 0.25em;background-color: #f0f8ff;}#sk-container-id-6 input.sk-toggleable__control:checked~div.sk-toggleable__content {max-height: 200px;max-width: 100%;overflow: auto;}#sk-container-id-6 input.sk-toggleable__control:checked~label.sk-toggleable__label-arrow:before {content: \"▾\";}#sk-container-id-6 div.sk-estimator input.sk-toggleable__control:checked~label.sk-toggleable__label {background-color: #d4ebff;}#sk-container-id-6 div.sk-label input.sk-toggleable__control:checked~label.sk-toggleable__label {background-color: #d4ebff;}#sk-container-id-6 input.sk-hidden--visually {border: 0;clip: rect(1px 1px 1px 1px);clip: rect(1px, 1px, 1px, 1px);height: 1px;margin: -1px;overflow: hidden;padding: 0;position: absolute;width: 1px;}#sk-container-id-6 div.sk-estimator {font-family: monospace;background-color: #f0f8ff;border: 1px dotted black;border-radius: 0.25em;box-sizing: border-box;margin-bottom: 0.5em;}#sk-container-id-6 div.sk-estimator:hover {background-color: #d4ebff;}#sk-container-id-6 div.sk-parallel-item::after {content: \"\";width: 100%;border-bottom: 1px solid gray;flex-grow: 1;}#sk-container-id-6 div.sk-label:hover label.sk-toggleable__label {background-color: #d4ebff;}#sk-container-id-6 div.sk-serial::before {content: \"\";position: absolute;border-left: 1px solid gray;box-sizing: border-box;top: 0;bottom: 0;left: 50%;z-index: 0;}#sk-container-id-6 div.sk-serial {display: flex;flex-direction: column;align-items: center;background-color: white;padding-right: 0.2em;padding-left: 0.2em;position: relative;}#sk-container-id-6 div.sk-item {position: relative;z-index: 1;}#sk-container-id-6 div.sk-parallel {display: flex;align-items: stretch;justify-content: center;background-color: white;position: relative;}#sk-container-id-6 div.sk-item::before, #sk-container-id-6 div.sk-parallel-item::before {content: \"\";position: absolute;border-left: 1px solid gray;box-sizing: border-box;top: 0;bottom: 0;left: 50%;z-index: -1;}#sk-container-id-6 div.sk-parallel-item {display: flex;flex-direction: column;z-index: 1;position: relative;background-color: white;}#sk-container-id-6 div.sk-parallel-item:first-child::after {align-self: flex-end;width: 50%;}#sk-container-id-6 div.sk-parallel-item:last-child::after {align-self: flex-start;width: 50%;}#sk-container-id-6 div.sk-parallel-item:only-child::after {width: 0;}#sk-container-id-6 div.sk-dashed-wrapped {border: 1px dashed gray;margin: 0 0.4em 0.5em 0.4em;box-sizing: border-box;padding-bottom: 0.4em;background-color: white;}#sk-container-id-6 div.sk-label label {font-family: monospace;font-weight: bold;display: inline-block;line-height: 1.2em;}#sk-container-id-6 div.sk-label-container {text-align: center;}#sk-container-id-6 div.sk-container {/* jupyter's `normalize.less` sets `[hidden] { display: none; }` but bootstrap.min.css set `[hidden] { display: none !important; }` so we also need the `!important` here to be able to override the default hidden behavior on the sphinx rendered scikit-learn.org. See: https://github.com/scikit-learn/scikit-learn/issues/21755 */display: inline-block !important;position: relative;}#sk-container-id-6 div.sk-text-repr-fallback {display: none;}</style><div id=\"sk-container-id-6\" class=\"sk-top-container\"><div class=\"sk-text-repr-fallback\"><pre>DecisionTreeClassifier(random_state=7)</pre><b>In a Jupyter environment, please rerun this cell to show the HTML representation or trust the notebook. <br />On GitHub, the HTML representation is unable to render, please try loading this page with nbviewer.org.</b></div><div class=\"sk-container\" hidden><div class=\"sk-item\"><div class=\"sk-estimator sk-toggleable\"><input class=\"sk-toggleable__control sk-hidden--visually\" id=\"sk-estimator-id-6\" type=\"checkbox\" checked><label for=\"sk-estimator-id-6\" class=\"sk-toggleable__label sk-toggleable__label-arrow\">DecisionTreeClassifier</label><div class=\"sk-toggleable__content\"><pre>DecisionTreeClassifier(random_state=7)</pre></div></div></div></div></div>"
      ],
      "text/plain": [
       "DecisionTreeClassifier(random_state=7)"
      ]
     },
     "execution_count": 125,
     "metadata": {},
     "output_type": "execute_result"
    }
   ],
   "source": [
    "dtc = DecisionTreeClassifier(random_state=7)\n",
    "dtc.fit(X_train, y_train)"
   ]
  },
  {
   "cell_type": "code",
   "execution_count": 126,
   "id": "ab56741e",
   "metadata": {},
   "outputs": [],
   "source": [
    "y_pred = dtc.predict(X_test)\n",
    "y_prob = dtc.predict_proba(X_test)[:,1]"
   ]
  },
  {
   "cell_type": "code",
   "execution_count": 127,
   "id": "315745e4",
   "metadata": {},
   "outputs": [
    {
     "name": "stdout",
     "output_type": "stream",
     "text": [
      "Training accuracy of Decision Tree is : 1.0\n",
      "Test accuracy of Decision Tree is : 0.9941263851657076\n",
      "[[ 8305   156]\n",
      " [  188 49918]]\n",
      "                   precision    recall  f1-score   support\n",
      "\n",
      "   Fraud Reported       0.98      0.98      0.98      8461\n",
      "No Fraud Reported       1.00      1.00      1.00     50106\n",
      "\n",
      "         accuracy                           0.99     58567\n",
      "        macro avg       0.99      0.99      0.99     58567\n",
      "     weighted avg       0.99      0.99      0.99     58567\n",
      "\n"
     ]
    }
   ],
   "source": [
    "dtc_train_acc = accuracy_score(y_train, dtc.predict(X_train))\n",
    "dtc_test_acc = accuracy_score(y_test, y_pred)\n",
    "\n",
    "print(f\"Training accuracy of Decision Tree is : {dtc_train_acc}\")\n",
    "print(f\"Test accuracy of Decision Tree is : {dtc_test_acc}\")\n",
    "\n",
    "print(confusion_matrix(y_test, y_pred))\n",
    "print(classification_report(y_test, y_pred))"
   ]
  },
  {
   "cell_type": "code",
   "execution_count": 128,
   "id": "73fbd7da",
   "metadata": {},
   "outputs": [
    {
     "name": "stdout",
     "output_type": "stream",
     "text": [
      "Calculating build time metrics\n",
      "\n",
      "Progress: ██████████████████████████████████████████████████████████████████████ 100.0%\n"
     ]
    },
    {
     "data": {
      "application/vnd.jupyter.widget-view+json": {
       "model_id": "19eb1a8c2f9a4e12959f1ed7bc060742",
       "version_major": 2,
       "version_minor": 0
      },
      "text/plain": [
       "VBox(children=(HTML(value='<style>.grad_1{background: #2468a4;} .grad_2{ color:white; background: #2468a4;}</s…"
      ]
     },
     "metadata": {},
     "output_type": "display_data"
    }
   ],
   "source": [
    "## registering the model in Fosfor Insight Designer using same name.\n",
    "model_reg = register_model(dtc, \n",
    "               score, \n",
    "               name=\"Claims_Fraud_DTree_Classifier\", \n",
    "               description=\"Insurance claim's model trained for Fraud Classification\",\n",
    "               flavour=MLModelFlavours.sklearn,\n",
    "               model_type=\"classification\",\n",
    "               init_script=\"snowflake-connector-python[pandas]\",\n",
    "               y_true=y_test,\n",
    "               y_pred=y_pred, \n",
    "               prob=y_prob,\n",
    "               features=X_train.columns,\n",
    "               input_type=\"json\", \n",
    "               explain_ai=True,\n",
    "               x_train=X_train, \n",
    "               x_test=X_test, \n",
    "               y_train=y_train.tolist(),\n",
    "               y_test=y_test.tolist(),\n",
    "               feature_names=X_train.columns.tolist(),\n",
    "               original_features=X_train.columns.tolist(),\n",
    "               feature_ids=X_train.columns,\n",
    "               kyd=True, kyd_score = True)"
   ]
  }
 ],
 "metadata": {
  "kernelspec": {
   "display_name": "Python 3 (ipykernel)",
   "language": "python",
   "name": "python3"
  },
  "language_info": {
   "codemirror_mode": {
    "name": "ipython",
    "version": 3
   },
   "file_extension": ".py",
   "mimetype": "text/x-python",
   "name": "python",
   "nbconvert_exporter": "python",
   "pygments_lexer": "ipython3",
   "version": "3.9.19"
  }
 },
 "nbformat": 4,
 "nbformat_minor": 5
}
