{
 "cells": [
  {
   "cell_type": "markdown",
   "id": "d4054a6b",
   "metadata": {},
   "source": [
    "# Use Insurance Code Template Notebook Template"
   ]
  },
  {
   "cell_type": "markdown",
   "id": "398922cb",
   "metadata": {},
   "source": [
    "## Packages needed to run this notebook if running with inbuilt snowpark 3.8 template\n",
    "##### ! pip install \"snowflake-connector-python[pandas]\"\n",
    "##### ! sudo pip install snowflake-ml-python==1.0.11 -U\n",
    "##### ! pip install --upgrade snowflake-snowpark-python==1.9.0\n",
    "##### ! pip install --upgrade xgboost==1.7.3\n",
    "##### ! pip install --upgrade numpy==1.24.3\n",
    "##### ! pip install --upgrade pandas==1.5.3\n",
    "##### ! pip install --upgrade anyio==3.5.0\n",
    "##### ! pip install --upgrade packaging==23.1\n",
    "##### ! pip install --upgrade scikit-learn==1.3.0\n",
    "##### ! pip install --upgrade typing-extensions==4.7.1\n",
    "##### ! pip install --upgrade cryptography==39.0.0\n",
    "##### ! pip install --upgrade fsspec==2023.9.2\n",
    "##### ! pip install fosforio\n",
    "##### ! pip install fosforml"
   ]
  },
  {
   "cell_type": "code",
   "execution_count": 79,
   "id": "defc70a3",
   "metadata": {},
   "outputs": [],
   "source": [
    "from snowflake.snowpark import Session\n",
    "from snowflake.ml.modeling.pipeline import Pipeline\n",
    "from snowflake.ml.modeling.xgboost import XGBRegressor\n",
    "from snowflake.ml.modeling.preprocessing import MinMaxScaler, OrdinalEncoder, OneHotEncoder\n",
    "# import seaborn as sns\n",
    "from sklearn.metrics import mean_absolute_percentage_error\n",
    "# Pandas Tools\n",
    "from snowflake.connector.pandas_tools import write_pandas\n",
    "# Data Science Libs\n",
    "import numpy as np\n",
    "import pandas as pd\n",
    "# create_temp_table warning suppresion\n",
    "import warnings; warnings.simplefilter('ignore')\n",
    "from joblib import dump, load\n",
    "# FosforIO to read from snowflake\n",
    "from fosforio import snowflake\n",
    "# FosforML to register Model on FDC\n",
    "from fosforml import *\n",
    "from fosforml.constants import MLModelFlavours\n",
    "import requests"
   ]
  },
  {
   "cell_type": "markdown",
   "id": "2629119b",
   "metadata": {},
   "source": [
    "# Read data using Snowflake's Snowpark"
   ]
  },
  {
   "cell_type": "code",
   "execution_count": 80,
   "id": "8df797df",
   "metadata": {},
   "outputs": [],
   "source": [
    "#Import all snowflake connection details from Template or Project variables.\n",
    "db_user = os.getenv('Snowflake_user')\n",
    "db_password =  os.getenv('Snowflake_password')\n",
    "db_account = os.getenv('Snowflake_Account')\n",
    "db_database =  os.getenv('Snowflake_Database')\n",
    "db_role = os.getenv('Snowflake_user')\n",
    "db_warehouse = os.getenv('Snowflake_Warehouse')\n",
    "db_schema = os.getenv('Snowflake_Schema')"
   ]
  },
  {
   "cell_type": "code",
   "execution_count": 81,
   "id": "ce37e9c1",
   "metadata": {},
   "outputs": [],
   "source": [
    "from snowflake.snowpark.session import Session\n",
    "connection_params = {\n",
    "    'user': db_user,\n",
    "    'password': db_password,\n",
    "    'account': db_account,\n",
    "    'warehouse': db_warehouse,\n",
    "    'database': db_database,\n",
    "    'schema': db_schema,\n",
    "    'role': db_role\n",
    "}\n",
    "session = Session.builder.configs(connection_params).create()"
   ]
  },
  {
   "cell_type": "code",
   "execution_count": 82,
   "id": "4eb9674a",
   "metadata": {},
   "outputs": [],
   "source": [
    "session.sql('use warehouse FOSFOR_SOLUTIONS_WH;').collect()\n",
    "session.sql('use database FDC_Insurance;').collect()\n",
    "session.sql('use schema FDC_Insurance.PUBLIC;').collect()\n",
    "\n",
    "df = session.table('FDC_Insurance.PUBLIC.AUTO_INSURANCE_CLAIMS_DATA')\n",
    "#df = session.table('FDC_Insurance.PUBLIC.AUTO_INSURANCE_CLAIMS_DATA_PRODUCT')"
   ]
  },
  {
   "cell_type": "code",
   "execution_count": 83,
   "id": "e87d31c1",
   "metadata": {},
   "outputs": [],
   "source": [
    "df_backup = df.to_pandas().copy()"
   ]
  },
  {
   "cell_type": "markdown",
   "id": "4cdd8189",
   "metadata": {},
   "source": [
    "# 1. Claim Amount XGB Snowflake Model Prediction"
   ]
  },
  {
   "cell_type": "code",
   "execution_count": 84,
   "id": "f1bab506",
   "metadata": {},
   "outputs": [],
   "source": [
    "from joblib import dump, load\n",
    "filename = \"Claims_Snowpark_XGB_Regression.joblib\" #Model version 1"
   ]
  },
  {
   "cell_type": "code",
   "execution_count": 85,
   "id": "d4a910bc",
   "metadata": {},
   "outputs": [],
   "source": [
    "# Load the Snowflake's Snowpark XGB model\n",
    "model = load('model_artifacts/' + filename)"
   ]
  },
  {
   "cell_type": "code",
   "execution_count": 86,
   "id": "1d1ec498",
   "metadata": {},
   "outputs": [],
   "source": [
    "df = df.to_pandas().replace(np.nan, pd.isna)"
   ]
  },
  {
   "cell_type": "code",
   "execution_count": 87,
   "id": "73a9622a",
   "metadata": {},
   "outputs": [],
   "source": [
    "df[\"AUTO_YEAR\"] = df[\"AUTO_YEAR\"].astype(str)"
   ]
  },
  {
   "cell_type": "code",
   "execution_count": 88,
   "id": "e91b318c",
   "metadata": {},
   "outputs": [],
   "source": [
    "pred = model.predict(df)\n",
    "df_backup[\"CLAIM_AMOUNT_PREDICTION\"] = pred[\"PREDICTION\"]"
   ]
  },
  {
   "cell_type": "markdown",
   "id": "9c1a6e80",
   "metadata": {},
   "source": [
    "# Merge XGB Model output in a back up dataframe for reference"
   ]
  },
  {
   "cell_type": "code",
   "execution_count": 89,
   "id": "3998f21a",
   "metadata": {
    "scrolled": true
   },
   "outputs": [
    {
     "data": {
      "text/html": [
       "<div>\n",
       "<style scoped>\n",
       "    .dataframe tbody tr th:only-of-type {\n",
       "        vertical-align: middle;\n",
       "    }\n",
       "\n",
       "    .dataframe tbody tr th {\n",
       "        vertical-align: top;\n",
       "    }\n",
       "\n",
       "    .dataframe thead th {\n",
       "        text-align: right;\n",
       "    }\n",
       "</style>\n",
       "<table border=\"1\" class=\"dataframe\">\n",
       "  <thead>\n",
       "    <tr style=\"text-align: right;\">\n",
       "      <th></th>\n",
       "      <th>MONTHS_AS_CUSTOMER</th>\n",
       "      <th>CUSTOMER_AGE</th>\n",
       "      <th>POLICY_NUMBER</th>\n",
       "      <th>POLICY_BIND_DATE</th>\n",
       "      <th>POLICY_STATE</th>\n",
       "      <th>POLICY_CSL</th>\n",
       "      <th>POLICY_DEDUCTABLE</th>\n",
       "      <th>POLICY_ANNUAL_PREMIUM</th>\n",
       "      <th>UMBRELLA_LIMIT</th>\n",
       "      <th>INSURED_ZIP</th>\n",
       "      <th>...</th>\n",
       "      <th>POLICE_REPORT_AVAILABLE</th>\n",
       "      <th>TOTAL_CLAIM_AMOUNT_PAID</th>\n",
       "      <th>INJURY_CLAIM</th>\n",
       "      <th>PROPERTY_CLAIM</th>\n",
       "      <th>VEHICLE_CLAIM</th>\n",
       "      <th>AUTO_MAKE</th>\n",
       "      <th>AUTO_MODEL</th>\n",
       "      <th>AUTO_YEAR</th>\n",
       "      <th>FRAUD_REPORTED</th>\n",
       "      <th>CLAIM_AMOUNT_PREDICTION</th>\n",
       "    </tr>\n",
       "  </thead>\n",
       "  <tbody>\n",
       "    <tr>\n",
       "      <th>0</th>\n",
       "      <td>170</td>\n",
       "      <td>60</td>\n",
       "      <td>429383</td>\n",
       "      <td>05-05-2013</td>\n",
       "      <td>CT</td>\n",
       "      <td>500/1000</td>\n",
       "      <td>537</td>\n",
       "      <td>697</td>\n",
       "      <td>0</td>\n",
       "      <td>466132</td>\n",
       "      <td>...</td>\n",
       "      <td>No Police Report Available</td>\n",
       "      <td>101257.0</td>\n",
       "      <td>21316.0</td>\n",
       "      <td>6844.0</td>\n",
       "      <td>73097.0</td>\n",
       "      <td>Dodge</td>\n",
       "      <td>Neon</td>\n",
       "      <td>2013</td>\n",
       "      <td>No Fraud Reported</td>\n",
       "      <td>83311.593750</td>\n",
       "    </tr>\n",
       "    <tr>\n",
       "      <th>1</th>\n",
       "      <td>50</td>\n",
       "      <td>28</td>\n",
       "      <td>460493</td>\n",
       "      <td>18-04-2013</td>\n",
       "      <td>CT</td>\n",
       "      <td>500/1000</td>\n",
       "      <td>1727</td>\n",
       "      <td>1918</td>\n",
       "      <td>2919469</td>\n",
       "      <td>463809</td>\n",
       "      <td>...</td>\n",
       "      <td>Police Report Available</td>\n",
       "      <td>80444.0</td>\n",
       "      <td>472.0</td>\n",
       "      <td>1165.0</td>\n",
       "      <td>78807.0</td>\n",
       "      <td>Accura</td>\n",
       "      <td>TL</td>\n",
       "      <td>2005</td>\n",
       "      <td>No Fraud Reported</td>\n",
       "      <td>70663.523438</td>\n",
       "    </tr>\n",
       "    <tr>\n",
       "      <th>2</th>\n",
       "      <td>31</td>\n",
       "      <td>28</td>\n",
       "      <td>448474</td>\n",
       "      <td>31-07-2004</td>\n",
       "      <td>CT</td>\n",
       "      <td>250/500</td>\n",
       "      <td>952</td>\n",
       "      <td>1204</td>\n",
       "      <td>7957599</td>\n",
       "      <td>610393</td>\n",
       "      <td>...</td>\n",
       "      <td>Police Report Available</td>\n",
       "      <td>75641.0</td>\n",
       "      <td>7510.0</td>\n",
       "      <td>10412.0</td>\n",
       "      <td>57719.0</td>\n",
       "      <td>BMW</td>\n",
       "      <td>X5</td>\n",
       "      <td>2009</td>\n",
       "      <td>No Fraud Reported</td>\n",
       "      <td>71273.593750</td>\n",
       "    </tr>\n",
       "    <tr>\n",
       "      <th>3</th>\n",
       "      <td>188</td>\n",
       "      <td>58</td>\n",
       "      <td>462247</td>\n",
       "      <td>27-12-2010</td>\n",
       "      <td>CT</td>\n",
       "      <td>100/300</td>\n",
       "      <td>1521</td>\n",
       "      <td>1728</td>\n",
       "      <td>8639634</td>\n",
       "      <td>606942</td>\n",
       "      <td>...</td>\n",
       "      <td>No Police Report Available</td>\n",
       "      <td>80621.0</td>\n",
       "      <td>10134.0</td>\n",
       "      <td>908.0</td>\n",
       "      <td>69579.0</td>\n",
       "      <td>BMW</td>\n",
       "      <td>X5</td>\n",
       "      <td>2015</td>\n",
       "      <td>No Fraud Reported</td>\n",
       "      <td>75392.898438</td>\n",
       "    </tr>\n",
       "    <tr>\n",
       "      <th>4</th>\n",
       "      <td>24</td>\n",
       "      <td>65</td>\n",
       "      <td>436220</td>\n",
       "      <td>13-01-2003</td>\n",
       "      <td>CT</td>\n",
       "      <td>500/1000</td>\n",
       "      <td>1090</td>\n",
       "      <td>1535</td>\n",
       "      <td>3551771</td>\n",
       "      <td>431277</td>\n",
       "      <td>...</td>\n",
       "      <td>Unknown</td>\n",
       "      <td>59144.0</td>\n",
       "      <td>305.0</td>\n",
       "      <td>15598.0</td>\n",
       "      <td>43241.0</td>\n",
       "      <td>Nissan</td>\n",
       "      <td>Pathfinder</td>\n",
       "      <td>2014</td>\n",
       "      <td>Fraud Reported</td>\n",
       "      <td>69774.695312</td>\n",
       "    </tr>\n",
       "  </tbody>\n",
       "</table>\n",
       "<p>5 rows × 41 columns</p>\n",
       "</div>"
      ],
      "text/plain": [
       "   MONTHS_AS_CUSTOMER CUSTOMER_AGE  POLICY_NUMBER POLICY_BIND_DATE   \n",
       "0                 170           60         429383       05-05-2013  \\\n",
       "1                  50           28         460493       18-04-2013   \n",
       "2                  31           28         448474       31-07-2004   \n",
       "3                 188           58         462247       27-12-2010   \n",
       "4                  24           65         436220       13-01-2003   \n",
       "\n",
       "  POLICY_STATE POLICY_CSL  POLICY_DEDUCTABLE  POLICY_ANNUAL_PREMIUM   \n",
       "0           CT   500/1000                537                    697  \\\n",
       "1           CT   500/1000               1727                   1918   \n",
       "2           CT    250/500                952                   1204   \n",
       "3           CT    100/300               1521                   1728   \n",
       "4           CT   500/1000               1090                   1535   \n",
       "\n",
       "   UMBRELLA_LIMIT INSURED_ZIP  ...     POLICE_REPORT_AVAILABLE   \n",
       "0               0      466132  ...  No Police Report Available  \\\n",
       "1         2919469      463809  ...     Police Report Available   \n",
       "2         7957599      610393  ...     Police Report Available   \n",
       "3         8639634      606942  ...  No Police Report Available   \n",
       "4         3551771      431277  ...                     Unknown   \n",
       "\n",
       "  TOTAL_CLAIM_AMOUNT_PAID INJURY_CLAIM PROPERTY_CLAIM VEHICLE_CLAIM   \n",
       "0                101257.0      21316.0         6844.0       73097.0  \\\n",
       "1                 80444.0        472.0         1165.0       78807.0   \n",
       "2                 75641.0       7510.0        10412.0       57719.0   \n",
       "3                 80621.0      10134.0          908.0       69579.0   \n",
       "4                 59144.0        305.0        15598.0       43241.0   \n",
       "\n",
       "   AUTO_MAKE  AUTO_MODEL AUTO_YEAR     FRAUD_REPORTED CLAIM_AMOUNT_PREDICTION  \n",
       "0      Dodge        Neon      2013  No Fraud Reported            83311.593750  \n",
       "1     Accura          TL      2005  No Fraud Reported            70663.523438  \n",
       "2        BMW          X5      2009  No Fraud Reported            71273.593750  \n",
       "3        BMW          X5      2015  No Fraud Reported            75392.898438  \n",
       "4     Nissan  Pathfinder      2014     Fraud Reported            69774.695312  \n",
       "\n",
       "[5 rows x 41 columns]"
      ]
     },
     "execution_count": 89,
     "metadata": {},
     "output_type": "execute_result"
    }
   ],
   "source": [
    "df_backup.head()"
   ]
  },
  {
   "cell_type": "markdown",
   "id": "b8da375a",
   "metadata": {},
   "source": [
    "# 2. Fraud Claim Decision Tree Classifier"
   ]
  },
  {
   "cell_type": "code",
   "execution_count": 90,
   "id": "d664ac0f",
   "metadata": {},
   "outputs": [],
   "source": [
    "import pickle"
   ]
  },
  {
   "cell_type": "code",
   "execution_count": 91,
   "id": "731169b8",
   "metadata": {},
   "outputs": [],
   "source": [
    "with open('model_artifacts/actual_model_columns.pkl', 'rb') as f:\n",
    "    actual_model_columns = pickle.load(f) # deserialize using load()"
   ]
  },
  {
   "cell_type": "code",
   "execution_count": 92,
   "id": "521ac526",
   "metadata": {},
   "outputs": [],
   "source": [
    "with open('model_artifacts/cat_col.pkl', 'rb') as f:\n",
    "    cat_col = pickle.load(f) # deserialize using load()"
   ]
  },
  {
   "cell_type": "code",
   "execution_count": 93,
   "id": "9c0e753b",
   "metadata": {},
   "outputs": [],
   "source": [
    "with open('model_artifacts/Decisiontree_Fraudclassifier_v1.pkl', 'rb') as f:\n",
    "    dtc = pickle.load(f) # deserialize using load()"
   ]
  },
  {
   "cell_type": "code",
   "execution_count": 94,
   "id": "40ea91db",
   "metadata": {},
   "outputs": [],
   "source": [
    "with open('model_artifacts/num_col.pkl', 'rb') as f:\n",
    "    num_col = pickle.load(f) # deserialize using load()"
   ]
  },
  {
   "cell_type": "code",
   "execution_count": 95,
   "id": "4cdfe80c",
   "metadata": {},
   "outputs": [],
   "source": [
    "with open('model_artifacts/num_col_test.pkl', 'rb') as f:\n",
    "    num_col_test = pickle.load(f) # deserialize using load()"
   ]
  },
  {
   "cell_type": "code",
   "execution_count": 96,
   "id": "b210cc57",
   "metadata": {},
   "outputs": [],
   "source": [
    "with open('model_artifacts/scaler.pkl', 'rb') as f:\n",
    "    scaler = pickle.load(f) # deserialize using load()"
   ]
  },
  {
   "cell_type": "code",
   "execution_count": 97,
   "id": "8b33d5e3",
   "metadata": {},
   "outputs": [],
   "source": [
    "with open('model_artifacts/to_drop.pkl', 'rb') as f:\n",
    "    to_drop = pickle.load(f) # deserialize using load()"
   ]
  },
  {
   "cell_type": "code",
   "execution_count": 98,
   "id": "d51a077f",
   "metadata": {},
   "outputs": [],
   "source": [
    "df = df_backup.copy()"
   ]
  },
  {
   "cell_type": "code",
   "execution_count": 99,
   "id": "f27003a1",
   "metadata": {},
   "outputs": [
    {
     "data": {
      "text/plain": [
       "Index(['MONTHS_AS_CUSTOMER', 'CUSTOMER_AGE', 'POLICY_NUMBER',\n",
       "       'POLICY_BIND_DATE', 'POLICY_STATE', 'POLICY_CSL', 'POLICY_DEDUCTABLE',\n",
       "       'POLICY_ANNUAL_PREMIUM', 'UMBRELLA_LIMIT', 'INSURED_ZIP', 'INSURED_SEX',\n",
       "       'INSURED_EDUCATION_LEVEL', 'INSURED_OCCUPATION', 'INSURED_HOBBIES',\n",
       "       'INSURED_RELATIONSHIP', 'CAPITAL_GAINS', 'CAPITAL_LOSS',\n",
       "       'INCIDENT_DATE', 'INCIDENT_TYPE', 'COLLISION_TYPE', 'INCIDENT_SEVERITY',\n",
       "       'AUTHORITIES_CONTACTED', 'INCIDENT_STATE', 'INCIDENT_CITY',\n",
       "       'INCIDENT_LOCATION', 'INCIDENT_HOUR_OF_THE_DAY', 'INCIDENT_TIME_OF_DAY',\n",
       "       'NUMBER_OF_VEHICLES_INVOLVED', 'PROPERTY_DAMAGE', 'BODILY_INJURIES',\n",
       "       'WITNESSES', 'POLICE_REPORT_AVAILABLE', 'TOTAL_CLAIM_AMOUNT_PAID',\n",
       "       'INJURY_CLAIM', 'PROPERTY_CLAIM', 'VEHICLE_CLAIM', 'AUTO_MAKE',\n",
       "       'AUTO_MODEL', 'AUTO_YEAR', 'FRAUD_REPORTED', 'CLAIM_AMOUNT_PREDICTION'],\n",
       "      dtype='object')"
      ]
     },
     "execution_count": 99,
     "metadata": {},
     "output_type": "execute_result"
    }
   ],
   "source": [
    "df.columns"
   ]
  },
  {
   "cell_type": "code",
   "execution_count": 100,
   "id": "66dd6c56",
   "metadata": {},
   "outputs": [
    {
     "data": {
      "text/plain": [
       "(234265, 41)"
      ]
     },
     "execution_count": 100,
     "metadata": {},
     "output_type": "execute_result"
    }
   ],
   "source": [
    "df.shape"
   ]
  },
  {
   "cell_type": "code",
   "execution_count": 101,
   "id": "0745466b",
   "metadata": {},
   "outputs": [],
   "source": [
    "df = df.fillna(0)\n",
    "df.columns = df.columns.str.lower()\n",
    "df.rename(columns = {'total_claim_amount_paid': 'total_claim_amount'}, inplace=True)\n",
    "df.drop(to_drop, inplace=True, axis=1)"
   ]
  },
  {
   "cell_type": "code",
   "execution_count": 102,
   "id": "9dc015e8",
   "metadata": {},
   "outputs": [],
   "source": [
    "# extracting categorical columns\n",
    "cat_df = df[['customer_age','policy_csl','insured_sex','insured_education_level','insured_occupation','insured_relationship','incident_type','collision_type','incident_severity','authorities_contacted','incident_time_of_day','property_damage','police_report_available']]\n",
    "cat_df = pd.get_dummies(cat_df, drop_first = True)"
   ]
  },
  {
   "cell_type": "code",
   "execution_count": 103,
   "id": "885908c7",
   "metadata": {},
   "outputs": [],
   "source": [
    "num_df = df[['months_as_customer', 'policy_deductable', 'policy_annual_premium',\n",
    "       'umbrella_limit', 'capital_gains', 'capital_loss',\n",
    "       'incident_hour_of_the_day', 'number_of_vehicles_involved',\n",
    "       'bodily_injuries', 'witnesses', 'total_claim_amount', 'injury_claim',\n",
    "       'property_claim', 'vehicle_claim']]\n",
    "    \n",
    "X = pd.concat([num_df, cat_df], axis = 1)"
   ]
  },
  {
   "cell_type": "code",
   "execution_count": 104,
   "id": "f19b44b8",
   "metadata": {},
   "outputs": [],
   "source": [
    "num_df_test = X[['months_as_customer', 'policy_deductable', 'umbrella_limit',\n",
    "       'capital_gains', 'capital_loss', 'incident_hour_of_the_day',\n",
    "       'number_of_vehicles_involved', 'bodily_injuries', 'witnesses', 'injury_claim', 'property_claim',\n",
    "       'vehicle_claim']]\n",
    "\n",
    "scaled_data_test = scaler.transform(num_df_test)\n",
    "scaled_num_df_test = pd.DataFrame(data = scaled_data_test, columns = num_df_test.columns, index = X.index)"
   ]
  },
  {
   "cell_type": "code",
   "execution_count": 105,
   "id": "a2fda092",
   "metadata": {},
   "outputs": [],
   "source": [
    "X.drop(columns = scaled_num_df_test.columns, inplace = True)\n",
    "X = pd.concat([scaled_num_df_test, X], axis = 1)"
   ]
  },
  {
   "cell_type": "code",
   "execution_count": 106,
   "id": "dcabddec",
   "metadata": {},
   "outputs": [],
   "source": [
    "missing_features = [missing_col for missing_col in actual_model_columns if missing_col not in X.columns]\n",
    "X[missing_features] = 0"
   ]
  },
  {
   "cell_type": "code",
   "execution_count": 107,
   "id": "0302d761",
   "metadata": {},
   "outputs": [],
   "source": [
    "prediction = dtc.predict(X[actual_model_columns])"
   ]
  },
  {
   "cell_type": "code",
   "execution_count": 108,
   "id": "8865b1e3",
   "metadata": {},
   "outputs": [],
   "source": [
    "probability = dtc.predict_proba(X)[:,1]"
   ]
  },
  {
   "cell_type": "code",
   "execution_count": 109,
   "id": "36691ac0",
   "metadata": {},
   "outputs": [
    {
     "data": {
      "text/plain": [
       "array(['No Fraud Reported', 'No Fraud Reported', 'No Fraud Reported', ...,\n",
       "       'No Fraud Reported', 'No Fraud Reported', 'No Fraud Reported'],\n",
       "      dtype=object)"
      ]
     },
     "execution_count": 109,
     "metadata": {},
     "output_type": "execute_result"
    }
   ],
   "source": [
    "prediction"
   ]
  },
  {
   "cell_type": "code",
   "execution_count": 110,
   "id": "901233b0",
   "metadata": {},
   "outputs": [
    {
     "data": {
      "text/plain": [
       "array([1., 1., 1., ..., 1., 1., 1.])"
      ]
     },
     "execution_count": 110,
     "metadata": {},
     "output_type": "execute_result"
    }
   ],
   "source": [
    "probability"
   ]
  },
  {
   "cell_type": "code",
   "execution_count": 111,
   "id": "f8f3ab83",
   "metadata": {},
   "outputs": [],
   "source": [
    "df_backup['FRAUD_PROBABILITY'] = probability\n",
    "df_backup['FRAUD_CLAIM_CLASSIFIER'] = prediction"
   ]
  },
  {
   "cell_type": "code",
   "execution_count": 112,
   "id": "4c5c1b85",
   "metadata": {
    "scrolled": true
   },
   "outputs": [
    {
     "data": {
      "text/html": [
       "<div>\n",
       "<style scoped>\n",
       "    .dataframe tbody tr th:only-of-type {\n",
       "        vertical-align: middle;\n",
       "    }\n",
       "\n",
       "    .dataframe tbody tr th {\n",
       "        vertical-align: top;\n",
       "    }\n",
       "\n",
       "    .dataframe thead th {\n",
       "        text-align: right;\n",
       "    }\n",
       "</style>\n",
       "<table border=\"1\" class=\"dataframe\">\n",
       "  <thead>\n",
       "    <tr style=\"text-align: right;\">\n",
       "      <th></th>\n",
       "      <th>MONTHS_AS_CUSTOMER</th>\n",
       "      <th>CUSTOMER_AGE</th>\n",
       "      <th>POLICY_NUMBER</th>\n",
       "      <th>POLICY_BIND_DATE</th>\n",
       "      <th>POLICY_STATE</th>\n",
       "      <th>POLICY_CSL</th>\n",
       "      <th>POLICY_DEDUCTABLE</th>\n",
       "      <th>POLICY_ANNUAL_PREMIUM</th>\n",
       "      <th>UMBRELLA_LIMIT</th>\n",
       "      <th>INSURED_ZIP</th>\n",
       "      <th>...</th>\n",
       "      <th>INJURY_CLAIM</th>\n",
       "      <th>PROPERTY_CLAIM</th>\n",
       "      <th>VEHICLE_CLAIM</th>\n",
       "      <th>AUTO_MAKE</th>\n",
       "      <th>AUTO_MODEL</th>\n",
       "      <th>AUTO_YEAR</th>\n",
       "      <th>FRAUD_REPORTED</th>\n",
       "      <th>CLAIM_AMOUNT_PREDICTION</th>\n",
       "      <th>FRAUD_PROBABILITY</th>\n",
       "      <th>FRAUD_CLAIM_CLASSIFIER</th>\n",
       "    </tr>\n",
       "  </thead>\n",
       "  <tbody>\n",
       "    <tr>\n",
       "      <th>0</th>\n",
       "      <td>170</td>\n",
       "      <td>60</td>\n",
       "      <td>429383</td>\n",
       "      <td>05-05-2013</td>\n",
       "      <td>CT</td>\n",
       "      <td>500/1000</td>\n",
       "      <td>537</td>\n",
       "      <td>697</td>\n",
       "      <td>0</td>\n",
       "      <td>466132</td>\n",
       "      <td>...</td>\n",
       "      <td>21316.0</td>\n",
       "      <td>6844.0</td>\n",
       "      <td>73097.0</td>\n",
       "      <td>Dodge</td>\n",
       "      <td>Neon</td>\n",
       "      <td>2013</td>\n",
       "      <td>No Fraud Reported</td>\n",
       "      <td>83311.593750</td>\n",
       "      <td>1.0</td>\n",
       "      <td>No Fraud Reported</td>\n",
       "    </tr>\n",
       "    <tr>\n",
       "      <th>1</th>\n",
       "      <td>50</td>\n",
       "      <td>28</td>\n",
       "      <td>460493</td>\n",
       "      <td>18-04-2013</td>\n",
       "      <td>CT</td>\n",
       "      <td>500/1000</td>\n",
       "      <td>1727</td>\n",
       "      <td>1918</td>\n",
       "      <td>2919469</td>\n",
       "      <td>463809</td>\n",
       "      <td>...</td>\n",
       "      <td>472.0</td>\n",
       "      <td>1165.0</td>\n",
       "      <td>78807.0</td>\n",
       "      <td>Accura</td>\n",
       "      <td>TL</td>\n",
       "      <td>2005</td>\n",
       "      <td>No Fraud Reported</td>\n",
       "      <td>70663.523438</td>\n",
       "      <td>1.0</td>\n",
       "      <td>No Fraud Reported</td>\n",
       "    </tr>\n",
       "    <tr>\n",
       "      <th>2</th>\n",
       "      <td>31</td>\n",
       "      <td>28</td>\n",
       "      <td>448474</td>\n",
       "      <td>31-07-2004</td>\n",
       "      <td>CT</td>\n",
       "      <td>250/500</td>\n",
       "      <td>952</td>\n",
       "      <td>1204</td>\n",
       "      <td>7957599</td>\n",
       "      <td>610393</td>\n",
       "      <td>...</td>\n",
       "      <td>7510.0</td>\n",
       "      <td>10412.0</td>\n",
       "      <td>57719.0</td>\n",
       "      <td>BMW</td>\n",
       "      <td>X5</td>\n",
       "      <td>2009</td>\n",
       "      <td>No Fraud Reported</td>\n",
       "      <td>71273.593750</td>\n",
       "      <td>1.0</td>\n",
       "      <td>No Fraud Reported</td>\n",
       "    </tr>\n",
       "    <tr>\n",
       "      <th>3</th>\n",
       "      <td>188</td>\n",
       "      <td>58</td>\n",
       "      <td>462247</td>\n",
       "      <td>27-12-2010</td>\n",
       "      <td>CT</td>\n",
       "      <td>100/300</td>\n",
       "      <td>1521</td>\n",
       "      <td>1728</td>\n",
       "      <td>8639634</td>\n",
       "      <td>606942</td>\n",
       "      <td>...</td>\n",
       "      <td>10134.0</td>\n",
       "      <td>908.0</td>\n",
       "      <td>69579.0</td>\n",
       "      <td>BMW</td>\n",
       "      <td>X5</td>\n",
       "      <td>2015</td>\n",
       "      <td>No Fraud Reported</td>\n",
       "      <td>75392.898438</td>\n",
       "      <td>1.0</td>\n",
       "      <td>No Fraud Reported</td>\n",
       "    </tr>\n",
       "    <tr>\n",
       "      <th>4</th>\n",
       "      <td>24</td>\n",
       "      <td>65</td>\n",
       "      <td>436220</td>\n",
       "      <td>13-01-2003</td>\n",
       "      <td>CT</td>\n",
       "      <td>500/1000</td>\n",
       "      <td>1090</td>\n",
       "      <td>1535</td>\n",
       "      <td>3551771</td>\n",
       "      <td>431277</td>\n",
       "      <td>...</td>\n",
       "      <td>305.0</td>\n",
       "      <td>15598.0</td>\n",
       "      <td>43241.0</td>\n",
       "      <td>Nissan</td>\n",
       "      <td>Pathfinder</td>\n",
       "      <td>2014</td>\n",
       "      <td>Fraud Reported</td>\n",
       "      <td>69774.695312</td>\n",
       "      <td>0.0</td>\n",
       "      <td>Fraud Reported</td>\n",
       "    </tr>\n",
       "  </tbody>\n",
       "</table>\n",
       "<p>5 rows × 43 columns</p>\n",
       "</div>"
      ],
      "text/plain": [
       "   MONTHS_AS_CUSTOMER CUSTOMER_AGE  POLICY_NUMBER POLICY_BIND_DATE   \n",
       "0                 170           60         429383       05-05-2013  \\\n",
       "1                  50           28         460493       18-04-2013   \n",
       "2                  31           28         448474       31-07-2004   \n",
       "3                 188           58         462247       27-12-2010   \n",
       "4                  24           65         436220       13-01-2003   \n",
       "\n",
       "  POLICY_STATE POLICY_CSL  POLICY_DEDUCTABLE  POLICY_ANNUAL_PREMIUM   \n",
       "0           CT   500/1000                537                    697  \\\n",
       "1           CT   500/1000               1727                   1918   \n",
       "2           CT    250/500                952                   1204   \n",
       "3           CT    100/300               1521                   1728   \n",
       "4           CT   500/1000               1090                   1535   \n",
       "\n",
       "   UMBRELLA_LIMIT INSURED_ZIP  ... INJURY_CLAIM PROPERTY_CLAIM VEHICLE_CLAIM   \n",
       "0               0      466132  ...      21316.0         6844.0       73097.0  \\\n",
       "1         2919469      463809  ...        472.0         1165.0       78807.0   \n",
       "2         7957599      610393  ...       7510.0        10412.0       57719.0   \n",
       "3         8639634      606942  ...      10134.0          908.0       69579.0   \n",
       "4         3551771      431277  ...        305.0        15598.0       43241.0   \n",
       "\n",
       "  AUTO_MAKE  AUTO_MODEL  AUTO_YEAR     FRAUD_REPORTED CLAIM_AMOUNT_PREDICTION   \n",
       "0     Dodge        Neon       2013  No Fraud Reported            83311.593750  \\\n",
       "1    Accura          TL       2005  No Fraud Reported            70663.523438   \n",
       "2       BMW          X5       2009  No Fraud Reported            71273.593750   \n",
       "3       BMW          X5       2015  No Fraud Reported            75392.898438   \n",
       "4    Nissan  Pathfinder       2014     Fraud Reported            69774.695312   \n",
       "\n",
       "  FRAUD_PROBABILITY FRAUD_CLAIM_CLASSIFIER  \n",
       "0               1.0      No Fraud Reported  \n",
       "1               1.0      No Fraud Reported  \n",
       "2               1.0      No Fraud Reported  \n",
       "3               1.0      No Fraud Reported  \n",
       "4               0.0         Fraud Reported  \n",
       "\n",
       "[5 rows x 43 columns]"
      ]
     },
     "execution_count": 112,
     "metadata": {},
     "output_type": "execute_result"
    }
   ],
   "source": [
    "df_backup.head()"
   ]
  },
  {
   "cell_type": "markdown",
   "id": "fc59fc5c",
   "metadata": {},
   "source": [
    "# Incident Date correction"
   ]
  },
  {
   "cell_type": "code",
   "execution_count": 113,
   "id": "6f7dfdf7",
   "metadata": {},
   "outputs": [],
   "source": [
    "df_backup_1 = df_backup.copy()"
   ]
  },
  {
   "cell_type": "code",
   "execution_count": 114,
   "id": "ebc111cd",
   "metadata": {},
   "outputs": [],
   "source": [
    "df_backup['INCIDENT_DATE'] = df_backup.INCIDENT_DATE + pd.DateOffset(months=7)"
   ]
  },
  {
   "cell_type": "code",
   "execution_count": 115,
   "id": "c946d487",
   "metadata": {},
   "outputs": [
    {
     "data": {
      "text/plain": [
       "Timestamp('2024-04-30 00:00:00')"
      ]
     },
     "execution_count": 115,
     "metadata": {},
     "output_type": "execute_result"
    }
   ],
   "source": [
    "max(df_backup['INCIDENT_DATE'])"
   ]
  },
  {
   "cell_type": "code",
   "execution_count": 118,
   "id": "5361fbd4",
   "metadata": {},
   "outputs": [],
   "source": [
    "df_backup['INCIDENT_DATE'] = df_backup['INCIDENT_DATE'].astype('str')"
   ]
  },
  {
   "cell_type": "code",
   "execution_count": 119,
   "id": "78d7b45a",
   "metadata": {},
   "outputs": [],
   "source": [
    "DF_BACKUP=session.createDataFrame(\n",
    "        df_backup.values.tolist(),\n",
    "        schema=df_backup.columns.tolist())\n",
    "DF_BACKUP.write.mode(\"overwrite\").save_as_table(\"FDC_Insurance.PUBLIC.AUTO_INSURANCE_CLAIMS_HARMONIZER\")"
   ]
  },
  {
   "cell_type": "markdown",
   "id": "285f4d44",
   "metadata": {},
   "source": [
    "# Run below query once Snowflake table is created\n",
    "\n",
    "### ALTER TABLE FDC_INSURANCE.PUBLIC.AUTO_INSURANCE_CLAIMS_HARMONIZER ADD COLUMN INCIDENT_DATETIME DATE\n",
    "\n",
    "### UPDATE FDC_INSURANCE.PUBLIC.AUTO_INSURANCE_CLAIMS_HARMONIZER SET INCIDENT_DATETIME = TO_DATE (INCIDENT_DATE)"
   ]
  }
 ],
 "metadata": {
  "kernelspec": {
   "display_name": "Python 3",
   "language": "python",
   "name": "python3"
  },
  "language_info": {
   "codemirror_mode": {
    "name": "ipython",
    "version": 3
   },
   "file_extension": ".py",
   "mimetype": "text/x-python",
   "name": "python",
   "nbconvert_exporter": "python",
   "pygments_lexer": "ipython3",
   "version": "3.8.18"
  }
 },
 "nbformat": 4,
 "nbformat_minor": 5
}
