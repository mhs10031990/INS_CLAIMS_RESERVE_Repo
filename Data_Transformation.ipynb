{
 "cells": [
  {
   "cell_type": "markdown",
   "id": "899ff111",
   "metadata": {},
   "source": [
    "# DATA TRANSFORMATION using SNOWPARK DATAFRAME on FOSFOR"
   ]
  },
  {
   "cell_type": "code",
   "execution_count": 1,
   "id": "12eb34cf",
   "metadata": {},
   "outputs": [
    {
     "name": "stdout",
     "output_type": "stream",
     "text": [
      "Connection manager service url initialised to http://fdc-project-manager:80/project-manager\n",
      "If you need to update its value then update the variable CONNECTION_MANAGER_BASE_URL in os env.\n"
     ]
    }
   ],
   "source": [
    "from snowflake.snowpark import Session\n",
    "\n",
    "# Data Science Libs\n",
    "import numpy as np\n",
    "import pandas as pd\n",
    "import statsmodels\n",
    "import matplotlib.pyplot as plt\n",
    "import seaborn as sns\n",
    "\n",
    "# create_temp_table warning suppresion\n",
    "import warnings; warnings.simplefilter('ignore')\n",
    "\n",
    "import plotly.express as px\n",
    "from plotly.subplots import make_subplots\n",
    "import plotly.figure_factory as ff\n",
    "\n",
    "from fosforio import snowflake\n",
    "from snowflake.snowpark.functions import col, lit, when, year, to_date\n"
   ]
  },
  {
   "cell_type": "code",
   "execution_count": 4,
   "id": "5be1a033-b492-4ef5-a008-c3e357cc8d6b",
   "metadata": {},
   "outputs": [],
   "source": [
    "from fosforml.model_manager.snowflakesession import get_session\n",
    "my_session = get_session()\n",
    "\n",
    "table_name = 'AUTO_INSURANCE_CLAIMS_DATA'\n",
    "sf_df = my_session.sql(\"select * from {}\".format(table_name))\n"
   ]
  },
  {
   "cell_type": "code",
   "execution_count": 10,
   "id": "0a0fcf2d-c9b4-4edc-b014-9931046ccb8f",
   "metadata": {},
   "outputs": [],
   "source": [
    "# 1. Filter data for rows where INCIDENT_SEVERITY is 'Major Damage' and POLICY_STATE is 'CT'\n",
    "filtered_df = sf_df.filter(\n",
    "    (col(\"INCIDENT_SEVERITY\") == lit(\"Major Damage\")) & (col(\"POLICY_STATE\") == lit(\"CT\"))\n",
    ")\n"
   ]
  },
  {
   "cell_type": "code",
   "execution_count": 6,
   "id": "3538356c-abe2-4c25-8640-20772c325a5f",
   "metadata": {},
   "outputs": [],
   "source": [
    "\n",
    "# 2. Select a few specific columns for further analysis\n",
    "selected_df = filtered_df.select(\n",
    "    \"MONTHS_AS_CUSTOMER\",\n",
    "    \"CUSTOMER_AGE\",\n",
    "    \"POLICY_NUMBER\",\n",
    "    \"POLICY_BIND_DATE\",\n",
    "    \"POLICY_STATE\",\n",
    "    \"POLICY_ANNUAL_PREMIUM\",\n",
    "    \"INCIDENT_DATE\",\n",
    "    \"INCIDENT_SEVERITY\",\n",
    "    \"NUMBER_OF_VEHICLES_INVOLVED\",\n",
    "    \"TOTAL_CLAIM_AMOUNT_PAID\",\n",
    "    \"AUTO_MAKE\",\n",
    "    \"AUTO_MODEL\",\n",
    "    \"AUTO_YEAR\"\n",
    ")"
   ]
  },
  {
   "cell_type": "code",
   "execution_count": 7,
   "id": "a6d59499-1c14-4fa3-8b26-fd5396bc53e9",
   "metadata": {},
   "outputs": [],
   "source": [
    "\n",
    "# 3. Convert VARCHAR date columns to DATE\n",
    "transformed_df = selected_df.with_column(\"INCIDENT_DATE\", to_date(col(\"INCIDENT_DATE\")))\n",
    "transformed_df = transformed_df.with_column(\"POLICY_BIND_DATE\", to_date(col(\"POLICY_BIND_DATE\")))"
   ]
  },
  {
   "cell_type": "code",
   "execution_count": 8,
   "id": "d1d45acc-7762-4208-9500-a95d162a0742",
   "metadata": {},
   "outputs": [],
   "source": [
    "\n",
    "# 4. Create a new column that categorizes vehicles based on AUTO_YEAR (e.g., Old, Mid, New)\n",
    "transformed_df = transformed_df.with_column(\n",
    "    \"VEHICLE_AGE_CATEGORY\",\n",
    "    when(col(\"AUTO_YEAR\") < 2000, lit(\"Old\"))\n",
    "    .when((col(\"AUTO_YEAR\") >= 2000) & (col(\"AUTO_YEAR\") < 2010), lit(\"Mid\"))\n",
    "    .otherwise(lit(\"New\"))\n",
    ")"
   ]
  },
  {
   "cell_type": "code",
   "execution_count": 9,
   "id": "7c4890ac-4fac-4f41-9dac-a30d8c4aab99",
   "metadata": {},
   "outputs": [],
   "source": [
    "# 5. Create another column to calculate the number of years the policy has been active\n",
    "transformed_df = transformed_df.with_column(\n",
    "    \"POLICY_ACTIVE_YEARS\",\n",
    "    (year(col(\"INCIDENT_DATE\")) - year(col(\"POLICY_BIND_DATE\")))\n",
    ")\n"
   ]
  },
  {
   "cell_type": "code",
   "execution_count": null,
   "id": "4ae42e3d-655b-4d6a-8ca8-eee861cc5c9d",
   "metadata": {},
   "outputs": [],
   "source": []
  }
 ],
 "metadata": {
  "kernelspec": {
   "display_name": "Python 3 (ipykernel)",
   "language": "python",
   "name": "python3"
  },
  "language_info": {
   "codemirror_mode": {
    "name": "ipython",
    "version": 3
   },
   "file_extension": ".py",
   "mimetype": "text/x-python",
   "name": "python",
   "nbconvert_exporter": "python",
   "pygments_lexer": "ipython3",
   "version": "3.9.19"
  }
 },
 "nbformat": 4,
 "nbformat_minor": 5
}
