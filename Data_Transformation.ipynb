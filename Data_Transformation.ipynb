{
 "cells": [
  {
   "cell_type": "markdown",
   "id": "899ff111",
   "metadata": {},
   "source": [
    "# Use Customized Notebook Template (CLAIMS_RESERVE_Template)"
   ]
  },
  {
   "cell_type": "code",
   "execution_count": 1,
   "id": "12eb34cf",
   "metadata": {},
   "outputs": [
    {
     "name": "stdout",
     "output_type": "stream",
     "text": [
      "Connection manager service url initialised to http://fdc-project-manager:80/project-manager\n",
      "If you need to update its value then update the variable CONNECTION_MANAGER_BASE_URL in os env.\n"
     ]
    }
   ],
   "source": [
    "from snowflake.snowpark import Session\n",
    "\n",
    "# Data Science Libs\n",
    "import numpy as np\n",
    "import pandas as pd\n",
    "import statsmodels\n",
    "import matplotlib.pyplot as plt\n",
    "import seaborn as sns\n",
    "\n",
    "# create_temp_table warning suppresion\n",
    "import warnings; warnings.simplefilter('ignore')\n",
    "\n",
    "import plotly.express as px\n",
    "from plotly.subplots import make_subplots\n",
    "import plotly.figure_factory as ff\n",
    "\n",
    "from fosforio import snowflake\n",
    "from snowflake.snowpark.functions import col, lit, when, year, to_date\n"
   ]
  },
  {
   "cell_type": "code",
   "execution_count": 2,
   "id": "5be1a033-b492-4ef5-a008-c3e357cc8d6b",
   "metadata": {},
   "outputs": [],
   "source": [
    "from fosforml.model_manager.snowflakesession import get_session\n",
    "my_session = get_session()\n",
    "\n",
    "table_name = 'AUTO_INSURANCE_CLAIMS_DATA'\n",
    "sf_df = my_session.sql(\"select * from {}\".format(table_name))\n"
   ]
  },
  {
   "cell_type": "code",
   "execution_count": 3,
   "id": "0a0fcf2d-c9b4-4edc-b014-9931046ccb8f",
   "metadata": {},
   "outputs": [],
   "source": [
    "# 1. Filter data for rows where INCIDENT_SEVERITY is 'Major Damage' and POLICY_STATE is 'CT'\n",
    "filtered_df = sf_df.filter((col(\"INCIDENT_SEVERITY\") == lit(\"Major Damage\")) & (col(\"POLICY_STATE\") == lit(\"CT\")))"
   ]
  },
  {
   "cell_type": "code",
   "execution_count": null,
   "id": "3538356c-abe2-4c25-8640-20772c325a5f",
   "metadata": {},
   "outputs": [],
   "source": []
  }
 ],
 "metadata": {
  "kernelspec": {
   "display_name": "Python 3 (ipykernel)",
   "language": "python",
   "name": "python3"
  },
  "language_info": {
   "codemirror_mode": {
    "name": "ipython",
    "version": 3
   },
   "file_extension": ".py",
   "mimetype": "text/x-python",
   "name": "python",
   "nbconvert_exporter": "python",
   "pygments_lexer": "ipython3",
   "version": "3.9.19"
  }
 },
 "nbformat": 4,
 "nbformat_minor": 5
}
