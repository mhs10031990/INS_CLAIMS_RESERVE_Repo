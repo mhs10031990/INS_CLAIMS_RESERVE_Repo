{
 "cells": [
  {
   "cell_type": "markdown",
   "id": "632503b3",
   "metadata": {},
   "source": [
    "# Use Customized Notebook Template (CLAIMS_RESERVE_Template)"
   ]
  },
  {
   "cell_type": "markdown",
   "id": "9303374f",
   "metadata": {},
   "source": [
    "### Packages needed to run this notebook if running with inbuilt snowpark 3.8 template\n",
    "##### !pip install --q \"snowflake-connector-python[pandas]\"\n",
    "##### !sudo pip install --q  snowflake-ml-python==1.0.11 -U\n",
    "##### !pip install --upgrade --q snowflake-snowpark-python==1.9.0\n",
    "##### !pip install --q seaborn\n",
    "##### !pip install --q plotly \n",
    "##### !pip install --upgrade --q numpy==1.24.3\n",
    "##### !pip install --upgrade --q pandas==1.5.3\n",
    "##### !pip install fosforio"
   ]
  },
  {
   "cell_type": "code",
   "execution_count": 2,
   "id": "4871a0ed",
   "metadata": {},
   "outputs": [],
   "source": [
    "from snowflake.snowpark import Session\n",
    "from snowflake.connector.pandas_tools import write_pandas\n",
    "\n",
    "# Data Science Libs\n",
    "import numpy as np\n",
    "import pandas as pd\n",
    "import matplotlib.pyplot as plt\n",
    "#import seaborn as sns\n",
    "\n",
    "# create_temp_table warning suppresion\n",
    "import warnings; warnings.simplefilter('ignore')"
   ]
  },
  {
   "cell_type": "code",
   "execution_count": 3,
   "id": "e513cb1d",
   "metadata": {
    "scrolled": true
   },
   "outputs": [],
   "source": [
    "from fosforml.model_manager.snowflakesession import get_session\n",
    "my_session = get_session()"
   ]
  },
  {
   "cell_type": "code",
   "execution_count": 4,
   "id": "8dd046d1-650d-46ea-ae99-0c75bafd5b1c",
   "metadata": {},
   "outputs": [],
   "source": [
    "table_name = 'AUTO_INSURANCE_CLAIMS_DATA'\n",
    "sf_df = my_session.sql(\"select * from {}\".format(table_name))\n",
    "df = sf_df.to_pandas()"
   ]
  },
  {
   "cell_type": "code",
   "execution_count": 5,
   "id": "718222a3",
   "metadata": {},
   "outputs": [],
   "source": [
    "insurance_claim = df.copy()"
   ]
  },
  {
   "cell_type": "markdown",
   "id": "9f35150b",
   "metadata": {},
   "source": [
    "# Shape of Insurance claims data"
   ]
  },
  {
   "cell_type": "code",
   "execution_count": 6,
   "id": "76652e4a",
   "metadata": {},
   "outputs": [
    {
     "data": {
      "text/plain": [
       "(232025, 41)"
      ]
     },
     "execution_count": 6,
     "metadata": {},
     "output_type": "execute_result"
    }
   ],
   "source": [
    "insurance_claim.shape"
   ]
  },
  {
   "cell_type": "markdown",
   "id": "6460a3d4",
   "metadata": {},
   "source": [
    "# Generic Information of Insurance claims data"
   ]
  },
  {
   "cell_type": "code",
   "execution_count": 7,
   "id": "0892eaca",
   "metadata": {
    "scrolled": true
   },
   "outputs": [
    {
     "name": "stdout",
     "output_type": "stream",
     "text": [
      "<class 'pandas.core.frame.DataFrame'>\n",
      "RangeIndex: 232025 entries, 0 to 232024\n",
      "Data columns (total 41 columns):\n",
      " #   Column                       Non-Null Count   Dtype \n",
      "---  ------                       --------------   ----- \n",
      " 0   MONTHS_AS_CUSTOMER           232025 non-null  int16 \n",
      " 1   CUSTOMER_AGE                 232025 non-null  int8  \n",
      " 2   POLICY_NUMBER                232025 non-null  object\n",
      " 3   POLICY_BIND_DATE             232025 non-null  object\n",
      " 4   POLICY_STATE                 232025 non-null  object\n",
      " 5   POLICY_CSL                   232025 non-null  object\n",
      " 6   POLICY_DEDUCTABLE            232025 non-null  int16 \n",
      " 7   POLICY_ANNUAL_PREMIUM        232025 non-null  int16 \n",
      " 8   UMBRELLA_LIMIT               232025 non-null  int32 \n",
      " 9   INSURED_ZIP                  232025 non-null  object\n",
      " 10  INSURED_SEX                  232025 non-null  object\n",
      " 11  INSURED_EDUCATION_LEVEL      232025 non-null  object\n",
      " 12  INSURED_OCCUPATION           232025 non-null  object\n",
      " 13  INSURED_HOBBIES              232025 non-null  object\n",
      " 14  INSURED_RELATIONSHIP         232025 non-null  object\n",
      " 15  CAPITAL_GAINS                232025 non-null  int32 \n",
      " 16  CAPITAL_LOSS                 232025 non-null  int32 \n",
      " 17  INCIDENT_DATE                232025 non-null  object\n",
      " 18  INCIDENT_TYPE                232025 non-null  object\n",
      " 19  COLLISION_TYPE               232025 non-null  object\n",
      " 20  INCIDENT_SEVERITY            232025 non-null  object\n",
      " 21  AUTHORITIES_CONTACTED        232025 non-null  object\n",
      " 22  INCIDENT_STATE               232025 non-null  object\n",
      " 23  INCIDENT_CITY                232025 non-null  object\n",
      " 24  INCIDENT_LOCATION            232025 non-null  object\n",
      " 25  INCIDENT_HOUR_OF_THE_DAY     232025 non-null  object\n",
      " 26  INCIDENT_TIME_OF_DAY         232025 non-null  object\n",
      " 27  NUMBER_OF_VEHICLES_INVOLVED  232025 non-null  int8  \n",
      " 28  PROPERTY_DAMAGE              232025 non-null  object\n",
      " 29  BODILY_INJURIES              232025 non-null  int8  \n",
      " 30  WITNESSES                    232025 non-null  int8  \n",
      " 31  POLICE_REPORT_AVAILABLE      232025 non-null  object\n",
      " 32  TOTAL_CLAIM_AMOUNT_PAID      232025 non-null  int32 \n",
      " 33  INJURY_CLAIM                 232025 non-null  int16 \n",
      " 34  PROPERTY_CLAIM               232025 non-null  int16 \n",
      " 35  VEHICLE_CLAIM                232025 non-null  int32 \n",
      " 36  AUTO_MAKE                    232025 non-null  object\n",
      " 37  AUTO_MODEL                   232025 non-null  object\n",
      " 38  AUTO_YEAR                    232025 non-null  object\n",
      " 39  FRAUD_REPORTED               232025 non-null  object\n",
      " 40  POLICY_BIND_DATE_CUSTOM      232025 non-null  object\n",
      "dtypes: int16(5), int32(5), int8(4), object(27)\n",
      "memory usage: 55.3+ MB\n"
     ]
    }
   ],
   "source": [
    "insurance_claim.info()"
   ]
  },
  {
   "cell_type": "markdown",
   "id": "db57fa4f",
   "metadata": {},
   "source": [
    "# Description of Insurance claims data"
   ]
  },
  {
   "cell_type": "code",
   "execution_count": 8,
   "id": "5e7d8aaf",
   "metadata": {},
   "outputs": [
    {
     "data": {
      "text/html": [
       "<div>\n",
       "<style scoped>\n",
       "    .dataframe tbody tr th:only-of-type {\n",
       "        vertical-align: middle;\n",
       "    }\n",
       "\n",
       "    .dataframe tbody tr th {\n",
       "        vertical-align: top;\n",
       "    }\n",
       "\n",
       "    .dataframe thead th {\n",
       "        text-align: right;\n",
       "    }\n",
       "</style>\n",
       "<table border=\"1\" class=\"dataframe\">\n",
       "  <thead>\n",
       "    <tr style=\"text-align: right;\">\n",
       "      <th></th>\n",
       "      <th>MONTHS_AS_CUSTOMER</th>\n",
       "      <th>CUSTOMER_AGE</th>\n",
       "      <th>POLICY_DEDUCTABLE</th>\n",
       "      <th>POLICY_ANNUAL_PREMIUM</th>\n",
       "      <th>UMBRELLA_LIMIT</th>\n",
       "      <th>CAPITAL_GAINS</th>\n",
       "      <th>CAPITAL_LOSS</th>\n",
       "      <th>NUMBER_OF_VEHICLES_INVOLVED</th>\n",
       "      <th>BODILY_INJURIES</th>\n",
       "      <th>WITNESSES</th>\n",
       "      <th>TOTAL_CLAIM_AMOUNT_PAID</th>\n",
       "      <th>INJURY_CLAIM</th>\n",
       "      <th>PROPERTY_CLAIM</th>\n",
       "      <th>VEHICLE_CLAIM</th>\n",
       "    </tr>\n",
       "  </thead>\n",
       "  <tbody>\n",
       "    <tr>\n",
       "      <th>count</th>\n",
       "      <td>232025.000000</td>\n",
       "      <td>232025.000000</td>\n",
       "      <td>232025.000000</td>\n",
       "      <td>232025.000000</td>\n",
       "      <td>2.320250e+05</td>\n",
       "      <td>232025.000000</td>\n",
       "      <td>232025.00000</td>\n",
       "      <td>232025.000000</td>\n",
       "      <td>232025.000000</td>\n",
       "      <td>232025.000000</td>\n",
       "      <td>232025.000000</td>\n",
       "      <td>232025.000000</td>\n",
       "      <td>232025.000000</td>\n",
       "      <td>232025.000000</td>\n",
       "    </tr>\n",
       "    <tr>\n",
       "      <th>mean</th>\n",
       "      <td>126.727736</td>\n",
       "      <td>43.838483</td>\n",
       "      <td>1253.651365</td>\n",
       "      <td>1566.490792</td>\n",
       "      <td>1.040827e+07</td>\n",
       "      <td>47900.608447</td>\n",
       "      <td>-41154.24565</td>\n",
       "      <td>1.475707</td>\n",
       "      <td>0.996712</td>\n",
       "      <td>1.501437</td>\n",
       "      <td>67235.224006</td>\n",
       "      <td>7735.964607</td>\n",
       "      <td>8529.807297</td>\n",
       "      <td>50969.452102</td>\n",
       "    </tr>\n",
       "    <tr>\n",
       "      <th>std</th>\n",
       "      <td>91.088378</td>\n",
       "      <td>14.691610</td>\n",
       "      <td>535.036140</td>\n",
       "      <td>656.380264</td>\n",
       "      <td>5.916215e+06</td>\n",
       "      <td>27700.863866</td>\n",
       "      <td>23731.03404</td>\n",
       "      <td>0.701444</td>\n",
       "      <td>0.817630</td>\n",
       "      <td>1.115730</td>\n",
       "      <td>18857.753110</td>\n",
       "      <td>7150.694660</td>\n",
       "      <td>7865.621423</td>\n",
       "      <td>15683.462801</td>\n",
       "    </tr>\n",
       "    <tr>\n",
       "      <th>min</th>\n",
       "      <td>7.000000</td>\n",
       "      <td>19.000000</td>\n",
       "      <td>301.000000</td>\n",
       "      <td>430.000000</td>\n",
       "      <td>0.000000e+00</td>\n",
       "      <td>0.000000</td>\n",
       "      <td>-90200.00000</td>\n",
       "      <td>1.000000</td>\n",
       "      <td>0.000000</td>\n",
       "      <td>0.000000</td>\n",
       "      <td>21214.000000</td>\n",
       "      <td>300.000000</td>\n",
       "      <td>0.000000</td>\n",
       "      <td>20004.000000</td>\n",
       "    </tr>\n",
       "    <tr>\n",
       "      <th>25%</th>\n",
       "      <td>43.000000</td>\n",
       "      <td>31.000000</td>\n",
       "      <td>793.000000</td>\n",
       "      <td>996.000000</td>\n",
       "      <td>6.166324e+06</td>\n",
       "      <td>23826.000000</td>\n",
       "      <td>-61635.00000</td>\n",
       "      <td>1.000000</td>\n",
       "      <td>0.000000</td>\n",
       "      <td>1.000000</td>\n",
       "      <td>53423.000000</td>\n",
       "      <td>524.000000</td>\n",
       "      <td>1024.000000</td>\n",
       "      <td>37614.000000</td>\n",
       "    </tr>\n",
       "    <tr>\n",
       "      <th>50%</th>\n",
       "      <td>111.000000</td>\n",
       "      <td>44.000000</td>\n",
       "      <td>1250.000000</td>\n",
       "      <td>1569.000000</td>\n",
       "      <td>1.075463e+07</td>\n",
       "      <td>48076.000000</td>\n",
       "      <td>-41330.00000</td>\n",
       "      <td>1.000000</td>\n",
       "      <td>1.000000</td>\n",
       "      <td>2.000000</td>\n",
       "      <td>67742.000000</td>\n",
       "      <td>6062.000000</td>\n",
       "      <td>6209.000000</td>\n",
       "      <td>50927.000000</td>\n",
       "    </tr>\n",
       "    <tr>\n",
       "      <th>75%</th>\n",
       "      <td>197.000000</td>\n",
       "      <td>57.000000</td>\n",
       "      <td>1698.000000</td>\n",
       "      <td>2134.000000</td>\n",
       "      <td>1.537261e+07</td>\n",
       "      <td>71699.000000</td>\n",
       "      <td>-20555.00000</td>\n",
       "      <td>2.000000</td>\n",
       "      <td>2.000000</td>\n",
       "      <td>2.000000</td>\n",
       "      <td>81082.000000</td>\n",
       "      <td>14017.000000</td>\n",
       "      <td>15316.000000</td>\n",
       "      <td>64362.000000</td>\n",
       "    </tr>\n",
       "    <tr>\n",
       "      <th>max</th>\n",
       "      <td>326.000000</td>\n",
       "      <td>69.000000</td>\n",
       "      <td>2430.000000</td>\n",
       "      <td>2700.000000</td>\n",
       "      <td>1.999986e+07</td>\n",
       "      <td>96000.000000</td>\n",
       "      <td>0.00000</td>\n",
       "      <td>4.000000</td>\n",
       "      <td>2.000000</td>\n",
       "      <td>3.000000</td>\n",
       "      <td>121412.000000</td>\n",
       "      <td>21899.000000</td>\n",
       "      <td>26432.000000</td>\n",
       "      <td>81998.000000</td>\n",
       "    </tr>\n",
       "  </tbody>\n",
       "</table>\n",
       "</div>"
      ],
      "text/plain": [
       "       MONTHS_AS_CUSTOMER   CUSTOMER_AGE  POLICY_DEDUCTABLE  \\\n",
       "count       232025.000000  232025.000000      232025.000000   \n",
       "mean           126.727736      43.838483        1253.651365   \n",
       "std             91.088378      14.691610         535.036140   \n",
       "min              7.000000      19.000000         301.000000   \n",
       "25%             43.000000      31.000000         793.000000   \n",
       "50%            111.000000      44.000000        1250.000000   \n",
       "75%            197.000000      57.000000        1698.000000   \n",
       "max            326.000000      69.000000        2430.000000   \n",
       "\n",
       "       POLICY_ANNUAL_PREMIUM  UMBRELLA_LIMIT  CAPITAL_GAINS  CAPITAL_LOSS  \\\n",
       "count          232025.000000    2.320250e+05  232025.000000  232025.00000   \n",
       "mean             1566.490792    1.040827e+07   47900.608447  -41154.24565   \n",
       "std               656.380264    5.916215e+06   27700.863866   23731.03404   \n",
       "min               430.000000    0.000000e+00       0.000000  -90200.00000   \n",
       "25%               996.000000    6.166324e+06   23826.000000  -61635.00000   \n",
       "50%              1569.000000    1.075463e+07   48076.000000  -41330.00000   \n",
       "75%              2134.000000    1.537261e+07   71699.000000  -20555.00000   \n",
       "max              2700.000000    1.999986e+07   96000.000000       0.00000   \n",
       "\n",
       "       NUMBER_OF_VEHICLES_INVOLVED  BODILY_INJURIES      WITNESSES  \\\n",
       "count                232025.000000    232025.000000  232025.000000   \n",
       "mean                      1.475707         0.996712       1.501437   \n",
       "std                       0.701444         0.817630       1.115730   \n",
       "min                       1.000000         0.000000       0.000000   \n",
       "25%                       1.000000         0.000000       1.000000   \n",
       "50%                       1.000000         1.000000       2.000000   \n",
       "75%                       2.000000         2.000000       2.000000   \n",
       "max                       4.000000         2.000000       3.000000   \n",
       "\n",
       "       TOTAL_CLAIM_AMOUNT_PAID   INJURY_CLAIM  PROPERTY_CLAIM  VEHICLE_CLAIM  \n",
       "count            232025.000000  232025.000000   232025.000000  232025.000000  \n",
       "mean              67235.224006    7735.964607     8529.807297   50969.452102  \n",
       "std               18857.753110    7150.694660     7865.621423   15683.462801  \n",
       "min               21214.000000     300.000000        0.000000   20004.000000  \n",
       "25%               53423.000000     524.000000     1024.000000   37614.000000  \n",
       "50%               67742.000000    6062.000000     6209.000000   50927.000000  \n",
       "75%               81082.000000   14017.000000    15316.000000   64362.000000  \n",
       "max              121412.000000   21899.000000    26432.000000   81998.000000  "
      ]
     },
     "execution_count": 8,
     "metadata": {},
     "output_type": "execute_result"
    }
   ],
   "source": [
    "insurance_claim.describe()"
   ]
  },
  {
   "cell_type": "code",
   "execution_count": 9,
   "id": "569c3083",
   "metadata": {},
   "outputs": [
    {
     "data": {
      "text/html": [
       "<div>\n",
       "<style scoped>\n",
       "    .dataframe tbody tr th:only-of-type {\n",
       "        vertical-align: middle;\n",
       "    }\n",
       "\n",
       "    .dataframe tbody tr th {\n",
       "        vertical-align: top;\n",
       "    }\n",
       "\n",
       "    .dataframe thead th {\n",
       "        text-align: right;\n",
       "    }\n",
       "</style>\n",
       "<table border=\"1\" class=\"dataframe\">\n",
       "  <thead>\n",
       "    <tr style=\"text-align: right;\">\n",
       "      <th></th>\n",
       "      <th>POLICY_NUMBER</th>\n",
       "      <th>POLICY_BIND_DATE</th>\n",
       "      <th>POLICY_STATE</th>\n",
       "      <th>POLICY_CSL</th>\n",
       "      <th>INSURED_ZIP</th>\n",
       "      <th>INSURED_SEX</th>\n",
       "      <th>INSURED_EDUCATION_LEVEL</th>\n",
       "      <th>INSURED_OCCUPATION</th>\n",
       "      <th>INSURED_HOBBIES</th>\n",
       "      <th>INSURED_RELATIONSHIP</th>\n",
       "      <th>...</th>\n",
       "      <th>INCIDENT_LOCATION</th>\n",
       "      <th>INCIDENT_HOUR_OF_THE_DAY</th>\n",
       "      <th>INCIDENT_TIME_OF_DAY</th>\n",
       "      <th>PROPERTY_DAMAGE</th>\n",
       "      <th>POLICE_REPORT_AVAILABLE</th>\n",
       "      <th>AUTO_MAKE</th>\n",
       "      <th>AUTO_MODEL</th>\n",
       "      <th>AUTO_YEAR</th>\n",
       "      <th>FRAUD_REPORTED</th>\n",
       "      <th>POLICY_BIND_DATE_CUSTOM</th>\n",
       "    </tr>\n",
       "  </thead>\n",
       "  <tbody>\n",
       "    <tr>\n",
       "      <th>count</th>\n",
       "      <td>232025</td>\n",
       "      <td>232025</td>\n",
       "      <td>232025</td>\n",
       "      <td>232025</td>\n",
       "      <td>232025</td>\n",
       "      <td>232025</td>\n",
       "      <td>232025</td>\n",
       "      <td>232025</td>\n",
       "      <td>232025</td>\n",
       "      <td>232025</td>\n",
       "      <td>...</td>\n",
       "      <td>232025</td>\n",
       "      <td>232025</td>\n",
       "      <td>232025</td>\n",
       "      <td>232025</td>\n",
       "      <td>232025</td>\n",
       "      <td>232025</td>\n",
       "      <td>232025</td>\n",
       "      <td>232025</td>\n",
       "      <td>232025</td>\n",
       "      <td>232025</td>\n",
       "    </tr>\n",
       "    <tr>\n",
       "      <th>unique</th>\n",
       "      <td>60854</td>\n",
       "      <td>9484</td>\n",
       "      <td>1</td>\n",
       "      <td>3</td>\n",
       "      <td>995</td>\n",
       "      <td>2</td>\n",
       "      <td>7</td>\n",
       "      <td>14</td>\n",
       "      <td>20</td>\n",
       "      <td>6</td>\n",
       "      <td>...</td>\n",
       "      <td>1032</td>\n",
       "      <td>24</td>\n",
       "      <td>4</td>\n",
       "      <td>3</td>\n",
       "      <td>3</td>\n",
       "      <td>14</td>\n",
       "      <td>39</td>\n",
       "      <td>21</td>\n",
       "      <td>2</td>\n",
       "      <td>9484</td>\n",
       "    </tr>\n",
       "    <tr>\n",
       "      <th>top</th>\n",
       "      <td>486582</td>\n",
       "      <td>20-02-2010</td>\n",
       "      <td>CT</td>\n",
       "      <td>100/300</td>\n",
       "      <td>431532</td>\n",
       "      <td>MALE</td>\n",
       "      <td>JD</td>\n",
       "      <td>prof-specialty</td>\n",
       "      <td>kayaking</td>\n",
       "      <td>unmarried</td>\n",
       "      <td>...</td>\n",
       "      <td>St</td>\n",
       "      <td>22</td>\n",
       "      <td>Night Time</td>\n",
       "      <td>Property Damage</td>\n",
       "      <td>Police Report Available</td>\n",
       "      <td>Nissan</td>\n",
       "      <td>RAM</td>\n",
       "      <td>1995</td>\n",
       "      <td>No Fraud Reported</td>\n",
       "      <td>2010-02-20</td>\n",
       "    </tr>\n",
       "    <tr>\n",
       "      <th>freq</th>\n",
       "      <td>4</td>\n",
       "      <td>67</td>\n",
       "      <td>232025</td>\n",
       "      <td>77817</td>\n",
       "      <td>334</td>\n",
       "      <td>116286</td>\n",
       "      <td>38104</td>\n",
       "      <td>27321</td>\n",
       "      <td>11980</td>\n",
       "      <td>39030</td>\n",
       "      <td>...</td>\n",
       "      <td>13547</td>\n",
       "      <td>15606</td>\n",
       "      <td>103195</td>\n",
       "      <td>132014</td>\n",
       "      <td>100600</td>\n",
       "      <td>19918</td>\n",
       "      <td>7876</td>\n",
       "      <td>12950</td>\n",
       "      <td>197417</td>\n",
       "      <td>67</td>\n",
       "    </tr>\n",
       "  </tbody>\n",
       "</table>\n",
       "<p>4 rows × 27 columns</p>\n",
       "</div>"
      ],
      "text/plain": [
       "       POLICY_NUMBER POLICY_BIND_DATE POLICY_STATE POLICY_CSL INSURED_ZIP  \\\n",
       "count         232025           232025       232025     232025      232025   \n",
       "unique         60854             9484            1          3         995   \n",
       "top           486582       20-02-2010           CT    100/300      431532   \n",
       "freq               4               67       232025      77817         334   \n",
       "\n",
       "       INSURED_SEX INSURED_EDUCATION_LEVEL INSURED_OCCUPATION INSURED_HOBBIES  \\\n",
       "count       232025                  232025             232025          232025   \n",
       "unique           2                       7                 14              20   \n",
       "top           MALE                      JD     prof-specialty        kayaking   \n",
       "freq        116286                   38104              27321           11980   \n",
       "\n",
       "       INSURED_RELATIONSHIP  ... INCIDENT_LOCATION INCIDENT_HOUR_OF_THE_DAY  \\\n",
       "count                232025  ...            232025                   232025   \n",
       "unique                    6  ...              1032                       24   \n",
       "top               unmarried  ...                St                       22   \n",
       "freq                  39030  ...             13547                    15606   \n",
       "\n",
       "       INCIDENT_TIME_OF_DAY  PROPERTY_DAMAGE  POLICE_REPORT_AVAILABLE  \\\n",
       "count                232025           232025                   232025   \n",
       "unique                    4                3                        3   \n",
       "top              Night Time  Property Damage  Police Report Available   \n",
       "freq                 103195           132014                   100600   \n",
       "\n",
       "       AUTO_MAKE AUTO_MODEL AUTO_YEAR     FRAUD_REPORTED  \\\n",
       "count     232025     232025    232025             232025   \n",
       "unique        14         39        21                  2   \n",
       "top       Nissan        RAM      1995  No Fraud Reported   \n",
       "freq       19918       7876     12950             197417   \n",
       "\n",
       "       POLICY_BIND_DATE_CUSTOM  \n",
       "count                   232025  \n",
       "unique                    9484  \n",
       "top                 2010-02-20  \n",
       "freq                        67  \n",
       "\n",
       "[4 rows x 27 columns]"
      ]
     },
     "execution_count": 9,
     "metadata": {},
     "output_type": "execute_result"
    }
   ],
   "source": [
    "insurance_claim.describe(include='O')"
   ]
  },
  {
   "cell_type": "markdown",
   "id": "d2fc0e30",
   "metadata": {},
   "source": [
    "# Check Null Values"
   ]
  },
  {
   "cell_type": "code",
   "execution_count": 13,
   "id": "73b0f3b9",
   "metadata": {
    "scrolled": true
   },
   "outputs": [
    {
     "data": {
      "text/plain": [
       "MONTHS_AS_CUSTOMER             0\n",
       "CUSTOMER_AGE                   0\n",
       "POLICY_NUMBER                  0\n",
       "POLICY_BIND_DATE               0\n",
       "POLICY_STATE                   0\n",
       "POLICY_CSL                     0\n",
       "POLICY_DEDUCTABLE              0\n",
       "POLICY_ANNUAL_PREMIUM          0\n",
       "UMBRELLA_LIMIT                 0\n",
       "INSURED_ZIP                    0\n",
       "INSURED_SEX                    0\n",
       "INSURED_EDUCATION_LEVEL        0\n",
       "INSURED_OCCUPATION             0\n",
       "INSURED_HOBBIES                0\n",
       "INSURED_RELATIONSHIP           0\n",
       "CAPITAL_GAINS                  0\n",
       "CAPITAL_LOSS                   0\n",
       "INCIDENT_DATE                  0\n",
       "INCIDENT_TYPE                  0\n",
       "COLLISION_TYPE                 0\n",
       "INCIDENT_SEVERITY              0\n",
       "AUTHORITIES_CONTACTED          0\n",
       "INCIDENT_STATE                 0\n",
       "INCIDENT_CITY                  0\n",
       "INCIDENT_LOCATION              0\n",
       "INCIDENT_HOUR_OF_THE_DAY       0\n",
       "INCIDENT_TIME_OF_DAY           0\n",
       "NUMBER_OF_VEHICLES_INVOLVED    0\n",
       "PROPERTY_DAMAGE                0\n",
       "BODILY_INJURIES                0\n",
       "WITNESSES                      0\n",
       "POLICE_REPORT_AVAILABLE        0\n",
       "TOTAL_CLAIM_AMOUNT_PAID        0\n",
       "INJURY_CLAIM                   0\n",
       "PROPERTY_CLAIM                 0\n",
       "VEHICLE_CLAIM                  0\n",
       "AUTO_MAKE                      0\n",
       "AUTO_MODEL                     0\n",
       "AUTO_YEAR                      0\n",
       "FRAUD_REPORTED                 0\n",
       "dtype: int64"
      ]
     },
     "execution_count": 13,
     "metadata": {},
     "output_type": "execute_result"
    }
   ],
   "source": [
    "insurance_claim.isnull().sum()"
   ]
  },
  {
   "cell_type": "markdown",
   "id": "4c9a19fb",
   "metadata": {},
   "source": [
    "### Visualization "
   ]
  },
  {
   "cell_type": "code",
   "execution_count": 16,
   "id": "3a5756ce",
   "metadata": {},
   "outputs": [
    {
     "data": {
      "text/plain": [
       "MONTHS_AS_CUSTOMER             0.0\n",
       "CUSTOMER_AGE                   0.0\n",
       "POLICY_NUMBER                  0.0\n",
       "POLICY_BIND_DATE               0.0\n",
       "POLICY_STATE                   0.0\n",
       "POLICY_CSL                     0.0\n",
       "POLICY_DEDUCTABLE              0.0\n",
       "POLICY_ANNUAL_PREMIUM          0.0\n",
       "UMBRELLA_LIMIT                 0.0\n",
       "INSURED_ZIP                    0.0\n",
       "INSURED_SEX                    0.0\n",
       "INSURED_EDUCATION_LEVEL        0.0\n",
       "INSURED_OCCUPATION             0.0\n",
       "INSURED_HOBBIES                0.0\n",
       "INSURED_RELATIONSHIP           0.0\n",
       "CAPITAL_GAINS                  0.0\n",
       "CAPITAL_LOSS                   0.0\n",
       "INCIDENT_DATE                  0.0\n",
       "INCIDENT_TYPE                  0.0\n",
       "COLLISION_TYPE                 0.0\n",
       "INCIDENT_SEVERITY              0.0\n",
       "AUTHORITIES_CONTACTED          0.0\n",
       "INCIDENT_STATE                 0.0\n",
       "INCIDENT_CITY                  0.0\n",
       "INCIDENT_LOCATION              0.0\n",
       "INCIDENT_HOUR_OF_THE_DAY       0.0\n",
       "INCIDENT_TIME_OF_DAY           0.0\n",
       "NUMBER_OF_VEHICLES_INVOLVED    0.0\n",
       "PROPERTY_DAMAGE                0.0\n",
       "BODILY_INJURIES                0.0\n",
       "WITNESSES                      0.0\n",
       "POLICE_REPORT_AVAILABLE        0.0\n",
       "TOTAL_CLAIM_AMOUNT_PAID        0.0\n",
       "INJURY_CLAIM                   0.0\n",
       "PROPERTY_CLAIM                 0.0\n",
       "VEHICLE_CLAIM                  0.0\n",
       "AUTO_MAKE                      0.0\n",
       "AUTO_MODEL                     0.0\n",
       "AUTO_YEAR                      0.0\n",
       "FRAUD_REPORTED                 0.0\n",
       "dtype: float64"
      ]
     },
     "execution_count": 16,
     "metadata": {},
     "output_type": "execute_result"
    }
   ],
   "source": [
    "insurance_claim=insurance_claim.replace(\"?\",np.NaN)\n",
    "round(100*(insurance_claim.isnull().sum()/len(insurance_claim.index)),2)"
   ]
  },
  {
   "cell_type": "code",
   "execution_count": 17,
   "id": "5a8654ed",
   "metadata": {},
   "outputs": [
    {
     "data": {
      "text/plain": [
       "COLLISION_TYPE\n",
       "Rear Collision           36.71\n",
       "Front Collision          24.47\n",
       "Side Collision           24.41\n",
       "Details not Available    14.41\n",
       "Name: proportion, dtype: float64"
      ]
     },
     "execution_count": 17,
     "metadata": {},
     "output_type": "execute_result"
    }
   ],
   "source": [
    "### Checking unique values for collosion type\n",
    "round(100*(insurance_claim['COLLISION_TYPE'].value_counts(normalize=True,dropna=False)),2)"
   ]
  },
  {
   "cell_type": "code",
   "execution_count": 18,
   "id": "2661cbb1",
   "metadata": {},
   "outputs": [],
   "source": [
    "### We can impute collosion type with mode i.e most occuring collosion type\n",
    "### imputing\n",
    "\n",
    "insurance_claim['COLLISION_TYPE']=insurance_claim['COLLISION_TYPE'].fillna(insurance_claim['COLLISION_TYPE'].mode()[0])"
   ]
  },
  {
   "cell_type": "code",
   "execution_count": 19,
   "id": "87262034",
   "metadata": {},
   "outputs": [
    {
     "data": {
      "text/plain": [
       "PROPERTY_DAMAGE\n",
       "Property Damage          56.36\n",
       "No Property Damage       37.84\n",
       "Details not Available     5.80\n",
       "Name: proportion, dtype: float64"
      ]
     },
     "execution_count": 19,
     "metadata": {},
     "output_type": "execute_result"
    }
   ],
   "source": [
    "### Checking unique values for collosion type\n",
    "\n",
    "round(100*(insurance_claim['PROPERTY_DAMAGE'].value_counts(normalize=True,dropna=False)),2)"
   ]
  },
  {
   "cell_type": "code",
   "execution_count": 20,
   "id": "4ef3c3c3",
   "metadata": {},
   "outputs": [],
   "source": [
    "### If there was property loss,then the report would have been filed.So,we can consider missing value as \"NO\"\n",
    "###Imputing with \"NO\"\n",
    "\n",
    "insurance_claim['PROPERTY_DAMAGE']=insurance_claim['PROPERTY_DAMAGE'].fillna(\"NO\")"
   ]
  },
  {
   "cell_type": "code",
   "execution_count": 21,
   "id": "46f0d63b",
   "metadata": {},
   "outputs": [
    {
     "data": {
      "text/plain": [
       "POLICE_REPORT_AVAILABLE\n",
       "Police Report Available       43.53\n",
       "No Police Report Available    40.27\n",
       "Unknown                       16.20\n",
       "Name: proportion, dtype: float64"
      ]
     },
     "execution_count": 21,
     "metadata": {},
     "output_type": "execute_result"
    }
   ],
   "source": [
    "### Checking unique values for collosion type\n",
    "\n",
    "round(100*(insurance_claim['POLICE_REPORT_AVAILABLE'].value_counts(normalize=True,dropna=False)),2)"
   ]
  },
  {
   "cell_type": "code",
   "execution_count": 22,
   "id": "6db6acfd",
   "metadata": {},
   "outputs": [],
   "source": [
    "### If there was police reported,then the report would have been filed.So,we can consider missing value as \"NO\"\n",
    "###Imputing with \"NO\"\n",
    "\n",
    "insurance_claim['POLICE_REPORT_AVAILABLE']=insurance_claim['PROPERTY_DAMAGE'].fillna(\"NO\")"
   ]
  },
  {
   "cell_type": "code",
   "execution_count": 23,
   "id": "0f0a4c4d",
   "metadata": {},
   "outputs": [
    {
     "data": {
      "text/plain": [
       "MONTHS_AS_CUSTOMER             0.0\n",
       "CUSTOMER_AGE                   0.0\n",
       "POLICY_NUMBER                  0.0\n",
       "POLICY_BIND_DATE               0.0\n",
       "POLICY_STATE                   0.0\n",
       "POLICY_CSL                     0.0\n",
       "POLICY_DEDUCTABLE              0.0\n",
       "POLICY_ANNUAL_PREMIUM          0.0\n",
       "UMBRELLA_LIMIT                 0.0\n",
       "INSURED_ZIP                    0.0\n",
       "INSURED_SEX                    0.0\n",
       "INSURED_EDUCATION_LEVEL        0.0\n",
       "INSURED_OCCUPATION             0.0\n",
       "INSURED_HOBBIES                0.0\n",
       "INSURED_RELATIONSHIP           0.0\n",
       "CAPITAL_GAINS                  0.0\n",
       "CAPITAL_LOSS                   0.0\n",
       "INCIDENT_DATE                  0.0\n",
       "INCIDENT_TYPE                  0.0\n",
       "COLLISION_TYPE                 0.0\n",
       "INCIDENT_SEVERITY              0.0\n",
       "AUTHORITIES_CONTACTED          0.0\n",
       "INCIDENT_STATE                 0.0\n",
       "INCIDENT_CITY                  0.0\n",
       "INCIDENT_LOCATION              0.0\n",
       "INCIDENT_HOUR_OF_THE_DAY       0.0\n",
       "INCIDENT_TIME_OF_DAY           0.0\n",
       "NUMBER_OF_VEHICLES_INVOLVED    0.0\n",
       "PROPERTY_DAMAGE                0.0\n",
       "BODILY_INJURIES                0.0\n",
       "WITNESSES                      0.0\n",
       "POLICE_REPORT_AVAILABLE        0.0\n",
       "TOTAL_CLAIM_AMOUNT_PAID        0.0\n",
       "INJURY_CLAIM                   0.0\n",
       "PROPERTY_CLAIM                 0.0\n",
       "VEHICLE_CLAIM                  0.0\n",
       "AUTO_MAKE                      0.0\n",
       "AUTO_MODEL                     0.0\n",
       "AUTO_YEAR                      0.0\n",
       "FRAUD_REPORTED                 0.0\n",
       "dtype: float64"
      ]
     },
     "execution_count": 23,
     "metadata": {},
     "output_type": "execute_result"
    }
   ],
   "source": [
    "### Checking missing value again\n",
    "\n",
    "round(100*(insurance_claim.isnull().sum()/len(insurance_claim.index)),2)"
   ]
  },
  {
   "cell_type": "code",
   "execution_count": 24,
   "id": "8e6c5e4d",
   "metadata": {},
   "outputs": [],
   "source": [
    "### Dropping those column which are not much sighnificance in oir analysis\n",
    "\n",
    "insurance_claim.drop([\"INCIDENT_HOUR_OF_THE_DAY\",'INSURED_ZIP','POLICY_BIND_DATE','INCIDENT_LOCATION'],axis=1,inplace=True)"
   ]
  },
  {
   "cell_type": "code",
   "execution_count": 25,
   "id": "ae720ca4",
   "metadata": {},
   "outputs": [
    {
     "data": {
      "text/plain": [
       "(234265, 36)"
      ]
     },
     "execution_count": 25,
     "metadata": {},
     "output_type": "execute_result"
    }
   ],
   "source": [
    "### Checking shape of dataset again\n",
    "\n",
    "insurance_claim.shape"
   ]
  },
  {
   "cell_type": "code",
   "execution_count": 26,
   "id": "95cea57e",
   "metadata": {},
   "outputs": [
    {
     "data": {
      "text/plain": [
       "MONTHS_AS_CUSTOMER               323\n",
       "CUSTOMER_AGE                      51\n",
       "POLICY_NUMBER                  61441\n",
       "POLICY_STATE                       1\n",
       "POLICY_CSL                         3\n",
       "POLICY_DEDUCTABLE               2121\n",
       "POLICY_ANNUAL_PREMIUM           2271\n",
       "UMBRELLA_LIMIT                 53101\n",
       "INSURED_SEX                        2\n",
       "INSURED_EDUCATION_LEVEL            7\n",
       "INSURED_OCCUPATION                14\n",
       "INSURED_HOBBIES                   20\n",
       "INSURED_RELATIONSHIP               6\n",
       "CAPITAL_GAINS                  45174\n",
       "CAPITAL_LOSS                   42927\n",
       "INCIDENT_DATE                   1003\n",
       "INCIDENT_TYPE                      4\n",
       "COLLISION_TYPE                     4\n",
       "INCIDENT_SEVERITY                  3\n",
       "AUTHORITIES_CONTACTED              5\n",
       "INCIDENT_STATE                     1\n",
       "INCIDENT_CITY                     10\n",
       "INCIDENT_TIME_OF_DAY               4\n",
       "NUMBER_OF_VEHICLES_INVOLVED        4\n",
       "PROPERTY_DAMAGE                    3\n",
       "BODILY_INJURIES                    3\n",
       "WITNESSES                          4\n",
       "POLICE_REPORT_AVAILABLE            3\n",
       "TOTAL_CLAIM_AMOUNT_PAID        41219\n",
       "INJURY_CLAIM                   18218\n",
       "PROPERTY_CLAIM                 19191\n",
       "VEHICLE_CLAIM                  37558\n",
       "AUTO_MAKE                         14\n",
       "AUTO_MODEL                        39\n",
       "AUTO_YEAR                         21\n",
       "FRAUD_REPORTED                     2\n",
       "dtype: int64"
      ]
     },
     "execution_count": 26,
     "metadata": {},
     "output_type": "execute_result"
    }
   ],
   "source": [
    "### Checking values for each column\n",
    "\n",
    "insurance_claim.nunique()"
   ]
  },
  {
   "cell_type": "code",
   "execution_count": 27,
   "id": "1a026eae",
   "metadata": {},
   "outputs": [
    {
     "data": {
      "text/plain": [
       "0"
      ]
     },
     "execution_count": 27,
     "metadata": {},
     "output_type": "execute_result"
    }
   ],
   "source": [
    "### SANITY CHECK - Total claim must be equal to sum of \"injury_claim\",\"property_claim\",\"vehicle_claim\"\n",
    "\n",
    "insurance_claim[insurance_claim['TOTAL_CLAIM_AMOUNT_PAID'] != insurance_claim['INJURY_CLAIM']+insurance_claim['PROPERTY_CLAIM']+insurance_claim['VEHICLE_CLAIM']].shape[0]"
   ]
  },
  {
   "cell_type": "code",
   "execution_count": 28,
   "id": "56314829",
   "metadata": {},
   "outputs": [
    {
     "name": "stdout",
     "output_type": "stream",
     "text": [
      "0\n",
      "0\n",
      "0\n",
      "0\n",
      "0\n",
      "0\n",
      "0\n",
      "0\n",
      "0\n"
     ]
    }
   ],
   "source": [
    "### Others sanity check\n",
    "print(insurance_claim[insurance_claim['MONTHS_AS_CUSTOMER']<0].shape[0])\n",
    "print(insurance_claim[insurance_claim['POLICY_DEDUCTABLE']<0].shape[0])\n",
    "print(insurance_claim[insurance_claim['TOTAL_CLAIM_AMOUNT_PAID']<0].shape[0])\n",
    "print(insurance_claim[insurance_claim['UMBRELLA_LIMIT']<0].shape[0])\n",
    "print(insurance_claim[insurance_claim['CAPITAL_GAINS']<0].shape[0])\n",
    "print(insurance_claim[insurance_claim['NUMBER_OF_VEHICLES_INVOLVED']<0].shape[0])\n",
    "print(insurance_claim[insurance_claim['INJURY_CLAIM']<0].shape[0])\n",
    "print(insurance_claim[insurance_claim['PROPERTY_CLAIM']<0].shape[0])\n",
    "print(insurance_claim[insurance_claim['VEHICLE_CLAIM']<0].shape[0])"
   ]
  },
  {
   "cell_type": "code",
   "execution_count": 29,
   "id": "f87b3e33",
   "metadata": {},
   "outputs": [
    {
     "data": {
      "text/plain": [
       "MONTHS_AS_CUSTOMER               int16\n",
       "CUSTOMER_AGE                    object\n",
       "POLICY_NUMBER                    int32\n",
       "POLICY_STATE                    object\n",
       "POLICY_CSL                      object\n",
       "POLICY_DEDUCTABLE                int16\n",
       "POLICY_ANNUAL_PREMIUM            int16\n",
       "UMBRELLA_LIMIT                   int32\n",
       "INSURED_SEX                     object\n",
       "INSURED_EDUCATION_LEVEL         object\n",
       "INSURED_OCCUPATION              object\n",
       "INSURED_HOBBIES                 object\n",
       "INSURED_RELATIONSHIP            object\n",
       "CAPITAL_GAINS                    int32\n",
       "CAPITAL_LOSS                     int32\n",
       "INCIDENT_DATE                   object\n",
       "INCIDENT_TYPE                   object\n",
       "COLLISION_TYPE                  object\n",
       "INCIDENT_SEVERITY               object\n",
       "AUTHORITIES_CONTACTED           object\n",
       "INCIDENT_STATE                  object\n",
       "INCIDENT_CITY                   object\n",
       "INCIDENT_TIME_OF_DAY            object\n",
       "NUMBER_OF_VEHICLES_INVOLVED       int8\n",
       "PROPERTY_DAMAGE                 object\n",
       "BODILY_INJURIES                   int8\n",
       "WITNESSES                         int8\n",
       "POLICE_REPORT_AVAILABLE         object\n",
       "TOTAL_CLAIM_AMOUNT_PAID        float64\n",
       "INJURY_CLAIM                   float64\n",
       "PROPERTY_CLAIM                 float64\n",
       "VEHICLE_CLAIM                  float64\n",
       "AUTO_MAKE                       object\n",
       "AUTO_MODEL                      object\n",
       "AUTO_YEAR                        int16\n",
       "FRAUD_REPORTED                  object\n",
       "dtype: object"
      ]
     },
     "execution_count": 29,
     "metadata": {},
     "output_type": "execute_result"
    }
   ],
   "source": [
    "### Checking datatypes\n",
    "insurance_claim.dtypes"
   ]
  },
  {
   "cell_type": "code",
   "execution_count": 30,
   "id": "7e21d77e",
   "metadata": {},
   "outputs": [],
   "source": [
    "### changing Incident date into datetime format\n",
    "insurance_claim['INCIDENT_DATE']=pd.to_datetime(insurance_claim['INCIDENT_DATE'],format='%Y-%m-%d')\n",
    "\n",
    "### changing auto_year date into datetime format\n",
    "insurance_claim['AUTO_YEAR']=pd.to_datetime(insurance_claim['AUTO_YEAR'],format='%Y')"
   ]
  },
  {
   "cell_type": "code",
   "execution_count": 31,
   "id": "f5c23fd0",
   "metadata": {},
   "outputs": [
    {
     "data": {
      "text/plain": [
       "['MONTHS_AS_CUSTOMER',\n",
       " 'POLICY_NUMBER',\n",
       " 'POLICY_DEDUCTABLE',\n",
       " 'POLICY_ANNUAL_PREMIUM',\n",
       " 'UMBRELLA_LIMIT',\n",
       " 'CAPITAL_GAINS',\n",
       " 'CAPITAL_LOSS',\n",
       " 'INCIDENT_DATE',\n",
       " 'NUMBER_OF_VEHICLES_INVOLVED',\n",
       " 'BODILY_INJURIES',\n",
       " 'WITNESSES',\n",
       " 'TOTAL_CLAIM_AMOUNT_PAID',\n",
       " 'INJURY_CLAIM',\n",
       " 'PROPERTY_CLAIM',\n",
       " 'VEHICLE_CLAIM',\n",
       " 'AUTO_YEAR']"
      ]
     },
     "execution_count": 31,
     "metadata": {},
     "output_type": "execute_result"
    }
   ],
   "source": [
    "# OUTLIER DETECTION\n",
    "insurance_claim.describe().columns.to_list()"
   ]
  },
  {
   "cell_type": "code",
   "execution_count": 32,
   "id": "9acfc778",
   "metadata": {},
   "outputs": [
    {
     "data": {
      "image/png": "[encoded data removed]",
      "text/plain": [
       "<Figure size 1440x1440 with 14 Axes>"
      ]
     },
     "metadata": {
      "needs_background": "light"
     },
     "output_type": "display_data"
    }
   ],
   "source": [
    "plt.figure(figsize=[20,20])\n",
    "\n",
    "\n",
    "num_col= ['MONTHS_AS_CUSTOMER','CUSTOMER_AGE','POLICY_DEDUCTABLE','POLICY_ANNUAL_PREMIUM','UMBRELLA_LIMIT','CAPITAL_GAINS','CAPITAL_LOSS','NUMBER_OF_VEHICLES_INVOLVED','BODILY_INJURIES','WITNESSES',\n",
    " 'TOTAL_CLAIM_AMOUNT_PAID','INJURY_CLAIM', 'PROPERTY_CLAIM', 'VEHICLE_CLAIM']\n",
    "\n",
    "c=1\n",
    "\n",
    "for i in num_col:\n",
    "    plt.subplot(4, 4, c)\n",
    "    plt.xlabel(i)\n",
    "    sns.boxplot(insurance_claim[i] , palette=\"Set2\")\n",
    "    c = c + 1\n",
    "    \n",
    "plt.show()\n"
   ]
  },
  {
   "cell_type": "code",
   "execution_count": 33,
   "id": "b4b5d022",
   "metadata": {},
   "outputs": [
    {
     "data": {
      "text/plain": [
       "POLICE_REPORT_AVAILABLE\n",
       "Property Damage          0.563571\n",
       "No Property Damage       0.378383\n",
       "Details not Available    0.058045\n",
       "Name: proportion, dtype: float64"
      ]
     },
     "execution_count": 33,
     "metadata": {},
     "output_type": "execute_result"
    }
   ],
   "source": [
    "insurance_claim['POLICE_REPORT_AVAILABLE'].value_counts(normalize=True,dropna=False)"
   ]
  }
 ],
 "metadata": {
  "kernelspec": {
   "display_name": "Python 3 (ipykernel)",
   "language": "python",
   "name": "python3"
  },
  "language_info": {
   "codemirror_mode": {
    "name": "ipython",
    "version": 3
   },
   "file_extension": ".py",
   "mimetype": "text/x-python",
   "name": "python",
   "nbconvert_exporter": "python",
   "pygments_lexer": "ipython3",
   "version": "3.9.19"
  }
 },
 "nbformat": 4,
 "nbformat_minor": 5
}
