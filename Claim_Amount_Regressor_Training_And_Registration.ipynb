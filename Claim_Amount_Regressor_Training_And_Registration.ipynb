{
 "cells": [
  {
   "cell_type": "markdown",
   "id": "5b2b84af",
   "metadata": {},
   "source": [
    "## Use Customized Notebook Template (CLAIMS_RESERVE_Template)"
   ]
  },
  {
   "cell_type": "code",
   "execution_count": 2,
   "id": "4871a0ed",
   "metadata": {},
   "outputs": [],
   "source": [
    "from snowflake.snowpark import Session\n",
    "from snowflake.ml.modeling.pipeline import Pipeline\n",
    "from snowflake.ml.modeling.xgboost import XGBRegressor\n",
    "from snowflake.ml.modeling.preprocessing import MinMaxScaler, OrdinalEncoder, OneHotEncoder\n",
    "# import seaborn as sns\n",
    "from sklearn.metrics import mean_absolute_percentage_error\n",
    "# Pandas Tools\n",
    "from snowflake.connector.pandas_tools import write_pandas\n",
    "# Data Science Libs\n",
    "import numpy as np\n",
    "import pandas as pd\n",
    "# create_temp_table warning suppresion\n",
    "import warnings; warnings.simplefilter('ignore')\n",
    "from joblib import dump, load\n",
    "# FosforIO to read from snowflake\n",
    "from fosforio import snowflake\n",
    "# FosforML to register Model on FDC\n",
    "from fosforml import *\n",
    "from fosforml.constants import MLModelFlavours\n",
    "import requests"
   ]
  },
  {
   "cell_type": "markdown",
   "id": "155d76ac",
   "metadata": {},
   "source": [
    "# Read data using FosforML"
   ]
  },
  {
   "cell_type": "code",
   "execution_count": 3,
   "id": "2a448012",
   "metadata": {
    "scrolled": true
   },
   "outputs": [],
   "source": [
    "from fosforml.model_manager.snowflakesession import get_session\n",
    "my_session = get_session()"
   ]
  },
  {
   "cell_type": "code",
   "execution_count": 7,
   "id": "1c203a64-c612-4140-96f8-f7e4addf79c2",
   "metadata": {},
   "outputs": [],
   "source": [
    "table_name = 'AUTO_INSURANCE_CLAIMS_DATA'"
   ]
  },
  {
   "cell_type": "code",
   "execution_count": 8,
   "id": "78a1e7f8-2f42-44bc-a746-1dad58e80276",
   "metadata": {},
   "outputs": [],
   "source": [
    "sf_df = my_session.sql(\"select * from {}\".format(table_name))"
   ]
  },
  {
   "cell_type": "code",
   "execution_count": 9,
   "id": "cf0e2ea2-d1b1-44cc-8b8a-e64006457a71",
   "metadata": {},
   "outputs": [],
   "source": [
    "df = sf_df.to_pandas()"
   ]
  },
  {
   "cell_type": "code",
   "execution_count": 3,
   "id": "e4c7d900",
   "metadata": {},
   "outputs": [],
   "source": [
    "# To read a specific dataset published from a snowflake connection\n",
    "#df = snowflake.get_dataframe(\"AUTO_INSURANCE_CLAIMS_DATA_PRODUCT\")"
   ]
  },
  {
   "cell_type": "code",
   "execution_count": 10,
   "id": "21402b83",
   "metadata": {},
   "outputs": [],
   "source": [
    "df_backup = df.copy()"
   ]
  },
  {
   "cell_type": "code",
   "execution_count": 12,
   "id": "5a8be232-3572-40f9-b2d1-97c670038a20",
   "metadata": {},
   "outputs": [
    {
     "data": {
      "text/plain": [
       "Index(['MONTHS_AS_CUSTOMER', 'CUSTOMER_AGE', 'POLICY_NUMBER',\n",
       "       'POLICY_BIND_DATE', 'POLICY_STATE', 'POLICY_CSL', 'POLICY_DEDUCTABLE',\n",
       "       'POLICY_ANNUAL_PREMIUM', 'UMBRELLA_LIMIT', 'INSURED_ZIP', 'INSURED_SEX',\n",
       "       'INSURED_EDUCATION_LEVEL', 'INSURED_OCCUPATION', 'INSURED_HOBBIES',\n",
       "       'INSURED_RELATIONSHIP', 'CAPITAL_GAINS', 'CAPITAL_LOSS',\n",
       "       'INCIDENT_DATE', 'INCIDENT_TYPE', 'COLLISION_TYPE', 'INCIDENT_SEVERITY',\n",
       "       'AUTHORITIES_CONTACTED', 'INCIDENT_STATE', 'INCIDENT_CITY',\n",
       "       'INCIDENT_LOCATION', 'INCIDENT_HOUR_OF_THE_DAY', 'INCIDENT_TIME_OF_DAY',\n",
       "       'NUMBER_OF_VEHICLES_INVOLVED', 'PROPERTY_DAMAGE', 'BODILY_INJURIES',\n",
       "       'WITNESSES', 'POLICE_REPORT_AVAILABLE', 'TOTAL_CLAIM_AMOUNT_PAID',\n",
       "       'INJURY_CLAIM', 'PROPERTY_CLAIM', 'VEHICLE_CLAIM', 'AUTO_MAKE',\n",
       "       'AUTO_MODEL', 'AUTO_YEAR', 'FRAUD_REPORTED', 'POLICY_BIND_DATE_CUSTOM'],\n",
       "      dtype='object')"
      ]
     },
     "execution_count": 12,
     "metadata": {},
     "output_type": "execute_result"
    }
   ],
   "source": [
    "df.columns"
   ]
  },
  {
   "cell_type": "code",
   "execution_count": 13,
   "id": "15a4c2f7",
   "metadata": {},
   "outputs": [],
   "source": [
    "df = df.drop(['POLICY_NUMBER','MONTHS_AS_CUSTOMER','CUSTOMER_AGE','POLICY_BIND_DATE','POLICY_STATE','POLICY_CSL','UMBRELLA_LIMIT',\n",
    " 'INSURED_ZIP','INSURED_SEX','INSURED_EDUCATION_LEVEL','INSURED_OCCUPATION','INSURED_HOBBIES','INSURED_RELATIONSHIP',\n",
    " 'CAPITAL_GAINS','CAPITAL_LOSS', 'INCIDENT_DATE', 'AUTHORITIES_CONTACTED', 'INCIDENT_STATE', 'INCIDENT_CITY',\n",
    " 'INCIDENT_LOCATION', 'INCIDENT_HOUR_OF_THE_DAY', 'INCIDENT_TIME_OF_DAY', 'WITNESSES', 'POLICE_REPORT_AVAILABLE',\n",
    " 'INJURY_CLAIM', 'PROPERTY_CLAIM', 'VEHICLE_CLAIM', 'FRAUD_REPORTED'], axis=1)"
   ]
  },
  {
   "cell_type": "code",
   "execution_count": null,
   "id": "711acffc",
   "metadata": {
    "scrolled": true
   },
   "outputs": [],
   "source": [
    "df.head()"
   ]
  },
  {
   "cell_type": "code",
   "execution_count": 20,
   "id": "5efe9f80",
   "metadata": {},
   "outputs": [],
   "source": [
    "train_df, test_df = df.random_split([0.8,0.2], seed=69) #seed=60 for Model version 2\n",
    "CATEGORICAL_COLUMNS = [\"INCIDENT_TYPE\", \"COLLISION_TYPE\",\"INCIDENT_SEVERITY\", \"PROPERTY_DAMAGE\",\n",
    "                       \"AUTO_MAKE\",\"AUTO_MODEL\",\"AUTO_YEAR\",]\n",
    "NUMERICAL_COLUMNS = [\"POLICY_DEDUCTABLE\", \"POLICY_ANNUAL_PREMIUM\",\"NUMBER_OF_VEHICLES_INVOLVED\", \"BODILY_INJURIES\"]\n",
    "LABEL_COLUMNS = [\"TOTAL_CLAIM_AMOUNT_PAID\"]\n",
    "OUTPUT_COLUMNS = [\"PREDICTION\"]"
   ]
  },
  {
   "cell_type": "code",
   "execution_count": 21,
   "id": "c7d5eb6f",
   "metadata": {},
   "outputs": [
    {
     "name": "stderr",
     "output_type": "stream",
     "text": [
      "The version of package 'numpy' in the local environment is 1.24.4, which does not fit the criteria for the requirement 'numpy==1.24.3'. Your UDF might not work when the package version is different between the server and your local environment.\n",
      "The version of package 'numpy' in the local environment is 1.24.4, which does not fit the criteria for the requirement 'numpy==1.24.3'. Your UDF might not work when the package version is different between the server and your local environment.\n"
     ]
    }
   ],
   "source": [
    "## train_df and test_df are both snowpark dataframes\n",
    "pipeline = Pipeline(\n",
    "    steps=[(\n",
    "                \"OE\",\n",
    "                OrdinalEncoder(\n",
    "                input_cols=CATEGORICAL_COLUMNS,\n",
    "                output_cols=CATEGORICAL_COLUMNS,\n",
    "                handle_unknown='use_encoded_value',\n",
    "                unknown_value=-1\n",
    "                )),\n",
    "               (\"MMS\",\n",
    "                MinMaxScaler(\n",
    "                clip=True,\n",
    "                input_cols=NUMERICAL_COLUMNS,\n",
    "                output_cols=NUMERICAL_COLUMNS,\n",
    "                )),\n",
    "               (\"classification\",\n",
    "                XGBRegressor(\n",
    "                input_cols=CATEGORICAL_COLUMNS+NUMERICAL_COLUMNS,\n",
    "                label_cols=LABEL_COLUMNS,\n",
    "                output_cols=OUTPUT_COLUMNS\n",
    "                ))])\n",
    "\n",
    "pipeline.fit(train_df) ## fiting the dataset\n",
    "result = pipeline.predict(test_df)"
   ]
  },
  {
   "cell_type": "code",
   "execution_count": 28,
   "id": "5c4d5612",
   "metadata": {},
   "outputs": [
    {
     "data": {
      "text/plain": [
       "['Claims_Snowpark_XGB_Regression.joblib']"
      ]
     },
     "execution_count": 28,
     "metadata": {},
     "output_type": "execute_result"
    }
   ],
   "source": [
    "from joblib import dump, load\n",
    "filename = \"Claims_Snowpark_XGB_Regression.joblib\" #Model version 1\n",
    "dump(pipeline, 'model_artifacts/' + filename)"
   ]
  },
  {
   "cell_type": "code",
   "execution_count": 29,
   "id": "3b78e64f",
   "metadata": {},
   "outputs": [],
   "source": [
    "model = load('model_artifacts/' + filename)"
   ]
  },
  {
   "cell_type": "code",
   "execution_count": 30,
   "id": "79fac1af",
   "metadata": {},
   "outputs": [],
   "source": [
    "test = test_df.to_pandas().replace(np.nan, pd.isna)\n",
    "train = train_df.to_pandas().replace(np.nan, pd.isna)\n",
    "test[\"AUTO_YEAR\"] = test[\"AUTO_YEAR\"].astype(str)\n",
    "train[\"AUTO_YEAR\"] = train[\"AUTO_YEAR\"].astype(str)"
   ]
  },
  {
   "cell_type": "code",
   "execution_count": 31,
   "id": "b1c944a3",
   "metadata": {},
   "outputs": [],
   "source": [
    "@scoring_func\n",
    "def score(model, request):\n",
    "    payload_dict = request.json[\"payload\"]\n",
    "    data = pd.DataFrame(payload_dict,index=[0])\n",
    "    data = data.replace(np.nan, pd.isna)\n",
    "    data[\"AUTO_YEAR\"] = data[\"AUTO_YEAR\"].astype(str)\n",
    "    prediction = str(model.predict(data)[\"PREDICTION\"][0])\n",
    "    return prediction"
   ]
  },
  {
   "cell_type": "code",
   "execution_count": 32,
   "id": "b3017730",
   "metadata": {},
   "outputs": [],
   "source": [
    "pred = model.predict(test)\n",
    "test[\"PREDICTION\"] = pred[\"PREDICTION\"]"
   ]
  },
  {
   "cell_type": "code",
   "execution_count": 33,
   "id": "9b030bd1",
   "metadata": {},
   "outputs": [],
   "source": [
    "X_train = train.drop([\"TOTAL_CLAIM_AMOUNT_PAID\"], axis=1)\n",
    "y_train = train[\"TOTAL_CLAIM_AMOUNT_PAID\"]\n",
    "\n",
    "X_test = pred.drop([\"TOTAL_CLAIM_AMOUNT_PAID\", \"PREDICTION\"], axis=1)\n",
    "y_test = pred[\"TOTAL_CLAIM_AMOUNT_PAID\"]\n",
    "\n",
    "y_pred = pred[\"PREDICTION\"]"
   ]
  },
  {
   "cell_type": "code",
   "execution_count": 34,
   "id": "5bf30c30",
   "metadata": {},
   "outputs": [
    {
     "data": {
      "text/plain": [
       "{'POLICY_DEDUCTABLE': 809,\n",
       " 'POLICY_ANNUAL_PREMIUM': 1064,\n",
       " 'INCIDENT_TYPE': 'Single Vehicle Collision',\n",
       " 'COLLISION_TYPE': 'Rear Collision',\n",
       " 'INCIDENT_SEVERITY': 'Major Damage',\n",
       " 'NUMBER_OF_VEHICLES_INVOLVED': 1,\n",
       " 'PROPERTY_DAMAGE': 'Property Damage',\n",
       " 'BODILY_INJURIES': 2,\n",
       " 'AUTO_MAKE': 'Accura',\n",
       " 'AUTO_MODEL': 'MDX',\n",
       " 'AUTO_YEAR': '1997'}"
      ]
     },
     "execution_count": 34,
     "metadata": {},
     "output_type": "execute_result"
    }
   ],
   "source": [
    "payload  = test.iloc[0].to_dict()\n",
    "del payload[\"TOTAL_CLAIM_AMOUNT_PAID\"]\n",
    "del payload[\"PREDICTION\"]\n",
    "payload"
   ]
  },
  {
   "cell_type": "code",
   "execution_count": 35,
   "id": "a4a60820",
   "metadata": {},
   "outputs": [
    {
     "data": {
      "text/plain": [
       "'74180.48'"
      ]
     },
     "execution_count": 35,
     "metadata": {},
     "output_type": "execute_result"
    }
   ],
   "source": [
    "req = requests.Request()\n",
    "req.json = {\"payload\":payload}\n",
    "y_req = req\n",
    "y_out = score(model, y_req)\n",
    "y_out"
   ]
  },
  {
   "cell_type": "code",
   "execution_count": 36,
   "id": "6248d1cb",
   "metadata": {},
   "outputs": [],
   "source": [
    "## SAMPLE PAYLOAD\n",
    "data = {\n",
    "  \"payload\": {\n",
    "    \"POLICY_DEDUCTABLE\": 500,\n",
    "    \"POLICY_ANNUAL_PREMIUM\": 938,\n",
    "    \"INCIDENT_TYPE\": \"Vehicle Theft\",\n",
    "    \"COLLISION_TYPE\": \"Details not Available\",\n",
    "    \"INCIDENT_SEVERITY\": \"Total Loss\",\n",
    "    \"NUMBER_OF_VEHICLES_INVOLVED\": 1,\n",
    "    \"PROPERTY_DAMAGE\": \"Property Damage\",\n",
    "    \"BODILY_INJURIES\": 0,\n",
    "    \"AUTO_MAKE\": \"Honda\",\n",
    "    \"AUTO_MODEL\": \"Civic\",\n",
    "    \"AUTO_YEAR\": \"2002\"\n",
    "  }\n",
    "}"
   ]
  },
  {
   "cell_type": "code",
   "execution_count": 37,
   "id": "6ce34b9f",
   "metadata": {},
   "outputs": [
    {
     "name": "stdout",
     "output_type": "stream",
     "text": [
      "Calculating build time metrics\n",
      "\n",
      "Progress: ██████████████████████████████████████████████████████████████████████ 100.0%\n"
     ]
    },
    {
     "data": {
      "application/vnd.jupyter.widget-view+json": {
       "model_id": "d268614bca984974ac2fe4a462cc43c5",
       "version_major": 2,
       "version_minor": 0
      },
      "text/plain": [
       "VBox(children=(HTML(value='<style>.grad_1{background: #2468a4;} .grad_2{ color:white; background: #2468a4;}</s…"
      ]
     },
     "metadata": {},
     "output_type": "display_data"
    }
   ],
   "source": [
    "## registering the model in Fosfor Insight Designer\n",
    "model_reg = register_model(model, \n",
    "               score, \n",
    "               name=\"Claims_Snowpark_XGB_Regression\", \n",
    "               description=\"AutoInsurance claims SnowflakeML XGB Regression\",\n",
    "               flavour=MLModelFlavours.sklearn,\n",
    "               model_type=\"regression\",\n",
    "               init_script=\"pip install snowflake-ml-python==1.0.11\",\n",
    "               y_true=y_test,\n",
    "               y_pred=y_pred, \n",
    "               features=X_train.columns,\n",
    "               input_type=\"json\", \n",
    "               explain_ai=True,\n",
    "               x_train=X_train, \n",
    "               x_test=X_test, \n",
    "               y_train=y_train.tolist(),\n",
    "               y_test=y_test.tolist(),\n",
    "               feature_names=X_train.columns.tolist(),\n",
    "               original_features=X_train.columns.tolist(),\n",
    "               feature_ids=X_train.columns,\n",
    "               kyd=True, kyd_score = True)"
   ]
  },
  {
   "cell_type": "markdown",
   "id": "f94a9d6b",
   "metadata": {},
   "source": [
    "# Code to call Claims_Snowpark_XGB_Regression internally using Insight Designer Notebook"
   ]
  },
  {
   "cell_type": "code",
   "execution_count": 38,
   "id": "04bea903",
   "metadata": {},
   "outputs": [],
   "source": [
    "def model_prediction(data):\n",
    "    model = load('model_artifacts/Claims_Snowpark_XGB_Regression.joblib', mmap_mode='r')\n",
    "    data = data.replace(np.nan, pd.isna)\n",
    "    data[\"AUTO_YEAR\"] = data[\"AUTO_YEAR\"].astype(str)\n",
    "    return model.predict(data)['PREDICTION'] #Only returns Prediction\n",
    "    #return model.predict(data) #Returns Complete input data along with Prediction"
   ]
  },
  {
   "cell_type": "code",
   "execution_count": 39,
   "id": "ff4a0c46",
   "metadata": {},
   "outputs": [],
   "source": [
    "test['PREDICTION'] = model_prediction(test) #If only Prediction is expected from the score function output\n",
    "#test = model_prediction(test) #If complete input data along with Prediction is expected from the score function output"
   ]
  },
  {
   "cell_type": "code",
   "execution_count": 40,
   "id": "a53adc6b",
   "metadata": {},
   "outputs": [
    {
     "data": {
      "text/html": [
       "<div>\n",
       "<style scoped>\n",
       "    .dataframe tbody tr th:only-of-type {\n",
       "        vertical-align: middle;\n",
       "    }\n",
       "\n",
       "    .dataframe tbody tr th {\n",
       "        vertical-align: top;\n",
       "    }\n",
       "\n",
       "    .dataframe thead th {\n",
       "        text-align: right;\n",
       "    }\n",
       "</style>\n",
       "<table border=\"1\" class=\"dataframe\">\n",
       "  <thead>\n",
       "    <tr style=\"text-align: right;\">\n",
       "      <th></th>\n",
       "      <th>POLICY_DEDUCTABLE</th>\n",
       "      <th>POLICY_ANNUAL_PREMIUM</th>\n",
       "      <th>INCIDENT_TYPE</th>\n",
       "      <th>COLLISION_TYPE</th>\n",
       "      <th>INCIDENT_SEVERITY</th>\n",
       "      <th>NUMBER_OF_VEHICLES_INVOLVED</th>\n",
       "      <th>PROPERTY_DAMAGE</th>\n",
       "      <th>BODILY_INJURIES</th>\n",
       "      <th>TOTAL_CLAIM_AMOUNT_PAID</th>\n",
       "      <th>AUTO_MAKE</th>\n",
       "      <th>AUTO_MODEL</th>\n",
       "      <th>AUTO_YEAR</th>\n",
       "      <th>PREDICTION</th>\n",
       "    </tr>\n",
       "  </thead>\n",
       "  <tbody>\n",
       "    <tr>\n",
       "      <th>0</th>\n",
       "      <td>809</td>\n",
       "      <td>1064</td>\n",
       "      <td>Single Vehicle Collision</td>\n",
       "      <td>Rear Collision</td>\n",
       "      <td>Major Damage</td>\n",
       "      <td>1</td>\n",
       "      <td>Property Damage</td>\n",
       "      <td>2</td>\n",
       "      <td>76833.0</td>\n",
       "      <td>Accura</td>\n",
       "      <td>MDX</td>\n",
       "      <td>1997</td>\n",
       "      <td>74180.476562</td>\n",
       "    </tr>\n",
       "    <tr>\n",
       "      <th>1</th>\n",
       "      <td>1116</td>\n",
       "      <td>1268</td>\n",
       "      <td>Vehicle Theft</td>\n",
       "      <td>Details not Available</td>\n",
       "      <td>Major Damage</td>\n",
       "      <td>1</td>\n",
       "      <td>No Property Damage</td>\n",
       "      <td>0</td>\n",
       "      <td>69459.0</td>\n",
       "      <td>Chevrolet</td>\n",
       "      <td>Malibu</td>\n",
       "      <td>2015</td>\n",
       "      <td>72643.093750</td>\n",
       "    </tr>\n",
       "    <tr>\n",
       "      <th>2</th>\n",
       "      <td>1334</td>\n",
       "      <td>1607</td>\n",
       "      <td>Single Vehicle Collision</td>\n",
       "      <td>Side Collision</td>\n",
       "      <td>Minor Damage</td>\n",
       "      <td>1</td>\n",
       "      <td>Property Damage</td>\n",
       "      <td>0</td>\n",
       "      <td>38769.0</td>\n",
       "      <td>Toyota</td>\n",
       "      <td>Camry</td>\n",
       "      <td>2008</td>\n",
       "      <td>43409.593750</td>\n",
       "    </tr>\n",
       "    <tr>\n",
       "      <th>3</th>\n",
       "      <td>1734</td>\n",
       "      <td>2312</td>\n",
       "      <td>Single Vehicle Collision</td>\n",
       "      <td>Details not Available</td>\n",
       "      <td>Major Damage</td>\n",
       "      <td>1</td>\n",
       "      <td>No Property Damage</td>\n",
       "      <td>1</td>\n",
       "      <td>75894.0</td>\n",
       "      <td>Nissan</td>\n",
       "      <td>Maxima</td>\n",
       "      <td>2010</td>\n",
       "      <td>70534.773438</td>\n",
       "    </tr>\n",
       "    <tr>\n",
       "      <th>4</th>\n",
       "      <td>1312</td>\n",
       "      <td>1660</td>\n",
       "      <td>Single Vehicle Collision</td>\n",
       "      <td>Details not Available</td>\n",
       "      <td>Major Damage</td>\n",
       "      <td>1</td>\n",
       "      <td>Property Damage</td>\n",
       "      <td>0</td>\n",
       "      <td>72553.0</td>\n",
       "      <td>BMW</td>\n",
       "      <td>M5</td>\n",
       "      <td>2000</td>\n",
       "      <td>72034.968750</td>\n",
       "    </tr>\n",
       "  </tbody>\n",
       "</table>\n",
       "</div>"
      ],
      "text/plain": [
       "   POLICY_DEDUCTABLE  POLICY_ANNUAL_PREMIUM             INCIDENT_TYPE   \n",
       "0                809                   1064  Single Vehicle Collision  \\\n",
       "1               1116                   1268             Vehicle Theft   \n",
       "2               1334                   1607  Single Vehicle Collision   \n",
       "3               1734                   2312  Single Vehicle Collision   \n",
       "4               1312                   1660  Single Vehicle Collision   \n",
       "\n",
       "          COLLISION_TYPE INCIDENT_SEVERITY  NUMBER_OF_VEHICLES_INVOLVED   \n",
       "0         Rear Collision      Major Damage                            1  \\\n",
       "1  Details not Available      Major Damage                            1   \n",
       "2         Side Collision      Minor Damage                            1   \n",
       "3  Details not Available      Major Damage                            1   \n",
       "4  Details not Available      Major Damage                            1   \n",
       "\n",
       "      PROPERTY_DAMAGE  BODILY_INJURIES  TOTAL_CLAIM_AMOUNT_PAID  AUTO_MAKE   \n",
       "0     Property Damage                2                  76833.0     Accura  \\\n",
       "1  No Property Damage                0                  69459.0  Chevrolet   \n",
       "2     Property Damage                0                  38769.0     Toyota   \n",
       "3  No Property Damage                1                  75894.0     Nissan   \n",
       "4     Property Damage                0                  72553.0        BMW   \n",
       "\n",
       "  AUTO_MODEL AUTO_YEAR    PREDICTION  \n",
       "0        MDX      1997  74180.476562  \n",
       "1     Malibu      2015  72643.093750  \n",
       "2      Camry      2008  43409.593750  \n",
       "3     Maxima      2010  70534.773438  \n",
       "4         M5      2000  72034.968750  "
      ]
     },
     "execution_count": 40,
     "metadata": {},
     "output_type": "execute_result"
    }
   ],
   "source": [
    "test.head()"
   ]
  },
  {
   "cell_type": "code",
   "execution_count": 41,
   "id": "2a85b957",
   "metadata": {},
   "outputs": [],
   "source": [
    "#Drift files to be setup using snowflake\n",
    "drift_old = test.head(10000)\n",
    "drift_old.to_csv(\"/data/Output/Claims_Snowpark_XGB_Regression_Output_v1.csv\", index=False)\n",
    "\n",
    "drift_new = test.tail(10000)\n",
    "drift_new.to_csv(\"/data/Output/Claims_Snowpark_XGB_Regression_Output_v2.csv\", index=False)"
   ]
  },
  {
   "cell_type": "markdown",
   "id": "7533fb8a",
   "metadata": {},
   "source": [
    "# Sample Code to call Claims_Snowpark_XGB_Regression externally"
   ]
  },
  {
   "cell_type": "code",
   "execution_count": null,
   "id": "dff5bbb3",
   "metadata": {},
   "outputs": [],
   "source": [
    "access_token = \"<Access Token here to be available in FDC 1.0>\"\n",
    "\n",
    "def model(payload, access_token):\n",
    "    headers = {'Content-Type': 'application/json',\n",
    "               'Authorization': 'Bearer ' + access_token}\n",
    "    url = \"https://prpr.fdc.leni.ai/claimssnowparkxgbregression/<model_version_id>/score\"\n",
    "    \n",
    "    data = {\"payload\": payload}\n",
    "    print(\"***********************************\")\n",
    "    print(data)\n",
    "    print(\"***************************\")\n",
    "    \n",
    "    response = requests.post(url, json=data, headers=headers)\n",
    "    return response \n",
    "    return #pd.DataFrame(eval(response.json()[\"data\"]))"
   ]
  },
  {
   "cell_type": "code",
   "execution_count": null,
   "id": "aa5a7269",
   "metadata": {},
   "outputs": [],
   "source": [
    "# data_1 = pd.DataFrame(payload, index=[0])\n",
    "output1 = model(payload, access_token)"
   ]
  },
  {
   "cell_type": "code",
   "execution_count": null,
   "id": "9c1ebc3e",
   "metadata": {},
   "outputs": [],
   "source": [
    "output1.json()[\"data\"]"
   ]
  },
  {
   "cell_type": "markdown",
   "id": "41b62fde",
   "metadata": {},
   "source": [
    "# Version 2 of Snowpark XGB Regression Model"
   ]
  },
  {
   "cell_type": "code",
   "execution_count": 42,
   "id": "31942d18",
   "metadata": {},
   "outputs": [],
   "source": [
    "train_df, test_df = df.random_split([0.8,0.2], seed=60) #seed=69 for Model version 1\n",
    "CATEGORICAL_COLUMNS = [\"INCIDENT_TYPE\", \"COLLISION_TYPE\",\"INCIDENT_SEVERITY\", \"PROPERTY_DAMAGE\",\n",
    "                       \"AUTO_MAKE\",\"AUTO_MODEL\",\"AUTO_YEAR\",]\n",
    "NUMERICAL_COLUMNS = [\"POLICY_DEDUCTABLE\", \"POLICY_ANNUAL_PREMIUM\",\"NUMBER_OF_VEHICLES_INVOLVED\", \"BODILY_INJURIES\"]\n",
    "LABEL_COLUMNS = [\"TOTAL_CLAIM_AMOUNT_PAID\"]\n",
    "OUTPUT_COLUMNS = [\"PREDICTION\"]"
   ]
  },
  {
   "cell_type": "code",
   "execution_count": 43,
   "id": "eae5a56e",
   "metadata": {},
   "outputs": [
    {
     "name": "stderr",
     "output_type": "stream",
     "text": [
      "WARNING:snowflake.snowpark.session:The version of package 'numpy' in the local environment is 1.24.4, which does not fit the criteria for the requirement 'numpy==1.24.3'. Your UDF might not work when the package version is different between the server and your local environment.\n"
     ]
    }
   ],
   "source": [
    "## train_df and test_df are both snowpark dataframes\n",
    "pipeline = Pipeline(\n",
    "    steps=[(\n",
    "                \"OE\",\n",
    "                OrdinalEncoder(\n",
    "                input_cols=CATEGORICAL_COLUMNS,\n",
    "                output_cols=CATEGORICAL_COLUMNS,\n",
    "                handle_unknown='use_encoded_value',\n",
    "                unknown_value=-1\n",
    "                )),\n",
    "               (\"MMS\",\n",
    "                MinMaxScaler(\n",
    "                clip=True,\n",
    "                input_cols=NUMERICAL_COLUMNS,\n",
    "                output_cols=NUMERICAL_COLUMNS,\n",
    "                )),\n",
    "               (\"classification\",\n",
    "                XGBRegressor(\n",
    "                input_cols=CATEGORICAL_COLUMNS+NUMERICAL_COLUMNS,\n",
    "                label_cols=LABEL_COLUMNS,\n",
    "                output_cols=OUTPUT_COLUMNS\n",
    "                ))])\n",
    "\n",
    "pipeline.fit(train_df) ## fiting the dataset\n",
    "result = pipeline.predict(test_df)"
   ]
  },
  {
   "cell_type": "code",
   "execution_count": 44,
   "id": "6c3613cc",
   "metadata": {},
   "outputs": [
    {
     "data": {
      "text/plain": [
       "['Claims_Snowpark_XGB_Regression_v2.joblib']"
      ]
     },
     "execution_count": 44,
     "metadata": {},
     "output_type": "execute_result"
    }
   ],
   "source": [
    "from joblib import dump, load\n",
    "filename = \"Claims_Snowpark_XGB_Regression_v2.joblib\" #Model version 1\n",
    "dump(pipeline, 'model_artifacts/' + filename)"
   ]
  },
  {
   "cell_type": "code",
   "execution_count": 45,
   "id": "b5abeeb7",
   "metadata": {},
   "outputs": [],
   "source": [
    "model = load('model_artifacts/' + filename)"
   ]
  },
  {
   "cell_type": "code",
   "execution_count": 46,
   "id": "d9b8c35c",
   "metadata": {},
   "outputs": [],
   "source": [
    "test = test_df.to_pandas().replace(np.nan, pd.isna)\n",
    "train = train_df.to_pandas().replace(np.nan, pd.isna)\n",
    "test[\"AUTO_YEAR\"] = test[\"AUTO_YEAR\"].astype(str)\n",
    "train[\"AUTO_YEAR\"] = train[\"AUTO_YEAR\"].astype(str)"
   ]
  },
  {
   "cell_type": "code",
   "execution_count": 47,
   "id": "216c4071",
   "metadata": {},
   "outputs": [],
   "source": [
    "pred = model.predict(test)\n",
    "test[\"PREDICTION\"] = pred[\"PREDICTION\"]"
   ]
  },
  {
   "cell_type": "code",
   "execution_count": 48,
   "id": "52494d66",
   "metadata": {},
   "outputs": [],
   "source": [
    "X_train = train.drop([\"TOTAL_CLAIM_AMOUNT_PAID\"], axis=1)\n",
    "y_train = train[\"TOTAL_CLAIM_AMOUNT_PAID\"]\n",
    "\n",
    "X_test = pred.drop([\"TOTAL_CLAIM_AMOUNT_PAID\", \"PREDICTION\"], axis=1)\n",
    "y_test = pred[\"TOTAL_CLAIM_AMOUNT_PAID\"]\n",
    "\n",
    "y_pred = pred[\"PREDICTION\"]"
   ]
  },
  {
   "cell_type": "code",
   "execution_count": 49,
   "id": "223bb077",
   "metadata": {},
   "outputs": [
    {
     "data": {
      "text/plain": [
       "{'POLICY_DEDUCTABLE': 583,\n",
       " 'POLICY_ANNUAL_PREMIUM': 821,\n",
       " 'INCIDENT_TYPE': 'Parked Car',\n",
       " 'COLLISION_TYPE': 'Side Collision',\n",
       " 'INCIDENT_SEVERITY': 'Minor Damage',\n",
       " 'NUMBER_OF_VEHICLES_INVOLVED': 1,\n",
       " 'PROPERTY_DAMAGE': 'No Property Damage',\n",
       " 'BODILY_INJURIES': 2,\n",
       " 'AUTO_MAKE': 'Toyota',\n",
       " 'AUTO_MODEL': 'Highlander',\n",
       " 'AUTO_YEAR': '2000'}"
      ]
     },
     "execution_count": 49,
     "metadata": {},
     "output_type": "execute_result"
    }
   ],
   "source": [
    "payload  = test.iloc[0].to_dict()\n",
    "del payload[\"TOTAL_CLAIM_AMOUNT_PAID\"]\n",
    "del payload[\"PREDICTION\"]\n",
    "payload"
   ]
  },
  {
   "cell_type": "code",
   "execution_count": 50,
   "id": "876f91b0",
   "metadata": {},
   "outputs": [
    {
     "data": {
      "text/plain": [
       "'45579.38'"
      ]
     },
     "execution_count": 50,
     "metadata": {},
     "output_type": "execute_result"
    }
   ],
   "source": [
    "req = requests.Request()\n",
    "req.json = {\"payload\":payload}\n",
    "y_req = req\n",
    "y_out = score(model, y_req)\n",
    "y_out"
   ]
  },
  {
   "cell_type": "code",
   "execution_count": 51,
   "id": "87e5412a",
   "metadata": {},
   "outputs": [
    {
     "name": "stdout",
     "output_type": "stream",
     "text": [
      "Calculating build time metrics\n",
      "\n",
      "Progress: ██████████████████████████████████████████████████████████████████████ 100.0%\n"
     ]
    },
    {
     "data": {
      "application/vnd.jupyter.widget-view+json": {
       "model_id": "c8cc06479b6f4dabb977c2b94990d441",
       "version_major": 2,
       "version_minor": 0
      },
      "text/plain": [
       "VBox(children=(HTML(value='<style>.grad_1{background: #2468a4;} .grad_2{ color:white; background: #2468a4;}</s…"
      ]
     },
     "metadata": {},
     "output_type": "display_data"
    }
   ],
   "source": [
    "## registering the model in Fosfor Insight Designer using same name.\n",
    "model_reg = register_model(model, \n",
    "               score, \n",
    "               name=\"Claims_Snowpark_XGB_Regression\", \n",
    "               description=\"AutoInsurance claims SnowflakeML XGB Regression\",\n",
    "               flavour=MLModelFlavours.sklearn,\n",
    "               model_type=\"regression\",\n",
    "               init_script=\"pip install snowflake-ml-python==1.0.11\",\n",
    "               y_true=y_test,\n",
    "               y_pred=y_pred, \n",
    "               features=X_train.columns,\n",
    "               input_type=\"json\", \n",
    "               explain_ai=True,\n",
    "               x_train=X_train, \n",
    "               x_test=X_test, \n",
    "               y_train=y_train.tolist(),\n",
    "               y_test=y_test.tolist(),\n",
    "               feature_names=X_train.columns.tolist(),\n",
    "               original_features=X_train.columns.tolist(),\n",
    "               feature_ids=X_train.columns,\n",
    "               kyd=True, kyd_score = True)"
   ]
  }
 ],
 "metadata": {
  "kernelspec": {
   "display_name": "Python 3 (ipykernel)",
   "language": "python",
   "name": "python3"
  },
  "language_info": {
   "codemirror_mode": {
    "name": "ipython",
    "version": 3
   },
   "file_extension": ".py",
   "mimetype": "text/x-python",
   "name": "python",
   "nbconvert_exporter": "python",
   "pygments_lexer": "ipython3",
   "version": "3.9.19"
  }
 },
 "nbformat": 4,
 "nbformat_minor": 5
}
