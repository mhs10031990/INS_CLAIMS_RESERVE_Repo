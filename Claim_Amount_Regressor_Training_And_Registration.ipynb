{
 "cells": [
  {
   "cell_type": "markdown",
   "id": "5b2b84af",
   "metadata": {},
   "source": [
    "## Use Customized Notebook Template (CLAIMS_RESERVE_Template)"
   ]
  },
  {
   "cell_type": "code",
   "execution_count": 2,
   "id": "4871a0ed",
   "metadata": {},
   "outputs": [],
   "source": [
    "from snowflake.snowpark import Session\n",
    "from snowflake.ml.modeling.pipeline import Pipeline\n",
    "from snowflake.ml.modeling.xgboost import XGBRegressor\n",
    "from snowflake.ml.modeling.preprocessing import MinMaxScaler, OrdinalEncoder, OneHotEncoder\n",
    "# import seaborn as sns\n",
    "from sklearn.metrics import mean_absolute_percentage_error\n",
    "# Pandas Tools\n",
    "from snowflake.connector.pandas_tools import write_pandas\n",
    "# Data Science Libs\n",
    "import numpy as np\n",
    "import pandas as pd\n",
    "# create_temp_table warning suppresion\n",
    "import warnings; warnings.simplefilter('ignore')\n",
    "from joblib import dump, load\n",
    "# FosforIO to read from snowflake\n",
    "from fosforio import snowflake\n",
    "# FosforML to register Model on FDC\n",
    "from fosforml import *\n",
    "from fosforml.constants import MLModelFlavours\n",
    "import requests"
   ]
  },
  {
   "cell_type": "markdown",
   "id": "155d76ac",
   "metadata": {},
   "source": [
    "# Read data using FosforML"
   ]
  },
  {
   "cell_type": "code",
   "execution_count": 3,
   "id": "2a448012",
   "metadata": {
    "scrolled": true
   },
   "outputs": [],
   "source": [
    "from fosforml.model_manager.snowflakesession import get_session\n",
    "my_session = get_session()"
   ]
  },
  {
   "cell_type": "code",
   "execution_count": 7,
   "id": "1c203a64-c612-4140-96f8-f7e4addf79c2",
   "metadata": {},
   "outputs": [],
   "source": [
    "table_name = 'AUTO_INSURANCE_CLAIMS_DATA'"
   ]
  },
  {
   "cell_type": "code",
   "execution_count": 8,
   "id": "78a1e7f8-2f42-44bc-a746-1dad58e80276",
   "metadata": {},
   "outputs": [],
   "source": [
    "sf_df = my_session.sql(\"select * from {}\".format(table_name))"
   ]
  },
  {
   "cell_type": "code",
   "execution_count": 27,
   "id": "cf0e2ea2-d1b1-44cc-8b8a-e64006457a71",
   "metadata": {},
   "outputs": [],
   "source": [
    "df = sf_df\n",
    "#df = sf_df.to_pandas()"
   ]
  },
  {
   "cell_type": "code",
   "execution_count": 3,
   "id": "e4c7d900",
   "metadata": {},
   "outputs": [],
   "source": [
    "# To read a specific dataset published from a snowflake connection\n",
    "#df = snowflake.get_dataframe(\"AUTO_INSURANCE_CLAIMS_DATA_PRODUCT\")"
   ]
  },
  {
   "cell_type": "code",
   "execution_count": 28,
   "id": "21402b83",
   "metadata": {},
   "outputs": [],
   "source": [
    "df_backup = df"
   ]
  },
  {
   "cell_type": "code",
   "execution_count": 29,
   "id": "15a4c2f7",
   "metadata": {},
   "outputs": [],
   "source": [
    "df = df.drop(['POLICY_NUMBER','MONTHS_AS_CUSTOMER','CUSTOMER_AGE','POLICY_BIND_DATE','POLICY_STATE','POLICY_CSL','UMBRELLA_LIMIT',\n",
    " 'INSURED_ZIP','INSURED_SEX','INSURED_EDUCATION_LEVEL','INSURED_OCCUPATION','INSURED_HOBBIES','INSURED_RELATIONSHIP',\n",
    " 'CAPITAL_GAINS','CAPITAL_LOSS', 'INCIDENT_DATE', 'AUTHORITIES_CONTACTED', 'INCIDENT_STATE', 'INCIDENT_CITY',\n",
    " 'INCIDENT_LOCATION', 'INCIDENT_HOUR_OF_THE_DAY', 'INCIDENT_TIME_OF_DAY', 'WITNESSES', 'POLICE_REPORT_AVAILABLE','POLICY_BIND_DATE_CUSTOM',\n",
    " 'INJURY_CLAIM', 'PROPERTY_CLAIM', 'VEHICLE_CLAIM', 'FRAUD_REPORTED'])"
   ]
  },
  {
   "cell_type": "code",
   "execution_count": 30,
   "id": "711acffc",
   "metadata": {
    "scrolled": true
   },
   "outputs": [
    {
     "name": "stdout",
     "output_type": "stream",
     "text": [
      "--------------------------------------------------------------------------------------------------------------------------------------------------------------------------------------------------------------------------------------------------------------------------\n",
      "|\"POLICY_DEDUCTABLE\"  |\"POLICY_ANNUAL_PREMIUM\"  |\"INCIDENT_TYPE\"           |\"COLLISION_TYPE\"       |\"INCIDENT_SEVERITY\"  |\"NUMBER_OF_VEHICLES_INVOLVED\"  |\"PROPERTY_DAMAGE\"   |\"BODILY_INJURIES\"  |\"TOTAL_CLAIM_AMOUNT_PAID\"  |\"AUTO_MAKE\"  |\"AUTO_MODEL\"  |\"AUTO_YEAR\"  |\n",
      "--------------------------------------------------------------------------------------------------------------------------------------------------------------------------------------------------------------------------------------------------------------------------\n",
      "|362                  |489                      |Multi-vehicle Collision   |Side Collision         |Major Damage         |2                              |Property Damage     |0                  |73495                      |Volkswagen   |Passat        |2000         |\n",
      "|1683                 |1979                     |Multi-vehicle Collision   |Details not Available  |Major Damage         |2                              |Property Damage     |0                  |94366                      |Suburu       |Impreza       |2006         |\n",
      "|1026                 |1405                     |Single Vehicle Collision  |Side Collision         |Major Damage         |1                              |Property Damage     |0                  |71712                      |BMW          |X6            |1998         |\n",
      "|1123                 |1353                     |Multi-vehicle Collision   |Rear Collision         |Major Damage         |3                              |Property Damage     |1                  |77531                      |Suburu       |Forrestor     |2006         |\n",
      "|1891                 |2424                     |Single Vehicle Collision  |Details not Available  |Major Damage         |1                              |Property Damage     |0                  |57043                      |Saab         |93            |2012         |\n",
      "|451                  |617                      |Parked Car                |Details not Available  |Major Damage         |2                              |Property Damage     |2                  |65371                      |Toyota       |Corolla       |1998         |\n",
      "|1799                 |2116                     |Multi-vehicle Collision   |Front Collision        |Major Damage         |2                              |Property Damage     |2                  |83886                      |Nissan       |Ultima        |2015         |\n",
      "|1691                 |2167                     |Single Vehicle Collision  |Rear Collision         |Minor Damage         |1                              |No Property Damage  |1                  |51930                      |Saab         |95            |1996         |\n",
      "|1084                 |1426                     |Single Vehicle Collision  |Rear Collision         |Major Damage         |1                              |Property Damage     |0                  |81525                      |Ford         |F150          |2013         |\n",
      "|1147                 |1592                     |Parked Car                |Rear Collision         |Total Loss           |2                              |Property Damage     |0                  |91999                      |Ford         |F150          |2011         |\n",
      "--------------------------------------------------------------------------------------------------------------------------------------------------------------------------------------------------------------------------------------------------------------------------\n",
      "\n"
     ]
    }
   ],
   "source": [
    "df.show()"
   ]
  },
  {
   "cell_type": "code",
   "execution_count": 31,
   "id": "5efe9f80",
   "metadata": {},
   "outputs": [],
   "source": [
    "train_df, test_df = df.random_split([0.8,0.2], seed=69) #seed=60 for Model version 2\n",
    "CATEGORICAL_COLUMNS = [\"INCIDENT_TYPE\", \"COLLISION_TYPE\",\"INCIDENT_SEVERITY\", \"PROPERTY_DAMAGE\",\n",
    "                       \"AUTO_MAKE\",\"AUTO_MODEL\",\"AUTO_YEAR\"]\n",
    "NUMERICAL_COLUMNS = [\"POLICY_DEDUCTABLE\", \"POLICY_ANNUAL_PREMIUM\",\"NUMBER_OF_VEHICLES_INVOLVED\", \"BODILY_INJURIES\"]\n",
    "LABEL_COLUMNS = [\"TOTAL_CLAIM_AMOUNT_PAID\"]\n",
    "OUTPUT_COLUMNS = [\"PREDICTION\"]"
   ]
  },
  {
   "cell_type": "code",
   "execution_count": 32,
   "id": "c7d5eb6f",
   "metadata": {},
   "outputs": [],
   "source": [
    "## train_df and test_df are both snowpark dataframes\n",
    "pipeline = Pipeline(\n",
    "    steps=[(\n",
    "                \"OE\",\n",
    "                OrdinalEncoder(\n",
    "                input_cols=CATEGORICAL_COLUMNS,\n",
    "                output_cols=CATEGORICAL_COLUMNS,\n",
    "                handle_unknown='use_encoded_value',\n",
    "                unknown_value=-1\n",
    "                )),\n",
    "               (\"MMS\",\n",
    "                MinMaxScaler(\n",
    "                clip=True,\n",
    "                input_cols=NUMERICAL_COLUMNS,\n",
    "                output_cols=NUMERICAL_COLUMNS,\n",
    "                )),\n",
    "               (\"classification\",\n",
    "                XGBRegressor(\n",
    "                input_cols=CATEGORICAL_COLUMNS+NUMERICAL_COLUMNS,\n",
    "                label_cols=LABEL_COLUMNS,\n",
    "                output_cols=OUTPUT_COLUMNS\n",
    "                ))])\n",
    "\n",
    "pipeline.fit(train_df) ## fiting the dataset\n",
    "result = pipeline.predict(test_df)"
   ]
  },
  {
   "cell_type": "code",
   "execution_count": 33,
   "id": "4d313dc3-3497-4e26-bf73-6b0c06ec3da4",
   "metadata": {},
   "outputs": [
    {
     "data": {
      "text/plain": [
       "(snowflake.snowpark.dataframe.DataFrame,\n",
       " snowflake.snowpark.dataframe.DataFrame,\n",
       " snowflake.snowpark.dataframe.DataFrame)"
      ]
     },
     "execution_count": 33,
     "metadata": {},
     "output_type": "execute_result"
    }
   ],
   "source": [
    "type(train_df), type(test_df), type(result)"
   ]
  },
  {
   "cell_type": "code",
   "execution_count": 34,
   "id": "79fac1af",
   "metadata": {},
   "outputs": [],
   "source": [
    "test = test_df.to_pandas().replace(np.nan, pd.isna)\n",
    "train = train_df.to_pandas().replace(np.nan, pd.isna)\n",
    "test[\"AUTO_YEAR\"] = test[\"AUTO_YEAR\"].astype(str)\n",
    "train[\"AUTO_YEAR\"] = train[\"AUTO_YEAR\"].astype(str)"
   ]
  },
  {
   "cell_type": "code",
   "execution_count": 35,
   "id": "b3017730",
   "metadata": {},
   "outputs": [],
   "source": [
    "pred = pipeline.predict(test)"
   ]
  },
  {
   "cell_type": "code",
   "execution_count": 38,
   "id": "9b030bd1",
   "metadata": {},
   "outputs": [],
   "source": [
    "X_train = train.drop([\"TOTAL_CLAIM_AMOUNT_PAID\"], axis=1)\n",
    "y_train = train[\"TOTAL_CLAIM_AMOUNT_PAID\"]\n",
    "\n",
    "X_test = pred.drop([\"TOTAL_CLAIM_AMOUNT_PAID\", \"PREDICTION\"], axis=1)\n",
    "y_test = pred[\"TOTAL_CLAIM_AMOUNT_PAID\"]\n",
    "\n",
    "y_pred = pred[\"PREDICTION\"]"
   ]
  },
  {
   "cell_type": "code",
   "execution_count": 43,
   "id": "52ea8f65-5cae-484c-81ae-0ccd5284ed3e",
   "metadata": {},
   "outputs": [
    {
     "data": {
      "text/plain": [
       "(pandas.core.frame.DataFrame,\n",
       " pandas.core.frame.DataFrame,\n",
       " pandas.core.series.Series,\n",
       " pandas.core.series.Series,\n",
       " pandas.core.series.Series,\n",
       " snowflake.snowpark.dataframe.DataFrame)"
      ]
     },
     "execution_count": 43,
     "metadata": {},
     "output_type": "execute_result"
    }
   ],
   "source": [
    "type(X_train), type(X_test), type(y_train), type(y_test), type(y_pred), type(result)"
   ]
  },
  {
   "cell_type": "markdown",
   "id": "950343f0-3a27-4e7f-94b6-9cfc7294a6d1",
   "metadata": {},
   "source": [
    "# Register Snowflake Model using FosforML"
   ]
  },
  {
   "cell_type": "code",
   "execution_count": 47,
   "id": "06c91c31-9286-477f-943a-4186aa573aee",
   "metadata": {},
   "outputs": [
    {
     "name": "stdout",
     "output_type": "stream",
     "text": [
      "Calculating build time metrics\n",
      "\n",
      "Progress: ██████████████████                                                     25.0%\n",
      "(0000) Length of multilabel label columns should be of the same between y_true_col_names and y_pred_col_names.Got y_true_col_names=['PREDICTION'] (length: 1) vs y_pred_col_names=['INCIDENT_TYPE', 'COLLISION_TYPE', 'INCIDENT_SEVERITY', 'PROPERTY_DAMAGE', 'AUTO_MAKE', 'AUTO_MODEL', 'AUTO_YEAR'] (length: 7).\n",
      "(0000) Length of multilabel label columns should be of the same between y_true_col_names and y_pred_col_names.Got y_true_col_names=['PREDICTION'] (length: 1) vs y_pred_col_names=['INCIDENT_TYPE', 'COLLISION_TYPE', 'INCIDENT_SEVERITY', 'PROPERTY_DAMAGE', 'AUTO_MAKE', 'AUTO_MODEL', 'AUTO_YEAR'] (length: 7).\n",
      "(0000) Length of multilabel label columns should be of the same between y_true_col_names and y_pred_col_names.Got y_true_col_names=['PREDICTION'] (length: 1) vs y_pred_col_names=['INCIDENT_TYPE', 'COLLISION_TYPE', 'INCIDENT_SEVERITY', 'PROPERTY_DAMAGE', 'AUTO_MAKE', 'AUTO_MODEL', 'AUTO_YEAR'] (length: 7).\n",
      "(0000) Length of multilabel label columns should be of the same between y_true_col_names and y_pred_col_names.Got y_true_col_names=['PREDICTION'] (length: 1) vs y_pred_col_names=['INCIDENT_TYPE', 'COLLISION_TYPE', 'INCIDENT_SEVERITY', 'PROPERTY_DAMAGE', 'AUTO_MAKE', 'AUTO_MODEL', 'AUTO_YEAR'] (length: 7).\n",
      "Error in while calculating detailed_matrix \n",
      "Calculating build time metrics\n",
      "\n",
      "Progress: ███████████████████████████████████                                    50.0%\n",
      "Calculating build time metrics\n",
      "\n",
      "Progress: ████████████████████████████████████████████████████                   75.0%\n"
     ]
    },
    {
     "data": {
      "text/plain": [
       "\"Model 'MODEL_0309078C_6F8E_4796_BF18_3789B23539DF_FDC_XGBOOST_CLAIM_PREDICTOR' registered successfully.\""
      ]
     },
     "execution_count": 47,
     "metadata": {},
     "output_type": "execute_result"
    }
   ],
   "source": [
    "register_model(\n",
    "  model_obj=pipeline,\n",
    "  session=my_session,\n",
    "  name=\"XGBoost_Claim_predictor\",\n",
    "  snowflake_df=result,\n",
    "  target_column=\"PREDICTION\",\n",
    "  dataset_name=\"AUTO_INSURANCE_CLAIMS_DATA\",\n",
    "  dataset_source=\"Snowflake\",\n",
    "  source=\"Notebook\",\n",
    "  description=\"XGBoost model trained via Notebook to predict claim amount\",\n",
    "  flavour=\"snowflake\",\n",
    "  model_type=\"regression\",\n",
    "  conda_dependencies=[\"scikit-learn==1.3.2\"]\n",
    ")"
   ]
  }
 ],
 "metadata": {
  "kernelspec": {
   "display_name": "Python 3 (ipykernel)",
   "language": "python",
   "name": "python3"
  },
  "language_info": {
   "codemirror_mode": {
    "name": "ipython",
    "version": 3
   },
   "file_extension": ".py",
   "mimetype": "text/x-python",
   "name": "python",
   "nbconvert_exporter": "python",
   "pygments_lexer": "ipython3",
   "version": "3.9.19"
  }
 },
 "nbformat": 4,
 "nbformat_minor": 5
}
