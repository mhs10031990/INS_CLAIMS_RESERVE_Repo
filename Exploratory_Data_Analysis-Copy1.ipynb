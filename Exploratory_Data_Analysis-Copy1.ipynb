{
 "cells": [
  {
   "cell_type": "markdown",
   "id": "899ff111",
   "metadata": {},
   "source": [
    "# Use Customized Notebook Template (CLAIMS_RESERVE_Template)"
   ]
  },
  {
   "cell_type": "code",
   "execution_count": 7,
   "id": "12eb34cf",
   "metadata": {},
   "outputs": [
    {
     "name": "stdout",
     "output_type": "stream",
     "text": [
      "Connection manager service url initialised to http://fdc-project-manager:80/project-manager\n",
      "If you need to update its value then update the variable CONNECTION_MANAGER_BASE_URL in os env.\n"
     ]
    }
   ],
   "source": [
    "from snowflake.snowpark import Session\n",
    "\n",
    "# Data Science Libs\n",
    "import numpy as np\n",
    "import pandas as pd\n",
    "import statsmodels\n",
    "import matplotlib.pyplot as plt\n",
    "import seaborn as sns\n",
    "\n",
    "# create_temp_table warning suppresion\n",
    "import warnings; warnings.simplefilter('ignore')\n",
    "\n",
    "import plotly.express as px\n",
    "from plotly.subplots import make_subplots\n",
    "import plotly.figure_factory as ff\n",
    "\n",
    "from fosforio import snowflake"
   ]
  },
  {
   "cell_type": "code",
   "execution_count": 8,
   "id": "5be1a033-b492-4ef5-a008-c3e357cc8d6b",
   "metadata": {},
   "outputs": [],
   "source": [
    "from fosforml.model_manager.snowflakesession import get_session\n",
    "my_session = get_session()\n",
    "\n",
    "table_name = 'AUTO_INSURANCE_CLAIMS_DATA'\n",
    "sf_df = my_session.sql(\"select * from {}\".format(table_name))\n"
   ]
  },
  {
   "cell_type": "code",
   "execution_count": 9,
   "id": "0a0fcf2d-c9b4-4edc-b014-9931046ccb8f",
   "metadata": {},
   "outputs": [
    {
     "name": "stdout",
     "output_type": "stream",
     "text": [
      "---------------------------------------------------------------------------------------------------------------------------------------------------------------------------------------------------------------------------------------------------------------------------------------------------------------------------------------------------------------------------------------------------------------------------------------------------------------------------------------------------------------------------------------------------------------------------------------------------------------------------------------------------------------------------------------------------------------------------------------------------------------------------------------------------------------------------------------------------------------------------------------------\n",
      "|\"MONTHS_AS_CUSTOMER\"  |\"CUSTOMER_AGE\"  |\"POLICY_NUMBER\"  |\"POLICY_BIND_DATE\"  |\"POLICY_STATE\"  |\"POLICY_CSL\"  |\"POLICY_DEDUCTABLE\"  |\"POLICY_ANNUAL_PREMIUM\"  |\"UMBRELLA_LIMIT\"  |\"INSURED_ZIP\"  |\"INSURED_SEX\"  |\"INSURED_EDUCATION_LEVEL\"  |\"INSURED_OCCUPATION\"  |\"INSURED_HOBBIES\"  |\"INSURED_RELATIONSHIP\"  |\"CAPITAL_GAINS\"  |\"CAPITAL_LOSS\"  |\"INCIDENT_DATE\"  |\"INCIDENT_TYPE\"           |\"COLLISION_TYPE\"       |\"INCIDENT_SEVERITY\"  |\"AUTHORITIES_CONTACTED\"  |\"INCIDENT_STATE\"  |\"INCIDENT_CITY\"  |\"INCIDENT_LOCATION\"  |\"INCIDENT_HOUR_OF_THE_DAY\"  |\"INCIDENT_TIME_OF_DAY\"  |\"NUMBER_OF_VEHICLES_INVOLVED\"  |\"PROPERTY_DAMAGE\"   |\"BODILY_INJURIES\"  |\"WITNESSES\"  |\"POLICE_REPORT_AVAILABLE\"   |\"TOTAL_CLAIM_AMOUNT_PAID\"  |\"INJURY_CLAIM\"  |\"PROPERTY_CLAIM\"  |\"VEHICLE_CLAIM\"  |\"AUTO_MAKE\"  |\"AUTO_MODEL\"  |\"AUTO_YEAR\"  |\"FRAUD_REPORTED\"   |\"POLICY_BIND_DATE_CUSTOM\"  |\n",
      "---------------------------------------------------------------------------------------------------------------------------------------------------------------------------------------------------------------------------------------------------------------------------------------------------------------------------------------------------------------------------------------------------------------------------------------------------------------------------------------------------------------------------------------------------------------------------------------------------------------------------------------------------------------------------------------------------------------------------------------------------------------------------------------------------------------------------------------------------------------------------------------------\n",
      "|78                    |47              |471609           |29-08-1996          |CT              |100/300       |362                  |489                      |0                 |614780         |FEMALE         |JD                         |priv-house-serv       |reading            |wife                    |4155             |-29139          |2021-12-06       |Multi-vehicle Collision   |Side Collision         |Major Damage         |Fire                     |CT                |Milford          |8845 5th Ave         |13                          |Afternoon Hours         |2                              |Property Damage     |0                  |1            |Unknown                     |73495                      |381             |22793             |50321            |Volkswagen   |Passat        |2000         |No Fraud Reported  |1996-08-29                 |\n",
      "|46                    |26              |430593           |15-12-2002          |CT              |250/500       |1683                 |1979                     |18895036          |457733         |MALE           |Associate                  |prof-specialty        |sleeping           |other-relative          |18069            |-64016          |2023-03-25       |Multi-vehicle Collision   |Details not Available  |Major Damage         |Fire                     |CT                |Milford          |St                   |19                          |Night Time              |2                              |Property Damage     |0                  |2            |Police Report Available     |94366                      |315             |18186             |75865            |Suburu       |Impreza       |2006         |No Fraud Reported  |2002-12-15                 |\n",
      "|326                   |56              |462289           |23-07-2007          |CT              |500/1000      |1026                 |1405                     |9430958           |608963         |MALE           |MD                         |craft-repair          |polo               |not-in-family           |40095            |-53484          |2022-03-19       |Single Vehicle Collision  |Side Collision         |Major Damage         |None                     |CT                |Wallingford      |Tree                 |15                          |Afternoon Hours         |1                              |Property Damage     |0                  |0            |No Police Report Available  |71712                      |520             |25106             |46086            |BMW          |X6            |1998         |No Fraud Reported  |2007-07-23                 |\n",
      "|131                   |34              |449894           |04-06-1997          |CT              |500/1000      |1123                 |1353                     |8967890           |431968         |FEMALE         |JD                         |transport-moving      |dancing            |not-in-family           |73292            |-63518          |2023-08-20       |Multi-vehicle Collision   |Rear Collision         |Major Damage         |Other                    |CT                |West Haven       |7615 Weaver Drive    |22                          |Night Time              |3                              |Property Damage     |1                  |3            |No Police Report Available  |77531                      |19689           |2705              |55137            |Suburu       |Forrestor     |2006         |No Fraud Reported  |1997-06-04                 |\n",
      "|48                    |26              |479863           |12-12-2001          |CT              |250/500       |1891                 |2424                     |11274050          |457535         |MALE           |College                    |prof-specialty        |kayaking           |wife                    |82062            |-16426          |2023-08-05       |Single Vehicle Collision  |Details not Available  |Major Damage         |Fire                     |CT                |Hartford         |St                   |2                           |Early Morning Hours     |1                              |Property Damage     |0                  |0            |Police Report Available     |57043                      |345             |8773              |47925            |Saab         |93            |2012         |No Fraud Reported  |2001-12-12                 |\n",
      "|201                   |39              |462810           |01-01-1994          |CT              |100/300       |451                  |617                      |0                 |430621         |MALE           |College                    |farming-fishing       |basketball         |husband                 |93359            |-4094           |2022-06-13       |Parked Car                |Details not Available  |Major Damage         |Police                   |CT                |Hartford         |1298 Maple Hwy       |23                          |Night Time              |2                              |Property Damage     |2                  |0            |No Police Report Available  |65371                      |17900           |4066              |43405            |Toyota       |Corolla       |1998         |No Fraud Reported  |1994-01-01                 |\n",
      "|36                    |24              |462131           |27-01-2006          |CT              |100/300       |1799                 |2116                     |15228802          |440833         |MALE           |Associate                  |armed-forces          |movies             |husband                 |46815            |-4115           |2022-12-22       |Multi-vehicle Collision   |Front Collision        |Major Damage         |Ambulance                |CT                |Norwich          |Britain              |20                          |Night Time              |2                              |Property Damage     |2                  |2            |Police Report Available     |83886                      |18953           |8337              |56596            |Nissan       |Ultima        |2015         |No Fraud Reported  |2006-01-27                 |\n",
      "|262                   |60              |479807           |12-05-2008          |CT              |500/1000      |1691                 |2167                     |14072796          |458470         |FEMALE         |College                    |handlers-cleaners     |polo               |wife                    |63377            |-31369          |2022-01-26       |Single Vehicle Collision  |Rear Collision         |Minor Damage         |None                     |CT                |Vernon           |3041 3rd Ave         |14                          |Afternoon Hours         |1                              |No Property Damage  |1                  |1            |Police Report Available     |51930                      |13485           |891               |37554            |Saab         |95            |1996         |No Fraud Reported  |2008-05-12                 |\n",
      "|285                   |59              |456393           |05-02-2003          |CT              |100/300       |1084                 |1426                     |13367518          |464691         |FEMALE         |Associate                  |protective-serv       |hiking             |unmarried               |20863            |-37670          |2023-08-29       |Single Vehicle Collision  |Rear Collision         |Major Damage         |Ambulance                |CT                |Hartford         |Drive                |21                          |Night Time              |1                              |Property Damage     |0                  |1            |Police Report Available     |81525                      |335             |13380             |67810            |Ford         |F150          |2013         |No Fraud Reported  |2003-02-05                 |\n",
      "|51                    |36              |432346           |20-07-2014          |CT              |250/500       |1147                 |1592                     |13561956          |602500         |FEMALE         |MD                         |protective-serv       |bungie-jumping     |husband                 |49938            |-71617          |2023-09-23       |Parked Car                |Rear Collision         |Total Loss           |Fire                     |CT                |Hartford         |Weaver               |22                          |Night Time              |2                              |Property Damage     |0                  |0            |No Police Report Available  |91999                      |369             |13351             |78279            |Ford         |F150          |2011         |No Fraud Reported  |2014-07-20                 |\n",
      "---------------------------------------------------------------------------------------------------------------------------------------------------------------------------------------------------------------------------------------------------------------------------------------------------------------------------------------------------------------------------------------------------------------------------------------------------------------------------------------------------------------------------------------------------------------------------------------------------------------------------------------------------------------------------------------------------------------------------------------------------------------------------------------------------------------------------------------------------------------------------------------------\n",
      "\n"
     ]
    }
   ],
   "source": [
    "sf_df.show()"
   ]
  },
  {
   "cell_type": "code",
   "execution_count": 9,
   "id": "ac1408b4",
   "metadata": {},
   "outputs": [
    {
     "name": "stdout",
     "output_type": "stream",
     "text": [
      "---------------------------------------------------------------------------------------------------------------------------------------------------------------------------------------------------------------------------------------------------------------------------------------------------------------------------------------------------------------------------------------------------------------------------------------------------------------------------------------------------------------------------------------------------------------------------------------------------------------------------------------------------------------------------------------------------------------------------------------------------------------------------------------------------------------------------------------------------------------------------------------------\n",
      "|\"MONTHS_AS_CUSTOMER\"  |\"CUSTOMER_AGE\"  |\"POLICY_NUMBER\"  |\"POLICY_BIND_DATE\"  |\"POLICY_STATE\"  |\"POLICY_CSL\"  |\"POLICY_DEDUCTABLE\"  |\"POLICY_ANNUAL_PREMIUM\"  |\"UMBRELLA_LIMIT\"  |\"INSURED_ZIP\"  |\"INSURED_SEX\"  |\"INSURED_EDUCATION_LEVEL\"  |\"INSURED_OCCUPATION\"  |\"INSURED_HOBBIES\"  |\"INSURED_RELATIONSHIP\"  |\"CAPITAL_GAINS\"  |\"CAPITAL_LOSS\"  |\"INCIDENT_DATE\"  |\"INCIDENT_TYPE\"           |\"COLLISION_TYPE\"       |\"INCIDENT_SEVERITY\"  |\"AUTHORITIES_CONTACTED\"  |\"INCIDENT_STATE\"  |\"INCIDENT_CITY\"  |\"INCIDENT_LOCATION\"  |\"INCIDENT_HOUR_OF_THE_DAY\"  |\"INCIDENT_TIME_OF_DAY\"  |\"NUMBER_OF_VEHICLES_INVOLVED\"  |\"PROPERTY_DAMAGE\"   |\"BODILY_INJURIES\"  |\"WITNESSES\"  |\"POLICE_REPORT_AVAILABLE\"   |\"TOTAL_CLAIM_AMOUNT_PAID\"  |\"INJURY_CLAIM\"  |\"PROPERTY_CLAIM\"  |\"VEHICLE_CLAIM\"  |\"AUTO_MAKE\"  |\"AUTO_MODEL\"  |\"AUTO_YEAR\"  |\"FRAUD_REPORTED\"   |\"POLICY_BIND_DATE_CUSTOM\"  |\n",
      "---------------------------------------------------------------------------------------------------------------------------------------------------------------------------------------------------------------------------------------------------------------------------------------------------------------------------------------------------------------------------------------------------------------------------------------------------------------------------------------------------------------------------------------------------------------------------------------------------------------------------------------------------------------------------------------------------------------------------------------------------------------------------------------------------------------------------------------------------------------------------------------------\n",
      "|78                    |47              |471609           |29-08-1996          |CT              |100/300       |362                  |489                      |0                 |614780         |FEMALE         |JD                         |priv-house-serv       |reading            |wife                    |4155             |-29139          |2021-12-06       |Multi-vehicle Collision   |Side Collision         |Major Damage         |Fire                     |CT                |Milford          |8845 5th Ave         |13                          |Afternoon Hours         |2                              |Property Damage     |0                  |1            |Unknown                     |73495                      |381             |22793             |50321            |Volkswagen   |Passat        |2000         |No Fraud Reported  |1996-08-29                 |\n",
      "|46                    |26              |430593           |15-12-2002          |CT              |250/500       |1683                 |1979                     |18895036          |457733         |MALE           |Associate                  |prof-specialty        |sleeping           |other-relative          |18069            |-64016          |2023-03-25       |Multi-vehicle Collision   |Details not Available  |Major Damage         |Fire                     |CT                |Milford          |St                   |19                          |Night Time              |2                              |Property Damage     |0                  |2            |Police Report Available     |94366                      |315             |18186             |75865            |Suburu       |Impreza       |2006         |No Fraud Reported  |2002-12-15                 |\n",
      "|326                   |56              |462289           |23-07-2007          |CT              |500/1000      |1026                 |1405                     |9430958           |608963         |MALE           |MD                         |craft-repair          |polo               |not-in-family           |40095            |-53484          |2022-03-19       |Single Vehicle Collision  |Side Collision         |Major Damage         |None                     |CT                |Wallingford      |Tree                 |15                          |Afternoon Hours         |1                              |Property Damage     |0                  |0            |No Police Report Available  |71712                      |520             |25106             |46086            |BMW          |X6            |1998         |No Fraud Reported  |2007-07-23                 |\n",
      "|131                   |34              |449894           |04-06-1997          |CT              |500/1000      |1123                 |1353                     |8967890           |431968         |FEMALE         |JD                         |transport-moving      |dancing            |not-in-family           |73292            |-63518          |2023-08-20       |Multi-vehicle Collision   |Rear Collision         |Major Damage         |Other                    |CT                |West Haven       |7615 Weaver Drive    |22                          |Night Time              |3                              |Property Damage     |1                  |3            |No Police Report Available  |77531                      |19689           |2705              |55137            |Suburu       |Forrestor     |2006         |No Fraud Reported  |1997-06-04                 |\n",
      "|48                    |26              |479863           |12-12-2001          |CT              |250/500       |1891                 |2424                     |11274050          |457535         |MALE           |College                    |prof-specialty        |kayaking           |wife                    |82062            |-16426          |2023-08-05       |Single Vehicle Collision  |Details not Available  |Major Damage         |Fire                     |CT                |Hartford         |St                   |2                           |Early Morning Hours     |1                              |Property Damage     |0                  |0            |Police Report Available     |57043                      |345             |8773              |47925            |Saab         |93            |2012         |No Fraud Reported  |2001-12-12                 |\n",
      "|201                   |39              |462810           |01-01-1994          |CT              |100/300       |451                  |617                      |0                 |430621         |MALE           |College                    |farming-fishing       |basketball         |husband                 |93359            |-4094           |2022-06-13       |Parked Car                |Details not Available  |Major Damage         |Police                   |CT                |Hartford         |1298 Maple Hwy       |23                          |Night Time              |2                              |Property Damage     |2                  |0            |No Police Report Available  |65371                      |17900           |4066              |43405            |Toyota       |Corolla       |1998         |No Fraud Reported  |1994-01-01                 |\n",
      "|36                    |24              |462131           |27-01-2006          |CT              |100/300       |1799                 |2116                     |15228802          |440833         |MALE           |Associate                  |armed-forces          |movies             |husband                 |46815            |-4115           |2022-12-22       |Multi-vehicle Collision   |Front Collision        |Major Damage         |Ambulance                |CT                |Norwich          |Britain              |20                          |Night Time              |2                              |Property Damage     |2                  |2            |Police Report Available     |83886                      |18953           |8337              |56596            |Nissan       |Ultima        |2015         |No Fraud Reported  |2006-01-27                 |\n",
      "|262                   |60              |479807           |12-05-2008          |CT              |500/1000      |1691                 |2167                     |14072796          |458470         |FEMALE         |College                    |handlers-cleaners     |polo               |wife                    |63377            |-31369          |2022-01-26       |Single Vehicle Collision  |Rear Collision         |Minor Damage         |None                     |CT                |Vernon           |3041 3rd Ave         |14                          |Afternoon Hours         |1                              |No Property Damage  |1                  |1            |Police Report Available     |51930                      |13485           |891               |37554            |Saab         |95            |1996         |No Fraud Reported  |2008-05-12                 |\n",
      "|285                   |59              |456393           |05-02-2003          |CT              |100/300       |1084                 |1426                     |13367518          |464691         |FEMALE         |Associate                  |protective-serv       |hiking             |unmarried               |20863            |-37670          |2023-08-29       |Single Vehicle Collision  |Rear Collision         |Major Damage         |Ambulance                |CT                |Hartford         |Drive                |21                          |Night Time              |1                              |Property Damage     |0                  |1            |Police Report Available     |81525                      |335             |13380             |67810            |Ford         |F150          |2013         |No Fraud Reported  |2003-02-05                 |\n",
      "|51                    |36              |432346           |20-07-2014          |CT              |250/500       |1147                 |1592                     |13561956          |602500         |FEMALE         |MD                         |protective-serv       |bungie-jumping     |husband                 |49938            |-71617          |2023-09-23       |Parked Car                |Rear Collision         |Total Loss           |Fire                     |CT                |Hartford         |Weaver               |22                          |Night Time              |2                              |Property Damage     |0                  |0            |No Police Report Available  |91999                      |369             |13351             |78279            |Ford         |F150          |2011         |No Fraud Reported  |2014-07-20                 |\n",
      "---------------------------------------------------------------------------------------------------------------------------------------------------------------------------------------------------------------------------------------------------------------------------------------------------------------------------------------------------------------------------------------------------------------------------------------------------------------------------------------------------------------------------------------------------------------------------------------------------------------------------------------------------------------------------------------------------------------------------------------------------------------------------------------------------------------------------------------------------------------------------------------------\n",
      "\n"
     ]
    }
   ],
   "source": [
    "sf_df.show()"
   ]
  },
  {
   "cell_type": "code",
   "execution_count": 5,
   "id": "7c86b744",
   "metadata": {},
   "outputs": [],
   "source": [
    "#df = snowflake.get_dataframe(\"AUTO_INSURANCE_CLAIMS_DATA_PRODUCT\")\n",
    "insurance_claim = df.copy()"
   ]
  },
  {
   "cell_type": "code",
   "execution_count": 6,
   "id": "0ee58ee8",
   "metadata": {},
   "outputs": [],
   "source": [
    "insurance_claim.columns = insurance_claim.columns.str.lower()"
   ]
  },
  {
   "cell_type": "code",
   "execution_count": 7,
   "id": "dea96c64",
   "metadata": {},
   "outputs": [
    {
     "data": {
      "text/plain": [
       "Index(['months_as_customer', 'customer_age', 'policy_number',\n",
       "       'policy_bind_date', 'policy_state', 'policy_csl', 'policy_deductable',\n",
       "       'policy_annual_premium', 'umbrella_limit', 'insured_zip', 'insured_sex',\n",
       "       'insured_education_level', 'insured_occupation', 'insured_hobbies',\n",
       "       'insured_relationship', 'capital_gains', 'capital_loss',\n",
       "       'incident_date', 'incident_type', 'collision_type', 'incident_severity',\n",
       "       'authorities_contacted', 'incident_state', 'incident_city',\n",
       "       'incident_location', 'incident_hour_of_the_day', 'incident_time_of_day',\n",
       "       'number_of_vehicles_involved', 'property_damage', 'bodily_injuries',\n",
       "       'witnesses', 'police_report_available', 'total_claim_amount_paid',\n",
       "       'injury_claim', 'property_claim', 'vehicle_claim', 'auto_make',\n",
       "       'auto_model', 'auto_year', 'fraud_reported'],\n",
       "      dtype='object')"
      ]
     },
     "execution_count": 7,
     "metadata": {},
     "output_type": "execute_result"
    }
   ],
   "source": [
    "insurance_claim.columns"
   ]
  },
  {
   "cell_type": "code",
   "execution_count": 8,
   "id": "dd34e207",
   "metadata": {},
   "outputs": [],
   "source": [
    "insurance_claim.rename(columns = {'total_claim_amount_paid': 'total_claim_amount'}, inplace=True)"
   ]
  },
  {
   "cell_type": "code",
   "execution_count": 9,
   "id": "044dd5de",
   "metadata": {},
   "outputs": [],
   "source": [
    "insurance_claim=insurance_claim.replace(\"?\",np.NaN)"
   ]
  },
  {
   "cell_type": "code",
   "execution_count": 10,
   "id": "9f95d3df",
   "metadata": {},
   "outputs": [],
   "source": [
    "### changing Incident date into datetime format\n",
    "insurance_claim['incident_date']=pd.to_datetime(insurance_claim['incident_date'],format='%Y-%m-%d')\n",
    "\n",
    "### changing auto_year date into datetime format\n",
    "insurance_claim['auto_year']=pd.to_datetime(insurance_claim['auto_year'],format='%Y')"
   ]
  },
  {
   "cell_type": "code",
   "execution_count": 11,
   "id": "c3f5a1d9",
   "metadata": {},
   "outputs": [],
   "source": [
    "### Intialize \"count\" column\n",
    "\n",
    "insurance_claim['count']=1"
   ]
  },
  {
   "cell_type": "code",
   "execution_count": 12,
   "id": "a6419026",
   "metadata": {},
   "outputs": [],
   "source": [
    "#plt.figure(figsize=[5,4])\n",
    "fig = px.pie(insurance_claim,names='fraud_reported')\n",
    "fig.write_html(\"/data/EDA/Fraud_Reported_Pie_Distribution.html\")"
   ]
  },
  {
   "cell_type": "code",
   "execution_count": 13,
   "id": "59ba1bb2",
   "metadata": {},
   "outputs": [
    {
     "data": {
      "text/plain": [
       "fraud_reported\n",
       "No Fraud Reported    199657\n",
       "Fraud Reported        34608\n",
       "Name: count, dtype: int64"
      ]
     },
     "execution_count": 13,
     "metadata": {},
     "output_type": "execute_result"
    }
   ],
   "source": [
    "insurance_claim['fraud_reported'].value_counts()"
   ]
  },
  {
   "cell_type": "code",
   "execution_count": 14,
   "id": "8779e35e",
   "metadata": {},
   "outputs": [],
   "source": [
    "### Datasplitting into fraud and not fraud category\n",
    "\n",
    "insurance_claim_f=insurance_claim[insurance_claim['fraud_reported']=='Fraud Reported']\n",
    "insurance_claim_nf=insurance_claim[insurance_claim['fraud_reported']=='No Fraud Reported']"
   ]
  },
  {
   "cell_type": "code",
   "execution_count": 15,
   "id": "fba350f7",
   "metadata": {},
   "outputs": [],
   "source": [
    "fig = px.box(insurance_claim, x=\"policy_state\", y=\"total_claim_amount\", color=\"fraud_reported\")\n",
    "fig.write_html(\"/data/EDA/Policy_State_vs_FraudClaims.html\")"
   ]
  },
  {
   "cell_type": "code",
   "execution_count": 16,
   "id": "ba2c7053",
   "metadata": {},
   "outputs": [],
   "source": [
    "fig=px.scatter(insurance_claim,x='policy_annual_premium',y='total_claim_amount',color='fraud_reported',marginal_x='histogram',marginal_y='histogram',trendline='ols')\n",
    "fig.write_html(\"/data/EDA/Policy_Premium_vs_FraudClaims.html\")"
   ]
  },
  {
   "cell_type": "code",
   "execution_count": 17,
   "id": "9bd4aee2",
   "metadata": {},
   "outputs": [],
   "source": [
    "fig=px.scatter(insurance_claim,x='customer_age',y='total_claim_amount',color='fraud_reported',marginal_x='box',marginal_y='violin',trendline='ols')\n",
    "fig.write_html(\"/data/EDA/CustomerAge_vs_FraudClaims.html\")"
   ]
  },
  {
   "cell_type": "code",
   "execution_count": 18,
   "id": "fb8d8f89",
   "metadata": {},
   "outputs": [
    {
     "data": {
      "text/html": [
       "<div>\n",
       "<style scoped>\n",
       "    .dataframe tbody tr th:only-of-type {\n",
       "        vertical-align: middle;\n",
       "    }\n",
       "\n",
       "    .dataframe tbody tr th {\n",
       "        vertical-align: top;\n",
       "    }\n",
       "\n",
       "    .dataframe thead th {\n",
       "        text-align: right;\n",
       "    }\n",
       "</style>\n",
       "<table border=\"1\" class=\"dataframe\">\n",
       "  <thead>\n",
       "    <tr style=\"text-align: right;\">\n",
       "      <th></th>\n",
       "      <th>insured_sex</th>\n",
       "      <th>fraud_reported</th>\n",
       "      <th>count</th>\n",
       "    </tr>\n",
       "  </thead>\n",
       "  <tbody>\n",
       "    <tr>\n",
       "      <th>0</th>\n",
       "      <td>FEMALE</td>\n",
       "      <td>Fraud Reported</td>\n",
       "      <td>17237</td>\n",
       "    </tr>\n",
       "    <tr>\n",
       "      <th>1</th>\n",
       "      <td>FEMALE</td>\n",
       "      <td>No Fraud Reported</td>\n",
       "      <td>99573</td>\n",
       "    </tr>\n",
       "    <tr>\n",
       "      <th>2</th>\n",
       "      <td>MALE</td>\n",
       "      <td>Fraud Reported</td>\n",
       "      <td>17371</td>\n",
       "    </tr>\n",
       "    <tr>\n",
       "      <th>3</th>\n",
       "      <td>MALE</td>\n",
       "      <td>No Fraud Reported</td>\n",
       "      <td>100084</td>\n",
       "    </tr>\n",
       "  </tbody>\n",
       "</table>\n",
       "</div>"
      ],
      "text/plain": [
       "  insured_sex     fraud_reported   count\n",
       "0      FEMALE     Fraud Reported   17237\n",
       "1      FEMALE  No Fraud Reported   99573\n",
       "2        MALE     Fraud Reported   17371\n",
       "3        MALE  No Fraud Reported  100084"
      ]
     },
     "execution_count": 18,
     "metadata": {},
     "output_type": "execute_result"
    }
   ],
   "source": [
    "groupdf_is=insurance_claim.groupby(by=['insured_sex','fraud_reported']).count()\n",
    "groupdf_is.reset_index(inplace=True)\n",
    "groupdf_is=groupdf_is[['insured_sex','fraud_reported','count']]\n",
    "groupdf_is.head()"
   ]
  },
  {
   "cell_type": "code",
   "execution_count": 19,
   "id": "1a55eaf6",
   "metadata": {},
   "outputs": [],
   "source": [
    "fig=px.bar(groupdf_is,x='insured_sex',y='count',color='fraud_reported',text='count',pattern_shape_sequence=['|','/'],pattern_shape='fraud_reported')\n",
    "fig.write_html(\"/data/EDA/InsuredSex_vs_FraudClaims.html\")"
   ]
  },
  {
   "cell_type": "code",
   "execution_count": 20,
   "id": "d067115a",
   "metadata": {},
   "outputs": [
    {
     "data": {
      "text/html": [
       "<div>\n",
       "<style scoped>\n",
       "    .dataframe tbody tr th:only-of-type {\n",
       "        vertical-align: middle;\n",
       "    }\n",
       "\n",
       "    .dataframe tbody tr th {\n",
       "        vertical-align: top;\n",
       "    }\n",
       "\n",
       "    .dataframe thead th {\n",
       "        text-align: right;\n",
       "    }\n",
       "</style>\n",
       "<table border=\"1\" class=\"dataframe\">\n",
       "  <thead>\n",
       "    <tr style=\"text-align: right;\">\n",
       "      <th></th>\n",
       "      <th>umbrella_limit</th>\n",
       "      <th>fraud_reported</th>\n",
       "      <th>count</th>\n",
       "    </tr>\n",
       "  </thead>\n",
       "  <tbody>\n",
       "    <tr>\n",
       "      <th>0</th>\n",
       "      <td>0</td>\n",
       "      <td>Fraud Reported</td>\n",
       "      <td>4084</td>\n",
       "    </tr>\n",
       "    <tr>\n",
       "      <th>1</th>\n",
       "      <td>0</td>\n",
       "      <td>No Fraud Reported</td>\n",
       "      <td>27015</td>\n",
       "    </tr>\n",
       "    <tr>\n",
       "      <th>2</th>\n",
       "      <td>2000003</td>\n",
       "      <td>No Fraud Reported</td>\n",
       "      <td>4</td>\n",
       "    </tr>\n",
       "  </tbody>\n",
       "</table>\n",
       "</div>"
      ],
      "text/plain": [
       "   umbrella_limit     fraud_reported  count\n",
       "0               0     Fraud Reported   4084\n",
       "1               0  No Fraud Reported  27015\n",
       "2         2000003  No Fraud Reported      4"
      ]
     },
     "execution_count": 20,
     "metadata": {},
     "output_type": "execute_result"
    }
   ],
   "source": [
    "groupdf_uu=insurance_claim.groupby(by=['umbrella_limit','fraud_reported']).count()\n",
    "groupdf_uu.reset_index(inplace=True)\n",
    "groupdf_uu=groupdf_uu[['umbrella_limit','fraud_reported','count']]\n",
    "groupdf_uu.head(3)"
   ]
  },
  {
   "cell_type": "code",
   "execution_count": 21,
   "id": "fc396ba8",
   "metadata": {},
   "outputs": [],
   "source": [
    "fig=px.bar(groupdf_uu,x='umbrella_limit',y='count',color='fraud_reported',text='count')\n",
    "fig.write_html(\"/data/EDA/UmbrellaLimit_vs_FraudClaims.html\")"
   ]
  },
  {
   "cell_type": "code",
   "execution_count": 22,
   "id": "9204e19e",
   "metadata": {},
   "outputs": [
    {
     "data": {
      "text/html": [
       "<div>\n",
       "<style scoped>\n",
       "    .dataframe tbody tr th:only-of-type {\n",
       "        vertical-align: middle;\n",
       "    }\n",
       "\n",
       "    .dataframe tbody tr th {\n",
       "        vertical-align: top;\n",
       "    }\n",
       "\n",
       "    .dataframe thead th {\n",
       "        text-align: right;\n",
       "    }\n",
       "</style>\n",
       "<table border=\"1\" class=\"dataframe\">\n",
       "  <thead>\n",
       "    <tr style=\"text-align: right;\">\n",
       "      <th></th>\n",
       "      <th>insured_education_level</th>\n",
       "      <th>fraud_reported</th>\n",
       "      <th>count</th>\n",
       "    </tr>\n",
       "  </thead>\n",
       "  <tbody>\n",
       "    <tr>\n",
       "      <th>0</th>\n",
       "      <td>Associate</td>\n",
       "      <td>Fraud Reported</td>\n",
       "      <td>4993</td>\n",
       "    </tr>\n",
       "    <tr>\n",
       "      <th>1</th>\n",
       "      <td>Associate</td>\n",
       "      <td>No Fraud Reported</td>\n",
       "      <td>29157</td>\n",
       "    </tr>\n",
       "    <tr>\n",
       "      <th>2</th>\n",
       "      <td>College</td>\n",
       "      <td>Fraud Reported</td>\n",
       "      <td>4328</td>\n",
       "    </tr>\n",
       "    <tr>\n",
       "      <th>3</th>\n",
       "      <td>College</td>\n",
       "      <td>No Fraud Reported</td>\n",
       "      <td>23975</td>\n",
       "    </tr>\n",
       "    <tr>\n",
       "      <th>4</th>\n",
       "      <td>High School</td>\n",
       "      <td>Fraud Reported</td>\n",
       "      <td>5100</td>\n",
       "    </tr>\n",
       "  </tbody>\n",
       "</table>\n",
       "</div>"
      ],
      "text/plain": [
       "  insured_education_level     fraud_reported  count\n",
       "0               Associate     Fraud Reported   4993\n",
       "1               Associate  No Fraud Reported  29157\n",
       "2                 College     Fraud Reported   4328\n",
       "3                 College  No Fraud Reported  23975\n",
       "4             High School     Fraud Reported   5100"
      ]
     },
     "execution_count": 22,
     "metadata": {},
     "output_type": "execute_result"
    }
   ],
   "source": [
    "groupdf_el=insurance_claim.groupby(by=['insured_education_level','fraud_reported']).count()\n",
    "groupdf_el.reset_index(inplace=True)\n",
    "groupdf_el=groupdf_el[['insured_education_level','fraud_reported','count']]\n",
    "groupdf_el.head()"
   ]
  },
  {
   "cell_type": "code",
   "execution_count": 23,
   "id": "bb572521",
   "metadata": {},
   "outputs": [],
   "source": [
    "fig=px.bar(groupdf_el,x='insured_education_level',y='count',color='fraud_reported',text='count',title=\"Insurance Claim for different education Level\")\n",
    "fig.write_html(\"/data/EDA/InsuredEducationLevel_vs_FraudClaims.html\")"
   ]
  },
  {
   "cell_type": "code",
   "execution_count": 24,
   "id": "236797e1",
   "metadata": {},
   "outputs": [
    {
     "data": {
      "text/html": [
       "<div>\n",
       "<style scoped>\n",
       "    .dataframe tbody tr th:only-of-type {\n",
       "        vertical-align: middle;\n",
       "    }\n",
       "\n",
       "    .dataframe tbody tr th {\n",
       "        vertical-align: top;\n",
       "    }\n",
       "\n",
       "    .dataframe thead th {\n",
       "        text-align: right;\n",
       "    }\n",
       "</style>\n",
       "<table border=\"1\" class=\"dataframe\">\n",
       "  <thead>\n",
       "    <tr style=\"text-align: right;\">\n",
       "      <th></th>\n",
       "      <th>insured_occupation</th>\n",
       "      <th>fraud_reported</th>\n",
       "      <th>count</th>\n",
       "    </tr>\n",
       "  </thead>\n",
       "  <tbody>\n",
       "    <tr>\n",
       "      <th>0</th>\n",
       "      <td>adm-clerical</td>\n",
       "      <td>Fraud Reported</td>\n",
       "      <td>2330</td>\n",
       "    </tr>\n",
       "    <tr>\n",
       "      <th>1</th>\n",
       "      <td>adm-clerical</td>\n",
       "      <td>No Fraud Reported</td>\n",
       "      <td>12980</td>\n",
       "    </tr>\n",
       "    <tr>\n",
       "      <th>2</th>\n",
       "      <td>armed-forces</td>\n",
       "      <td>Fraud Reported</td>\n",
       "      <td>2395</td>\n",
       "    </tr>\n",
       "    <tr>\n",
       "      <th>3</th>\n",
       "      <td>armed-forces</td>\n",
       "      <td>No Fraud Reported</td>\n",
       "      <td>13700</td>\n",
       "    </tr>\n",
       "    <tr>\n",
       "      <th>4</th>\n",
       "      <td>craft-repair</td>\n",
       "      <td>Fraud Reported</td>\n",
       "      <td>2106</td>\n",
       "    </tr>\n",
       "  </tbody>\n",
       "</table>\n",
       "</div>"
      ],
      "text/plain": [
       "  insured_occupation     fraud_reported  count\n",
       "0       adm-clerical     Fraud Reported   2330\n",
       "1       adm-clerical  No Fraud Reported  12980\n",
       "2       armed-forces     Fraud Reported   2395\n",
       "3       armed-forces  No Fraud Reported  13700\n",
       "4       craft-repair     Fraud Reported   2106"
      ]
     },
     "execution_count": 24,
     "metadata": {},
     "output_type": "execute_result"
    }
   ],
   "source": [
    "groupdf_ic=insurance_claim.groupby(by=['insured_occupation','fraud_reported']).count()\n",
    "groupdf_ic.reset_index(inplace=True)\n",
    "groupdf_ic=groupdf_ic[['insured_occupation','fraud_reported','count']]\n",
    "groupdf_ic.head()"
   ]
  },
  {
   "cell_type": "code",
   "execution_count": 25,
   "id": "8d705723",
   "metadata": {},
   "outputs": [],
   "source": [
    "fig=px.bar(groupdf_ic,x='insured_occupation',y='count',color='fraud_reported',text='count',title='Number of Claims diffrent Occupation')\n",
    "fig.write_html(\"/data/EDA/InsuredOccupation_vs_FraudClaims.html\")"
   ]
  },
  {
   "cell_type": "code",
   "execution_count": 26,
   "id": "abab01d1",
   "metadata": {},
   "outputs": [
    {
     "data": {
      "text/html": [
       "<div>\n",
       "<style scoped>\n",
       "    .dataframe tbody tr th:only-of-type {\n",
       "        vertical-align: middle;\n",
       "    }\n",
       "\n",
       "    .dataframe tbody tr th {\n",
       "        vertical-align: top;\n",
       "    }\n",
       "\n",
       "    .dataframe thead th {\n",
       "        text-align: right;\n",
       "    }\n",
       "</style>\n",
       "<table border=\"1\" class=\"dataframe\">\n",
       "  <thead>\n",
       "    <tr style=\"text-align: right;\">\n",
       "      <th></th>\n",
       "      <th>insured_hobbies</th>\n",
       "      <th>fraud_reported</th>\n",
       "      <th>count</th>\n",
       "    </tr>\n",
       "  </thead>\n",
       "  <tbody>\n",
       "    <tr>\n",
       "      <th>0</th>\n",
       "      <td>base-jumping</td>\n",
       "      <td>Fraud Reported</td>\n",
       "      <td>1663</td>\n",
       "    </tr>\n",
       "    <tr>\n",
       "      <th>1</th>\n",
       "      <td>base-jumping</td>\n",
       "      <td>No Fraud Reported</td>\n",
       "      <td>9731</td>\n",
       "    </tr>\n",
       "    <tr>\n",
       "      <th>2</th>\n",
       "      <td>basketball</td>\n",
       "      <td>Fraud Reported</td>\n",
       "      <td>1756</td>\n",
       "    </tr>\n",
       "    <tr>\n",
       "      <th>3</th>\n",
       "      <td>basketball</td>\n",
       "      <td>No Fraud Reported</td>\n",
       "      <td>10207</td>\n",
       "    </tr>\n",
       "    <tr>\n",
       "      <th>4</th>\n",
       "      <td>board-games</td>\n",
       "      <td>Fraud Reported</td>\n",
       "      <td>1765</td>\n",
       "    </tr>\n",
       "  </tbody>\n",
       "</table>\n",
       "</div>"
      ],
      "text/plain": [
       "  insured_hobbies     fraud_reported  count\n",
       "0    base-jumping     Fraud Reported   1663\n",
       "1    base-jumping  No Fraud Reported   9731\n",
       "2      basketball     Fraud Reported   1756\n",
       "3      basketball  No Fraud Reported  10207\n",
       "4     board-games     Fraud Reported   1765"
      ]
     },
     "execution_count": 26,
     "metadata": {},
     "output_type": "execute_result"
    }
   ],
   "source": [
    "groupdf_h=insurance_claim.groupby(by=['insured_hobbies','fraud_reported']).count()\n",
    "groupdf_h.reset_index(inplace=True)\n",
    "groupdf_h=groupdf_h[['insured_hobbies','fraud_reported','count']]\n",
    "groupdf_h.head()"
   ]
  },
  {
   "cell_type": "code",
   "execution_count": 27,
   "id": "f9ece656",
   "metadata": {},
   "outputs": [],
   "source": [
    "fig=px.bar(groupdf_h,x='insured_hobbies',y='count',color='fraud_reported',text='count',title=\"Hobby Wise claim\")\n",
    "fig.write_html(\"/data/EDA/InsuredHobbies_vs_FraudClaims.html\")"
   ]
  },
  {
   "cell_type": "code",
   "execution_count": 28,
   "id": "af5f70cf",
   "metadata": {},
   "outputs": [
    {
     "data": {
      "text/html": [
       "<div>\n",
       "<style scoped>\n",
       "    .dataframe tbody tr th:only-of-type {\n",
       "        vertical-align: middle;\n",
       "    }\n",
       "\n",
       "    .dataframe tbody tr th {\n",
       "        vertical-align: top;\n",
       "    }\n",
       "\n",
       "    .dataframe thead th {\n",
       "        text-align: right;\n",
       "    }\n",
       "</style>\n",
       "<table border=\"1\" class=\"dataframe\">\n",
       "  <thead>\n",
       "    <tr style=\"text-align: right;\">\n",
       "      <th></th>\n",
       "      <th>insured_relationship</th>\n",
       "      <th>fraud_reported</th>\n",
       "      <th>count</th>\n",
       "    </tr>\n",
       "  </thead>\n",
       "  <tbody>\n",
       "    <tr>\n",
       "      <th>0</th>\n",
       "      <td>husband</td>\n",
       "      <td>Fraud Reported</td>\n",
       "      <td>5669</td>\n",
       "    </tr>\n",
       "    <tr>\n",
       "      <th>1</th>\n",
       "      <td>husband</td>\n",
       "      <td>No Fraud Reported</td>\n",
       "      <td>32950</td>\n",
       "    </tr>\n",
       "    <tr>\n",
       "      <th>2</th>\n",
       "      <td>not-in-family</td>\n",
       "      <td>Fraud Reported</td>\n",
       "      <td>5653</td>\n",
       "    </tr>\n",
       "    <tr>\n",
       "      <th>3</th>\n",
       "      <td>not-in-family</td>\n",
       "      <td>No Fraud Reported</td>\n",
       "      <td>33389</td>\n",
       "    </tr>\n",
       "    <tr>\n",
       "      <th>4</th>\n",
       "      <td>other-relative</td>\n",
       "      <td>Fraud Reported</td>\n",
       "      <td>5837</td>\n",
       "    </tr>\n",
       "  </tbody>\n",
       "</table>\n",
       "</div>"
      ],
      "text/plain": [
       "  insured_relationship     fraud_reported  count\n",
       "0              husband     Fraud Reported   5669\n",
       "1              husband  No Fraud Reported  32950\n",
       "2        not-in-family     Fraud Reported   5653\n",
       "3        not-in-family  No Fraud Reported  33389\n",
       "4       other-relative     Fraud Reported   5837"
      ]
     },
     "execution_count": 28,
     "metadata": {},
     "output_type": "execute_result"
    }
   ],
   "source": [
    "groupdf_rl=insurance_claim.groupby(by=['insured_relationship','fraud_reported']).count()\n",
    "groupdf_rl.reset_index(inplace=True)\n",
    "groupdf_rl=groupdf_rl[['insured_relationship','fraud_reported','count']]\n",
    "groupdf_rl.head()"
   ]
  },
  {
   "cell_type": "code",
   "execution_count": 29,
   "id": "05b2572f",
   "metadata": {},
   "outputs": [],
   "source": [
    "fig=px.bar(groupdf_rl,x='insured_relationship',y='count',color='fraud_reported',text='count')\n",
    "fig.write_html(\"/data/EDA/InsuredRelationship_vs_FraudClaims.html\")"
   ]
  },
  {
   "cell_type": "code",
   "execution_count": 30,
   "id": "b71f84b9",
   "metadata": {},
   "outputs": [
    {
     "data": {
      "text/html": [
       "<div>\n",
       "<style scoped>\n",
       "    .dataframe tbody tr th:only-of-type {\n",
       "        vertical-align: middle;\n",
       "    }\n",
       "\n",
       "    .dataframe tbody tr th {\n",
       "        vertical-align: top;\n",
       "    }\n",
       "\n",
       "    .dataframe thead th {\n",
       "        text-align: right;\n",
       "    }\n",
       "</style>\n",
       "<table border=\"1\" class=\"dataframe\">\n",
       "  <thead>\n",
       "    <tr style=\"text-align: right;\">\n",
       "      <th></th>\n",
       "      <th>incident_type</th>\n",
       "      <th>fraud_reported</th>\n",
       "      <th>count</th>\n",
       "    </tr>\n",
       "  </thead>\n",
       "  <tbody>\n",
       "    <tr>\n",
       "      <th>0</th>\n",
       "      <td>Multi-vehicle Collision</td>\n",
       "      <td>Fraud Reported</td>\n",
       "      <td>11496</td>\n",
       "    </tr>\n",
       "    <tr>\n",
       "      <th>1</th>\n",
       "      <td>Multi-vehicle Collision</td>\n",
       "      <td>No Fraud Reported</td>\n",
       "      <td>62829</td>\n",
       "    </tr>\n",
       "    <tr>\n",
       "      <th>2</th>\n",
       "      <td>Parked Car</td>\n",
       "      <td>Fraud Reported</td>\n",
       "      <td>2201</td>\n",
       "    </tr>\n",
       "    <tr>\n",
       "      <th>3</th>\n",
       "      <td>Parked Car</td>\n",
       "      <td>No Fraud Reported</td>\n",
       "      <td>19053</td>\n",
       "    </tr>\n",
       "    <tr>\n",
       "      <th>4</th>\n",
       "      <td>Single Vehicle Collision</td>\n",
       "      <td>Fraud Reported</td>\n",
       "      <td>20747</td>\n",
       "    </tr>\n",
       "  </tbody>\n",
       "</table>\n",
       "</div>"
      ],
      "text/plain": [
       "              incident_type     fraud_reported  count\n",
       "0   Multi-vehicle Collision     Fraud Reported  11496\n",
       "1   Multi-vehicle Collision  No Fraud Reported  62829\n",
       "2                Parked Car     Fraud Reported   2201\n",
       "3                Parked Car  No Fraud Reported  19053\n",
       "4  Single Vehicle Collision     Fraud Reported  20747"
      ]
     },
     "execution_count": 30,
     "metadata": {},
     "output_type": "execute_result"
    }
   ],
   "source": [
    "groupdf_it=insurance_claim.groupby(by=['incident_type','fraud_reported']).count()\n",
    "groupdf_it.reset_index(inplace=True)\n",
    "groupdf_it=groupdf_it[['incident_type','fraud_reported','count']]\n",
    "groupdf_it.head()"
   ]
  },
  {
   "cell_type": "code",
   "execution_count": 31,
   "id": "e6f75942",
   "metadata": {},
   "outputs": [],
   "source": [
    "fig=px.bar(groupdf_it,x='incident_type',y='count',color='fraud_reported',text='count',title=\"Number of claims Vs. Incident type\")\n",
    "fig.write_html(\"/data/EDA/IncidentType_vs_FraudClaims.html\")"
   ]
  },
  {
   "cell_type": "code",
   "execution_count": 32,
   "id": "e1eadd34",
   "metadata": {},
   "outputs": [
    {
     "data": {
      "text/html": [
       "<div>\n",
       "<style scoped>\n",
       "    .dataframe tbody tr th:only-of-type {\n",
       "        vertical-align: middle;\n",
       "    }\n",
       "\n",
       "    .dataframe tbody tr th {\n",
       "        vertical-align: top;\n",
       "    }\n",
       "\n",
       "    .dataframe thead th {\n",
       "        text-align: right;\n",
       "    }\n",
       "</style>\n",
       "<table border=\"1\" class=\"dataframe\">\n",
       "  <thead>\n",
       "    <tr style=\"text-align: right;\">\n",
       "      <th></th>\n",
       "      <th>collision_type</th>\n",
       "      <th>fraud_reported</th>\n",
       "      <th>count</th>\n",
       "    </tr>\n",
       "  </thead>\n",
       "  <tbody>\n",
       "    <tr>\n",
       "      <th>0</th>\n",
       "      <td>Details not Available</td>\n",
       "      <td>Fraud Reported</td>\n",
       "      <td>4699</td>\n",
       "    </tr>\n",
       "    <tr>\n",
       "      <th>1</th>\n",
       "      <td>Details not Available</td>\n",
       "      <td>No Fraud Reported</td>\n",
       "      <td>29056</td>\n",
       "    </tr>\n",
       "    <tr>\n",
       "      <th>2</th>\n",
       "      <td>Front Collision</td>\n",
       "      <td>Fraud Reported</td>\n",
       "      <td>8573</td>\n",
       "    </tr>\n",
       "    <tr>\n",
       "      <th>3</th>\n",
       "      <td>Front Collision</td>\n",
       "      <td>No Fraud Reported</td>\n",
       "      <td>48745</td>\n",
       "    </tr>\n",
       "    <tr>\n",
       "      <th>4</th>\n",
       "      <td>Rear Collision</td>\n",
       "      <td>Fraud Reported</td>\n",
       "      <td>12736</td>\n",
       "    </tr>\n",
       "  </tbody>\n",
       "</table>\n",
       "</div>"
      ],
      "text/plain": [
       "          collision_type     fraud_reported  count\n",
       "0  Details not Available     Fraud Reported   4699\n",
       "1  Details not Available  No Fraud Reported  29056\n",
       "2        Front Collision     Fraud Reported   8573\n",
       "3        Front Collision  No Fraud Reported  48745\n",
       "4         Rear Collision     Fraud Reported  12736"
      ]
     },
     "execution_count": 32,
     "metadata": {},
     "output_type": "execute_result"
    }
   ],
   "source": [
    "groupdf_ct=insurance_claim.groupby(by=['collision_type','fraud_reported']).count()\n",
    "groupdf_ct.reset_index(inplace=True)\n",
    "groupdf_ct=groupdf_ct[['collision_type','fraud_reported','count']]\n",
    "groupdf_ct.head()"
   ]
  },
  {
   "cell_type": "code",
   "execution_count": 33,
   "id": "5b2909fe",
   "metadata": {},
   "outputs": [],
   "source": [
    "fig=px.bar(groupdf_ct,x='collision_type',y='count',color='fraud_reported',text='count',title=\"Nos. of Claim for different type of collision\")\n",
    "fig.write_html(\"/data/EDA/CollisionType_vs_FraudClaims.html\")"
   ]
  },
  {
   "cell_type": "code",
   "execution_count": 34,
   "id": "6af6e89a",
   "metadata": {},
   "outputs": [
    {
     "data": {
      "text/html": [
       "<div>\n",
       "<style scoped>\n",
       "    .dataframe tbody tr th:only-of-type {\n",
       "        vertical-align: middle;\n",
       "    }\n",
       "\n",
       "    .dataframe tbody tr th {\n",
       "        vertical-align: top;\n",
       "    }\n",
       "\n",
       "    .dataframe thead th {\n",
       "        text-align: right;\n",
       "    }\n",
       "</style>\n",
       "<table border=\"1\" class=\"dataframe\">\n",
       "  <thead>\n",
       "    <tr style=\"text-align: right;\">\n",
       "      <th></th>\n",
       "      <th>incident_severity</th>\n",
       "      <th>fraud_reported</th>\n",
       "      <th>count</th>\n",
       "    </tr>\n",
       "  </thead>\n",
       "  <tbody>\n",
       "    <tr>\n",
       "      <th>0</th>\n",
       "      <td>Major Damage</td>\n",
       "      <td>Fraud Reported</td>\n",
       "      <td>18692</td>\n",
       "    </tr>\n",
       "    <tr>\n",
       "      <th>1</th>\n",
       "      <td>Major Damage</td>\n",
       "      <td>No Fraud Reported</td>\n",
       "      <td>113032</td>\n",
       "    </tr>\n",
       "    <tr>\n",
       "      <th>2</th>\n",
       "      <td>Minor Damage</td>\n",
       "      <td>Fraud Reported</td>\n",
       "      <td>9616</td>\n",
       "    </tr>\n",
       "    <tr>\n",
       "      <th>3</th>\n",
       "      <td>Minor Damage</td>\n",
       "      <td>No Fraud Reported</td>\n",
       "      <td>54832</td>\n",
       "    </tr>\n",
       "    <tr>\n",
       "      <th>4</th>\n",
       "      <td>Total Loss</td>\n",
       "      <td>Fraud Reported</td>\n",
       "      <td>6300</td>\n",
       "    </tr>\n",
       "  </tbody>\n",
       "</table>\n",
       "</div>"
      ],
      "text/plain": [
       "  incident_severity     fraud_reported   count\n",
       "0      Major Damage     Fraud Reported   18692\n",
       "1      Major Damage  No Fraud Reported  113032\n",
       "2      Minor Damage     Fraud Reported    9616\n",
       "3      Minor Damage  No Fraud Reported   54832\n",
       "4        Total Loss     Fraud Reported    6300"
      ]
     },
     "execution_count": 34,
     "metadata": {},
     "output_type": "execute_result"
    }
   ],
   "source": [
    "groupdf_ins=insurance_claim.groupby(by=['incident_severity','fraud_reported']).count()\n",
    "groupdf_ins.reset_index(inplace=True)\n",
    "groupdf_ins=groupdf_ins[['incident_severity','fraud_reported','count']]\n",
    "groupdf_ins.head()"
   ]
  },
  {
   "cell_type": "code",
   "execution_count": 35,
   "id": "438c89d6",
   "metadata": {},
   "outputs": [],
   "source": [
    "fig=px.bar(groupdf_ins,x='incident_severity',y='count',color='fraud_reported',text='count',title=\"Number of claim Vs. Incident severity\")\n",
    "fig.write_html(\"/data/EDA/IncidentSeverity_vs_FraudClaims.html\")"
   ]
  },
  {
   "cell_type": "code",
   "execution_count": 36,
   "id": "b84e3ada",
   "metadata": {},
   "outputs": [
    {
     "data": {
      "text/html": [
       "<div>\n",
       "<style scoped>\n",
       "    .dataframe tbody tr th:only-of-type {\n",
       "        vertical-align: middle;\n",
       "    }\n",
       "\n",
       "    .dataframe tbody tr th {\n",
       "        vertical-align: top;\n",
       "    }\n",
       "\n",
       "    .dataframe thead th {\n",
       "        text-align: right;\n",
       "    }\n",
       "</style>\n",
       "<table border=\"1\" class=\"dataframe\">\n",
       "  <thead>\n",
       "    <tr style=\"text-align: right;\">\n",
       "      <th></th>\n",
       "      <th>authorities_contacted</th>\n",
       "      <th>fraud_reported</th>\n",
       "      <th>count</th>\n",
       "    </tr>\n",
       "  </thead>\n",
       "  <tbody>\n",
       "    <tr>\n",
       "      <th>0</th>\n",
       "      <td>Ambulance</td>\n",
       "      <td>Fraud Reported</td>\n",
       "      <td>6849</td>\n",
       "    </tr>\n",
       "    <tr>\n",
       "      <th>1</th>\n",
       "      <td>Ambulance</td>\n",
       "      <td>No Fraud Reported</td>\n",
       "      <td>39504</td>\n",
       "    </tr>\n",
       "    <tr>\n",
       "      <th>2</th>\n",
       "      <td>Fire</td>\n",
       "      <td>Fraud Reported</td>\n",
       "      <td>6987</td>\n",
       "    </tr>\n",
       "    <tr>\n",
       "      <th>3</th>\n",
       "      <td>Fire</td>\n",
       "      <td>No Fraud Reported</td>\n",
       "      <td>39702</td>\n",
       "    </tr>\n",
       "    <tr>\n",
       "      <th>4</th>\n",
       "      <td>None</td>\n",
       "      <td>Fraud Reported</td>\n",
       "      <td>7057</td>\n",
       "    </tr>\n",
       "  </tbody>\n",
       "</table>\n",
       "</div>"
      ],
      "text/plain": [
       "  authorities_contacted     fraud_reported  count\n",
       "0             Ambulance     Fraud Reported   6849\n",
       "1             Ambulance  No Fraud Reported  39504\n",
       "2                  Fire     Fraud Reported   6987\n",
       "3                  Fire  No Fraud Reported  39702\n",
       "4                  None     Fraud Reported   7057"
      ]
     },
     "execution_count": 36,
     "metadata": {},
     "output_type": "execute_result"
    }
   ],
   "source": [
    "groupdf_ac=insurance_claim.groupby(by=['authorities_contacted','fraud_reported']).count()\n",
    "groupdf_ac.reset_index(inplace=True)\n",
    "groupdf_ac=groupdf_ac[['authorities_contacted','fraud_reported','count']]\n",
    "groupdf_ac.head()"
   ]
  },
  {
   "cell_type": "code",
   "execution_count": 37,
   "id": "3a952aa6",
   "metadata": {},
   "outputs": [],
   "source": [
    "fig=px.bar(groupdf_ac,x='authorities_contacted',y='count',color='fraud_reported',text='count')\n",
    "fig.write_html(\"/data/EDA/AuthoritiesContacted_vs_FraudClaims.html\")"
   ]
  },
  {
   "cell_type": "code",
   "execution_count": 38,
   "id": "bcd1eeec",
   "metadata": {
    "scrolled": true
   },
   "outputs": [
    {
     "data": {
      "text/html": [
       "<div>\n",
       "<style scoped>\n",
       "    .dataframe tbody tr th:only-of-type {\n",
       "        vertical-align: middle;\n",
       "    }\n",
       "\n",
       "    .dataframe tbody tr th {\n",
       "        vertical-align: top;\n",
       "    }\n",
       "\n",
       "    .dataframe thead th {\n",
       "        text-align: right;\n",
       "    }\n",
       "</style>\n",
       "<table border=\"1\" class=\"dataframe\">\n",
       "  <thead>\n",
       "    <tr style=\"text-align: right;\">\n",
       "      <th></th>\n",
       "      <th>incident_state</th>\n",
       "      <th>fraud_reported</th>\n",
       "      <th>count</th>\n",
       "    </tr>\n",
       "  </thead>\n",
       "  <tbody>\n",
       "    <tr>\n",
       "      <th>0</th>\n",
       "      <td>CT</td>\n",
       "      <td>Fraud Reported</td>\n",
       "      <td>34608</td>\n",
       "    </tr>\n",
       "    <tr>\n",
       "      <th>1</th>\n",
       "      <td>CT</td>\n",
       "      <td>No Fraud Reported</td>\n",
       "      <td>199657</td>\n",
       "    </tr>\n",
       "  </tbody>\n",
       "</table>\n",
       "</div>"
      ],
      "text/plain": [
       "  incident_state     fraud_reported   count\n",
       "0             CT     Fraud Reported   34608\n",
       "1             CT  No Fraud Reported  199657"
      ]
     },
     "execution_count": 38,
     "metadata": {},
     "output_type": "execute_result"
    }
   ],
   "source": [
    "groupdf_st=insurance_claim.groupby(by=['incident_state','fraud_reported']).count()\n",
    "groupdf_st.reset_index(inplace=True)\n",
    "groupdf_st=groupdf_st[['incident_state','fraud_reported','count']]\n",
    "groupdf_st.head()"
   ]
  },
  {
   "cell_type": "code",
   "execution_count": 39,
   "id": "244671ed",
   "metadata": {},
   "outputs": [
    {
     "data": {
      "text/html": [
       "<div>\n",
       "<style scoped>\n",
       "    .dataframe tbody tr th:only-of-type {\n",
       "        vertical-align: middle;\n",
       "    }\n",
       "\n",
       "    .dataframe tbody tr th {\n",
       "        vertical-align: top;\n",
       "    }\n",
       "\n",
       "    .dataframe thead th {\n",
       "        text-align: right;\n",
       "    }\n",
       "</style>\n",
       "<table border=\"1\" class=\"dataframe\">\n",
       "  <thead>\n",
       "    <tr style=\"text-align: right;\">\n",
       "      <th></th>\n",
       "      <th>auto_make</th>\n",
       "      <th>auto_model</th>\n",
       "      <th>fraud_reported</th>\n",
       "      <th>count</th>\n",
       "    </tr>\n",
       "  </thead>\n",
       "  <tbody>\n",
       "    <tr>\n",
       "      <th>0</th>\n",
       "      <td>Accura</td>\n",
       "      <td>MDX</td>\n",
       "      <td>Fraud Reported :NO</td>\n",
       "      <td>994</td>\n",
       "    </tr>\n",
       "    <tr>\n",
       "      <th>1</th>\n",
       "      <td>Accura</td>\n",
       "      <td>MDX</td>\n",
       "      <td>Fraud Reported :NO</td>\n",
       "      <td>5489</td>\n",
       "    </tr>\n",
       "    <tr>\n",
       "      <th>2</th>\n",
       "      <td>Accura</td>\n",
       "      <td>RSX</td>\n",
       "      <td>Fraud Reported :NO</td>\n",
       "      <td>552</td>\n",
       "    </tr>\n",
       "    <tr>\n",
       "      <th>3</th>\n",
       "      <td>Accura</td>\n",
       "      <td>RSX</td>\n",
       "      <td>Fraud Reported :NO</td>\n",
       "      <td>3509</td>\n",
       "    </tr>\n",
       "    <tr>\n",
       "      <th>4</th>\n",
       "      <td>Accura</td>\n",
       "      <td>TL</td>\n",
       "      <td>Fraud Reported :NO</td>\n",
       "      <td>685</td>\n",
       "    </tr>\n",
       "  </tbody>\n",
       "</table>\n",
       "</div>"
      ],
      "text/plain": [
       "  auto_make auto_model      fraud_reported  count\n",
       "0    Accura        MDX  Fraud Reported :NO    994\n",
       "1    Accura        MDX  Fraud Reported :NO   5489\n",
       "2    Accura        RSX  Fraud Reported :NO    552\n",
       "3    Accura        RSX  Fraud Reported :NO   3509\n",
       "4    Accura         TL  Fraud Reported :NO    685"
      ]
     },
     "execution_count": 39,
     "metadata": {},
     "output_type": "execute_result"
    }
   ],
   "source": [
    "groupdf_atmm=insurance_claim.groupby(by=['auto_make','auto_model','fraud_reported']).count()\n",
    "groupdf_atmm.reset_index(inplace=True)\n",
    "groupdf_atmm=groupdf_atmm[['auto_make','auto_model','fraud_reported','count']]\n",
    "groupdf_atmm['fraud_reported']=groupdf_atmm['fraud_reported'].apply(lambda x: 'Fraud Reported :YES' if x == 'Y' else 'Fraud Reported :NO')\n",
    "groupdf_atmm.head()"
   ]
  },
  {
   "cell_type": "code",
   "execution_count": 40,
   "id": "ab068e35",
   "metadata": {},
   "outputs": [],
   "source": [
    "fig=px.bar(groupdf_atmm,x='auto_make',y='count',color='auto_model',text='count',hover_name='fraud_reported',title=\"Claims by Auto make amd Auto model\")\n",
    "fig.write_html(\"/data/EDA/AutoMake_vs_AutoModel_Claims.html\")"
   ]
  },
  {
   "cell_type": "code",
   "execution_count": 41,
   "id": "96cda7e5",
   "metadata": {},
   "outputs": [],
   "source": [
    "fig=px.box(insurance_claim,x='insured_sex',y='total_claim_amount',color='fraud_reported',notched=True,template='plotly_dark')\n",
    "fig.write_html(\"/data/EDA/InsuredSex_vs_FraudClaims.html\")"
   ]
  },
  {
   "cell_type": "code",
   "execution_count": 42,
   "id": "5471db5d",
   "metadata": {},
   "outputs": [],
   "source": [
    "fig=px.box(insurance_claim,x='incident_type',y='total_claim_amount',color='fraud_reported',notched=True,template='plotly_dark')\n",
    "fig.write_html(\"/data/EDA/IncidentType_vs_FraudClaims.html\")"
   ]
  },
  {
   "cell_type": "code",
   "execution_count": 43,
   "id": "49a6afb8",
   "metadata": {},
   "outputs": [],
   "source": [
    "fig=px.box(insurance_claim,x='incident_severity',y='total_claim_amount',color='fraud_reported',notched=True,template='plotly_dark')\n",
    "fig.write_html(\"/data/EDA/IncidentSeverity_vs_FraudClaims.html\")"
   ]
  },
  {
   "cell_type": "code",
   "execution_count": 44,
   "id": "cf4fc0ec",
   "metadata": {},
   "outputs": [],
   "source": [
    "fig=px.box(insurance_claim,x='fraud_reported',y='total_claim_amount',notched=True,template='plotly_dark',points='all')\n",
    "fig.write_html(\"/data/EDA/FraudReported_vs_FraudClaims.html\")"
   ]
  },
  {
   "cell_type": "code",
   "execution_count": 45,
   "id": "4d995d01",
   "metadata": {},
   "outputs": [],
   "source": [
    "fig=px.box(insurance_claim,x='fraud_reported',y='vehicle_claim',notched=True,template='plotly_dark',points='all')\n",
    "fig.write_html(\"/data/EDA/FraudReported_vs_VehicleClaims.html\")"
   ]
  },
  {
   "cell_type": "code",
   "execution_count": 46,
   "id": "a2e26bd0",
   "metadata": {},
   "outputs": [],
   "source": [
    "fig=px.box(insurance_claim,x='fraud_reported',y='total_claim_amount',color='insured_education_level',notched=True,template='plotly_dark')\n",
    "fig.write_html(\"/data/EDA/FraudReported_vs_InsuredEducationLevel.html\")"
   ]
  },
  {
   "cell_type": "code",
   "execution_count": 47,
   "id": "b440fbf7",
   "metadata": {},
   "outputs": [],
   "source": [
    "### Make column \"fraud flag\" i.e 1 for yes and 0 for no\n",
    "\n",
    "insurance_claim['fraud_flag']=insurance_claim['fraud_reported'].apply(lambda x: 1 if x=='Fraud Reported' else 0)"
   ]
  },
  {
   "cell_type": "code",
   "execution_count": 48,
   "id": "5a5e817d",
   "metadata": {},
   "outputs": [
    {
     "data": {
      "text/html": [
       "<div>\n",
       "<style scoped>\n",
       "    .dataframe tbody tr th:only-of-type {\n",
       "        vertical-align: middle;\n",
       "    }\n",
       "\n",
       "    .dataframe tbody tr th {\n",
       "        vertical-align: top;\n",
       "    }\n",
       "\n",
       "    .dataframe thead th {\n",
       "        text-align: right;\n",
       "    }\n",
       "</style>\n",
       "<table border=\"1\" class=\"dataframe\">\n",
       "  <thead>\n",
       "    <tr style=\"text-align: right;\">\n",
       "      <th></th>\n",
       "      <th>insured_occupation</th>\n",
       "      <th>Fraud percentage</th>\n",
       "    </tr>\n",
       "  </thead>\n",
       "  <tbody>\n",
       "    <tr>\n",
       "      <th>0</th>\n",
       "      <td>adm-clerical</td>\n",
       "      <td>15.22%</td>\n",
       "    </tr>\n",
       "    <tr>\n",
       "      <th>1</th>\n",
       "      <td>armed-forces</td>\n",
       "      <td>14.88%</td>\n",
       "    </tr>\n",
       "    <tr>\n",
       "      <th>2</th>\n",
       "      <td>craft-repair</td>\n",
       "      <td>14.84%</td>\n",
       "    </tr>\n",
       "    <tr>\n",
       "      <th>3</th>\n",
       "      <td>exec-managerial</td>\n",
       "      <td>14.18%</td>\n",
       "    </tr>\n",
       "    <tr>\n",
       "      <th>4</th>\n",
       "      <td>farming-fishing</td>\n",
       "      <td>13.7%</td>\n",
       "    </tr>\n",
       "    <tr>\n",
       "      <th>5</th>\n",
       "      <td>handlers-cleaners</td>\n",
       "      <td>15.44%</td>\n",
       "    </tr>\n",
       "    <tr>\n",
       "      <th>6</th>\n",
       "      <td>machine-op-inspct</td>\n",
       "      <td>13.99%</td>\n",
       "    </tr>\n",
       "    <tr>\n",
       "      <th>7</th>\n",
       "      <td>other-service</td>\n",
       "      <td>15.04%</td>\n",
       "    </tr>\n",
       "    <tr>\n",
       "      <th>8</th>\n",
       "      <td>priv-house-serv</td>\n",
       "      <td>15.11%</td>\n",
       "    </tr>\n",
       "    <tr>\n",
       "      <th>9</th>\n",
       "      <td>prof-specialty</td>\n",
       "      <td>14.26%</td>\n",
       "    </tr>\n",
       "  </tbody>\n",
       "</table>\n",
       "</div>"
      ],
      "text/plain": [
       "  insured_occupation Fraud percentage\n",
       "0       adm-clerical           15.22%\n",
       "1       armed-forces           14.88%\n",
       "2       craft-repair           14.84%\n",
       "3    exec-managerial           14.18%\n",
       "4    farming-fishing            13.7%\n",
       "5  handlers-cleaners           15.44%\n",
       "6  machine-op-inspct           13.99%\n",
       "7      other-service           15.04%\n",
       "8    priv-house-serv           15.11%\n",
       "9     prof-specialty           14.26%"
      ]
     },
     "execution_count": 48,
     "metadata": {},
     "output_type": "execute_result"
    }
   ],
   "source": [
    "grp1=insurance_claim.groupby(['insured_occupation'])['fraud_flag'].mean()\n",
    "grp1=pd.DataFrame(grp1)\n",
    "grp1.reset_index(inplace=True)\n",
    "grp1['fraud_flag']=grp1['fraud_flag'].apply(lambda x: 100*x)\n",
    "grp1['fraud_flag']=grp1['fraud_flag'].apply(lambda x: round(x,2))\n",
    "grp1['fraud_flag'] = grp1['fraud_flag'].apply(lambda x: \"{}{}\".format(x,'%'))\n",
    "grp1.rename(columns={'fraud_flag':'Fraud percentage'},inplace=True)\n",
    "grp1.head(10)"
   ]
  },
  {
   "cell_type": "code",
   "execution_count": 49,
   "id": "7b688cdb",
   "metadata": {},
   "outputs": [],
   "source": [
    "fig=px.bar(grp1,x='insured_occupation',y='Fraud percentage',color='insured_occupation',log_y=True,title='Fraud percentage:Occupation wise',text='Fraud percentage')\n",
    "fig.update_traces(textposition='outside')\n",
    "fig.write_html(\"/data/EDA/InsuredOccupation_vs_FraudPercentage.html\")"
   ]
  },
  {
   "cell_type": "code",
   "execution_count": 50,
   "id": "71273286",
   "metadata": {},
   "outputs": [
    {
     "data": {
      "text/html": [
       "<div>\n",
       "<style scoped>\n",
       "    .dataframe tbody tr th:only-of-type {\n",
       "        vertical-align: middle;\n",
       "    }\n",
       "\n",
       "    .dataframe tbody tr th {\n",
       "        vertical-align: top;\n",
       "    }\n",
       "\n",
       "    .dataframe thead th {\n",
       "        text-align: right;\n",
       "    }\n",
       "</style>\n",
       "<table border=\"1\" class=\"dataframe\">\n",
       "  <thead>\n",
       "    <tr style=\"text-align: right;\">\n",
       "      <th></th>\n",
       "      <th>insured_education_level</th>\n",
       "      <th>Fraud percentage</th>\n",
       "    </tr>\n",
       "  </thead>\n",
       "  <tbody>\n",
       "    <tr>\n",
       "      <th>0</th>\n",
       "      <td>Associate</td>\n",
       "      <td>14.62%</td>\n",
       "    </tr>\n",
       "    <tr>\n",
       "      <th>1</th>\n",
       "      <td>College</td>\n",
       "      <td>15.29%</td>\n",
       "    </tr>\n",
       "    <tr>\n",
       "      <th>2</th>\n",
       "      <td>High School</td>\n",
       "      <td>13.97%</td>\n",
       "    </tr>\n",
       "    <tr>\n",
       "      <th>3</th>\n",
       "      <td>JD</td>\n",
       "      <td>14.99%</td>\n",
       "    </tr>\n",
       "    <tr>\n",
       "      <th>4</th>\n",
       "      <td>MD</td>\n",
       "      <td>15.23%</td>\n",
       "    </tr>\n",
       "  </tbody>\n",
       "</table>\n",
       "</div>"
      ],
      "text/plain": [
       "  insured_education_level Fraud percentage\n",
       "0               Associate           14.62%\n",
       "1                 College           15.29%\n",
       "2             High School           13.97%\n",
       "3                      JD           14.99%\n",
       "4                      MD           15.23%"
      ]
     },
     "execution_count": 50,
     "metadata": {},
     "output_type": "execute_result"
    }
   ],
   "source": [
    "grp2=insurance_claim.groupby(['insured_education_level'])['fraud_flag'].mean()\n",
    "grp2=pd.DataFrame(grp2)\n",
    "grp2.reset_index(inplace=True)\n",
    "grp2['fraud_flag']=grp2['fraud_flag'].apply(lambda x: 100*x)\n",
    "grp2['fraud_flag']=grp2['fraud_flag'].apply(lambda x: round(x,2))\n",
    "grp2['fraud_flag'] = grp2['fraud_flag'].apply(lambda x: \"{}{}\".format(x,'%'))\n",
    "grp2.rename(columns={'fraud_flag':'Fraud percentage'},inplace=True)\n",
    "grp2.head()"
   ]
  },
  {
   "cell_type": "code",
   "execution_count": 51,
   "id": "d7431249",
   "metadata": {},
   "outputs": [],
   "source": [
    "fig=px.bar(grp2,x='insured_education_level',y='Fraud percentage',color='insured_education_level',log_y=True,title='Fraud percentage:Education-Level wise',text='Fraud percentage')\n",
    "fig.update_traces(textposition='outside')\n",
    "fig.write_html(\"/data/EDA/InsuredEducationLevel_vs_FraudPercentage.html\")"
   ]
  },
  {
   "cell_type": "code",
   "execution_count": 52,
   "id": "fdeddf77",
   "metadata": {},
   "outputs": [],
   "source": [
    "fig=px.sunburst(insurance_claim,path=['auto_make','auto_model'])\n",
    "fig.write_html(\"/data/EDA/SubBurst_AutoMake_vs_AutoModel.html\")"
   ]
  },
  {
   "cell_type": "code",
   "execution_count": 53,
   "id": "3d71c394",
   "metadata": {},
   "outputs": [],
   "source": [
    "fig=px.treemap(insurance_claim,path=[px.Constant(\"All Car Brand\"),'auto_make','auto_model'],values='count')\n",
    "fig.write_html(\"/data/EDA/TreeMap_AutoMake_vs_AutoModel.html\")"
   ]
  },
  {
   "cell_type": "code",
   "execution_count": 54,
   "id": "88a1f9e2",
   "metadata": {},
   "outputs": [
    {
     "data": {
      "text/html": [
       "<div>\n",
       "<style scoped>\n",
       "    .dataframe tbody tr th:only-of-type {\n",
       "        vertical-align: middle;\n",
       "    }\n",
       "\n",
       "    .dataframe tbody tr th {\n",
       "        vertical-align: top;\n",
       "    }\n",
       "\n",
       "    .dataframe thead th {\n",
       "        text-align: right;\n",
       "    }\n",
       "</style>\n",
       "<table border=\"1\" class=\"dataframe\">\n",
       "  <thead>\n",
       "    <tr style=\"text-align: right;\">\n",
       "      <th>insured_education_level</th>\n",
       "      <th>Associate</th>\n",
       "      <th>College</th>\n",
       "      <th>High School</th>\n",
       "      <th>JD</th>\n",
       "      <th>MD</th>\n",
       "      <th>Masters</th>\n",
       "      <th>PhD</th>\n",
       "    </tr>\n",
       "    <tr>\n",
       "      <th>insured_sex</th>\n",
       "      <th></th>\n",
       "      <th></th>\n",
       "      <th></th>\n",
       "      <th></th>\n",
       "      <th></th>\n",
       "      <th></th>\n",
       "      <th></th>\n",
       "    </tr>\n",
       "  </thead>\n",
       "  <tbody>\n",
       "    <tr>\n",
       "      <th>FEMALE</th>\n",
       "      <td>0.149212</td>\n",
       "      <td>0.155410</td>\n",
       "      <td>0.133833</td>\n",
       "      <td>0.150055</td>\n",
       "      <td>0.152121</td>\n",
       "      <td>0.147363</td>\n",
       "      <td>0.146968</td>\n",
       "    </tr>\n",
       "    <tr>\n",
       "      <th>MALE</th>\n",
       "      <td>0.143208</td>\n",
       "      <td>0.150453</td>\n",
       "      <td>0.145599</td>\n",
       "      <td>0.149794</td>\n",
       "      <td>0.152413</td>\n",
       "      <td>0.145685</td>\n",
       "      <td>0.148357</td>\n",
       "    </tr>\n",
       "  </tbody>\n",
       "</table>\n",
       "</div>"
      ],
      "text/plain": [
       "insured_education_level  Associate   College  High School        JD        MD   \n",
       "insured_sex                                                                     \n",
       "FEMALE                    0.149212  0.155410     0.133833  0.150055  0.152121  \\\n",
       "MALE                      0.143208  0.150453     0.145599  0.149794  0.152413   \n",
       "\n",
       "insured_education_level   Masters       PhD  \n",
       "insured_sex                                  \n",
       "FEMALE                   0.147363  0.146968  \n",
       "MALE                     0.145685  0.148357  "
      ]
     },
     "execution_count": 54,
     "metadata": {},
     "output_type": "execute_result"
    }
   ],
   "source": [
    "claim_sex_edu=pd.pivot_table(data=insurance_claim,index='insured_sex',columns='insured_education_level',values='fraud_flag')\n",
    "claim_sex_edu"
   ]
  },
  {
   "cell_type": "code",
   "execution_count": 55,
   "id": "665663d6",
   "metadata": {},
   "outputs": [
    {
     "data": {
      "image/png": "[encoded data removed]",
      "text/plain": [
       "<Figure size 792x504 with 2 Axes>"
      ]
     },
     "metadata": {
      "needs_background": "light"
     },
     "output_type": "display_data"
    }
   ],
   "source": [
    "plt.figure(figsize=[11,7])\n",
    "sns.heatmap(claim_sex_edu,annot=True,cmap='RdYlGn_r')\n",
    "plt.title(\"Fraud correlaton between betwwen insured_sex and insured_education_level\")\n",
    "fig.write_html(\"/data/EDA/Correlation_InsuredSex_InsuredEducationLevel.html\")"
   ]
  },
  {
   "cell_type": "code",
   "execution_count": 56,
   "id": "11c91655",
   "metadata": {},
   "outputs": [
    {
     "data": {
      "text/html": [
       "<div>\n",
       "<style scoped>\n",
       "    .dataframe tbody tr th:only-of-type {\n",
       "        vertical-align: middle;\n",
       "    }\n",
       "\n",
       "    .dataframe tbody tr th {\n",
       "        vertical-align: top;\n",
       "    }\n",
       "\n",
       "    .dataframe thead th {\n",
       "        text-align: right;\n",
       "    }\n",
       "</style>\n",
       "<table border=\"1\" class=\"dataframe\">\n",
       "  <thead>\n",
       "    <tr style=\"text-align: right;\">\n",
       "      <th>insured_occupation</th>\n",
       "      <th>adm-clerical</th>\n",
       "      <th>armed-forces</th>\n",
       "      <th>craft-repair</th>\n",
       "      <th>exec-managerial</th>\n",
       "      <th>farming-fishing</th>\n",
       "      <th>handlers-cleaners</th>\n",
       "      <th>machine-op-inspct</th>\n",
       "      <th>other-service</th>\n",
       "      <th>priv-house-serv</th>\n",
       "      <th>prof-specialty</th>\n",
       "      <th>protective-serv</th>\n",
       "      <th>sales</th>\n",
       "      <th>tech-support</th>\n",
       "      <th>transport-moving</th>\n",
       "    </tr>\n",
       "    <tr>\n",
       "      <th>insured_sex</th>\n",
       "      <th></th>\n",
       "      <th></th>\n",
       "      <th></th>\n",
       "      <th></th>\n",
       "      <th></th>\n",
       "      <th></th>\n",
       "      <th></th>\n",
       "      <th></th>\n",
       "      <th></th>\n",
       "      <th></th>\n",
       "      <th></th>\n",
       "      <th></th>\n",
       "      <th></th>\n",
       "      <th></th>\n",
       "    </tr>\n",
       "  </thead>\n",
       "  <tbody>\n",
       "    <tr>\n",
       "      <th>FEMALE</th>\n",
       "      <td>0.155159</td>\n",
       "      <td>0.155530</td>\n",
       "      <td>0.153780</td>\n",
       "      <td>0.139703</td>\n",
       "      <td>0.122151</td>\n",
       "      <td>0.149654</td>\n",
       "      <td>0.140381</td>\n",
       "      <td>0.155077</td>\n",
       "      <td>0.156340</td>\n",
       "      <td>0.144068</td>\n",
       "      <td>0.132409</td>\n",
       "      <td>0.153369</td>\n",
       "      <td>0.161305</td>\n",
       "      <td>0.144478</td>\n",
       "    </tr>\n",
       "    <tr>\n",
       "      <th>MALE</th>\n",
       "      <td>0.149062</td>\n",
       "      <td>0.142389</td>\n",
       "      <td>0.143116</td>\n",
       "      <td>0.143767</td>\n",
       "      <td>0.151947</td>\n",
       "      <td>0.159343</td>\n",
       "      <td>0.139506</td>\n",
       "      <td>0.145688</td>\n",
       "      <td>0.145931</td>\n",
       "      <td>0.141060</td>\n",
       "      <td>0.153031</td>\n",
       "      <td>0.150283</td>\n",
       "      <td>0.153436</td>\n",
       "      <td>0.164942</td>\n",
       "    </tr>\n",
       "  </tbody>\n",
       "</table>\n",
       "</div>"
      ],
      "text/plain": [
       "insured_occupation  adm-clerical  armed-forces  craft-repair  exec-managerial   \n",
       "insured_sex                                                                     \n",
       "FEMALE                  0.155159      0.155530      0.153780         0.139703  \\\n",
       "MALE                    0.149062      0.142389      0.143116         0.143767   \n",
       "\n",
       "insured_occupation  farming-fishing  handlers-cleaners  machine-op-inspct   \n",
       "insured_sex                                                                 \n",
       "FEMALE                     0.122151           0.149654           0.140381  \\\n",
       "MALE                       0.151947           0.159343           0.139506   \n",
       "\n",
       "insured_occupation  other-service  priv-house-serv  prof-specialty   \n",
       "insured_sex                                                          \n",
       "FEMALE                   0.155077         0.156340        0.144068  \\\n",
       "MALE                     0.145688         0.145931        0.141060   \n",
       "\n",
       "insured_occupation  protective-serv     sales  tech-support  transport-moving  \n",
       "insured_sex                                                                    \n",
       "FEMALE                     0.132409  0.153369      0.161305          0.144478  \n",
       "MALE                       0.153031  0.150283      0.153436          0.164942  "
      ]
     },
     "execution_count": 56,
     "metadata": {},
     "output_type": "execute_result"
    }
   ],
   "source": [
    "claim_sex_ocu=pd.pivot_table(data=insurance_claim,index='insured_sex',columns='insured_occupation',values='fraud_flag')\n",
    "claim_sex_ocu"
   ]
  },
  {
   "cell_type": "code",
   "execution_count": 57,
   "id": "e58a48ed",
   "metadata": {},
   "outputs": [
    {
     "data": {
      "image/png": "[encoded data removed]",
      "text/plain": [
       "<Figure size 1080x648 with 2 Axes>"
      ]
     },
     "metadata": {
      "needs_background": "light"
     },
     "output_type": "display_data"
    }
   ],
   "source": [
    "plt.figure(figsize=[15,9])\n",
    "sns.heatmap(claim_sex_ocu,annot=True,cmap='RdYlGn_r')\n",
    "plt.title(\"Fraud correlaton between betwwen insured_sex and insured_occupation_level\")\n",
    "plt.show()"
   ]
  },
  {
   "cell_type": "code",
   "execution_count": 58,
   "id": "13324ae1",
   "metadata": {},
   "outputs": [
    {
     "data": {
      "text/html": [
       "<div>\n",
       "<style scoped>\n",
       "    .dataframe tbody tr th:only-of-type {\n",
       "        vertical-align: middle;\n",
       "    }\n",
       "\n",
       "    .dataframe tbody tr th {\n",
       "        vertical-align: top;\n",
       "    }\n",
       "\n",
       "    .dataframe thead th {\n",
       "        text-align: right;\n",
       "    }\n",
       "</style>\n",
       "<table border=\"1\" class=\"dataframe\">\n",
       "  <thead>\n",
       "    <tr style=\"text-align: right;\">\n",
       "      <th>insured_occupation</th>\n",
       "      <th>adm-clerical</th>\n",
       "      <th>armed-forces</th>\n",
       "      <th>craft-repair</th>\n",
       "      <th>exec-managerial</th>\n",
       "      <th>farming-fishing</th>\n",
       "      <th>handlers-cleaners</th>\n",
       "      <th>machine-op-inspct</th>\n",
       "      <th>other-service</th>\n",
       "      <th>priv-house-serv</th>\n",
       "      <th>prof-specialty</th>\n",
       "      <th>protective-serv</th>\n",
       "      <th>sales</th>\n",
       "      <th>tech-support</th>\n",
       "      <th>transport-moving</th>\n",
       "    </tr>\n",
       "    <tr>\n",
       "      <th>insured_education_level</th>\n",
       "      <th></th>\n",
       "      <th></th>\n",
       "      <th></th>\n",
       "      <th></th>\n",
       "      <th></th>\n",
       "      <th></th>\n",
       "      <th></th>\n",
       "      <th></th>\n",
       "      <th></th>\n",
       "      <th></th>\n",
       "      <th></th>\n",
       "      <th></th>\n",
       "      <th></th>\n",
       "      <th></th>\n",
       "    </tr>\n",
       "  </thead>\n",
       "  <tbody>\n",
       "    <tr>\n",
       "      <th>Associate</th>\n",
       "      <td>0.149682</td>\n",
       "      <td>0.143242</td>\n",
       "      <td>0.130164</td>\n",
       "      <td>0.147950</td>\n",
       "      <td>0.115385</td>\n",
       "      <td>0.128902</td>\n",
       "      <td>0.142998</td>\n",
       "      <td>0.146742</td>\n",
       "      <td>0.171279</td>\n",
       "      <td>0.131944</td>\n",
       "      <td>0.143100</td>\n",
       "      <td>0.158792</td>\n",
       "      <td>0.151812</td>\n",
       "      <td>0.130075</td>\n",
       "    </tr>\n",
       "    <tr>\n",
       "      <th>College</th>\n",
       "      <td>0.170659</td>\n",
       "      <td>0.145202</td>\n",
       "      <td>0.143172</td>\n",
       "      <td>0.151531</td>\n",
       "      <td>0.147332</td>\n",
       "      <td>0.147959</td>\n",
       "      <td>0.147468</td>\n",
       "      <td>0.125522</td>\n",
       "      <td>0.175489</td>\n",
       "      <td>0.154301</td>\n",
       "      <td>0.161839</td>\n",
       "      <td>0.151134</td>\n",
       "      <td>0.165354</td>\n",
       "      <td>0.162874</td>\n",
       "    </tr>\n",
       "    <tr>\n",
       "      <th>High School</th>\n",
       "      <td>0.144543</td>\n",
       "      <td>0.149569</td>\n",
       "      <td>0.147265</td>\n",
       "      <td>0.126306</td>\n",
       "      <td>0.127721</td>\n",
       "      <td>0.155277</td>\n",
       "      <td>0.117262</td>\n",
       "      <td>0.144803</td>\n",
       "      <td>0.112895</td>\n",
       "      <td>0.141381</td>\n",
       "      <td>0.127565</td>\n",
       "      <td>0.169805</td>\n",
       "      <td>0.136090</td>\n",
       "      <td>0.160459</td>\n",
       "    </tr>\n",
       "    <tr>\n",
       "      <th>JD</th>\n",
       "      <td>0.168259</td>\n",
       "      <td>0.150373</td>\n",
       "      <td>0.154304</td>\n",
       "      <td>0.133077</td>\n",
       "      <td>0.137746</td>\n",
       "      <td>0.157328</td>\n",
       "      <td>0.149770</td>\n",
       "      <td>0.135735</td>\n",
       "      <td>0.159969</td>\n",
       "      <td>0.162686</td>\n",
       "      <td>0.143169</td>\n",
       "      <td>0.138069</td>\n",
       "      <td>0.171963</td>\n",
       "      <td>0.145254</td>\n",
       "    </tr>\n",
       "    <tr>\n",
       "      <th>MD</th>\n",
       "      <td>0.152693</td>\n",
       "      <td>0.162960</td>\n",
       "      <td>0.155288</td>\n",
       "      <td>0.139706</td>\n",
       "      <td>0.135632</td>\n",
       "      <td>0.229258</td>\n",
       "      <td>0.141460</td>\n",
       "      <td>0.165175</td>\n",
       "      <td>0.154822</td>\n",
       "      <td>0.146341</td>\n",
       "      <td>0.141282</td>\n",
       "      <td>0.151945</td>\n",
       "      <td>0.153071</td>\n",
       "      <td>0.169991</td>\n",
       "    </tr>\n",
       "    <tr>\n",
       "      <th>Masters</th>\n",
       "      <td>0.144096</td>\n",
       "      <td>0.153249</td>\n",
       "      <td>0.149925</td>\n",
       "      <td>0.154398</td>\n",
       "      <td>0.129049</td>\n",
       "      <td>0.165073</td>\n",
       "      <td>0.149927</td>\n",
       "      <td>0.154222</td>\n",
       "      <td>0.122861</td>\n",
       "      <td>0.128988</td>\n",
       "      <td>0.144359</td>\n",
       "      <td>0.134875</td>\n",
       "      <td>0.159438</td>\n",
       "      <td>0.159180</td>\n",
       "    </tr>\n",
       "    <tr>\n",
       "      <th>PhD</th>\n",
       "      <td>0.112360</td>\n",
       "      <td>0.139127</td>\n",
       "      <td>NaN</td>\n",
       "      <td>0.160093</td>\n",
       "      <td>0.150814</td>\n",
       "      <td>NaN</td>\n",
       "      <td>0.138026</td>\n",
       "      <td>0.176900</td>\n",
       "      <td>NaN</td>\n",
       "      <td>0.137337</td>\n",
       "      <td>NaN</td>\n",
       "      <td>0.160920</td>\n",
       "      <td>0.172916</td>\n",
       "      <td>0.150885</td>\n",
       "    </tr>\n",
       "  </tbody>\n",
       "</table>\n",
       "</div>"
      ],
      "text/plain": [
       "insured_occupation       adm-clerical  armed-forces  craft-repair   \n",
       "insured_education_level                                             \n",
       "Associate                    0.149682      0.143242      0.130164  \\\n",
       "College                      0.170659      0.145202      0.143172   \n",
       "High School                  0.144543      0.149569      0.147265   \n",
       "JD                           0.168259      0.150373      0.154304   \n",
       "MD                           0.152693      0.162960      0.155288   \n",
       "Masters                      0.144096      0.153249      0.149925   \n",
       "PhD                          0.112360      0.139127           NaN   \n",
       "\n",
       "insured_occupation       exec-managerial  farming-fishing  handlers-cleaners   \n",
       "insured_education_level                                                        \n",
       "Associate                       0.147950         0.115385           0.128902  \\\n",
       "College                         0.151531         0.147332           0.147959   \n",
       "High School                     0.126306         0.127721           0.155277   \n",
       "JD                              0.133077         0.137746           0.157328   \n",
       "MD                              0.139706         0.135632           0.229258   \n",
       "Masters                         0.154398         0.129049           0.165073   \n",
       "PhD                             0.160093         0.150814                NaN   \n",
       "\n",
       "insured_occupation       machine-op-inspct  other-service  priv-house-serv   \n",
       "insured_education_level                                                      \n",
       "Associate                         0.142998       0.146742         0.171279  \\\n",
       "College                           0.147468       0.125522         0.175489   \n",
       "High School                       0.117262       0.144803         0.112895   \n",
       "JD                                0.149770       0.135735         0.159969   \n",
       "MD                                0.141460       0.165175         0.154822   \n",
       "Masters                           0.149927       0.154222         0.122861   \n",
       "PhD                               0.138026       0.176900              NaN   \n",
       "\n",
       "insured_occupation       prof-specialty  protective-serv     sales   \n",
       "insured_education_level                                              \n",
       "Associate                      0.131944         0.143100  0.158792  \\\n",
       "College                        0.154301         0.161839  0.151134   \n",
       "High School                    0.141381         0.127565  0.169805   \n",
       "JD                             0.162686         0.143169  0.138069   \n",
       "MD                             0.146341         0.141282  0.151945   \n",
       "Masters                        0.128988         0.144359  0.134875   \n",
       "PhD                            0.137337              NaN  0.160920   \n",
       "\n",
       "insured_occupation       tech-support  transport-moving  \n",
       "insured_education_level                                  \n",
       "Associate                    0.151812          0.130075  \n",
       "College                      0.165354          0.162874  \n",
       "High School                  0.136090          0.160459  \n",
       "JD                           0.171963          0.145254  \n",
       "MD                           0.153071          0.169991  \n",
       "Masters                      0.159438          0.159180  \n",
       "PhD                          0.172916          0.150885  "
      ]
     },
     "execution_count": 58,
     "metadata": {},
     "output_type": "execute_result"
    }
   ],
   "source": [
    "claim_edu_ocu=pd.pivot_table(data=insurance_claim,index='insured_education_level',columns='insured_occupation',values='fraud_flag')\n",
    "claim_edu_ocu"
   ]
  },
  {
   "cell_type": "code",
   "execution_count": 59,
   "id": "cfb2cabf",
   "metadata": {},
   "outputs": [
    {
     "data": {
      "image/png": "[encoded data removed]",
      "text/plain": [
       "<Figure size 1080x648 with 2 Axes>"
      ]
     },
     "metadata": {
      "needs_background": "light"
     },
     "output_type": "display_data"
    }
   ],
   "source": [
    "plt.figure(figsize=[15,9])\n",
    "sns.heatmap(claim_edu_ocu,annot=True,cmap='RdYlGn_r')\n",
    "plt.title(\"Fraud correlaton between betwwen insured_occupation and insured_education_level\")\n",
    "plt.show()"
   ]
  }
 ],
 "metadata": {
  "kernelspec": {
   "display_name": "Python 3 (ipykernel)",
   "language": "python",
   "name": "python3"
  },
  "language_info": {
   "codemirror_mode": {
    "name": "ipython",
    "version": 3
   },
   "file_extension": ".py",
   "mimetype": "text/x-python",
   "name": "python",
   "nbconvert_exporter": "python",
   "pygments_lexer": "ipython3",
   "version": "3.9.19"
  }
 },
 "nbformat": 4,
 "nbformat_minor": 5
}
