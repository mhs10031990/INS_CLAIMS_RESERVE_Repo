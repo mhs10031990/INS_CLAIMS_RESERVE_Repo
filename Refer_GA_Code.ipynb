{
 "cells": [
  {
   "cell_type": "code",
   "execution_count": 1,
   "id": "343fa68d",
   "metadata": {},
   "outputs": [],
   "source": [
    "# !pip install fosforml"
   ]
  },
  {
   "cell_type": "code",
   "execution_count": 2,
   "id": "bb42b68c-7000-4884-9c45-1cccfc950b32",
   "metadata": {},
   "outputs": [],
   "source": [
    "from fosforml.model_manager.snowflakesession import get_session\n",
    "my_session = get_session()"
   ]
  },
  {
   "cell_type": "code",
   "execution_count": 3,
   "id": "55252f59",
   "metadata": {},
   "outputs": [],
   "source": [
    "table_name = 'PLANT_GROWTH_DATA'"
   ]
  },
  {
   "cell_type": "code",
   "execution_count": 4,
   "id": "551a16d2-fe0d-4283-9eb5-cb05e2ed5e0e",
   "metadata": {},
   "outputs": [],
   "source": [
    "sf_df = my_session.sql(\"select * from {}\".format(table_name))\n",
    "sf_df = sf_df.randomSplit([0.8,0.2])"
   ]
  },
  {
   "cell_type": "code",
   "execution_count": 5,
   "id": "e1d97621-41bf-495e-8042-5208405f6c78",
   "metadata": {},
   "outputs": [],
   "source": [
    "# sf_df[1].write.mode(\"overwrite\").save_as_table(\"PLANT_GROWTH_DATA_TEST\")"
   ]
  },
  {
   "cell_type": "code",
   "execution_count": 6,
   "id": "e6e9b064",
   "metadata": {},
   "outputs": [],
   "source": [
    "pandas_df = sf_df[0].to_pandas()"
   ]
  },
  {
   "cell_type": "code",
   "execution_count": 7,
   "id": "b3e83269-3572-430f-93af-70931131ee0d",
   "metadata": {},
   "outputs": [],
   "source": [
    "from sklearn.model_selection import train_test_split\n",
    "\n",
    "x_train, x_test = train_test_split(pandas_df, test_size=0.2)"
   ]
  },
  {
   "cell_type": "code",
   "execution_count": 8,
   "id": "899e0cb1-d239-40a5-a3f8-925e248a70fe",
   "metadata": {},
   "outputs": [
    {
     "data": {
      "text/plain": [
       "95     0\n",
       "102    1\n",
       "0      0\n",
       "27     0\n",
       "68     0\n",
       "      ..\n",
       "157    1\n",
       "118    0\n",
       "89     1\n",
       "69     1\n",
       "9      0\n",
       "Name: GROWTH_MILESTONE, Length: 127, dtype: int8"
      ]
     },
     "execution_count": 8,
     "metadata": {},
     "output_type": "execute_result"
    }
   ],
   "source": [
    "y_train = x_train['GROWTH_MILESTONE']\n",
    "x_train = x_train.drop('GROWTH_MILESTONE',axis=1)\n",
    "y_train"
   ]
  },
  {
   "cell_type": "code",
   "execution_count": 9,
   "id": "8a34b129-c808-428d-8fa9-26a7380fd390",
   "metadata": {},
   "outputs": [
    {
     "data": {
      "text/plain": [
       "153    1\n",
       "99     0\n",
       "8      1\n",
       "124    1\n",
       "139    0\n",
       "6      1\n",
       "147    1\n",
       "30     1\n",
       "77     0\n",
       "37     1\n",
       "138    1\n",
       "64     0\n",
       "152    0\n",
       "50     1\n",
       "117    0\n",
       "126    0\n",
       "96     1\n",
       "47     0\n",
       "155    1\n",
       "108    1\n",
       "62     1\n",
       "49     1\n",
       "45     0\n",
       "120    0\n",
       "15     1\n",
       "81     0\n",
       "5      0\n",
       "1      1\n",
       "70     0\n",
       "103    0\n",
       "78     0\n",
       "73     1\n",
       "Name: GROWTH_MILESTONE, dtype: int8"
      ]
     },
     "execution_count": 9,
     "metadata": {},
     "output_type": "execute_result"
    }
   ],
   "source": [
    "y_test = x_test['GROWTH_MILESTONE']\n",
    "x_test = x_test.drop('GROWTH_MILESTONE',axis=1)\n",
    "y_test"
   ]
  },
  {
   "cell_type": "code",
   "execution_count": 10,
   "id": "c6b35263-8808-4103-b1ac-0d686e6e06b3",
   "metadata": {},
   "outputs": [
    {
     "data": {
      "text/html": [
       "<div>\n",
       "<style scoped>\n",
       "    .dataframe tbody tr th:only-of-type {\n",
       "        vertical-align: middle;\n",
       "    }\n",
       "\n",
       "    .dataframe tbody tr th {\n",
       "        vertical-align: top;\n",
       "    }\n",
       "\n",
       "    .dataframe thead th {\n",
       "        text-align: right;\n",
       "    }\n",
       "</style>\n",
       "<table border=\"1\" class=\"dataframe\">\n",
       "  <thead>\n",
       "    <tr style=\"text-align: right;\">\n",
       "      <th></th>\n",
       "      <th>SOIL_TYPE</th>\n",
       "      <th>SUNLIGHT_HOURS</th>\n",
       "      <th>WATER_FREQUENCY</th>\n",
       "      <th>FERTILIZER_TYPE</th>\n",
       "      <th>TEMPERATURE</th>\n",
       "      <th>HUMIDITY</th>\n",
       "    </tr>\n",
       "  </thead>\n",
       "  <tbody>\n",
       "    <tr>\n",
       "      <th>95</th>\n",
       "      <td>1</td>\n",
       "      <td>5.689000</td>\n",
       "      <td>2</td>\n",
       "      <td>0</td>\n",
       "      <td>20.800000</td>\n",
       "      <td>57.500000</td>\n",
       "    </tr>\n",
       "    <tr>\n",
       "      <th>102</th>\n",
       "      <td>2</td>\n",
       "      <td>4.753000</td>\n",
       "      <td>1</td>\n",
       "      <td>0</td>\n",
       "      <td>18.700000</td>\n",
       "      <td>47.400000</td>\n",
       "    </tr>\n",
       "    <tr>\n",
       "      <th>0</th>\n",
       "      <td>1</td>\n",
       "      <td>5.192294</td>\n",
       "      <td>0</td>\n",
       "      <td>0</td>\n",
       "      <td>31.719602</td>\n",
       "      <td>61.591861</td>\n",
       "    </tr>\n",
       "    <tr>\n",
       "      <th>27</th>\n",
       "      <td>0</td>\n",
       "      <td>7.051424</td>\n",
       "      <td>1</td>\n",
       "      <td>1</td>\n",
       "      <td>27.701873</td>\n",
       "      <td>79.300053</td>\n",
       "    </tr>\n",
       "    <tr>\n",
       "      <th>68</th>\n",
       "      <td>0</td>\n",
       "      <td>6.936717</td>\n",
       "      <td>0</td>\n",
       "      <td>1</td>\n",
       "      <td>32.168255</td>\n",
       "      <td>59.182806</td>\n",
       "    </tr>\n",
       "    <tr>\n",
       "      <th>...</th>\n",
       "      <td>...</td>\n",
       "      <td>...</td>\n",
       "      <td>...</td>\n",
       "      <td>...</td>\n",
       "      <td>...</td>\n",
       "      <td>...</td>\n",
       "    </tr>\n",
       "    <tr>\n",
       "      <th>157</th>\n",
       "      <td>2</td>\n",
       "      <td>8.273000</td>\n",
       "      <td>1</td>\n",
       "      <td>2</td>\n",
       "      <td>27.900000</td>\n",
       "      <td>69.500000</td>\n",
       "    </tr>\n",
       "    <tr>\n",
       "      <th>118</th>\n",
       "      <td>2</td>\n",
       "      <td>4.813000</td>\n",
       "      <td>0</td>\n",
       "      <td>0</td>\n",
       "      <td>30.000000</td>\n",
       "      <td>71.800000</td>\n",
       "    </tr>\n",
       "    <tr>\n",
       "      <th>89</th>\n",
       "      <td>0</td>\n",
       "      <td>6.134000</td>\n",
       "      <td>1</td>\n",
       "      <td>1</td>\n",
       "      <td>27.400000</td>\n",
       "      <td>70.300000</td>\n",
       "    </tr>\n",
       "    <tr>\n",
       "      <th>69</th>\n",
       "      <td>2</td>\n",
       "      <td>9.913903</td>\n",
       "      <td>1</td>\n",
       "      <td>1</td>\n",
       "      <td>23.579881</td>\n",
       "      <td>33.886732</td>\n",
       "    </tr>\n",
       "    <tr>\n",
       "      <th>9</th>\n",
       "      <td>1</td>\n",
       "      <td>7.739789</td>\n",
       "      <td>1</td>\n",
       "      <td>1</td>\n",
       "      <td>34.097306</td>\n",
       "      <td>32.877938</td>\n",
       "    </tr>\n",
       "  </tbody>\n",
       "</table>\n",
       "<p>127 rows × 6 columns</p>\n",
       "</div>"
      ],
      "text/plain": [
       "     SOIL_TYPE  SUNLIGHT_HOURS  WATER_FREQUENCY  FERTILIZER_TYPE  TEMPERATURE  \\\n",
       "95           1        5.689000                2                0    20.800000   \n",
       "102          2        4.753000                1                0    18.700000   \n",
       "0            1        5.192294                0                0    31.719602   \n",
       "27           0        7.051424                1                1    27.701873   \n",
       "68           0        6.936717                0                1    32.168255   \n",
       "..         ...             ...              ...              ...          ...   \n",
       "157          2        8.273000                1                2    27.900000   \n",
       "118          2        4.813000                0                0    30.000000   \n",
       "89           0        6.134000                1                1    27.400000   \n",
       "69           2        9.913903                1                1    23.579881   \n",
       "9            1        7.739789                1                1    34.097306   \n",
       "\n",
       "      HUMIDITY  \n",
       "95   57.500000  \n",
       "102  47.400000  \n",
       "0    61.591861  \n",
       "27   79.300053  \n",
       "68   59.182806  \n",
       "..         ...  \n",
       "157  69.500000  \n",
       "118  71.800000  \n",
       "89   70.300000  \n",
       "69   33.886732  \n",
       "9    32.877938  \n",
       "\n",
       "[127 rows x 6 columns]"
      ]
     },
     "execution_count": 10,
     "metadata": {},
     "output_type": "execute_result"
    }
   ],
   "source": [
    "from sklearn.preprocessing import LabelEncoder\n",
    "le = LabelEncoder()\n",
    "string_columns = x_train.select_dtypes(include=['object']).columns\n",
    "# Encoding each specified column\n",
    "for column in string_columns:\n",
    "    le = LabelEncoder()\n",
    "    x_train[column] = le.fit_transform(x_train[column])\n",
    "x_train"
   ]
  },
  {
   "cell_type": "code",
   "execution_count": 11,
   "id": "941cd20c-0973-4bd1-95b7-a16051daca8f",
   "metadata": {},
   "outputs": [
    {
     "data": {
      "text/plain": [
       "100.0"
      ]
     },
     "execution_count": 11,
     "metadata": {},
     "output_type": "execute_result"
    }
   ],
   "source": [
    "from sklearn.tree import DecisionTreeClassifier\n",
    "model = DecisionTreeClassifier(random_state=42)\n",
    "model.fit(x_train, y_train)\n",
    "model.score(x_train,y_train)*100\n",
    "# model.score(x_test,y_test)*100"
   ]
  },
  {
   "cell_type": "code",
   "execution_count": 12,
   "id": "6cf8f687-04d7-47d5-ac23-4f63035f41c6",
   "metadata": {},
   "outputs": [],
   "source": [
    "def label_encoding_function(x_train):\n",
    "    from sklearn.preprocessing import LabelEncoder\n",
    "    le = LabelEncoder()\n",
    "    string_columns = x_train.select_dtypes(include=['object']).columns\n",
    "# Encoding each specified column\n",
    "    for column in string_columns:\n",
    "        le = LabelEncoder()\n",
    "        x_train[column] = le.fit_transform(x_train[column])\n",
    "    return x_train"
   ]
  },
  {
   "cell_type": "code",
   "execution_count": 13,
   "id": "574105b1-e121-47f6-9127-b10da25ccfbd",
   "metadata": {},
   "outputs": [],
   "source": [
    "import pandas as pd\n",
    "x_test = label_encoding_function(x_test)\n",
    "y_pred =model.predict(x_test)\n",
    "y_pred = pd.DataFrame(y_pred, columns=['GROWTH_MILESTONE_PREDICTION'])"
   ]
  },
  {
   "cell_type": "code",
   "execution_count": 14,
   "id": "9e0ea72b-e7ae-4d76-bdc8-9d190bbd488e",
   "metadata": {},
   "outputs": [
    {
     "data": {
      "text/html": [
       "<div>\n",
       "<style scoped>\n",
       "    .dataframe tbody tr th:only-of-type {\n",
       "        vertical-align: middle;\n",
       "    }\n",
       "\n",
       "    .dataframe tbody tr th {\n",
       "        vertical-align: top;\n",
       "    }\n",
       "\n",
       "    .dataframe thead th {\n",
       "        text-align: right;\n",
       "    }\n",
       "</style>\n",
       "<table border=\"1\" class=\"dataframe\">\n",
       "  <thead>\n",
       "    <tr style=\"text-align: right;\">\n",
       "      <th></th>\n",
       "      <th>GROWTH_MILESTONE_PREDICTION</th>\n",
       "    </tr>\n",
       "  </thead>\n",
       "  <tbody>\n",
       "    <tr>\n",
       "      <th>0</th>\n",
       "      <td>1</td>\n",
       "    </tr>\n",
       "    <tr>\n",
       "      <th>1</th>\n",
       "      <td>0</td>\n",
       "    </tr>\n",
       "    <tr>\n",
       "      <th>2</th>\n",
       "      <td>1</td>\n",
       "    </tr>\n",
       "    <tr>\n",
       "      <th>3</th>\n",
       "      <td>1</td>\n",
       "    </tr>\n",
       "    <tr>\n",
       "      <th>4</th>\n",
       "      <td>0</td>\n",
       "    </tr>\n",
       "    <tr>\n",
       "      <th>5</th>\n",
       "      <td>1</td>\n",
       "    </tr>\n",
       "    <tr>\n",
       "      <th>6</th>\n",
       "      <td>1</td>\n",
       "    </tr>\n",
       "    <tr>\n",
       "      <th>7</th>\n",
       "      <td>1</td>\n",
       "    </tr>\n",
       "    <tr>\n",
       "      <th>8</th>\n",
       "      <td>0</td>\n",
       "    </tr>\n",
       "    <tr>\n",
       "      <th>9</th>\n",
       "      <td>1</td>\n",
       "    </tr>\n",
       "    <tr>\n",
       "      <th>10</th>\n",
       "      <td>0</td>\n",
       "    </tr>\n",
       "    <tr>\n",
       "      <th>11</th>\n",
       "      <td>1</td>\n",
       "    </tr>\n",
       "    <tr>\n",
       "      <th>12</th>\n",
       "      <td>0</td>\n",
       "    </tr>\n",
       "    <tr>\n",
       "      <th>13</th>\n",
       "      <td>1</td>\n",
       "    </tr>\n",
       "    <tr>\n",
       "      <th>14</th>\n",
       "      <td>0</td>\n",
       "    </tr>\n",
       "    <tr>\n",
       "      <th>15</th>\n",
       "      <td>1</td>\n",
       "    </tr>\n",
       "    <tr>\n",
       "      <th>16</th>\n",
       "      <td>0</td>\n",
       "    </tr>\n",
       "    <tr>\n",
       "      <th>17</th>\n",
       "      <td>0</td>\n",
       "    </tr>\n",
       "    <tr>\n",
       "      <th>18</th>\n",
       "      <td>0</td>\n",
       "    </tr>\n",
       "    <tr>\n",
       "      <th>19</th>\n",
       "      <td>0</td>\n",
       "    </tr>\n",
       "    <tr>\n",
       "      <th>20</th>\n",
       "      <td>1</td>\n",
       "    </tr>\n",
       "    <tr>\n",
       "      <th>21</th>\n",
       "      <td>1</td>\n",
       "    </tr>\n",
       "    <tr>\n",
       "      <th>22</th>\n",
       "      <td>0</td>\n",
       "    </tr>\n",
       "    <tr>\n",
       "      <th>23</th>\n",
       "      <td>0</td>\n",
       "    </tr>\n",
       "    <tr>\n",
       "      <th>24</th>\n",
       "      <td>0</td>\n",
       "    </tr>\n",
       "    <tr>\n",
       "      <th>25</th>\n",
       "      <td>1</td>\n",
       "    </tr>\n",
       "    <tr>\n",
       "      <th>26</th>\n",
       "      <td>0</td>\n",
       "    </tr>\n",
       "    <tr>\n",
       "      <th>27</th>\n",
       "      <td>0</td>\n",
       "    </tr>\n",
       "    <tr>\n",
       "      <th>28</th>\n",
       "      <td>1</td>\n",
       "    </tr>\n",
       "    <tr>\n",
       "      <th>29</th>\n",
       "      <td>0</td>\n",
       "    </tr>\n",
       "    <tr>\n",
       "      <th>30</th>\n",
       "      <td>0</td>\n",
       "    </tr>\n",
       "    <tr>\n",
       "      <th>31</th>\n",
       "      <td>0</td>\n",
       "    </tr>\n",
       "  </tbody>\n",
       "</table>\n",
       "</div>"
      ],
      "text/plain": [
       "    GROWTH_MILESTONE_PREDICTION\n",
       "0                             1\n",
       "1                             0\n",
       "2                             1\n",
       "3                             1\n",
       "4                             0\n",
       "5                             1\n",
       "6                             1\n",
       "7                             1\n",
       "8                             0\n",
       "9                             1\n",
       "10                            0\n",
       "11                            1\n",
       "12                            0\n",
       "13                            1\n",
       "14                            0\n",
       "15                            1\n",
       "16                            0\n",
       "17                            0\n",
       "18                            0\n",
       "19                            0\n",
       "20                            1\n",
       "21                            1\n",
       "22                            0\n",
       "23                            0\n",
       "24                            0\n",
       "25                            1\n",
       "26                            0\n",
       "27                            0\n",
       "28                            1\n",
       "29                            0\n",
       "30                            0\n",
       "31                            0"
      ]
     },
     "execution_count": 14,
     "metadata": {},
     "output_type": "execute_result"
    }
   ],
   "source": [
    "y_pred"
   ]
  },
  {
   "cell_type": "code",
   "execution_count": 15,
   "id": "24e1d8c6-7e39-4b5d-bb84-0d4ac60a178f",
   "metadata": {},
   "outputs": [
    {
     "name": "stdout",
     "output_type": "stream",
     "text": [
      "Calculating build time metrics\n",
      "\n",
      "Progress: ██████████████                                                         20.0%\n",
      "Calculating build time metrics\n",
      "\n",
      "Progress: ████████████████████████████                                           40.0%\n"
     ]
    },
    {
     "name": "stderr",
     "output_type": "stream",
     "text": [
      "The version of package 'scikit-learn' in the local environment is 1.3.2, which does not fit the criteria for the requirement 'scikit-learn<1.4'. Your UDF might not work when the package version is different between the server and your local environment.\n",
      "DataFrame.flatten() is deprecated since 0.7.0. Use `DataFrame.join_table_function()` instead.\n",
      "The version of package 'scikit-learn' in the local environment is 1.3.2, which does not fit the criteria for the requirement 'scikit-learn<1.4'. Your UDF might not work when the package version is different between the server and your local environment.\n"
     ]
    },
    {
     "name": "stdout",
     "output_type": "stream",
     "text": [
      "Calculating build time metrics\n",
      "\n",
      "Progress: ██████████████████████████████████████████                             60.0%\n"
     ]
    },
    {
     "name": "stderr",
     "output_type": "stream",
     "text": [
      "The version of package 'scikit-learn' in the local environment is 1.3.2, which does not fit the criteria for the requirement 'scikit-learn==1.3.*'. Your UDF might not work when the package version is different between the server and your local environment.\n",
      "The version of package 'snowflake-snowpark-python' in the local environment is 1.20.0, which does not fit the criteria for the requirement 'snowflake-snowpark-python'. Your UDF might not work when the package version is different between the server and your local environment.\n",
      "The version of package 'scikit-learn' in the local environment is 1.3.2, which does not fit the criteria for the requirement 'scikit-learn==1.3.*'. Your UDF might not work when the package version is different between the server and your local environment.\n",
      "The version of package 'snowflake-snowpark-python' in the local environment is 1.20.0, which does not fit the criteria for the requirement 'snowflake-snowpark-python'. Your UDF might not work when the package version is different between the server and your local environment.\n"
     ]
    },
    {
     "name": "stdout",
     "output_type": "stream",
     "text": [
      "Calculating build time metrics\n",
      "\n",
      "Progress: ████████████████████████████████████████████████████████               80.0%\n",
      "Calculating build time metrics\n",
      "\n",
      "Progress: ██████████████████████████████████████████████████████████████████████ 100.0%\n",
      "Failed to set tags for model MODEL_1296587F_8DD3_416F_B389_CEF8ADBE3051_FDC_PLANT_GROWTH_DATASET.\n",
      "(1304): 01b5e10e-0002-aac4-0033-ac8700b0c19e: 000002 (0A000): Unsupported feature 'TAG'.\n"
     ]
    },
    {
     "data": {
      "text/plain": [
       "\"Model 'MODEL_1296587F_8DD3_416F_B389_CEF8ADBE3051_FDC_PLANT_GROWTH_DATASET' registered successfully.\""
      ]
     },
     "execution_count": 15,
     "metadata": {},
     "output_type": "execute_result"
    }
   ],
   "source": [
    "from fosforml import register_model\n",
    "\n",
    "register_model(\n",
    "  model_obj=model,\n",
    "  session=my_session,\n",
    "  x_train=x_train,\n",
    "  y_train=y_train,\n",
    "  x_test=x_test,\n",
    "  y_test=y_test,\n",
    "  y_pred=y_pred,\n",
    "  source=\"Notebook\",\n",
    "  dataset_name=\"PLANT_GROWTH_DATA\",\n",
    "  dataset_source=\"Snowflake\",\n",
    "  name=\"Plant_Growth_dataset\",\n",
    "  description=\"This is a Model for the plant growth\",\n",
    "  flavour=\"sklearn\",\n",
    "  model_type=\"classification\",\n",
    "  conda_dependencies=[\"scikit-learn==1.3.2\"]\n",
    ")"
   ]
  },
  {
   "cell_type": "code",
   "execution_count": 16,
   "id": "f65ddc82-4137-4dac-b23a-8fe2e24c8168",
   "metadata": {},
   "outputs": [
    {
     "name": "stdout",
     "output_type": "stream",
     "text": [
      "--------------------------------------------------------------------------------------------------------------------\n",
      "|\"SOIL_TYPE\"  |\"SUNLIGHT_HOURS\"   |\"WATER_FREQUENCY\"  |\"FERTILIZER_TYPE\"  |\"TEMPERATURE\"       |\"HUMIDITY\"         |\n",
      "--------------------------------------------------------------------------------------------------------------------\n",
      "|1            |6.127              |0                  |2                  |22.1                |55.7               |\n",
      "|2            |8.902              |1                  |0                  |15.2                |43.7               |\n",
      "|1            |9.17862055525356   |2                  |2                  |20.598677938918858  |54.72101523512907  |\n",
      "|0            |7.512              |0                  |0                  |19.0                |61.2               |\n",
      "|2            |8.721              |1                  |1                  |24.1                |55.6               |\n",
      "|1            |4.444267910404542  |1                  |2                  |25.984533294122407  |69.57895218629243  |\n",
      "|2            |5.233              |1                  |2                  |31.8                |47.9               |\n",
      "|0            |6.462297538213779  |0                  |2                  |27.517198314284727  |34.17503583493344  |\n",
      "|2            |7.214648104448551  |2                  |1                  |22.784033574683264  |75.54635922469213  |\n",
      "|1            |8.822032461394688  |0                  |2                  |26.50948355751758   |35.9408958134036   |\n",
      "--------------------------------------------------------------------------------------------------------------------\n",
      "\n"
     ]
    }
   ],
   "source": [
    "sf_df = my_session.createDataFrame(x_test)\n",
    "sf_df.write.mode(\"overwrite\").save_as_table(\"PLANT_GROWTH_DATA_TEST\")\n",
    "my_session.table(\"PLANT_GROWTH_DATA_TEST\").show()"
   ]
  },
  {
   "cell_type": "code",
   "execution_count": 17,
   "id": "c616a867-2283-4964-b836-cba197e11529",
   "metadata": {},
   "outputs": [
    {
     "name": "stdout",
     "output_type": "stream",
     "text": [
      "Collecting fosforml\n",
      "  Downloading https://files.pythonhosted.org/packages/fe/d2/d08131cf9db64e0fc21277a3f49e6874227ceba2c4cee69a3a1f437f6304/fosforml-1.1.5-py3-none-any.whl\n",
      "Installing collected packages: fosforml\n",
      "  Found existing installation: fosforml 1.1.4\n",
      "    Uninstalling fosforml-1.1.4:\n",
      "      Successfully uninstalled fosforml-1.1.4\n",
      "Successfully installed fosforml-1.1.5\n",
      "\u001b[33mWARNING: You are using pip version 19.3.1; however, version 24.1.2 is available.\n",
      "You should consider upgrading via the 'pip install --upgrade pip' command.\u001b[0m\n"
     ]
    }
   ],
   "source": [
    "!pip install -U fosforml --no-deps"
   ]
  }
 ],
 "metadata": {
  "kernelspec": {
   "display_name": "Python 3 (ipykernel)",
   "language": "python",
   "name": "python3"
  },
  "language_info": {
   "codemirror_mode": {
    "name": "ipython",
    "version": 3
   },
   "file_extension": ".py",
   "mimetype": "text/x-python",
   "name": "python",
   "nbconvert_exporter": "python",
   "pygments_lexer": "ipython3",
   "version": "3.9.19"
  }
 },
 "nbformat": 4,
 "nbformat_minor": 5
}
